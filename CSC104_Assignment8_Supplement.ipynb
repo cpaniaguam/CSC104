{
  "nbformat": 4,
  "nbformat_minor": 0,
  "metadata": {
    "colab": {
      "name": "CSC104_Assignment8_Supplement.ipynb",
      "provenance": [],
      "authorship_tag": "ABX9TyOWpuZ19HYpyzTLEvSZ8JPZ",
      "include_colab_link": true
    },
    "kernelspec": {
      "name": "python3",
      "display_name": "Python 3"
    }
  },
  "cells": [
    {
      "cell_type": "markdown",
      "metadata": {
        "id": "view-in-github",
        "colab_type": "text"
      },
      "source": [
        "<a href=\"https://colab.research.google.com/github/cpaniaguam/CSC104/blob/main/CSC104_Assignment8_Supplement.ipynb\" target=\"_parent\"><img src=\"https://colab.research.google.com/assets/colab-badge.svg\" alt=\"Open In Colab\"/></a>"
      ]
    },
    {
      "cell_type": "markdown",
      "metadata": {
        "id": "YYV9-9RzGh_L"
      },
      "source": [
        "# CSC-104 Spring 2021: Suplementary problems for Assignment 8\r\n",
        "\r\n",
        "An important part of the business of Statistics is to generalize conclusions obtained from a sample to the whole population it was taken from. For example, one might be interested in estimating a population parameter (like a mean or proportion) by looking at a sample statistic. The problem with this approach is that if we take a second sample from the same population we will almost surely get a different estimate. Thus it is important to understand how these estimates vary from sample to sample. To this end, sampling distributions play an important role.\r\n",
        "\r\n",
        "In this assignment you will construct a few sampling distributions for means (and later for other statistics) and appreciate some interesting properties.\r\n",
        "\r\n",
        "### Your first ever sampling distribution for a mean\r\n",
        "\r\n",
        "Consider the process of rolling two six-sided dice with faces marked 1, 2, 3, 4, 5, 6.\r\n",
        "\r\n",
        "<figure>\r\n",
        "<center>\r\n",
        "<img src='https://cdn.pixabay.com/photo/2012/02/28/10/23/dice-18208_1280.jpg' width=\"320\">\r\n",
        "<figcaption>Figure 1. Two six-side dice.</figcaption></center>\r\n",
        "</figure>\r\n",
        "\r\n",
        "Surely you've rolled two of these dice and observed their sum before. \r\n",
        "\r\n",
        "#### **Problem 1** \r\n",
        "\r\n",
        "a. Using your experience from mini-project 2, use code to (either empirically or theoretically) obtain the probability distribution of the sum of two-sided dice. Show both the table of probabilities and a visualization. Describe the shape of this population."
      ]
    },
    {
      "cell_type": "code",
      "metadata": {
        "id": "4lSQdCxXGg-t"
      },
      "source": [
        "# Your code for problem 1a goes here"
      ],
      "execution_count": null,
      "outputs": []
    },
    {
      "cell_type": "markdown",
      "metadata": {
        "id": "VIB0ltpAaXhv"
      },
      "source": [
        "b. Obtain the mean and standard deviation for this population."
      ]
    },
    {
      "cell_type": "code",
      "metadata": {
        "id": "z7-Xm0DWajNS"
      },
      "source": [
        "# Your code for part 1b goes here"
      ],
      "execution_count": null,
      "outputs": []
    },
    {
      "cell_type": "markdown",
      "metadata": {
        "id": "tV_3J1zuVysm"
      },
      "source": [
        "Now we are going to take samples from this population to construct a data set with the mean of each sample. This is called a *sampling distribution for the mean* simply because means are being recorded.\r\n",
        "\r\n",
        "#### **Problem 2**\r\n",
        "\r\n",
        "a. Create a function `sampler` that takes a distribution/population `d`, a sample size parameter `k`, and a number of samples `n` to produce a data structure with the means of every sample. \r\n",
        "The function must return the mean and standard deviation (standard error) for the sampling distribution. Additionally, make the fuction display a histogram of the generated data.\r\n",
        "\r\n"
      ]
    },
    {
      "cell_type": "code",
      "metadata": {
        "id": "iqrTy7gFYI8B"
      },
      "source": [
        "def sampler(population: 'the population', k: 'size of each sample', n: 'number of samples'):\r\n",
        "    '''Generate a sampling distribution of the mean from population,\r\n",
        "    produce a histogram, and return mean, and standard error.\r\n",
        "    '''\r\n",
        "    # Your code to implement this function goes here\r\n",
        "    \r\n",
        "    \r\n",
        "    \r\n",
        "    return sampling_dist.mean(), sampling_dist.std()"
      ],
      "execution_count": 6,
      "outputs": []
    },
    {
      "cell_type": "markdown",
      "metadata": {
        "id": "KiL_JKqDrrj0"
      },
      "source": [
        "b. Use the `sampler` function from part (a) with the population from Problem 1 for multiple pairs `(k,n)`. For example choose `k` in `[1,5,10,20,30,50,100]` and `n` in `[10,25,50,100,1_000,10_000]`, etc. What is the shape of the sampling distributions for the means?  How do the means and standard error compare to the mean and standard error of the original population?"
      ]
    },
    {
      "cell_type": "code",
      "metadata": {
        "id": "C-F2uoU2tAvh"
      },
      "source": [
        "# Your code goes here"
      ],
      "execution_count": null,
      "outputs": []
    },
    {
      "cell_type": "markdown",
      "metadata": {
        "id": "E45O4r5OtD5e"
      },
      "source": [
        "#### **Problem 3**\r\n",
        "a. Use `sampler` with at least two other distributions of your choice, e.g. [the distribution from Problem 1 in mini-project 2](https://github.com/cpaniaguam/CSC104/blob/main/CSC104MiniProject2.ipynb), or some other distribution (see [here](https://docs.scipy.org/doc/scipy/reference/stats.html).)"
      ]
    },
    {
      "cell_type": "code",
      "metadata": {
        "id": "gU1zEB4AuvsM"
      },
      "source": [
        "# Your code goes here"
      ],
      "execution_count": null,
      "outputs": []
    }
  ]
}
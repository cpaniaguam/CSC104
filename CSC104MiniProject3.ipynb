{
  "nbformat": 4,
  "nbformat_minor": 0,
  "metadata": {
    "kernelspec": {
      "display_name": "Python 3",
      "language": "python",
      "name": "python3"
    },
    "language_info": {
      "codemirror_mode": {
        "name": "ipython",
        "version": 3
      },
      "file_extension": ".py",
      "mimetype": "text/x-python",
      "name": "python",
      "nbconvert_exporter": "python",
      "pygments_lexer": "ipython3",
      "version": "3.8.5"
    },
    "colab": {
      "name": "CSC104MiniProject3.ipynb",
      "provenance": [],
      "collapsed_sections": [],
      "toc_visible": true,
      "include_colab_link": true
    }
  },
  "cells": [
    {
      "cell_type": "markdown",
      "metadata": {
        "id": "view-in-github",
        "colab_type": "text"
      },
      "source": [
        "<a href=\"https://colab.research.google.com/github/cpaniaguam/CSC104/blob/main/CSC104MiniProject3.ipynb\" target=\"_parent\"><img src=\"https://colab.research.google.com/assets/colab-badge.svg\" alt=\"Open In Colab\"/></a>"
      ]
    },
    {
      "cell_type": "markdown",
      "metadata": {
        "id": "AWRdMxOKQ8zh"
      },
      "source": [
        "# Selecting people to perform physically demanding tasks\r\n",
        "Even in today's high-tech world, many jobs require significant physical strength to be performed properly, especially in construction, maintenance and repair work, law enforcement, highway maintenance, and [many more](https://stacker.com/stories/3222/50-most-physical-jobs-america)."
      ]
    },
    {
      "cell_type": "markdown",
      "metadata": {
        "id": "Orua43DZULob"
      },
      "source": [
        "\r\n",
        "\r\n",
        "##Question: How would you choose a person to perform a physically demanding job?\r\n",
        "\r\n",
        "One natural way is to take the candidate to the job site to have them demonstrate adequate proficiency and strength at performing the task. However, this can be time intensive when selecting a large number of candidates from an equally large applicant pool. Besides, applicants risk getting injured if they are not stong enough to perform the tasks.\r\n",
        "\r\n",
        "One could try, instead, an indirect approach: use a measure of physical strength that is simple to apply, low risk of injury, and that can be associated with how adequately a person does a job.\r\n",
        "\r\n",
        "This mini-project will use data collected for a [study](https://tinyurl.com/y7evtzgy) in which such indirect approaches were tested against actual strength and job performance of real workers at the job. You will \r\n",
        "1. apply scatterplots for preliminary exploration of the potential relationships between variables of interest\r\n",
        "2. use and test correlation coeffiencients to assess the plausibility and strength of pair of variables being linearly associated\r\n",
        "4. verify necessary conditions for implementing a linear model\r\n",
        "5. construct and interprert simple linear regression models\r\n",
        "6. do inference on the regression estimates\r\n",
        "6. Make predictions using linear models and give appropiate interpretations\r\n"
      ]
    },
    {
      "cell_type": "markdown",
      "metadata": {
        "id": "qhwRsFkfk3xF"
      },
      "source": [
        "\n",
        "##The data\n",
        "The dataset you will be using is below. A description of the variables follows the two code cells."
      ]
    },
    {
      "cell_type": "code",
      "metadata": {
        "colab": {
          "base_uri": "https://localhost:8080/",
          "height": 121
        },
        "id": "_Pnr5uPwk3xK",
        "outputId": "7c72b876-9ea3-45ea-c84b-31a4310feecd"
      },
      "source": [
        "# %precision 2 \n",
        "import pandas as pd\n",
        "df=pd.read_csv('https://raw.githubusercontent.com/cpaniaguam/CSC104/main/phystrength.csv')\n",
        "description = df.describe().T\n",
        "description.style.format({'count':'{:.0f}', 'mean':'{:.2f}',\n",
        "                              'std':'{:.2f}','min':'{:.2f}','25%':'{:.2f}',\n",
        "                              '50%':'{:.2f}','75%':'{:.2f}','max':'{:.2f}'})"
      ],
      "execution_count": null,
      "outputs": [
        {
          "output_type": "execute_result",
          "data": {
            "text/html": [
              "<style  type=\"text/css\" >\n",
              "</style><table id=\"T_4a1a42fe_82b8_11eb_8eb4_0242ac1c0002\" ><thead>    <tr>        <th class=\"blank level0\" ></th>        <th class=\"col_heading level0 col0\" >count</th>        <th class=\"col_heading level0 col1\" >mean</th>        <th class=\"col_heading level0 col2\" >std</th>        <th class=\"col_heading level0 col3\" >min</th>        <th class=\"col_heading level0 col4\" >25%</th>        <th class=\"col_heading level0 col5\" >50%</th>        <th class=\"col_heading level0 col6\" >75%</th>        <th class=\"col_heading level0 col7\" >max</th>    </tr></thead><tbody>\n",
              "                <tr>\n",
              "                        <th id=\"T_4a1a42fe_82b8_11eb_8eb4_0242ac1c0002level0_row0\" class=\"row_heading level0 row0\" >GRIP</th>\n",
              "                        <td id=\"T_4a1a42fe_82b8_11eb_8eb4_0242ac1c0002row0_col0\" class=\"data row0 col0\" >147</td>\n",
              "                        <td id=\"T_4a1a42fe_82b8_11eb_8eb4_0242ac1c0002row0_col1\" class=\"data row0 col1\" >110.23</td>\n",
              "                        <td id=\"T_4a1a42fe_82b8_11eb_8eb4_0242ac1c0002row0_col2\" class=\"data row0 col2\" >23.63</td>\n",
              "                        <td id=\"T_4a1a42fe_82b8_11eb_8eb4_0242ac1c0002row0_col3\" class=\"data row0 col3\" >29.00</td>\n",
              "                        <td id=\"T_4a1a42fe_82b8_11eb_8eb4_0242ac1c0002row0_col4\" class=\"data row0 col4\" >94.00</td>\n",
              "                        <td id=\"T_4a1a42fe_82b8_11eb_8eb4_0242ac1c0002row0_col5\" class=\"data row0 col5\" >111.00</td>\n",
              "                        <td id=\"T_4a1a42fe_82b8_11eb_8eb4_0242ac1c0002row0_col6\" class=\"data row0 col6\" >124.50</td>\n",
              "                        <td id=\"T_4a1a42fe_82b8_11eb_8eb4_0242ac1c0002row0_col7\" class=\"data row0 col7\" >189.00</td>\n",
              "            </tr>\n",
              "            <tr>\n",
              "                        <th id=\"T_4a1a42fe_82b8_11eb_8eb4_0242ac1c0002level0_row1\" class=\"row_heading level0 row1\" >ARM</th>\n",
              "                        <td id=\"T_4a1a42fe_82b8_11eb_8eb4_0242ac1c0002row1_col0\" class=\"data row1 col0\" >147</td>\n",
              "                        <td id=\"T_4a1a42fe_82b8_11eb_8eb4_0242ac1c0002row1_col1\" class=\"data row1 col1\" >78.75</td>\n",
              "                        <td id=\"T_4a1a42fe_82b8_11eb_8eb4_0242ac1c0002row1_col2\" class=\"data row1 col2\" >21.11</td>\n",
              "                        <td id=\"T_4a1a42fe_82b8_11eb_8eb4_0242ac1c0002row1_col3\" class=\"data row1 col3\" >19.00</td>\n",
              "                        <td id=\"T_4a1a42fe_82b8_11eb_8eb4_0242ac1c0002row1_col4\" class=\"data row1 col4\" >64.50</td>\n",
              "                        <td id=\"T_4a1a42fe_82b8_11eb_8eb4_0242ac1c0002row1_col5\" class=\"data row1 col5\" >81.50</td>\n",
              "                        <td id=\"T_4a1a42fe_82b8_11eb_8eb4_0242ac1c0002row1_col6\" class=\"data row1 col6\" >94.00</td>\n",
              "                        <td id=\"T_4a1a42fe_82b8_11eb_8eb4_0242ac1c0002row1_col7\" class=\"data row1 col7\" >132.00</td>\n",
              "            </tr>\n",
              "            <tr>\n",
              "                        <th id=\"T_4a1a42fe_82b8_11eb_8eb4_0242ac1c0002level0_row2\" class=\"row_heading level0 row2\" >RATINGS</th>\n",
              "                        <td id=\"T_4a1a42fe_82b8_11eb_8eb4_0242ac1c0002row2_col0\" class=\"data row2 col0\" >147</td>\n",
              "                        <td id=\"T_4a1a42fe_82b8_11eb_8eb4_0242ac1c0002row2_col1\" class=\"data row2 col1\" >41.01</td>\n",
              "                        <td id=\"T_4a1a42fe_82b8_11eb_8eb4_0242ac1c0002row2_col2\" class=\"data row2 col2\" >8.52</td>\n",
              "                        <td id=\"T_4a1a42fe_82b8_11eb_8eb4_0242ac1c0002row2_col3\" class=\"data row2 col3\" >21.60</td>\n",
              "                        <td id=\"T_4a1a42fe_82b8_11eb_8eb4_0242ac1c0002row2_col4\" class=\"data row2 col4\" >34.80</td>\n",
              "                        <td id=\"T_4a1a42fe_82b8_11eb_8eb4_0242ac1c0002row2_col5\" class=\"data row2 col5\" >41.30</td>\n",
              "                        <td id=\"T_4a1a42fe_82b8_11eb_8eb4_0242ac1c0002row2_col6\" class=\"data row2 col6\" >47.70</td>\n",
              "                        <td id=\"T_4a1a42fe_82b8_11eb_8eb4_0242ac1c0002row2_col7\" class=\"data row2 col7\" >57.20</td>\n",
              "            </tr>\n",
              "            <tr>\n",
              "                        <th id=\"T_4a1a42fe_82b8_11eb_8eb4_0242ac1c0002level0_row3\" class=\"row_heading level0 row3\" >SIMS</th>\n",
              "                        <td id=\"T_4a1a42fe_82b8_11eb_8eb4_0242ac1c0002row3_col0\" class=\"data row3 col0\" >147</td>\n",
              "                        <td id=\"T_4a1a42fe_82b8_11eb_8eb4_0242ac1c0002row3_col1\" class=\"data row3 col1\" >0.20</td>\n",
              "                        <td id=\"T_4a1a42fe_82b8_11eb_8eb4_0242ac1c0002row3_col2\" class=\"data row3 col2\" >1.68</td>\n",
              "                        <td id=\"T_4a1a42fe_82b8_11eb_8eb4_0242ac1c0002row3_col3\" class=\"data row3 col3\" >-4.17</td>\n",
              "                        <td id=\"T_4a1a42fe_82b8_11eb_8eb4_0242ac1c0002row3_col4\" class=\"data row3 col4\" >-0.96</td>\n",
              "                        <td id=\"T_4a1a42fe_82b8_11eb_8eb4_0242ac1c0002row3_col5\" class=\"data row3 col5\" >0.16</td>\n",
              "                        <td id=\"T_4a1a42fe_82b8_11eb_8eb4_0242ac1c0002row3_col6\" class=\"data row3 col6\" >1.07</td>\n",
              "                        <td id=\"T_4a1a42fe_82b8_11eb_8eb4_0242ac1c0002row3_col7\" class=\"data row3 col7\" >5.17</td>\n",
              "            </tr>\n",
              "    </tbody></table>"
            ],
            "text/plain": [
              "<pandas.io.formats.style.Styler at 0x7f1066d593d0>"
            ]
          },
          "metadata": {
            "tags": []
          },
          "execution_count": 4
        }
      ]
    },
    {
      "cell_type": "code",
      "metadata": {
        "colab": {
          "base_uri": "https://localhost:8080/",
          "height": 399
        },
        "id": "o7C9WCJ11JQ3",
        "outputId": "48d46557-8fd2-4b53-c70d-b7d932f86c8b"
      },
      "source": [
        "df"
      ],
      "execution_count": null,
      "outputs": [
        {
          "output_type": "execute_result",
          "data": {
            "text/html": [
              "<div>\n",
              "<style scoped>\n",
              "    .dataframe tbody tr th:only-of-type {\n",
              "        vertical-align: middle;\n",
              "    }\n",
              "\n",
              "    .dataframe tbody tr th {\n",
              "        vertical-align: top;\n",
              "    }\n",
              "\n",
              "    .dataframe thead th {\n",
              "        text-align: right;\n",
              "    }\n",
              "</style>\n",
              "<table border=\"1\" class=\"dataframe\">\n",
              "  <thead>\n",
              "    <tr style=\"text-align: right;\">\n",
              "      <th></th>\n",
              "      <th>GRIP</th>\n",
              "      <th>ARM</th>\n",
              "      <th>RATINGS</th>\n",
              "      <th>SIMS</th>\n",
              "    </tr>\n",
              "  </thead>\n",
              "  <tbody>\n",
              "    <tr>\n",
              "      <th>0</th>\n",
              "      <td>105.5</td>\n",
              "      <td>80.5</td>\n",
              "      <td>31.8</td>\n",
              "      <td>1.18</td>\n",
              "    </tr>\n",
              "    <tr>\n",
              "      <th>1</th>\n",
              "      <td>106.5</td>\n",
              "      <td>93.0</td>\n",
              "      <td>39.8</td>\n",
              "      <td>0.94</td>\n",
              "    </tr>\n",
              "    <tr>\n",
              "      <th>2</th>\n",
              "      <td>94.0</td>\n",
              "      <td>81.0</td>\n",
              "      <td>46.8</td>\n",
              "      <td>0.84</td>\n",
              "    </tr>\n",
              "    <tr>\n",
              "      <th>3</th>\n",
              "      <td>90.5</td>\n",
              "      <td>33.5</td>\n",
              "      <td>52.2</td>\n",
              "      <td>-2.45</td>\n",
              "    </tr>\n",
              "    <tr>\n",
              "      <th>4</th>\n",
              "      <td>104.0</td>\n",
              "      <td>47.5</td>\n",
              "      <td>31.2</td>\n",
              "      <td>1.00</td>\n",
              "    </tr>\n",
              "    <tr>\n",
              "      <th>...</th>\n",
              "      <td>...</td>\n",
              "      <td>...</td>\n",
              "      <td>...</td>\n",
              "      <td>...</td>\n",
              "    </tr>\n",
              "    <tr>\n",
              "      <th>142</th>\n",
              "      <td>147.0</td>\n",
              "      <td>71.0</td>\n",
              "      <td>57.2</td>\n",
              "      <td>0.53</td>\n",
              "    </tr>\n",
              "    <tr>\n",
              "      <th>143</th>\n",
              "      <td>109.5</td>\n",
              "      <td>86.5</td>\n",
              "      <td>43.0</td>\n",
              "      <td>2.89</td>\n",
              "    </tr>\n",
              "    <tr>\n",
              "      <th>144</th>\n",
              "      <td>54.0</td>\n",
              "      <td>67.5</td>\n",
              "      <td>41.7</td>\n",
              "      <td>-1.38</td>\n",
              "    </tr>\n",
              "    <tr>\n",
              "      <th>145</th>\n",
              "      <td>126.0</td>\n",
              "      <td>63.5</td>\n",
              "      <td>37.0</td>\n",
              "      <td>1.33</td>\n",
              "    </tr>\n",
              "    <tr>\n",
              "      <th>146</th>\n",
              "      <td>94.0</td>\n",
              "      <td>38.0</td>\n",
              "      <td>37.3</td>\n",
              "      <td>-1.53</td>\n",
              "    </tr>\n",
              "  </tbody>\n",
              "</table>\n",
              "<p>147 rows × 4 columns</p>\n",
              "</div>"
            ],
            "text/plain": [
              "      GRIP   ARM  RATINGS  SIMS\n",
              "0    105.5  80.5     31.8  1.18\n",
              "1    106.5  93.0     39.8  0.94\n",
              "2     94.0  81.0     46.8  0.84\n",
              "3     90.5  33.5     52.2 -2.45\n",
              "4    104.0  47.5     31.2  1.00\n",
              "..     ...   ...      ...   ...\n",
              "142  147.0  71.0     57.2  0.53\n",
              "143  109.5  86.5     43.0  2.89\n",
              "144   54.0  67.5     41.7 -1.38\n",
              "145  126.0  63.5     37.0  1.33\n",
              "146   94.0  38.0     37.3 -1.53\n",
              "\n",
              "[147 rows x 4 columns]"
            ]
          },
          "metadata": {
            "tags": []
          },
          "execution_count": 6
        }
      ]
    },
    {
      "cell_type": "markdown",
      "metadata": {
        "id": "5Rgx1FcTRxKU"
      },
      "source": [
        "# Data description"
      ]
    },
    {
      "cell_type": "markdown",
      "metadata": {
        "id": "aTQpFO-Ak3xM"
      },
      "source": [
        "\n",
        "As you can gather from above, the data consist of 147 cases and 4 variables. Each case represents a worker who performs physically demanding tasks ([lineworkers](https://en.wikipedia.org/wiki/Lineworker), [mechanics](https://en.wikipedia.org/wiki/Mechanic), [electricians](https://en.wikipedia.org/wiki/Electrician), and [construction and maintenance workers](https://en.wikipedia.org/wiki/Construction_worker)). The first two variables (`GRIP` for grip and `ARM` for arm strength) are measures of strength (in lbs.) from each worker. These measurements were gathered using a machine called [Jackson Evaluation Equipment (JES)](https://lafayetteevaluation.com/products/jackson-strength-system). The last two variables (`RATINGS` and `SIMS`) are job performance measurements. `RATINGS` is a rank given to each worker by their respective supervisors (the higher the better). `SIMS` is an artificial variable based on a simulation that required workers to exert force on an artificial wrench while standing and kneeling. Larger scores indicate better performance.\n",
        "\n",
        "### Task 1\n",
        "a. Look at the distributions for each of the variables. In a text cell describe their shape (center, symmetry, modes, skewness, etc.) Answer questions like the following to start getting a feel for the data: What proportion of workers exerted force greater than 100 lbs.? Were the workers in the sample mostly 'good'?\n",
        "\n",
        "b. As analysts we like it when variables in our data follow well-known distributions, such as the normal distribution. Do any of the variables appear to be normal? Conduct normality checks using the [*empirical rule*](https://learn.zybooks.com/zybook/SALVECSC104PaniaguaSpring2021/chapter/4/section/4?content_resource_id=48842584), and *qq plots* or *normal probability plots*. Do these methods agree?"
      ]
    },
    {
      "cell_type": "code",
      "metadata": {
        "id": "4uGORm9HBkfK"
      },
      "source": [
        "# Your code for task 1 goes here"
      ],
      "execution_count": null,
      "outputs": []
    },
    {
      "cell_type": "markdown",
      "metadata": {
        "id": "xGf-tNN5BoQf"
      },
      "source": [
        "##Task 2: Exploring relationships among the variables\r\n",
        "We want to use `GRIP` and `ARM` as predictors of `RATINGS` and `SIMS`. Are these variables linearly associated?\r\n",
        "1. Construct scatterplots of `ARM` and `GRIP` against `RATINGS`and `SIMS`. Do they seem to be correlated? By looking at these plots, how strong will you say the relations seem to be?\r\n",
        "2. Obtain the respective correlation coefficients and coefficients of determination. Verify your predictions.\r\n",
        "3. Write down your conclusions."
      ]
    },
    {
      "cell_type": "code",
      "metadata": {
        "id": "7N3-4vs3EymN"
      },
      "source": [
        "# Your code for task 2 goes here"
      ],
      "execution_count": null,
      "outputs": []
    },
    {
      "cell_type": "markdown",
      "metadata": {
        "id": "soSTT3rcE3ur"
      },
      "source": [
        "[Your conclusions for task 2 go here.]"
      ]
    },
    {
      "cell_type": "markdown",
      "metadata": {
        "id": "Q9pOu1QxS-Z5"
      },
      "source": [
        "# Inferential Analysis"
      ]
    },
    {
      "cell_type": "markdown",
      "metadata": {
        "id": "rHtE1sjuFCIK"
      },
      "source": [
        "##Task 3: Are these correlation coefficients significant?\r\n",
        "\r\n",
        "Conduct the four possible tests for significance at the $0.05$ significance level. For each write the null and alternative hypotheses, the type of alternative hypothesis, and the p-value. Write down your conclusions.\r\n",
        "\r\n"
      ]
    },
    {
      "cell_type": "code",
      "metadata": {
        "id": "OkcPXpI5FG4x"
      },
      "source": [
        "# Your code for task 3 goes here"
      ],
      "execution_count": null,
      "outputs": []
    },
    {
      "cell_type": "markdown",
      "metadata": {
        "id": "H4eGsiTNIKIm"
      },
      "source": [
        "[Your conclusions for task 3 goes here]"
      ]
    },
    {
      "cell_type": "markdown",
      "metadata": {
        "id": "7mOsClnxIWbY"
      },
      "source": [
        "##Task 4: Looking at the residuals and checking assumptions\r\n",
        "Before we can make predictions with a linear regression model, we must check the assumptions for the model are met. Otherwise any predictions we make would be unreliable.\r\n",
        "\r\n",
        "1. Obtain the estimates for the slope and intercept for each regression model.\r\n",
        "2. Construct residual plots. Do the zero mean, constant variance, normality, and independce assumptions reasonably check out? Write your conclusions in the text cell below."
      ]
    },
    {
      "cell_type": "code",
      "metadata": {
        "id": "i1GXonaGKX6Z"
      },
      "source": [
        "# Code for task 4 goes here"
      ],
      "execution_count": null,
      "outputs": []
    },
    {
      "cell_type": "markdown",
      "metadata": {
        "id": "xZP_GiGMKcAt"
      },
      "source": [
        "[Your conclusions for task 4 go here]"
      ]
    },
    {
      "cell_type": "markdown",
      "metadata": {
        "id": "lnWUOJQWNEHn"
      },
      "source": [
        "##Task 5: Make some predictions (if everything worked out!)\r\n",
        "\r\n",
        "1. A worker with 125 lbs of  `GRIP` and 95 lbs of `ARM` applies for one of these jobs. Using the appropiate model, obtain $95\\%$ confidence intervals for `RATINGS` and `SIMS`. Would you recommend a manager to hire such a candidate?"
      ]
    },
    {
      "cell_type": "code",
      "metadata": {
        "id": "4gTq3n8aPKTF"
      },
      "source": [
        "# Your code for this part goes here"
      ],
      "execution_count": null,
      "outputs": []
    },
    {
      "cell_type": "markdown",
      "metadata": {
        "id": "xKp20eNhPOyj"
      },
      "source": [
        "[Your recommendation for the manager goes here]"
      ]
    }
  ]
}
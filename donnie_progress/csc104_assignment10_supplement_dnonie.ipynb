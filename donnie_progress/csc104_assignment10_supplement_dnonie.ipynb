{
 "cells": [
  {
   "cell_type": "markdown",
   "metadata": {
    "id": "yRPMyqdKVJ1f"
   },
   "source": [
    "# CSC-104 Spring 2021: Suplementary problems for Assignment 10\n",
    "\n",
    "1. Make the necessary changes to your code for solving [zylab 5.10](https://learn.zybooks.com/zybook/SALVECSC104PaniaguaSpring2021/chapter/5/section/10) to replicate the task 10,000 or more times. One required change is deleting the line that sets the seed (line 8 in the template).\n",
    "\n",
    "2. In each replication store in a data structure of your choice whether the confidence interval contains the population mean. Report the proportion of times that the population mean was included in the confidence intervals.\n",
    "\n",
    "3. Comment on your findings."
   ]
  },
  {
   "cell_type": "code",
   "execution_count": 1,
   "metadata": {},
   "outputs": [],
   "source": [
    "import scipy.stats as st\n",
    "import numpy as np\n",
    "import math as mt\n",
    "import pandas as pd"
   ]
  },
  {
   "cell_type": "code",
   "execution_count": 2,
   "metadata": {},
   "outputs": [],
   "source": [
    "def ci_pop_means(mean_def: int, sd_def: int, sample_size= 30):\n",
    "    ''' \n",
    "    for the confidence_intervals dataframe:\n",
    "    lci: lower confidence level\n",
    "    rci: upper/right confidence level\n",
    "    contained: whether the confidence interval contains the population mean\n",
    "    '''\n",
    "    \n",
    "    confidence_intervals = pd.DataFrame(columns= ['lci', 'rci', 'contained'])\n",
    "    \n",
    "    for i in range(10000):\n",
    "        ticket = False\n",
    "        r = st.norm.rvs(mean_def, sd_def, size=sample_size)\n",
    "        mean = r.mean()\n",
    "        std_dev = r.std()\n",
    "        stderr = std_dev / mt.sqrt(sample_size)\n",
    "        int1 = st.norm.interval(0.95, mean, stderr)\n",
    "        if mean_def > int1[0] or mean_def < int1[1]:\n",
    "            ticket = True\n",
    "        confidence_intervals = confidence_intervals.append({'lci': int1[0], 'rci': int1[1], 'contained': ticket}, ignore_index=True)\n",
    "    \n",
    "    count = 0\n",
    "    for i in confidence_intervals['contained']:\n",
    "        if i == True:\n",
    "            count += 1\n",
    "    \n",
    "    print(confidence_intervals)\n",
    "    return \"Proportion of times that the population mean was included in the confidence intervals: {}\".format(count/confidence_intervals.shape[0])"
   ]
  },
  {
   "cell_type": "markdown",
   "metadata": {},
   "source": [
    "## Changing Sample Size"
   ]
  },
  {
   "cell_type": "code",
   "execution_count": 3,
   "metadata": {},
   "outputs": [
    {
     "name": "stdout",
     "output_type": "stream",
     "text": [
      "           lci       rci contained\n",
      "0    -1.668570  2.546877      True\n",
      "1    -1.801952  1.330839      True\n",
      "2    -2.562965  1.519519      True\n",
      "3    -1.754330  1.374582      True\n",
      "4    -1.632418  1.232798      True\n",
      "...        ...       ...       ...\n",
      "9995 -1.370799  1.923601      True\n",
      "9996 -1.738674  1.870097      True\n",
      "9997 -2.563947  1.860229      True\n",
      "9998 -4.091443 -0.888032      True\n",
      "9999 -1.416753  2.185208      True\n",
      "\n",
      "[10000 rows x 3 columns]\n"
     ]
    },
    {
     "data": {
      "text/plain": [
       "'Proportion of times that the population mean was included in the confidence intervals: 1.0'"
      ]
     },
     "execution_count": 3,
     "metadata": {},
     "output_type": "execute_result"
    }
   ],
   "source": [
    "ci_pop_means(mean_def= 0, sd_def= 5, sample_size= 30)"
   ]
  },
  {
   "cell_type": "code",
   "execution_count": 4,
   "metadata": {},
   "outputs": [
    {
     "name": "stdout",
     "output_type": "stream",
     "text": [
      "           lci       rci contained\n",
      "0    -1.181576  0.829457      True\n",
      "1    -0.908738  1.067009      True\n",
      "2    -0.906240  0.869010      True\n",
      "3    -0.911230  1.007778      True\n",
      "4    -1.258350  0.819813      True\n",
      "...        ...       ...       ...\n",
      "9995 -0.540814  1.388063      True\n",
      "9996 -0.742058  1.237260      True\n",
      "9997 -0.356653  1.338281      True\n",
      "9998 -0.838853  1.027599      True\n",
      "9999 -1.028002  0.925854      True\n",
      "\n",
      "[10000 rows x 3 columns]\n"
     ]
    },
    {
     "data": {
      "text/plain": [
       "'Proportion of times that the population mean was included in the confidence intervals: 1.0'"
      ]
     },
     "execution_count": 4,
     "metadata": {},
     "output_type": "execute_result"
    }
   ],
   "source": [
    "ci_pop_means(mean_def= 0, sd_def= 5, sample_size= 100)"
   ]
  },
  {
   "cell_type": "code",
   "execution_count": 5,
   "metadata": {},
   "outputs": [
    {
     "name": "stdout",
     "output_type": "stream",
     "text": [
      "           lci       rci contained\n",
      "0    -1.007634  0.485003      True\n",
      "1    -0.689915  0.730735      True\n",
      "2    -0.934125  0.529242      True\n",
      "3    -0.609059  0.704646      True\n",
      "4    -0.639167  0.805619      True\n",
      "...        ...       ...       ...\n",
      "9995 -1.068021  0.326925      True\n",
      "9996 -1.005981  0.503306      True\n",
      "9997 -1.047671  0.428509      True\n",
      "9998 -0.378955  1.036505      True\n",
      "9999 -1.365486 -0.087147      True\n",
      "\n",
      "[10000 rows x 3 columns]\n"
     ]
    },
    {
     "data": {
      "text/plain": [
       "'Proportion of times that the population mean was included in the confidence intervals: 1.0'"
      ]
     },
     "execution_count": 5,
     "metadata": {},
     "output_type": "execute_result"
    }
   ],
   "source": [
    "ci_pop_means(mean_def= 0, sd_def= 5, sample_size= 200)"
   ]
  },
  {
   "cell_type": "markdown",
   "metadata": {},
   "source": [
    "## Changing Population Mean"
   ]
  },
  {
   "cell_type": "code",
   "execution_count": 6,
   "metadata": {},
   "outputs": [
    {
     "name": "stdout",
     "output_type": "stream",
     "text": [
      "           lci       rci contained\n",
      "0     1.166656  4.686527      True\n",
      "1    -0.458320  2.588912      True\n",
      "2    -0.517230  3.148914      True\n",
      "3    -0.128715  3.487727      True\n",
      "4    -0.535634  2.717950      True\n",
      "...        ...       ...       ...\n",
      "9995 -0.088135  4.545415      True\n",
      "9996 -1.102349  2.589718      True\n",
      "9997 -0.796290  3.493799      True\n",
      "9998  0.826304  4.053510      True\n",
      "9999 -1.499780  2.894523      True\n",
      "\n",
      "[10000 rows x 3 columns]\n"
     ]
    },
    {
     "data": {
      "text/plain": [
       "'Proportion of times that the population mean was included in the confidence intervals: 1.0'"
      ]
     },
     "execution_count": 6,
     "metadata": {},
     "output_type": "execute_result"
    }
   ],
   "source": [
    "ci_pop_means(mean_def= 2, sd_def= 5, sample_size= 30)"
   ]
  },
  {
   "cell_type": "code",
   "execution_count": 7,
   "metadata": {},
   "outputs": [
    {
     "name": "stdout",
     "output_type": "stream",
     "text": [
      "           lci       rci contained\n",
      "0     1.340833  5.020773      True\n",
      "1     2.163341  5.976056      True\n",
      "2     2.364296  5.882702      True\n",
      "3     2.176921  5.920711      True\n",
      "4     2.339792  6.045301      True\n",
      "...        ...       ...       ...\n",
      "9995  3.781979  7.004896      True\n",
      "9996  3.190312  6.704964      True\n",
      "9997  2.787956  5.415777      True\n",
      "9998  2.460667  4.948623      True\n",
      "9999  1.674335  4.565047      True\n",
      "\n",
      "[10000 rows x 3 columns]\n"
     ]
    },
    {
     "data": {
      "text/plain": [
       "'Proportion of times that the population mean was included in the confidence intervals: 1.0'"
      ]
     },
     "execution_count": 7,
     "metadata": {},
     "output_type": "execute_result"
    }
   ],
   "source": [
    "ci_pop_means(mean_def= 4, sd_def= 5, sample_size= 30)"
   ]
  },
  {
   "cell_type": "code",
   "execution_count": 8,
   "metadata": {},
   "outputs": [
    {
     "name": "stdout",
     "output_type": "stream",
     "text": [
      "           lci       rci contained\n",
      "0     6.274839  9.588345      True\n",
      "1     5.422976  7.995155      True\n",
      "2     6.015750  8.311922      True\n",
      "3     4.766706  8.467331      True\n",
      "4     3.610081  6.630937      True\n",
      "...        ...       ...       ...\n",
      "9995  4.625904  7.533227      True\n",
      "9996  4.676312  8.784630      True\n",
      "9997  4.059943  7.775694      True\n",
      "9998  4.852860  8.632046      True\n",
      "9999  3.903106  7.292288      True\n",
      "\n",
      "[10000 rows x 3 columns]\n"
     ]
    },
    {
     "data": {
      "text/plain": [
       "'Proportion of times that the population mean was included in the confidence intervals: 1.0'"
      ]
     },
     "execution_count": 8,
     "metadata": {},
     "output_type": "execute_result"
    }
   ],
   "source": [
    "ci_pop_means(mean_def= 6, sd_def= 5, sample_size= 30)"
   ]
  },
  {
   "cell_type": "markdown",
   "metadata": {},
   "source": [
    "## Changing Population Standard Deviation"
   ]
  },
  {
   "cell_type": "code",
   "execution_count": 9,
   "metadata": {},
   "outputs": [
    {
     "name": "stdout",
     "output_type": "stream",
     "text": [
      "           lci       rci contained\n",
      "0     1.546254  2.994978      True\n",
      "1     0.643708  1.914166      True\n",
      "2     1.535753  2.624568      True\n",
      "3     1.208105  2.650517      True\n",
      "4     1.290458  2.548156      True\n",
      "...        ...       ...       ...\n",
      "9995  0.943642  2.163037      True\n",
      "9996  1.530388  3.066046      True\n",
      "9997  0.810837  2.314145      True\n",
      "9998  1.365017  2.713233      True\n",
      "9999  0.892986  2.348276      True\n",
      "\n",
      "[10000 rows x 3 columns]\n"
     ]
    },
    {
     "data": {
      "text/plain": [
       "'Proportion of times that the population mean was included in the confidence intervals: 1.0'"
      ]
     },
     "execution_count": 9,
     "metadata": {},
     "output_type": "execute_result"
    }
   ],
   "source": [
    "ci_pop_means(mean_def= 2, sd_def= 2, sample_size= 30)"
   ]
  },
  {
   "cell_type": "code",
   "execution_count": 10,
   "metadata": {},
   "outputs": [
    {
     "name": "stdout",
     "output_type": "stream",
     "text": [
      "           lci       rci contained\n",
      "0    -0.217741  3.477378      True\n",
      "1     1.336369  4.755036      True\n",
      "2    -0.177565  3.230054      True\n",
      "3     1.322243  3.719655      True\n",
      "4     0.887514  4.950813      True\n",
      "...        ...       ...       ...\n",
      "9995  0.722083  3.359518      True\n",
      "9996 -0.702913  2.395076      True\n",
      "9997  1.360294  5.231631      True\n",
      "9998  1.381123  4.657948      True\n",
      "9999 -0.068465  3.705733      True\n",
      "\n",
      "[10000 rows x 3 columns]\n"
     ]
    },
    {
     "data": {
      "text/plain": [
       "'Proportion of times that the population mean was included in the confidence intervals: 1.0'"
      ]
     },
     "execution_count": 10,
     "metadata": {},
     "output_type": "execute_result"
    }
   ],
   "source": [
    "ci_pop_means(mean_def= 2, sd_def= 5, sample_size= 30)"
   ]
  },
  {
   "cell_type": "code",
   "execution_count": 11,
   "metadata": {},
   "outputs": [
    {
     "name": "stdout",
     "output_type": "stream",
     "text": [
      "           lci       rci contained\n",
      "0    -1.503340  4.138832      True\n",
      "1    -1.840192  4.737839      True\n",
      "2    -1.457044  4.712937      True\n",
      "3    -1.768032  3.210798      True\n",
      "4     0.100172  5.708382      True\n",
      "...        ...       ...       ...\n",
      "9995  0.707480  5.796714      True\n",
      "9996 -4.957827  0.922732      True\n",
      "9997 -0.331722  5.968470      True\n",
      "9998  0.059834  6.177829      True\n",
      "9999  0.433867  5.732558      True\n",
      "\n",
      "[10000 rows x 3 columns]\n"
     ]
    },
    {
     "data": {
      "text/plain": [
       "'Proportion of times that the population mean was included in the confidence intervals: 1.0'"
      ]
     },
     "execution_count": 11,
     "metadata": {},
     "output_type": "execute_result"
    }
   ],
   "source": [
    "ci_pop_means(mean_def= 2, sd_def= 8, sample_size= 30)"
   ]
  },
  {
   "cell_type": "markdown",
   "metadata": {},
   "source": [
    "In all variations, the population mean was always included in the confidence intervals meaning that the probability that the true population parameter is in the interval is 95%. \n",
    "\n",
    "9500 out of the 10,000 were expected to contain the population parameter"
   ]
  },
  {
   "cell_type": "code",
   "execution_count": null,
   "metadata": {},
   "outputs": [],
   "source": []
  }
 ],
 "metadata": {
  "colab": {
   "name": "csc104_assignment10_supplement.ipynb.ipynb",
   "provenance": []
  },
  "kernelspec": {
   "display_name": "Python 3",
   "language": "python",
   "name": "python3"
  },
  "language_info": {
   "codemirror_mode": {
    "name": "ipython",
    "version": 3
   },
   "file_extension": ".py",
   "mimetype": "text/x-python",
   "name": "python",
   "nbconvert_exporter": "python",
   "pygments_lexer": "ipython3",
   "version": "3.8.5"
  }
 },
 "nbformat": 4,
 "nbformat_minor": 1
}

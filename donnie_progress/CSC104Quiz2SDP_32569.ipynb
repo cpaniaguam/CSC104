{
 "cells": [
  {
   "cell_type": "markdown",
   "metadata": {
    "id": "UEvxZq8JEQdZ"
   },
   "source": [
    "# **CSC-104 Computer Programming II | Spring 2021 | Carlos Paniagua**\n",
    "## Quiz 2: Exploring sampling distributions for sample proportions"
   ]
  },
  {
   "cell_type": "markdown",
   "metadata": {
    "id": "z7-FQFp3Yymq"
   },
   "source": [
    "## DONNIE AIKINS"
   ]
  },
  {
   "cell_type": "markdown",
   "metadata": {
    "id": "QuGNsHB-xlKM"
   },
   "source": [
    "### Task 1. Construct an array with 1000 integers from 0 to 20. Call this array `population`. "
   ]
  },
  {
   "cell_type": "code",
   "execution_count": 1,
   "metadata": {
    "id": "yl97rhyZwzSX"
   },
   "outputs": [],
   "source": [
    "%precision 3\n",
    "import numpy as np\n",
    "import scipy.stats as st\n",
    "import seaborn as sns\n",
    "import pandas as pd\n",
    "import matplotlib.pyplot as plt\n",
    "import random\n",
    "\n",
    "np.random.seed(32569)\n",
    "population = np.array([random.randint(0, 20) for i in range(1000)])"
   ]
  },
  {
   "cell_type": "markdown",
   "metadata": {
    "id": "7SXfNT35x2DG"
   },
   "source": [
    "### Task 2. Build a function `get_proportion` that takes an array `arr` of integers and a number `k` and returns the proportion of numbers in `arr` that are greater than `k`."
   ]
  },
  {
   "cell_type": "code",
   "execution_count": 2,
   "metadata": {
    "id": "n1l59yMn1Pi7"
   },
   "outputs": [],
   "source": [
    "def get_proportion(array, m):\n",
    "    count = 0\n",
    "    for i in array:\n",
    "        if i > m:\n",
    "            count += 1\n",
    "    return count/len(array)"
   ]
  },
  {
   "cell_type": "markdown",
   "metadata": {
    "id": "xPeiEAYcywvs"
   },
   "source": [
    "### Task 3. Find the proportion of numbers in `population` that are greater than 15. Store this in a variable named `p`."
   ]
  },
  {
   "cell_type": "code",
   "execution_count": 3,
   "metadata": {
    "id": "rTI0BFHmLo0k"
   },
   "outputs": [
    {
     "data": {
      "text/plain": [
       "0.241"
      ]
     },
     "execution_count": 3,
     "metadata": {},
     "output_type": "execute_result"
    }
   ],
   "source": [
    "p = get_proportion(population, 15)\n",
    "p"
   ]
  },
  {
   "cell_type": "markdown",
   "metadata": {
    "id": "lp2th6DBy-t9"
   },
   "source": [
    "### Pretend for a moment that we don't know the value of `p` and that we don't have access to the whole `population`. How could we estimate the population proportion $p?$ Think about this for 5 seconds and move on."
   ]
  },
  {
   "cell_type": "markdown",
   "metadata": {
    "id": "5ZU1FYHvz4YJ"
   },
   "source": [
    "### To estimate `p` we could take samples from `population`. \n",
    "\n",
    "### Task   4. Take a random sample of size 30 from `population` and call it `sample1`. Using `get_proportion`, obtain the proportion of members in `sample` that are greater than 15. "
   ]
  },
  {
   "cell_type": "code",
   "execution_count": 4,
   "metadata": {
    "colab": {
     "base_uri": "https://localhost:8080/"
    },
    "id": "UH7Jos6o0cWw",
    "outputId": "c421805b-6554-4b78-a770-f787eb54aefc"
   },
   "outputs": [
    {
     "name": "stdout",
     "output_type": "stream",
     "text": [
      "Sample:  [0, 3, 18, 13, 20, 19, 13, 3, 1, 19, 3, 7, 17, 10, 14, 3, 3, 1, 10, 17, 1, 20, 17, 19, 11, 8, 0, 6, 11, 12] \n",
      "Observed proportion:  0.3\n"
     ]
    }
   ],
   "source": [
    "np.random.seed(456)\n",
    "sample1= []\n",
    "for i in range(30):\n",
    "    sample1.append(population[random.randint(0, len(population))])\n",
    "print('Sample: ',sample1,'\\nObserved proportion: ',get_proportion(sample1,15))"
   ]
  },
  {
   "cell_type": "markdown",
   "metadata": {
    "id": "ZGvnzZp025ao"
   },
   "source": [
    "### How close to the true population proportion `p` is it? One way to measure this is the *relative error* of an estimate $\\hat{p}$ with respect to a reference $p:$ $$\\text{relative error}=\\dfrac{|\\hat{p}-p|}{p}.$$ \n",
    "### Task 5. Construct a function `rel_error` that takes two numbers `est`, `ref` and returns the relative error of `est` with respect to `ref`. \n",
    "\n"
   ]
  },
  {
   "cell_type": "code",
   "execution_count": 5,
   "metadata": {
    "id": "JOzfIFkTOXTN"
   },
   "outputs": [],
   "source": [
    "def rel_err(est, ref):\n",
    "    return abs(est-ref)/(ref)"
   ]
  },
  {
   "cell_type": "markdown",
   "metadata": {
    "id": "QnfHfZc8Pb8H"
   },
   "source": [
    "### Task 6. Now compute the relative error of your estimate from `sample1`."
   ]
  },
  {
   "cell_type": "code",
   "execution_count": 6,
   "metadata": {
    "id": "AY0bAwuFP74D"
   },
   "outputs": [
    {
     "data": {
      "text/plain": [
       "0.245"
      ]
     },
     "execution_count": 6,
     "metadata": {},
     "output_type": "execute_result"
    }
   ],
   "source": [
    "rel_err((get_proportion(sample1, 15)), p)"
   ]
  },
  {
   "cell_type": "markdown",
   "metadata": {
    "id": "WFcNo_SR3iz1"
   },
   "source": [
    "### Was this first estimate any good? Maybe you got lucky (or not!). \n",
    "### Task 7. Take a second sample `sample2` and see what you get. That is, repeat tasks 4-6 for the new sample. Take even larger samples if you like (40 or more)"
   ]
  },
  {
   "cell_type": "code",
   "execution_count": 7,
   "metadata": {
    "id": "wVcyyeP3TtCI"
   },
   "outputs": [
    {
     "name": "stdout",
     "output_type": "stream",
     "text": [
      "Sample:  [10, 7, 4, 17, 12, 11, 9, 5, 4, 16, 20, 20, 15, 17, 8, 0, 11, 11, 10, 7, 16, 3, 4, 2, 0, 16, 10, 19, 13, 13, 11, 16, 9, 13, 12, 19, 20, 2, 4, 19] \n",
      "Observed proportion:  0.3 \n",
      "Relative error:  0.24481327800829875\n"
     ]
    }
   ],
   "source": [
    "np.random.seed(123)\n",
    "sample2= []\n",
    "for i in range(40):\n",
    "    sample2.append(population[random.randint(0, len(population))])\n",
    "print('Sample: ',sample2,'\\nObserved proportion: ',get_proportion(sample2,15),'\\nRelative error: ', rel_err((get_proportion(sample2, 15)), p))"
   ]
  },
  {
   "cell_type": "code",
   "execution_count": 8,
   "metadata": {},
   "outputs": [
    {
     "name": "stdout",
     "output_type": "stream",
     "text": [
      "Sample:  [17, 1, 4, 18, 0, 9, 8, 17, 9, 19, 6, 0, 2, 5, 19, 13, 4, 15, 19, 5, 4, 2, 16, 15, 20, 1, 11, 7, 15, 6, 15, 7, 1, 12, 2, 5, 1, 8, 1, 6, 18, 10, 0, 5, 13, 5, 16, 8, 16, 18, 12, 20, 16, 7, 18, 2, 19, 5, 1, 0, 16, 18, 2, 4, 11, 11, 20, 3, 7, 13, 0, 13, 11, 13, 9, 16, 16, 18, 1, 2, 7, 11, 1, 14, 0, 11, 14, 14, 1, 10, 14, 8, 16, 7, 2, 12, 20, 4, 7, 3] \n",
      "Observed proportion:  0.24 \n",
      "Relative error:  0.004149377593360999\n"
     ]
    }
   ],
   "source": [
    "np.random.seed(123)\n",
    "sample3= []\n",
    "for i in range(100):\n",
    "    sample3.append(population[random.randint(0, len(population))])\n",
    "print('Sample: ',sample3,'\\nObserved proportion: ',get_proportion(sample3,15),'\\nRelative error: ', rel_err((get_proportion(sample3, 15)), p))"
   ]
  },
  {
   "cell_type": "markdown",
   "metadata": {
    "id": "kwRjHEmt35Js"
   },
   "source": [
    "### Any luck?\n",
    "\n",
    "### Task 8. Do this many times and compute the average of all the proportions you get. Namely,\n",
    "1. In a data structure of your choice (call it `sampled_props`) record the means of 10,000 random samples of size 30 from `population`.\n",
    "2. Obtain the mean and standard deviation for `sampled_props`.\n",
    "3. Produce a histogram for `sampled_props`.\n",
    "4. Compare (using `rel_err`) the mean of `sampled_props` with the true population proportion (task 3).\n"
   ]
  },
  {
   "cell_type": "code",
   "execution_count": 9,
   "metadata": {
    "id": "sXgj441y5NIg"
   },
   "outputs": [],
   "source": [
    "sampled_props = pd.DataFrame(columns= ['xbar'])\n",
    "for x in range(0, 10000):\n",
    "    temp = random.sample(list(population), 30)\n",
    "    sampled_props = sampled_props.append({'xbar':get_proportion(temp, 15)}, ignore_index=True)\n",
    "    temp.clear()"
   ]
  },
  {
   "cell_type": "code",
   "execution_count": 10,
   "metadata": {},
   "outputs": [
    {
     "name": "stdout",
     "output_type": "stream",
     "text": [
      "Mean: 0.23978999999999936\n",
      "Standard Deviation: 0.07651076293724596\n",
      "Relative Error: 0.005020746887969408\n"
     ]
    },
    {
     "data": {
      "image/png": "[encoded data removed]",
      "text/plain": [
       "<Figure size 432x288 with 1 Axes>"
      ]
     },
     "metadata": {
      "needs_background": "light"
     },
     "output_type": "display_data"
    }
   ],
   "source": [
    "print(\"Mean: {}\".format(sampled_props['xbar'].mean()))\n",
    "print(\"Standard Deviation: {}\".format(sampled_props['xbar'].std()))\n",
    "print(\"Relative Error: {}\".format(rel_err(sampled_props['xbar'].mean(), p)))\n",
    "sns.histplot(data= sampled_props, x='xbar', kde=True)\n",
    "plt.title(\"Means of 10,000 samples\")\n",
    "plt.xlabel(\"Mean\")\n",
    "plt.show()"
   ]
  },
  {
   "cell_type": "markdown",
   "metadata": {
    "id": "knsiWCOG-SrN"
   },
   "source": [
    "### Did you start to get lucky already?\n",
    "\n",
    "### Task 9. Repeat task 8 to make sure this wasn't an accident. Ensure your samples are truly random (do not use a seed)."
   ]
  },
  {
   "cell_type": "code",
   "execution_count": 11,
   "metadata": {
    "id": "rSTLEUfe6tGy"
   },
   "outputs": [],
   "source": [
    "sampled_props2 = pd.DataFrame(columns= ['xbar'])\n",
    "for x in range(0, 10000):\n",
    "    temp = random.sample(list(population), 30)\n",
    "    sampled_props2 = sampled_props2.append({'xbar':get_proportion(temp, 15)}, ignore_index=True)\n",
    "    temp.clear()"
   ]
  },
  {
   "cell_type": "code",
   "execution_count": 12,
   "metadata": {},
   "outputs": [
    {
     "name": "stdout",
     "output_type": "stream",
     "text": [
      "Mean: 0.24008999999999983\n",
      "Standard Deviation: 0.076589386007203\n",
      "Relative Error: 0.003775933609959173\n"
     ]
    },
    {
     "data": {
      "image/png": "[encoded data removed]",
      "text/plain": [
       "<Figure size 432x288 with 1 Axes>"
      ]
     },
     "metadata": {
      "needs_background": "light"
     },
     "output_type": "display_data"
    }
   ],
   "source": [
    "print(\"Mean: {}\".format(sampled_props2['xbar'].mean()))\n",
    "print(\"Standard Deviation: {}\".format(sampled_props2['xbar'].std()))\n",
    "print(\"Relative Error: {}\".format(rel_err(sampled_props2['xbar'].mean(), p)))\n",
    "sns.histplot(data= sampled_props2, x='xbar', kde=True)\n",
    "plt.title(\"Means of 10,000 samples\")\n",
    "plt.xlabel(\"Mean\")\n",
    "plt.show()"
   ]
  },
  {
   "cell_type": "markdown",
   "metadata": {
    "id": "sQKNdfmmXJG1"
   },
   "source": [
    "### Task 10. Write down a few sentences summarizing your findings.\n",
    "1. Was the mean of `sampled_props` close to the true population mean?\n",
    "2. What was the shape of the distribution of `sampled_props`?\n",
    "3. If you increased the sample size, what happened to the standard deviation of `sampled_props`?\n",
    "\n",
    "\n"
   ]
  },
  {
   "cell_type": "markdown",
   "metadata": {
    "id": "4RyWDiAdYoc7"
   },
   "source": [
    "1. f\n",
    "2. `sampled_props` approximately had the shape of a normal distribution. \n",
    "3. If the sample size were to be increased, the standard deviation of `sampled_props` would decrease because in most distributions, the standard deviation is calculated by having the sample size in the denominator. Increasing the denominator would decrease the overall standard deviation. Using the normal distribution approximation - the standard deviation would be $\\sqrt(\\frac{p(1-p)}{n})$"
   ]
  },
  {
   "cell_type": "code",
   "execution_count": null,
   "metadata": {},
   "outputs": [],
   "source": []
  }
 ],
 "metadata": {
  "colab": {
   "collapsed_sections": [],
   "name": "CSC104Quiz2SDP_32569.ipynb",
   "provenance": []
  },
  "kernelspec": {
   "display_name": "Python 3",
   "language": "python",
   "name": "python3"
  },
  "language_info": {
   "codemirror_mode": {
    "name": "ipython",
    "version": 3
   },
   "file_extension": ".py",
   "mimetype": "text/x-python",
   "name": "python",
   "nbconvert_exporter": "python",
   "pygments_lexer": "ipython3",
   "version": "3.8.5"
  }
 },
 "nbformat": 4,
 "nbformat_minor": 1
}

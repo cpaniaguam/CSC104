{
 "cells": [
  {
   "cell_type": "markdown",
   "metadata": {
    "id": "qhwRsFkfk3xF"
   },
   "source": [
    "#Solving probability problems using simulation and randomization\n",
    "\n",
    "Question: If you randomly select a card from a well-shuffled standard 52-card deck, what is the probability that the card you select is a club (♣) or a **7**?\n",
    "\n",
    "Of course we can easily solve this problem using probability theory for the random process of choosing a card from a 52-card deck. Let $C$ be the event of drawing a club (♣) and $S$ the event of drawing a **7**. There are 13 clubs, so the number of outcomes $|C|$ in $C$ is 13: $|C|=13.$ There are four **7**'s, thus the number of outcomes in $S$, $|S|$ is 4: $|S|=4.$ There is also a club that is a 7, the **7** of clubs (**7♣**), so $|C\\cap S|=1.$ The (theoretical) probability of the event $C \\cup S$ is given by the *addition rule:* $P(C \\cup S) = P(C) + P(S) - P(C \\cap S) = \\frac{13}{52}+\\frac{4}{52}-\\frac{1}{52}=\\frac{16}{52}=\\frac{4}{13}\\approx 0.31$\n"
   ]
  },
  {
   "cell_type": "code",
   "execution_count": 1,
   "metadata": {
    "colab": {
     "base_uri": "https://localhost:8080/"
    },
    "id": "_Pnr5uPwk3xK",
    "outputId": "8b190010-a428-4f01-a74c-394376b32e98"
   },
   "outputs": [
    {
     "data": {
      "text/plain": [
       "0.31"
      ]
     },
     "execution_count": 1,
     "metadata": {},
     "output_type": "execute_result"
    }
   ],
   "source": [
    "%precision 2 \n",
    "13/52 + 4/52 - 1/52\n",
    "# About line 1: This is an python 'magic' function. Read more about these here: \n",
    "# https://ipython.readthedocs.io/en/stable/interactive/magics.html"
   ]
  },
  {
   "cell_type": "markdown",
   "metadata": {
    "id": "aTQpFO-Ak3xM"
   },
   "source": [
    "Thus about 31% of the time we will observe a club or a **7**.\n",
    "\n",
    "We could also have approached the problem empirically by shuffling a real deck of cards and drawing one card at random and observing how many times we observe a **7** or a club after replicating the experiment a large number of times. Of course, actually doing this would take more time that we would like to invest. Instead, we run a *simulation* using the computer."
   ]
  },
  {
   "cell_type": "code",
   "execution_count": 2,
   "metadata": {
    "colab": {
     "base_uri": "https://localhost:8080/"
    },
    "id": "rDBGGRMLk3xN",
    "outputId": "45ed7b39-65e5-4bde-9ef0-5568424b8c13",
    "scrolled": true
   },
   "outputs": [
    {
     "data": {
      "text/plain": [
       "[('2', '♥'),\n",
       " ('2', '♦'),\n",
       " ('2', '♣'),\n",
       " ('2', '♠'),\n",
       " ('3', '♥'),\n",
       " ('3', '♦'),\n",
       " ('3', '♣'),\n",
       " ('3', '♠'),\n",
       " ('4', '♥'),\n",
       " ('4', '♦'),\n",
       " ('4', '♣'),\n",
       " ('4', '♠'),\n",
       " ('5', '♥'),\n",
       " ('5', '♦'),\n",
       " ('5', '♣'),\n",
       " ('5', '♠'),\n",
       " ('6', '♥'),\n",
       " ('6', '♦'),\n",
       " ('6', '♣'),\n",
       " ('6', '♠'),\n",
       " ('7', '♥'),\n",
       " ('7', '♦'),\n",
       " ('7', '♣'),\n",
       " ('7', '♠'),\n",
       " ('8', '♥'),\n",
       " ('8', '♦'),\n",
       " ('8', '♣'),\n",
       " ('8', '♠'),\n",
       " ('9', '♥'),\n",
       " ('9', '♦'),\n",
       " ('9', '♣'),\n",
       " ('9', '♠'),\n",
       " ('10', '♥'),\n",
       " ('10', '♦'),\n",
       " ('10', '♣'),\n",
       " ('10', '♠'),\n",
       " ('J', '♥'),\n",
       " ('J', '♦'),\n",
       " ('J', '♣'),\n",
       " ('J', '♠'),\n",
       " ('Q', '♥'),\n",
       " ('Q', '♦'),\n",
       " ('Q', '♣'),\n",
       " ('Q', '♠'),\n",
       " ('K', '♥'),\n",
       " ('K', '♦'),\n",
       " ('K', '♣'),\n",
       " ('K', '♠'),\n",
       " ('A', '♥'),\n",
       " ('A', '♦'),\n",
       " ('A', '♣'),\n",
       " ('A', '♠')]"
      ]
     },
     "execution_count": 2,
     "metadata": {},
     "output_type": "execute_result"
    }
   ],
   "source": [
    "# Let us build a deck to draw cards from\n",
    "import numpy as np\n",
    "rank=np.array([2,3,4,5,6,7,8,9,10,'J','Q','K','A'])\n",
    "suits= list('♥♦♣♠')\n",
    "deck=[(i,j) for i in rank for j in suits]\n",
    "deck"
   ]
  },
  {
   "cell_type": "code",
   "execution_count": 3,
   "metadata": {
    "colab": {
     "base_uri": "https://localhost:8080/"
    },
    "id": "ufyu8wU5k3xO",
    "outputId": "96914e16-a9be-46b2-c3c3-aea8368f7ea5",
    "scrolled": true
   },
   "outputs": [
    {
     "data": {
      "text/plain": [
       "[('A', '♥'),\n",
       " ('8', '♦'),\n",
       " ('2', '♠'),\n",
       " ('3', '♦'),\n",
       " ('10', '♦'),\n",
       " ('7', '♠'),\n",
       " ('5', '♣'),\n",
       " ('7', '♣'),\n",
       " ('10', '♣'),\n",
       " ('J', '♥'),\n",
       " ('10', '♠'),\n",
       " ('10', '♥'),\n",
       " ('A', '♣'),\n",
       " ('6', '♠'),\n",
       " ('9', '♦'),\n",
       " ('Q', '♠'),\n",
       " ('5', '♠'),\n",
       " ('Q', '♦'),\n",
       " ('4', '♥'),\n",
       " ('J', '♠'),\n",
       " ('K', '♣'),\n",
       " ('A', '♠'),\n",
       " ('9', '♠'),\n",
       " ('3', '♣'),\n",
       " ('K', '♦'),\n",
       " ('9', '♣'),\n",
       " ('4', '♣'),\n",
       " ('9', '♥'),\n",
       " ('2', '♣'),\n",
       " ('J', '♦'),\n",
       " ('7', '♦'),\n",
       " ('Q', '♣'),\n",
       " ('J', '♣'),\n",
       " ('Q', '♥'),\n",
       " ('2', '♦'),\n",
       " ('A', '♦'),\n",
       " ('6', '♣'),\n",
       " ('5', '♥'),\n",
       " ('2', '♥'),\n",
       " ('8', '♣'),\n",
       " ('4', '♠'),\n",
       " ('8', '♥'),\n",
       " ('K', '♠'),\n",
       " ('6', '♥'),\n",
       " ('3', '♥'),\n",
       " ('7', '♥'),\n",
       " ('5', '♦'),\n",
       " ('3', '♠'),\n",
       " ('4', '♦'),\n",
       " ('8', '♠'),\n",
       " ('K', '♥'),\n",
       " ('6', '♦')]"
      ]
     },
     "execution_count": 3,
     "metadata": {},
     "output_type": "execute_result"
    }
   ],
   "source": [
    "# As you can see we have created a deck using tuples. Note that the first \n",
    "# component (the 'rank' of the card) of the tuples is a string.\n",
    "# We could suffle the deck in a number of ways. Here is one:\n",
    "# First generate a permutation of the integers 0-51\n",
    "perm = np.random.permutation(52)\n",
    "\n",
    "# Using python's zip function we can now pair each card with a unique member of \n",
    "# perm.\n",
    "def shuffle(deck: 'the deck'):\n",
    "    deck_shuffled=zip(deck,list(np.random.permutation(52)))\n",
    "    deck_shuffled=[i[0] for i in sorted(list(deck_shuffled), \n",
    "                                        key = lambda i:i[-1] )] \n",
    "                                        # What is the construct that I am using here?\n",
    "    return deck_shuffled\n",
    "\n",
    "shuffle(deck)"
   ]
  },
  {
   "cell_type": "markdown",
   "metadata": {
    "id": "oEEpOzrIk3xP"
   },
   "source": [
    "## Creativity Excercise\n",
    "Come up with your own way (data structure) of producing a virtual deck of cards and a way (function) for shuffling the deck using code. Hint: Consider creating a [`class`](https://runestone.academy/runestone/books/published/fopp/Classes/toctree.html) for the cards. Also, consider looking at the [`numpy.random` library](https://numpy.org/doc/stable/reference/random/index.html?highlight=random#module-numpy.random) or the [`random` module in Python](https://docs.python.org/3/library/random.html).  (Avoid looking up a full solution on the internet.)"
   ]
  },
  {
   "cell_type": "code",
   "execution_count": 4,
   "metadata": {
    "id": "V7eTbKtqk3xQ",
    "scrolled": true
   },
   "outputs": [],
   "source": [
    "import random\n",
    "\n",
    "class Deck:\n",
    "    def __init__(self):\n",
    "        self.cards = []\n",
    "        self.subset = []\n",
    "    \n",
    "    def hand(self):\n",
    "        rank=np.array([2,3,4,5,6,7,8,9,10,'J','Q','K','A'])\n",
    "        suits= list('♥♦♣♠')\n",
    "        for i in rank:\n",
    "            for j in suits:\n",
    "                self.cards.append((i,j))\n",
    "        return self.cards\n",
    "\n",
    "    def shuffle(self):\n",
    "        random.shuffle(self.cards)\n",
    "\n",
    "    def show(self):\n",
    "        if len(self.subset) == 0:\n",
    "            return self.cards\n",
    "        else:\n",
    "            return self.subset\n",
    "    \n",
    "    def subse(self, freq):\n",
    "        \"\"\"\n",
    "        Freq -> how many cards you want in the subset\n",
    "        \"\"\"\n",
    "        self.subset.clear()\n",
    "        for i in range(0, freq):\n",
    "            value = random.randint(1, 51)\n",
    "            self.subset.append(self.cards[value])\n",
    "        return self.subset\n",
    "    \n",
    "    def __str__(self):\n",
    "        return 'Your deck: \\n {}'.format(self.cards)"
   ]
  },
  {
   "cell_type": "markdown",
   "metadata": {
    "id": "j8HFarOEk3xR"
   },
   "source": [
    "With a shuffled deck we can draw a card and record whether we observe a **7** or a club."
   ]
  },
  {
   "cell_type": "code",
   "execution_count": 5,
   "metadata": {
    "colab": {
     "base_uri": "https://localhost:8080/"
    },
    "id": "5VGHjW3qk3xS",
    "outputId": "c135e203-6e0c-4b64-dd05-1307abcbc303"
   },
   "outputs": [
    {
     "data": {
      "text/plain": [
       "('5', '♠')"
      ]
     },
     "execution_count": 5,
     "metadata": {},
     "output_type": "execute_result"
    }
   ],
   "source": [
    "rank, suit = shuffle(deck)[0]\n",
    "(rank,suit)"
   ]
  },
  {
   "cell_type": "code",
   "execution_count": 6,
   "metadata": {
    "id": "--NLa1sZk3xT"
   },
   "outputs": [],
   "source": [
    "def simulate(deck,reps,target):\n",
    "    '''Randomly draw a card from deck reps times and record how many times\n",
    "    the target card occurred. Then report its probability.'''\n",
    "    count=0\n",
    "    outcomes=[] # Optional: for looking at the outcomes for small reps, 500 say\n",
    "    for i in np.random.randint(0,52,size=reps):\n",
    "        flag = False\n",
    "        rank, suit = deck[i]\n",
    "        if rank == target[0] or suit == target[1]:\n",
    "            count += 1\n",
    "            flag = True\n",
    "        # visualize outcomes for small reps    \n",
    "        if reps < 500:\n",
    "            outcomes.append(\"\".join([rank,suit,'*'])) if flag else outcomes.append(\"\".join([rank,suit]))\n",
    "    if reps < 500: print(\" \".join(outcomes))\n",
    "    print('successes:', count)\n",
    "    print('trials:', reps)\n",
    "    print('Observed probability of',target[0],'or',target[1],f'is {count/reps:.2f}')\n",
    "    return count/reps        "
   ]
  },
  {
   "cell_type": "code",
   "execution_count": 7,
   "metadata": {
    "colab": {
     "base_uri": "https://localhost:8080/"
    },
    "id": "khZedL0bk3xU",
    "outputId": "d7e3b615-0118-4ca5-dcd5-9b395de7fba2"
   },
   "outputs": [
    {
     "name": "stdout",
     "output_type": "stream",
     "text": [
      "10♣* 3♠ K♥ Q♥ 6♣* Q♣* 9♦ 7♠* A♥ A♣*\n",
      "successes: 5\n",
      "trials: 10\n",
      "Observed probability of 7 or ♣ is 0.50\n"
     ]
    },
    {
     "data": {
      "text/plain": [
       "0.50"
      ]
     },
     "execution_count": 7,
     "metadata": {},
     "output_type": "execute_result"
    }
   ],
   "source": [
    "# Repeat 10 times: We sample (at random) from the deck and note whether a 7 or \n",
    "# ♣ occured. These are the 'successes'.\n",
    "simulate(deck,10,('7','♣'))"
   ]
  },
  {
   "cell_type": "code",
   "execution_count": 8,
   "metadata": {
    "colab": {
     "base_uri": "https://localhost:8080/"
    },
    "id": "DGXjEq-Rk3xV",
    "outputId": "5cbfc228-a940-4104-d578-510f0dc2be53"
   },
   "outputs": [
    {
     "name": "stdout",
     "output_type": "stream",
     "text": [
      "J♥ Q♣* 6♦ J♠ K♠ 3♣* Q♥ 8♠ 3♦ 10♣* 5♦ 10♠ J♥ 6♦ 2♥ J♥ 8♦ 4♣* J♦ 6♣* J♥ 6♦ 5♠ 5♦ Q♠ A♦ 7♠* Q♥ A♠ 6♦ 7♣* J♥ 4♠ 10♣* Q♠ J♦ Q♥ 5♠ 7♦* J♦ 5♥ 5♣* J♥ 4♥ 7♥* 7♥* K♥ 3♥ K♣*\n",
      "successes: 13\n",
      "trials: 49\n",
      "Observed probability of 7 or ♣ is 0.27\n"
     ]
    },
    {
     "data": {
      "text/plain": [
       "0.27"
      ]
     },
     "execution_count": 8,
     "metadata": {},
     "output_type": "execute_result"
    }
   ],
   "source": [
    "# Repeat 49 times\n",
    "simulate(deck,49,('7','♣'))"
   ]
  },
  {
   "cell_type": "code",
   "execution_count": 9,
   "metadata": {
    "colab": {
     "base_uri": "https://localhost:8080/"
    },
    "id": "2P4zbnqSk3xW",
    "outputId": "4b312fd4-6db5-409f-f377-43ea31f57d35",
    "scrolled": true
   },
   "outputs": [
    {
     "name": "stdout",
     "output_type": "stream",
     "text": [
      "successes: 3025\n",
      "trials: 10000\n",
      "Observed probability of 7 or ♣ is 0.30\n",
      "\n",
      "successes: 3070\n",
      "trials: 10000\n",
      "Observed probability of 7 or ♣ is 0.31\n",
      "\n",
      "successes: 3012\n",
      "trials: 10000\n",
      "Observed probability of 7 or ♣ is 0.30\n",
      "\n",
      "successes: 3090\n",
      "trials: 10000\n",
      "Observed probability of 7 or ♣ is 0.31\n",
      "\n",
      "successes: 3036\n",
      "trials: 10000\n",
      "Observed probability of 7 or ♣ is 0.30\n",
      "\n",
      "successes: 3111\n",
      "trials: 10000\n",
      "Observed probability of 7 or ♣ is 0.31\n",
      "\n",
      "successes: 3111\n",
      "trials: 10000\n",
      "Observed probability of 7 or ♣ is 0.31\n",
      "\n",
      "successes: 3089\n",
      "trials: 10000\n",
      "Observed probability of 7 or ♣ is 0.31\n",
      "\n",
      "successes: 3034\n",
      "trials: 10000\n",
      "Observed probability of 7 or ♣ is 0.30\n",
      "\n",
      "successes: 3043\n",
      "trials: 10000\n",
      "Observed probability of 7 or ♣ is 0.30\n",
      "\n"
     ]
    }
   ],
   "source": [
    "# Sample 10000 times; repeat 10 times\n",
    "for i in range(10):\n",
    "    simulate(deck,10000,('7','♣'))\n",
    "    print('')"
   ]
  },
  {
   "cell_type": "markdown",
   "metadata": {
    "id": "0E2mNtcMk3xW"
   },
   "source": [
    "## Problem 1: Probability distribution\n",
    "Using our virtual deck from above, consider the random process of shuffling the ordered subset $S=${` ('J', '♠')`, `('Q', '♠')`, `('K', '♠')`, `('A', '♠')`}. \n",
    "<figure>\n",
    "<center>\n",
    "<img src='https://drive.google.com/uc?id=1EfI46auM298nnajTA0cWZp0QnRqB9m4e'/>\n",
    "<figcaption>Figure 1. The subset $S$ and its reference ordering.</figcaption></center>\n",
    "</figure>\n",
    "\n",
    "Let $\\mathfrak{P}(S)$ be the set of all permutations of the elements of $S.$\n",
    "\n",
    "Now choose a permutation of $S$ from $\\mathfrak{P}(S)$, and observe the number of cards fixed by the permutation. Denote the set of all these possible results by $F.$\n",
    "\n",
    "\n",
    "\n"
   ]
  },
  {
   "cell_type": "markdown",
   "metadata": {
    "id": "IuKyHLs7k3xX"
   },
   "source": [
    "a) How many permutations are there in $\\mathfrak{P}(S)?$\n",
    "* Obtain this result using a counting technique and with code by producing a listing of all permutations in $\\mathfrak{P}(S).$\n",
    "    \n",
    "\n"
   ]
  },
  {
   "cell_type": "code",
   "execution_count": 10,
   "metadata": {},
   "outputs": [],
   "source": [
    "s = [('J', '♠'), ('Q', '♠'), ('K', '♠'), ('A', '♠')]"
   ]
  },
  {
   "cell_type": "code",
   "execution_count": 11,
   "metadata": {},
   "outputs": [
    {
     "name": "stdout",
     "output_type": "stream",
     "text": [
      "[(('J', '♠'), ('Q', '♠'), ('K', '♠'), ('A', '♠')), (('J', '♠'), ('Q', '♠'), ('A', '♠'), ('K', '♠')), (('J', '♠'), ('K', '♠'), ('Q', '♠'), ('A', '♠')), (('J', '♠'), ('K', '♠'), ('A', '♠'), ('Q', '♠')), (('J', '♠'), ('A', '♠'), ('Q', '♠'), ('K', '♠')), (('J', '♠'), ('A', '♠'), ('K', '♠'), ('Q', '♠')), (('Q', '♠'), ('J', '♠'), ('K', '♠'), ('A', '♠')), (('Q', '♠'), ('J', '♠'), ('A', '♠'), ('K', '♠')), (('Q', '♠'), ('K', '♠'), ('J', '♠'), ('A', '♠')), (('Q', '♠'), ('K', '♠'), ('A', '♠'), ('J', '♠')), (('Q', '♠'), ('A', '♠'), ('J', '♠'), ('K', '♠')), (('Q', '♠'), ('A', '♠'), ('K', '♠'), ('J', '♠')), (('K', '♠'), ('J', '♠'), ('Q', '♠'), ('A', '♠')), (('K', '♠'), ('J', '♠'), ('A', '♠'), ('Q', '♠')), (('K', '♠'), ('Q', '♠'), ('J', '♠'), ('A', '♠')), (('K', '♠'), ('Q', '♠'), ('A', '♠'), ('J', '♠')), (('K', '♠'), ('A', '♠'), ('J', '♠'), ('Q', '♠')), (('K', '♠'), ('A', '♠'), ('Q', '♠'), ('J', '♠')), (('A', '♠'), ('J', '♠'), ('Q', '♠'), ('K', '♠')), (('A', '♠'), ('J', '♠'), ('K', '♠'), ('Q', '♠')), (('A', '♠'), ('Q', '♠'), ('J', '♠'), ('K', '♠')), (('A', '♠'), ('Q', '♠'), ('K', '♠'), ('J', '♠')), (('A', '♠'), ('K', '♠'), ('J', '♠'), ('Q', '♠')), (('A', '♠'), ('K', '♠'), ('Q', '♠'), ('J', '♠'))] \n",
      " 24\n"
     ]
    }
   ],
   "source": [
    "import itertools\n",
    "BS = list(itertools.permutations([('J', '♠'), ('Q', '♠'), ('K', '♠'), ('A', '♠')]))\n",
    "print(BS,'\\n' ,len(BS))"
   ]
  },
  {
   "cell_type": "markdown",
   "metadata": {
    "id": "eAjEydbsk3xZ"
   },
   "source": [
    "b) Again using code, tabulate the number of cards fixed for each permutation of $S.$\n",
    "* Explicitly list the elements of $F.$ How many unique results do you observe? This is the size of $F.$\n",
    "* Can a permutation fix exactly three cards? Explain.\n",
    "* Produce a relative frequency distribution for these data and produce a histogram. This is called a *probability distribution* for the *random variable* that counts the number of cards fixed by a permutation of the set $S.$"
   ]
  },
  {
   "cell_type": "code",
   "execution_count": 12,
   "metadata": {
    "id": "1Sml-zZ-t3pY"
   },
   "outputs": [],
   "source": [
    "S = [('J', '♠'), ('Q', '♠'), ('K', '♠'), ('A', '♠')]\n",
    "F = [] #permutations that have 1, 2, 4 cards fixed\n",
    "F_dot = [] #permutations that have 0 cards fixed"
   ]
  },
  {
   "cell_type": "code",
   "execution_count": 13,
   "metadata": {},
   "outputs": [],
   "source": [
    "for perm in BS:\n",
    "    for card in range(0,4):\n",
    "        if perm[card] == S[card]:\n",
    "            F.append(perm)\n",
    "            break\n",
    "            \n",
    "for perm in BS:\n",
    "    if perm not in F:\n",
    "        F_dot.append(perm)"
   ]
  },
  {
   "cell_type": "code",
   "execution_count": 14,
   "metadata": {},
   "outputs": [
    {
     "data": {
      "text/plain": [
       "[0, 0, 0, 0, 0, 0, 0, 0, 0]"
      ]
     },
     "execution_count": 14,
     "metadata": {},
     "output_type": "execute_result"
    }
   ],
   "source": [
    "numbers_dot = [0 for i in range(len((F_dot)))]\n",
    "numbers_dot"
   ]
  },
  {
   "cell_type": "code",
   "execution_count": 15,
   "metadata": {},
   "outputs": [
    {
     "data": {
      "text/plain": [
       "[(('J', '♠'), ('Q', '♠'), ('K', '♠'), ('A', '♠')),\n",
       " (('J', '♠'), ('Q', '♠'), ('A', '♠'), ('K', '♠')),\n",
       " (('J', '♠'), ('K', '♠'), ('Q', '♠'), ('A', '♠')),\n",
       " (('J', '♠'), ('K', '♠'), ('A', '♠'), ('Q', '♠')),\n",
       " (('J', '♠'), ('A', '♠'), ('Q', '♠'), ('K', '♠')),\n",
       " (('J', '♠'), ('A', '♠'), ('K', '♠'), ('Q', '♠')),\n",
       " (('Q', '♠'), ('J', '♠'), ('K', '♠'), ('A', '♠')),\n",
       " (('Q', '♠'), ('K', '♠'), ('J', '♠'), ('A', '♠')),\n",
       " (('Q', '♠'), ('A', '♠'), ('K', '♠'), ('J', '♠')),\n",
       " (('K', '♠'), ('J', '♠'), ('Q', '♠'), ('A', '♠')),\n",
       " (('K', '♠'), ('Q', '♠'), ('J', '♠'), ('A', '♠')),\n",
       " (('K', '♠'), ('Q', '♠'), ('A', '♠'), ('J', '♠')),\n",
       " (('A', '♠'), ('J', '♠'), ('K', '♠'), ('Q', '♠')),\n",
       " (('A', '♠'), ('Q', '♠'), ('J', '♠'), ('K', '♠')),\n",
       " (('A', '♠'), ('Q', '♠'), ('K', '♠'), ('J', '♠'))]"
      ]
     },
     "execution_count": 15,
     "metadata": {},
     "output_type": "execute_result"
    }
   ],
   "source": [
    "F  #permutations that have 1, 2, 4 cards fixed"
   ]
  },
  {
   "cell_type": "code",
   "execution_count": 1,
   "metadata": {},
   "outputs": [
    {
     "ename": "NameError",
     "evalue": "name 'F_dot' is not defined",
     "output_type": "error",
     "traceback": [
      "\u001b[1;31m---------------------------------------------------------------------------\u001b[0m",
      "\u001b[1;31mNameError\u001b[0m                                 Traceback (most recent call last)",
      "\u001b[1;32m<ipython-input-1-045b35aa0001>\u001b[0m in \u001b[0;36m<module>\u001b[1;34m\u001b[0m\n\u001b[1;32m----> 1\u001b[1;33m \u001b[0mF_dot\u001b[0m \u001b[1;31m#permutations that have 0 cards fixed\u001b[0m\u001b[1;33m\u001b[0m\u001b[1;33m\u001b[0m\u001b[0m\n\u001b[0m",
      "\u001b[1;31mNameError\u001b[0m: name 'F_dot' is not defined"
     ]
    }
   ],
   "source": [
    "F_dot #permutations that have 0 cards fixed"
   ]
  },
  {
   "cell_type": "code",
   "execution_count": 16,
   "metadata": {},
   "outputs": [],
   "source": [
    "numbers = []"
   ]
  },
  {
   "cell_type": "code",
   "execution_count": 17,
   "metadata": {},
   "outputs": [],
   "source": [
    "count = 0\n",
    "count_temp = 0\n",
    "for row in F:\n",
    "    for i in range(0,4):\n",
    "        if row[i] == S[i]:\n",
    "            count_temp += 1\n",
    "    if count_temp != count:\n",
    "        count += count_temp\n",
    "    else:\n",
    "        numbers.append(0)\n",
    "    numbers.append(count)\n",
    "    count = 0\n",
    "    count_temp = 0"
   ]
  },
  {
   "cell_type": "code",
   "execution_count": 18,
   "metadata": {},
   "outputs": [
    {
     "data": {
      "text/plain": [
       "[4, 2, 2, 1, 1, 2, 2, 1, 1, 1, 2, 1, 1, 1, 2]"
      ]
     },
     "execution_count": 18,
     "metadata": {},
     "output_type": "execute_result"
    }
   ],
   "source": [
    "numbers"
   ]
  },
  {
   "cell_type": "code",
   "execution_count": null,
   "metadata": {},
   "outputs": [],
   "source": [
    "# assigning each permutation to how many cards were fixed:"
   ]
  },
  {
   "cell_type": "code",
   "execution_count": 19,
   "metadata": {},
   "outputs": [],
   "source": [
    "unique_F = dict(zip(F, numbers))"
   ]
  },
  {
   "cell_type": "code",
   "execution_count": 20,
   "metadata": {},
   "outputs": [],
   "source": [
    "unique_F_dot = dict(zip(F_dot, numbers_dot))"
   ]
  },
  {
   "cell_type": "code",
   "execution_count": 21,
   "metadata": {},
   "outputs": [
    {
     "data": {
      "text/plain": [
       "{(('J', '♠'), ('Q', '♠'), ('K', '♠'), ('A', '♠')): 4,\n",
       " (('J', '♠'), ('Q', '♠'), ('A', '♠'), ('K', '♠')): 2,\n",
       " (('J', '♠'), ('K', '♠'), ('Q', '♠'), ('A', '♠')): 2,\n",
       " (('J', '♠'), ('K', '♠'), ('A', '♠'), ('Q', '♠')): 1,\n",
       " (('J', '♠'), ('A', '♠'), ('Q', '♠'), ('K', '♠')): 1,\n",
       " (('J', '♠'), ('A', '♠'), ('K', '♠'), ('Q', '♠')): 2,\n",
       " (('Q', '♠'), ('J', '♠'), ('K', '♠'), ('A', '♠')): 2,\n",
       " (('Q', '♠'), ('K', '♠'), ('J', '♠'), ('A', '♠')): 1,\n",
       " (('Q', '♠'), ('A', '♠'), ('K', '♠'), ('J', '♠')): 1,\n",
       " (('K', '♠'), ('J', '♠'), ('Q', '♠'), ('A', '♠')): 1,\n",
       " (('K', '♠'), ('Q', '♠'), ('J', '♠'), ('A', '♠')): 2,\n",
       " (('K', '♠'), ('Q', '♠'), ('A', '♠'), ('J', '♠')): 1,\n",
       " (('A', '♠'), ('J', '♠'), ('K', '♠'), ('Q', '♠')): 1,\n",
       " (('A', '♠'), ('Q', '♠'), ('J', '♠'), ('K', '♠')): 1,\n",
       " (('A', '♠'), ('Q', '♠'), ('K', '♠'), ('J', '♠')): 2}"
      ]
     },
     "execution_count": 21,
     "metadata": {},
     "output_type": "execute_result"
    }
   ],
   "source": [
    "unique_F"
   ]
  },
  {
   "cell_type": "code",
   "execution_count": 22,
   "metadata": {},
   "outputs": [
    {
     "data": {
      "text/plain": [
       "{(('Q', '♠'), ('J', '♠'), ('A', '♠'), ('K', '♠')): 0,\n",
       " (('Q', '♠'), ('K', '♠'), ('A', '♠'), ('J', '♠')): 0,\n",
       " (('Q', '♠'), ('A', '♠'), ('J', '♠'), ('K', '♠')): 0,\n",
       " (('K', '♠'), ('J', '♠'), ('A', '♠'), ('Q', '♠')): 0,\n",
       " (('K', '♠'), ('A', '♠'), ('J', '♠'), ('Q', '♠')): 0,\n",
       " (('K', '♠'), ('A', '♠'), ('Q', '♠'), ('J', '♠')): 0,\n",
       " (('A', '♠'), ('J', '♠'), ('Q', '♠'), ('K', '♠')): 0,\n",
       " (('A', '♠'), ('K', '♠'), ('J', '♠'), ('Q', '♠')): 0,\n",
       " (('A', '♠'), ('K', '♠'), ('Q', '♠'), ('J', '♠')): 0}"
      ]
     },
     "execution_count": 22,
     "metadata": {},
     "output_type": "execute_result"
    }
   ],
   "source": [
    "unique_F_dot"
   ]
  },
  {
   "cell_type": "code",
   "execution_count": 23,
   "metadata": {},
   "outputs": [],
   "source": [
    "unique_F.update(unique_F_dot) #merged the two dictionaries together"
   ]
  },
  {
   "cell_type": "code",
   "execution_count": 24,
   "metadata": {},
   "outputs": [
    {
     "data": {
      "text/plain": [
       "9"
      ]
     },
     "execution_count": 24,
     "metadata": {},
     "output_type": "execute_result"
    }
   ],
   "source": [
    "numbers.count(4) #1\n",
    "numbers.count(2) #6\n",
    "numbers.count(1) #8\n",
    "numbers_dot.count(0) #9\n",
    "len(numbers) #15\n",
    "len(numbers_dot) #9\n",
    "\n",
    "#all together, 24"
   ]
  },
  {
   "cell_type": "markdown",
   "metadata": {},
   "source": [
    "A permutation cannot fix exactly 3 cards. \n",
    "\n",
    "If 3 cards are in the same position, the last card won't have anywhere else to go.\n",
    "\n",
    "Meaning that the first card would also have to stay in the same position. Meaning that the 4 cards will all stay in the same position."
   ]
  },
  {
   "cell_type": "code",
   "execution_count": 25,
   "metadata": {},
   "outputs": [],
   "source": [
    "from scipy.stats import rv_discrete\n",
    "\n",
    "# list containing the outcomes in the sample space\n",
    "x = [0, 1, 2, 4]\n",
    "\n",
    "# list containing the probabilities for each outcome\n",
    "p = [numbers_dot.count(0)/len(BS), numbers.count(1)/len(BS), numbers.count(2)/len(BS), numbers.count(4)/len(BS)]\n",
    "\n",
    "c = [numbers_dot.count(0),numbers.count(1), numbers.count(2), numbers.count(4)]\n",
    "\n",
    "discvar = rv_discrete(values=(x,p))"
   ]
  },
  {
   "cell_type": "code",
   "execution_count": 26,
   "metadata": {},
   "outputs": [
    {
     "data": {
      "text/html": [
       "<div>\n",
       "<style scoped>\n",
       "    .dataframe tbody tr th:only-of-type {\n",
       "        vertical-align: middle;\n",
       "    }\n",
       "\n",
       "    .dataframe tbody tr th {\n",
       "        vertical-align: top;\n",
       "    }\n",
       "\n",
       "    .dataframe thead th {\n",
       "        text-align: right;\n",
       "    }\n",
       "</style>\n",
       "<table border=\"1\" class=\"dataframe\">\n",
       "  <thead>\n",
       "    <tr style=\"text-align: right;\">\n",
       "      <th></th>\n",
       "      <th>Outcomes</th>\n",
       "    </tr>\n",
       "  </thead>\n",
       "  <tbody>\n",
       "    <tr>\n",
       "      <th>0</th>\n",
       "      <td>4</td>\n",
       "    </tr>\n",
       "    <tr>\n",
       "      <th>1</th>\n",
       "      <td>2</td>\n",
       "    </tr>\n",
       "    <tr>\n",
       "      <th>2</th>\n",
       "      <td>2</td>\n",
       "    </tr>\n",
       "    <tr>\n",
       "      <th>3</th>\n",
       "      <td>1</td>\n",
       "    </tr>\n",
       "    <tr>\n",
       "      <th>4</th>\n",
       "      <td>1</td>\n",
       "    </tr>\n",
       "    <tr>\n",
       "      <th>5</th>\n",
       "      <td>2</td>\n",
       "    </tr>\n",
       "    <tr>\n",
       "      <th>6</th>\n",
       "      <td>2</td>\n",
       "    </tr>\n",
       "    <tr>\n",
       "      <th>7</th>\n",
       "      <td>1</td>\n",
       "    </tr>\n",
       "    <tr>\n",
       "      <th>8</th>\n",
       "      <td>1</td>\n",
       "    </tr>\n",
       "    <tr>\n",
       "      <th>9</th>\n",
       "      <td>1</td>\n",
       "    </tr>\n",
       "    <tr>\n",
       "      <th>10</th>\n",
       "      <td>2</td>\n",
       "    </tr>\n",
       "    <tr>\n",
       "      <th>11</th>\n",
       "      <td>1</td>\n",
       "    </tr>\n",
       "    <tr>\n",
       "      <th>12</th>\n",
       "      <td>1</td>\n",
       "    </tr>\n",
       "    <tr>\n",
       "      <th>13</th>\n",
       "      <td>1</td>\n",
       "    </tr>\n",
       "    <tr>\n",
       "      <th>14</th>\n",
       "      <td>2</td>\n",
       "    </tr>\n",
       "    <tr>\n",
       "      <th>15</th>\n",
       "      <td>0</td>\n",
       "    </tr>\n",
       "    <tr>\n",
       "      <th>16</th>\n",
       "      <td>0</td>\n",
       "    </tr>\n",
       "    <tr>\n",
       "      <th>17</th>\n",
       "      <td>0</td>\n",
       "    </tr>\n",
       "    <tr>\n",
       "      <th>18</th>\n",
       "      <td>0</td>\n",
       "    </tr>\n",
       "    <tr>\n",
       "      <th>19</th>\n",
       "      <td>0</td>\n",
       "    </tr>\n",
       "    <tr>\n",
       "      <th>20</th>\n",
       "      <td>0</td>\n",
       "    </tr>\n",
       "    <tr>\n",
       "      <th>21</th>\n",
       "      <td>0</td>\n",
       "    </tr>\n",
       "    <tr>\n",
       "      <th>22</th>\n",
       "      <td>0</td>\n",
       "    </tr>\n",
       "    <tr>\n",
       "      <th>23</th>\n",
       "      <td>0</td>\n",
       "    </tr>\n",
       "  </tbody>\n",
       "</table>\n",
       "</div>"
      ],
      "text/plain": [
       "    Outcomes\n",
       "0          4\n",
       "1          2\n",
       "2          2\n",
       "3          1\n",
       "4          1\n",
       "5          2\n",
       "6          2\n",
       "7          1\n",
       "8          1\n",
       "9          1\n",
       "10         2\n",
       "11         1\n",
       "12         1\n",
       "13         1\n",
       "14         2\n",
       "15         0\n",
       "16         0\n",
       "17         0\n",
       "18         0\n",
       "19         0\n",
       "20         0\n",
       "21         0\n",
       "22         0\n",
       "23         0"
      ]
     },
     "execution_count": 26,
     "metadata": {},
     "output_type": "execute_result"
    }
   ],
   "source": [
    "import pandas as pd\n",
    "import numpy as np\n",
    "import seaborn as sns\n",
    "import matplotlib.pyplot as plt\n",
    "hist_data = pd.DataFrame(data= {'Outcome' : x, 'Probabilities' : p, 'Count': c})\n",
    "hist_data_2 = pd.DataFrame(data= {'Outcomes': [*numbers, *numbers_dot]})\n",
    "hist_data_2"
   ]
  },
  {
   "cell_type": "code",
   "execution_count": 27,
   "metadata": {},
   "outputs": [
    {
     "data": {
      "text/plain": [
       "<AxesSubplot:xlabel='Outcomes', ylabel='Probability'>"
      ]
     },
     "execution_count": 27,
     "metadata": {},
     "output_type": "execute_result"
    },
    {
     "data": {
      "image/png": "[encoded data removed]",
      "text/plain": [
       "<Figure size 432x288 with 1 Axes>"
      ]
     },
     "metadata": {
      "needs_background": "light"
     },
     "output_type": "display_data"
    }
   ],
   "source": [
    "sns.histplot(data= hist_data_2['Outcomes'], kde= True, stat='probability')"
   ]
  },
  {
   "cell_type": "markdown",
   "metadata": {
    "id": "x2vf-IMSk3xZ"
   },
   "source": [
    "c) Repeat the analysis in part (b) using a simulation. Hints:\n",
    "* Define the subset $S$ using the approach you created in the creativity excersice. Make the corresponding adjustments to the suffling function.\n",
    "* Take sufficient samples (at least 10,000) and observe the number of cards fixed. Record the results.\n",
    "* Compare your results to the theoretical ones from part (b).\n",
    "* Produce an adequate visualization for your results."
   ]
  },
  {
   "cell_type": "code",
   "execution_count": 28,
   "metadata": {},
   "outputs": [],
   "source": [
    "subset_s = Deck()"
   ]
  },
  {
   "cell_type": "code",
   "execution_count": 29,
   "metadata": {},
   "outputs": [
    {
     "data": {
      "text/plain": [
       "[('2', '♥'),\n",
       " ('2', '♦'),\n",
       " ('2', '♣'),\n",
       " ('2', '♠'),\n",
       " ('3', '♥'),\n",
       " ('3', '♦'),\n",
       " ('3', '♣'),\n",
       " ('3', '♠'),\n",
       " ('4', '♥'),\n",
       " ('4', '♦'),\n",
       " ('4', '♣'),\n",
       " ('4', '♠'),\n",
       " ('5', '♥'),\n",
       " ('5', '♦'),\n",
       " ('5', '♣'),\n",
       " ('5', '♠'),\n",
       " ('6', '♥'),\n",
       " ('6', '♦'),\n",
       " ('6', '♣'),\n",
       " ('6', '♠'),\n",
       " ('7', '♥'),\n",
       " ('7', '♦'),\n",
       " ('7', '♣'),\n",
       " ('7', '♠'),\n",
       " ('8', '♥'),\n",
       " ('8', '♦'),\n",
       " ('8', '♣'),\n",
       " ('8', '♠'),\n",
       " ('9', '♥'),\n",
       " ('9', '♦'),\n",
       " ('9', '♣'),\n",
       " ('9', '♠'),\n",
       " ('10', '♥'),\n",
       " ('10', '♦'),\n",
       " ('10', '♣'),\n",
       " ('10', '♠'),\n",
       " ('J', '♥'),\n",
       " ('J', '♦'),\n",
       " ('J', '♣'),\n",
       " ('J', '♠'),\n",
       " ('Q', '♥'),\n",
       " ('Q', '♦'),\n",
       " ('Q', '♣'),\n",
       " ('Q', '♠'),\n",
       " ('K', '♥'),\n",
       " ('K', '♦'),\n",
       " ('K', '♣'),\n",
       " ('K', '♠'),\n",
       " ('A', '♥'),\n",
       " ('A', '♦'),\n",
       " ('A', '♣'),\n",
       " ('A', '♠')]"
      ]
     },
     "execution_count": 29,
     "metadata": {},
     "output_type": "execute_result"
    }
   ],
   "source": [
    "subset_s.hand()"
   ]
  },
  {
   "cell_type": "code",
   "execution_count": 30,
   "metadata": {},
   "outputs": [],
   "source": [
    "subset_s.shuffle()"
   ]
  },
  {
   "cell_type": "code",
   "execution_count": 31,
   "metadata": {},
   "outputs": [
    {
     "data": {
      "text/plain": [
       "[('3', '♥'),\n",
       " ('J', '♥'),\n",
       " ('A', '♥'),\n",
       " ('6', '♦'),\n",
       " ('9', '♠'),\n",
       " ('8', '♦'),\n",
       " ('2', '♦'),\n",
       " ('K', '♥'),\n",
       " ('3', '♠'),\n",
       " ('2', '♣'),\n",
       " ('5', '♥'),\n",
       " ('5', '♠'),\n",
       " ('2', '♥'),\n",
       " ('5', '♦'),\n",
       " ('4', '♦'),\n",
       " ('6', '♣'),\n",
       " ('K', '♣'),\n",
       " ('K', '♠'),\n",
       " ('10', '♦'),\n",
       " ('10', '♠'),\n",
       " ('J', '♠'),\n",
       " ('A', '♠'),\n",
       " ('9', '♣'),\n",
       " ('5', '♣'),\n",
       " ('9', '♥'),\n",
       " ('7', '♦'),\n",
       " ('Q', '♥'),\n",
       " ('8', '♠'),\n",
       " ('10', '♣'),\n",
       " ('7', '♣'),\n",
       " ('6', '♥'),\n",
       " ('9', '♦'),\n",
       " ('7', '♥'),\n",
       " ('3', '♦'),\n",
       " ('4', '♣'),\n",
       " ('K', '♦'),\n",
       " ('10', '♥'),\n",
       " ('Q', '♦'),\n",
       " ('Q', '♠'),\n",
       " ('6', '♠'),\n",
       " ('8', '♥'),\n",
       " ('3', '♣'),\n",
       " ('7', '♠'),\n",
       " ('4', '♠'),\n",
       " ('Q', '♣'),\n",
       " ('A', '♣'),\n",
       " ('2', '♠'),\n",
       " ('J', '♦'),\n",
       " ('8', '♣'),\n",
       " ('J', '♣'),\n",
       " ('4', '♥'),\n",
       " ('A', '♦')]"
      ]
     },
     "execution_count": 31,
     "metadata": {},
     "output_type": "execute_result"
    }
   ],
   "source": [
    "subset_s.show()"
   ]
  },
  {
   "cell_type": "code",
   "execution_count": 32,
   "metadata": {},
   "outputs": [
    {
     "data": {
      "text/plain": [
       "[('6', '♣'), ('7', '♠'), ('5', '♦'), ('Q', '♣')]"
      ]
     },
     "execution_count": 32,
     "metadata": {},
     "output_type": "execute_result"
    }
   ],
   "source": [
    "subset_s.subse(freq= 4)"
   ]
  },
  {
   "cell_type": "code",
   "execution_count": 33,
   "metadata": {},
   "outputs": [
    {
     "data": {
      "text/plain": [
       "[('6', '♣'), ('7', '♠'), ('5', '♦'), ('Q', '♣')]"
      ]
     },
     "execution_count": 33,
     "metadata": {},
     "output_type": "execute_result"
    }
   ],
   "source": [
    "subset_s.show()"
   ]
  },
  {
   "cell_type": "code",
   "execution_count": 34,
   "metadata": {},
   "outputs": [],
   "source": [
    "def simulate_donnie(deck, samples):\n",
    "    deck_original = deck.copy()\n",
    "    count = 0\n",
    "    count_temp = 0\n",
    "    numbers = []\n",
    "    \n",
    "    x = []\n",
    "    p = []\n",
    "    \n",
    "    for i in range(samples):\n",
    "        random.shuffle(deck)\n",
    "        for i in range(0,4):\n",
    "            if deck[i] == deck_original[i]:\n",
    "                count_temp += 1\n",
    "        if count_temp != count:\n",
    "            count += count_temp\n",
    "        else:\n",
    "            numbers.append(0)\n",
    "        numbers.append(count)\n",
    "        count = 0\n",
    "        count_temp = 0\n",
    "        \n",
    "    for i in set(numbers):\n",
    "        x.append(i)\n",
    "        p.append(numbers.count(i)/len(numbers))\n",
    "        \n",
    "    \n",
    "    c = [numbers.count(i) for i in set(numbers)]\n",
    "#     barplot_dataframe = pd.DataFrame(data= {'Outcomes': numbers})\n",
    "    probability_distribution_table = pd.DataFrame(data= {\"x\": x, \"p\": p, \"c\":c})\n",
    "    \n",
    "    print(probability_distribution_table)\n",
    "    \n",
    "    return sns.barplot(data= probability_distribution_table, x='x', y='c', palette=\"Blues_d\")\n"
   ]
  },
  {
   "cell_type": "code",
   "execution_count": 35,
   "metadata": {},
   "outputs": [
    {
     "name": "stdout",
     "output_type": "stream",
     "text": [
      "   x         p     c\n",
      "0  0  0.545772  7506\n",
      "1  1  0.241184  3317\n",
      "2  2  0.180906  2488\n",
      "3  4  0.032138   442\n"
     ]
    },
    {
     "data": {
      "text/plain": [
       "<AxesSubplot:xlabel='x', ylabel='c'>"
      ]
     },
     "execution_count": 35,
     "metadata": {},
     "output_type": "execute_result"
    },
    {
     "data": {
      "image/png": "[encoded data removed]",
      "text/plain": [
       "<Figure size 432x288 with 1 Axes>"
      ]
     },
     "metadata": {
      "needs_background": "light"
     },
     "output_type": "display_data"
    }
   ],
   "source": [
    "simulate_donnie(subset_s.show(), 10000)"
   ]
  },
  {
   "cell_type": "code",
   "execution_count": 44,
   "metadata": {
    "id": "rg3ggvR-uElD"
   },
   "outputs": [
    {
     "name": "stdout",
     "output_type": "stream",
     "text": [
      "   Outcome  Probabilities  Count\n",
      "0        0       0.375000      9\n",
      "1        1       0.333333      8\n",
      "2        2       0.250000      6\n",
      "3        4       0.041667      1\n"
     ]
    }
   ],
   "source": [
    "#comparing with part (b)\n",
    "\n",
    "print(hist_data)"
   ]
  },
  {
   "cell_type": "markdown",
   "metadata": {
    "id": "1MxHzRTmuIQr"
   },
   "source": [
    "## Problem 2\n",
    "Prove (using formal mathematics) that $P(T|D)=1-P(\\overline{T}|D)$ for events $T$ and $D.$"
   ]
  },
  {
   "cell_type": "markdown",
   "metadata": {
    "id": "8M40NKDw0XLN"
   },
   "source": [
    "*Proof*. Your proof goes here. $\\square$"
   ]
  },
  {
   "cell_type": "code",
   "execution_count": 37,
   "metadata": {},
   "outputs": [],
   "source": [
    "# t is a list of odd numbers 1-50\n",
    "# d is a list of multiples of 3 1-50\n",
    "odd = [i for i in range(1, 51, 2)]\n",
    "mul_3 = [x for x in range(3, 50, 3)]\n",
    "total = len(odd) + len(mul_3)"
   ]
  },
  {
   "cell_type": "markdown",
   "metadata": {},
   "source": [
    "$LHS = P(T|D) = \\frac{P(T \\cap D)}{P(D)}$"
   ]
  },
  {
   "cell_type": "markdown",
   "metadata": {},
   "source": [
    "Given that the number is a multiple of 3, what is the probability of it being an odd number ^^"
   ]
  },
  {
   "cell_type": "code",
   "execution_count": 38,
   "metadata": {},
   "outputs": [],
   "source": [
    "t_cap_d = [x for x in odd if x in mul_3] #find the intersection"
   ]
  },
  {
   "cell_type": "code",
   "execution_count": 39,
   "metadata": {},
   "outputs": [
    {
     "data": {
      "text/plain": [
       "0.50"
      ]
     },
     "execution_count": 39,
     "metadata": {},
     "output_type": "execute_result"
    }
   ],
   "source": [
    "# P(T|D)\n",
    "# divide the intersection by the total of D (multiples of 3)\n",
    "t_given_d = ((len(t_cap_d))/total)/((len(mul_3))/total)\n",
    "t_given_d"
   ]
  },
  {
   "cell_type": "markdown",
   "metadata": {},
   "source": [
    "$RHS = 1 - P(\\overline{T}|D) $"
   ]
  },
  {
   "cell_type": "markdown",
   "metadata": {},
   "source": [
    "$P(\\overline{T}|D) = \\frac{P(\\overline{T} \\cap D)}{P(D)}$"
   ]
  },
  {
   "cell_type": "markdown",
   "metadata": {},
   "source": [
    "Given that the number is a multiple of 3, what is the probability that they are not an odd number (even)"
   ]
  },
  {
   "cell_type": "code",
   "execution_count": 40,
   "metadata": {},
   "outputs": [],
   "source": [
    "t_bar = [i for i in mul_3 if i%2 == 0] # find numbers that are not odd"
   ]
  },
  {
   "cell_type": "code",
   "execution_count": 41,
   "metadata": {},
   "outputs": [],
   "source": [
    "tbar_cap_d = [x for x in t_bar if x in mul_3] # find intersection with numbers that are multiples of 3"
   ]
  },
  {
   "cell_type": "code",
   "execution_count": 42,
   "metadata": {},
   "outputs": [],
   "source": [
    "# P(T'|D)\n",
    "tbar_given_d = ((len(tbar_cap_d))/total)/((len(mul_3))/total)"
   ]
  },
  {
   "cell_type": "code",
   "execution_count": 43,
   "metadata": {},
   "outputs": [
    {
     "data": {
      "text/plain": [
       "0.50"
      ]
     },
     "execution_count": 43,
     "metadata": {},
     "output_type": "execute_result"
    }
   ],
   "source": [
    "1 - tbar_given_d"
   ]
  },
  {
   "cell_type": "markdown",
   "metadata": {},
   "source": [
    "$P(T|D) = 0.5$\n",
    "\n",
    "$1-P(\\overline{T}|D) = 0.5$\n",
    "\n",
    "$\\therefore$\n",
    "LHS = RHS\n",
    "They are equal,\n",
    "Q.E.D."
   ]
  },
  {
   "cell_type": "code",
   "execution_count": null,
   "metadata": {},
   "outputs": [],
   "source": []
  }
 ],
 "metadata": {
  "colab": {
   "collapsed_sections": [],
   "name": "CSC104MiniProject2.ipynb",
   "provenance": [],
   "toc_visible": true
  },
  "kernelspec": {
   "display_name": "Python 3",
   "language": "python",
   "name": "python3"
  },
  "language_info": {
   "codemirror_mode": {
    "name": "ipython",
    "version": 3
   },
   "file_extension": ".py",
   "mimetype": "text/x-python",
   "name": "python",
   "nbconvert_exporter": "python",
   "pygments_lexer": "ipython3",
   "version": "3.8.5"
  }
 },
 "nbformat": 4,
 "nbformat_minor": 1
}

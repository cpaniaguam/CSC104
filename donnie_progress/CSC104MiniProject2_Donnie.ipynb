{
 "cells": [
  {
   "cell_type": "markdown",
   "metadata": {
    "id": "qhwRsFkfk3xF"
   },
   "source": [
    "# Solving probability problems using simulation and randomization\n",
    "\n",
    "Question: If you randomly select a card from a well-shuffled standard 52-card deck, what is the probability that the card you select is a club (♣) or a **7**?\n",
    "\n",
    "Of course we can easily solve this problem using probability theory for the random process of choosing a card from a 52-card deck. Let $C$ be the event of drawing a club (♣) and $S$ the event of drawing a **7**. There are 13 clubs, so the number of outcomes $|C|$ in $C$ is 13: $|C|=13.$ There are four **7**'s, thus the number of outcomes in $S$, $|S|$ is 4: $|S|=4.$ There is also a club that is a 7, the **7** of clubs (**7♣**), so $|C\\cap S|=1.$ The (theoretical) probability of the event $C \\cup S$ is given by the *addition rule:* $P(C \\cup S) = P(C) + P(S) - P(C \\cap S) = \\frac{13}{52}+\\frac{4}{52}-\\frac{1}{52}=\\frac{16}{52}=\\frac{4}{13}\\approx 0.31$\n"
   ]
  },
  {
   "cell_type": "code",
   "execution_count": 1,
   "metadata": {
    "colab": {
     "base_uri": "https://localhost:8080/"
    },
    "id": "_Pnr5uPwk3xK",
    "outputId": "8b190010-a428-4f01-a74c-394376b32e98"
   },
   "outputs": [
    {
     "data": {
      "text/plain": [
       "0.31"
      ]
     },
     "execution_count": 1,
     "metadata": {},
     "output_type": "execute_result"
    }
   ],
   "source": [
    "%precision 2 \n",
    "13/52 + 4/52 - 1/52\n",
    "# About line 1: This is an python 'magic' function. Read more about these here: \n",
    "# https://ipython.readthedocs.io/en/stable/interactive/magics.html"
   ]
  },
  {
   "cell_type": "markdown",
   "metadata": {
    "id": "aTQpFO-Ak3xM"
   },
   "source": [
    "Thus about 31% of the time we will observe a club or a **7**.\n",
    "\n",
    "We could also have approached the problem empirically by shuffling a real deck of cards and drawing one card at random and observing how many times we observe a **7** or a club after replicating the experiment a large number of times. Of course, actually doing this would take more time that we would like to invest. Instead, we run a *simulation* using the computer."
   ]
  },
  {
   "cell_type": "code",
   "execution_count": 2,
   "metadata": {
    "colab": {
     "base_uri": "https://localhost:8080/"
    },
    "id": "rDBGGRMLk3xN",
    "outputId": "45ed7b39-65e5-4bde-9ef0-5568424b8c13",
    "scrolled": true
   },
   "outputs": [
    {
     "data": {
      "text/plain": [
       "[('2', '♥'),\n",
       " ('2', '♦'),\n",
       " ('2', '♣'),\n",
       " ('2', '♠'),\n",
       " ('3', '♥'),\n",
       " ('3', '♦'),\n",
       " ('3', '♣'),\n",
       " ('3', '♠'),\n",
       " ('4', '♥'),\n",
       " ('4', '♦'),\n",
       " ('4', '♣'),\n",
       " ('4', '♠'),\n",
       " ('5', '♥'),\n",
       " ('5', '♦'),\n",
       " ('5', '♣'),\n",
       " ('5', '♠'),\n",
       " ('6', '♥'),\n",
       " ('6', '♦'),\n",
       " ('6', '♣'),\n",
       " ('6', '♠'),\n",
       " ('7', '♥'),\n",
       " ('7', '♦'),\n",
       " ('7', '♣'),\n",
       " ('7', '♠'),\n",
       " ('8', '♥'),\n",
       " ('8', '♦'),\n",
       " ('8', '♣'),\n",
       " ('8', '♠'),\n",
       " ('9', '♥'),\n",
       " ('9', '♦'),\n",
       " ('9', '♣'),\n",
       " ('9', '♠'),\n",
       " ('10', '♥'),\n",
       " ('10', '♦'),\n",
       " ('10', '♣'),\n",
       " ('10', '♠'),\n",
       " ('J', '♥'),\n",
       " ('J', '♦'),\n",
       " ('J', '♣'),\n",
       " ('J', '♠'),\n",
       " ('Q', '♥'),\n",
       " ('Q', '♦'),\n",
       " ('Q', '♣'),\n",
       " ('Q', '♠'),\n",
       " ('K', '♥'),\n",
       " ('K', '♦'),\n",
       " ('K', '♣'),\n",
       " ('K', '♠'),\n",
       " ('A', '♥'),\n",
       " ('A', '♦'),\n",
       " ('A', '♣'),\n",
       " ('A', '♠')]"
      ]
     },
     "execution_count": 2,
     "metadata": {},
     "output_type": "execute_result"
    }
   ],
   "source": [
    "# Let us build a deck to draw cards from\n",
    "import numpy as np\n",
    "rank=np.array([2,3,4,5,6,7,8,9,10,'J','Q','K','A'])\n",
    "suits= list('♥♦♣♠')\n",
    "deck=[(i,j) for i in rank for j in suits]\n",
    "deck"
   ]
  },
  {
   "cell_type": "code",
   "execution_count": 3,
   "metadata": {
    "colab": {
     "base_uri": "https://localhost:8080/"
    },
    "id": "ufyu8wU5k3xO",
    "outputId": "96914e16-a9be-46b2-c3c3-aea8368f7ea5",
    "scrolled": true
   },
   "outputs": [
    {
     "data": {
      "text/plain": [
       "[('Q', '♥'),\n",
       " ('10', '♣'),\n",
       " ('5', '♠'),\n",
       " ('7', '♠'),\n",
       " ('2', '♦'),\n",
       " ('K', '♣'),\n",
       " ('4', '♣'),\n",
       " ('K', '♦'),\n",
       " ('7', '♣'),\n",
       " ('4', '♦'),\n",
       " ('10', '♥'),\n",
       " ('Q', '♦'),\n",
       " ('8', '♣'),\n",
       " ('5', '♥'),\n",
       " ('4', '♥'),\n",
       " ('K', '♠'),\n",
       " ('8', '♠'),\n",
       " ('9', '♦'),\n",
       " ('8', '♥'),\n",
       " ('3', '♣'),\n",
       " ('2', '♠'),\n",
       " ('J', '♥'),\n",
       " ('K', '♥'),\n",
       " ('J', '♣'),\n",
       " ('8', '♦'),\n",
       " ('Q', '♣'),\n",
       " ('2', '♣'),\n",
       " ('5', '♣'),\n",
       " ('7', '♥'),\n",
       " ('3', '♦'),\n",
       " ('A', '♦'),\n",
       " ('J', '♠'),\n",
       " ('4', '♠'),\n",
       " ('10', '♦'),\n",
       " ('9', '♥'),\n",
       " ('3', '♥'),\n",
       " ('A', '♣'),\n",
       " ('2', '♥'),\n",
       " ('10', '♠'),\n",
       " ('6', '♣'),\n",
       " ('6', '♥'),\n",
       " ('7', '♦'),\n",
       " ('9', '♣'),\n",
       " ('A', '♠'),\n",
       " ('5', '♦'),\n",
       " ('9', '♠'),\n",
       " ('6', '♠'),\n",
       " ('J', '♦'),\n",
       " ('Q', '♠'),\n",
       " ('3', '♠'),\n",
       " ('A', '♥'),\n",
       " ('6', '♦')]"
      ]
     },
     "execution_count": 3,
     "metadata": {},
     "output_type": "execute_result"
    }
   ],
   "source": [
    "# As you can see we have created a deck using tuples. Note that the first \n",
    "# component (the 'rank' of the card) of the tuples is a string.\n",
    "# We could suffle the deck in a number of ways. Here is one:\n",
    "# First generate a permutation of the integers 0-51\n",
    "perm = np.random.permutation(52)\n",
    "\n",
    "# Using python's zip function we can now pair each card with a unique member of \n",
    "# perm.\n",
    "def shuffle(deck: 'the deck'):\n",
    "    deck_shuffled=zip(deck,list(np.random.permutation(52)))\n",
    "    deck_shuffled=[i[0] for i in sorted(list(deck_shuffled), \n",
    "                                        key = lambda i:i[-1] )] \n",
    "                                        # What is the construct that I am using here? \n",
    "    return deck_shuffled\n",
    "\n",
    "shuffle(deck)"
   ]
  },
  {
   "cell_type": "code",
   "execution_count": 4,
   "metadata": {},
   "outputs": [],
   "source": [
    "#construct used was the asecnding value of the digit generated by np.permutation(0, 1, 2, 3.... etc)"
   ]
  },
  {
   "cell_type": "markdown",
   "metadata": {
    "id": "oEEpOzrIk3xP"
   },
   "source": [
    "## Creativity Excercise\n",
    "Come up with your own way (data structure) of producing a virtual deck of cards and a way (function) for shuffling the deck using code. Hint: Consider creating a [`class`](https://runestone.academy/runestone/books/published/fopp/Classes/toctree.html) for the cards. Also, consider looking at the [`numpy.random` library](https://numpy.org/doc/stable/reference/random/index.html?highlight=random#module-numpy.random) or the [`random` module in Python](https://docs.python.org/3/library/random.html).  (Avoid looking up a full solution on the internet.)"
   ]
  },
  {
   "cell_type": "code",
   "execution_count": 5,
   "metadata": {},
   "outputs": [],
   "source": [
    "import random"
   ]
  },
  {
   "cell_type": "code",
   "execution_count": 6,
   "metadata": {
    "id": "V7eTbKtqk3xQ",
    "scrolled": true
   },
   "outputs": [],
   "source": [
    "class Deck:\n",
    "    def __init__(self):\n",
    "        self.cards = []\n",
    "    \n",
    "    def hand(self):\n",
    "        rank=np.array([2,3,4,5,6,7,8,9,10,'J','Q','K','A'])\n",
    "        suits= list('♥♦♣♠')\n",
    "        for i in rank:\n",
    "            for j in suits:\n",
    "                self.cards.append((i,j))\n",
    "        return self.cards\n",
    "\n",
    "    def shuffle(self):\n",
    "        random.shuffle(self.cards)\n",
    "\n",
    "    def show(self):\n",
    "        return self.cards\n",
    "    \n",
    "    def __str__(self):\n",
    "        return 'Your deck: \\n {}'.format(self.cards)"
   ]
  },
  {
   "cell_type": "markdown",
   "metadata": {
    "id": "j8HFarOEk3xR"
   },
   "source": [
    "With a shuffled deck we can draw a card and record whether we observe a **7** or a club."
   ]
  },
  {
   "cell_type": "code",
   "execution_count": 7,
   "metadata": {
    "colab": {
     "base_uri": "https://localhost:8080/"
    },
    "id": "5VGHjW3qk3xS",
    "outputId": "c135e203-6e0c-4b64-dd05-1307abcbc303"
   },
   "outputs": [
    {
     "data": {
      "text/plain": [
       "('2', '♣')"
      ]
     },
     "execution_count": 7,
     "metadata": {},
     "output_type": "execute_result"
    }
   ],
   "source": [
    "rank, suit = shuffle(deck)[0]\n",
    "(rank,suit)"
   ]
  },
  {
   "cell_type": "code",
   "execution_count": 8,
   "metadata": {
    "id": "--NLa1sZk3xT"
   },
   "outputs": [],
   "source": [
    "def simulate(deck,reps,target):\n",
    "    '''Randomly draw a card from deck reps times and record how many times\n",
    "    the target card occurred. Then report its probability.'''\n",
    "    count=0\n",
    "    outcomes=[] # Optional: for looking at the outcomes for small reps, 500 say\n",
    "    for i in np.random.randint(0,52,size=reps):\n",
    "        flag = False\n",
    "        rank, suit = deck[i]\n",
    "        if rank == target[0] or suit == target[1]:\n",
    "            count += 1\n",
    "            flag = True\n",
    "        # visualize outcomes for small reps    \n",
    "        if reps < 500:\n",
    "            outcomes.append(\"\".join([rank,suit,'*'])) if flag else outcomes.append(\"\".join([rank,suit]))\n",
    "    if reps < 500: print(\" \".join(outcomes))\n",
    "    print('successes:', count)\n",
    "    print('trials:', reps)\n",
    "    print('Observed probability of',target[0],'or',target[1],f'is {count/reps:.2f}')\n",
    "    return count/reps        "
   ]
  },
  {
   "cell_type": "code",
   "execution_count": 9,
   "metadata": {
    "colab": {
     "base_uri": "https://localhost:8080/"
    },
    "id": "khZedL0bk3xU",
    "outputId": "d7e3b615-0118-4ca5-dcd5-9b395de7fba2"
   },
   "outputs": [
    {
     "name": "stdout",
     "output_type": "stream",
     "text": [
      "3♣* J♠ 5♠ A♦ J♥ 3♥ Q♣* A♥ 3♦ 2♦\n",
      "successes: 2\n",
      "trials: 10\n",
      "Observed probability of 7 or ♣ is 0.20\n"
     ]
    },
    {
     "data": {
      "text/plain": [
       "0.20"
      ]
     },
     "execution_count": 9,
     "metadata": {},
     "output_type": "execute_result"
    }
   ],
   "source": [
    "# Repeat 10 times: We sample (at random) from the deck and note whether a 7 or \n",
    "# ♣ occured. These are the 'successes'.\n",
    "simulate(deck,10,('7','♣'))"
   ]
  },
  {
   "cell_type": "code",
   "execution_count": 10,
   "metadata": {
    "colab": {
     "base_uri": "https://localhost:8080/"
    },
    "id": "DGXjEq-Rk3xV",
    "outputId": "5cbfc228-a940-4104-d578-510f0dc2be53"
   },
   "outputs": [
    {
     "name": "stdout",
     "output_type": "stream",
     "text": [
      "4♥ A♣* A♦ 9♦ 4♥ 3♣* 10♣* 4♠ 2♦ Q♦ 5♣* A♠ 4♠ 3♣* 7♥* 3♥ 7♥* K♦ 2♥ A♥ 8♣* A♦ 6♣* 4♥ 9♠ 7♠* 2♠ 8♠ K♦ J♠ K♠ 2♣* 10♣* 4♦ 5♣* 9♦ 10♥ 3♣* 5♣* 7♣* A♦ 4♦ 7♦* 9♥ 9♥ J♣* 7♦* 4♠ 6♥\n",
      "successes: 19\n",
      "trials: 49\n",
      "Observed probability of 7 or ♣ is 0.39\n"
     ]
    },
    {
     "data": {
      "text/plain": [
       "0.39"
      ]
     },
     "execution_count": 10,
     "metadata": {},
     "output_type": "execute_result"
    }
   ],
   "source": [
    "# Repeat 49 times\n",
    "simulate(deck,49,('7','♣'))"
   ]
  },
  {
   "cell_type": "code",
   "execution_count": 11,
   "metadata": {
    "colab": {
     "base_uri": "https://localhost:8080/"
    },
    "id": "2P4zbnqSk3xW",
    "outputId": "4b312fd4-6db5-409f-f377-43ea31f57d35",
    "scrolled": true
   },
   "outputs": [
    {
     "name": "stdout",
     "output_type": "stream",
     "text": [
      "successes: 3139\n",
      "trials: 10000\n",
      "Observed probability of 7 or ♣ is 0.31\n",
      "\n",
      "successes: 3015\n",
      "trials: 10000\n",
      "Observed probability of 7 or ♣ is 0.30\n",
      "\n",
      "successes: 3111\n",
      "trials: 10000\n",
      "Observed probability of 7 or ♣ is 0.31\n",
      "\n",
      "successes: 3137\n",
      "trials: 10000\n",
      "Observed probability of 7 or ♣ is 0.31\n",
      "\n",
      "successes: 3075\n",
      "trials: 10000\n",
      "Observed probability of 7 or ♣ is 0.31\n",
      "\n",
      "successes: 3059\n",
      "trials: 10000\n",
      "Observed probability of 7 or ♣ is 0.31\n",
      "\n",
      "successes: 3117\n",
      "trials: 10000\n",
      "Observed probability of 7 or ♣ is 0.31\n",
      "\n",
      "successes: 3109\n",
      "trials: 10000\n",
      "Observed probability of 7 or ♣ is 0.31\n",
      "\n",
      "successes: 3030\n",
      "trials: 10000\n",
      "Observed probability of 7 or ♣ is 0.30\n",
      "\n",
      "successes: 3070\n",
      "trials: 10000\n",
      "Observed probability of 7 or ♣ is 0.31\n",
      "\n"
     ]
    }
   ],
   "source": [
    "# Sample 10000 times; repeat 10 times\n",
    "for i in range(10):\n",
    "    simulate(deck,10000,('7','♣'))\n",
    "    print('')"
   ]
  },
  {
   "cell_type": "markdown",
   "metadata": {
    "id": "0E2mNtcMk3xW"
   },
   "source": [
    "## Problem 1: Probability distribution\n",
    "Using our virtual deck from above, consider the random process of shuffling the ordered subset $S=${` ('J', '♠')`, `('Q', '♠')`, `('K', '♠')`, `('A', '♠')`}. \n",
    "<figure>\n",
    "<center>\n",
    "<img src='https://drive.google.com/uc?id=1EfI46auM298nnajTA0cWZp0QnRqB9m4e'/>\n",
    "<figcaption>Figure 1. The subset $S$ and its reference ordering.</figcaption></center>\n",
    "</figure>\n",
    "\n",
    "Let $\\mathfrak{P}(S)$ be the set of all permutations of the elements of $S.$\n",
    "\n",
    "Now choose a permutation of $S$ from $\\mathfrak{P}(S)$, and observe the number of cards fixed by the permutation. Denote the set of all these possible results by $F.$\n",
    "\n",
    "\n",
    "\n"
   ]
  },
  {
   "cell_type": "markdown",
   "metadata": {
    "id": "IuKyHLs7k3xX"
   },
   "source": [
    "a) How many permutations are there in $\\mathfrak{P}(S)?$\n",
    "* Obtain this result using a counting technique and with code by producing a listing of all permutations in $\\mathfrak{P}(S).$\n",
    "    \n",
    "\n"
   ]
  },
  {
   "cell_type": "code",
   "execution_count": 12,
   "metadata": {
    "id": "Dafx-9v2k3xY"
   },
   "outputs": [
    {
     "name": "stdout",
     "output_type": "stream",
     "text": [
      "[(('J', '♠'), ('Q', '♠'), ('K', '♠'), ('A', '♠')), (('J', '♠'), ('Q', '♠'), ('A', '♠'), ('K', '♠')), (('J', '♠'), ('K', '♠'), ('Q', '♠'), ('A', '♠')), (('J', '♠'), ('K', '♠'), ('A', '♠'), ('Q', '♠')), (('J', '♠'), ('A', '♠'), ('Q', '♠'), ('K', '♠')), (('J', '♠'), ('A', '♠'), ('K', '♠'), ('Q', '♠')), (('Q', '♠'), ('J', '♠'), ('K', '♠'), ('A', '♠')), (('Q', '♠'), ('J', '♠'), ('A', '♠'), ('K', '♠')), (('Q', '♠'), ('K', '♠'), ('J', '♠'), ('A', '♠')), (('Q', '♠'), ('K', '♠'), ('A', '♠'), ('J', '♠')), (('Q', '♠'), ('A', '♠'), ('J', '♠'), ('K', '♠')), (('Q', '♠'), ('A', '♠'), ('K', '♠'), ('J', '♠')), (('K', '♠'), ('J', '♠'), ('Q', '♠'), ('A', '♠')), (('K', '♠'), ('J', '♠'), ('A', '♠'), ('Q', '♠')), (('K', '♠'), ('Q', '♠'), ('J', '♠'), ('A', '♠')), (('K', '♠'), ('Q', '♠'), ('A', '♠'), ('J', '♠')), (('K', '♠'), ('A', '♠'), ('J', '♠'), ('Q', '♠')), (('K', '♠'), ('A', '♠'), ('Q', '♠'), ('J', '♠')), (('A', '♠'), ('J', '♠'), ('Q', '♠'), ('K', '♠')), (('A', '♠'), ('J', '♠'), ('K', '♠'), ('Q', '♠')), (('A', '♠'), ('Q', '♠'), ('J', '♠'), ('K', '♠')), (('A', '♠'), ('Q', '♠'), ('K', '♠'), ('J', '♠')), (('A', '♠'), ('K', '♠'), ('J', '♠'), ('Q', '♠')), (('A', '♠'), ('K', '♠'), ('Q', '♠'), ('J', '♠'))] \n",
      " 24\n"
     ]
    }
   ],
   "source": [
    "import itertools\n",
    "BS = list(itertools.permutations([('J', '♠'), ('Q', '♠'), ('K', '♠'), ('A', '♠')]))\n",
    "print(BS,'\\n' ,len(BS))"
   ]
  },
  {
   "cell_type": "markdown",
   "metadata": {
    "id": "eAjEydbsk3xZ"
   },
   "source": [
    "b) Again using code, tabulate the number of cards fixed for each permutation of $S.$\n",
    "* Explicitly list the elements of $F.$ How many unique results do you observe? This is the size of $F.$\n",
    "* Can a permutation fix exactly three cards? Explain.\n",
    "* Produce a relative frequency distribution for these data and produce a histogram. This is called a *probability distribution* for the *random variable* that counts the number of cards fixed by a permutation of the set $S.$"
   ]
  },
  {
   "cell_type": "code",
   "execution_count": 13,
   "metadata": {
    "id": "1Sml-zZ-t3pY"
   },
   "outputs": [],
   "source": [
    "S = [('J', '♠'), ('Q', '♠'), ('K', '♠'), ('A', '♠')]\n",
    "F = []"
   ]
  },
  {
   "cell_type": "code",
   "execution_count": 14,
   "metadata": {},
   "outputs": [],
   "source": [
    "for perm in BS:\n",
    "    for card in range(0,4):\n",
    "        if perm[card] == S[card]:\n",
    "            F.append(perm)\n",
    "            break"
   ]
  },
  {
   "cell_type": "code",
   "execution_count": 15,
   "metadata": {},
   "outputs": [
    {
     "data": {
      "text/plain": [
       "[(('J', '♠'), ('Q', '♠'), ('K', '♠'), ('A', '♠')),\n",
       " (('J', '♠'), ('Q', '♠'), ('A', '♠'), ('K', '♠')),\n",
       " (('J', '♠'), ('K', '♠'), ('Q', '♠'), ('A', '♠')),\n",
       " (('J', '♠'), ('K', '♠'), ('A', '♠'), ('Q', '♠')),\n",
       " (('J', '♠'), ('A', '♠'), ('Q', '♠'), ('K', '♠')),\n",
       " (('J', '♠'), ('A', '♠'), ('K', '♠'), ('Q', '♠')),\n",
       " (('Q', '♠'), ('J', '♠'), ('K', '♠'), ('A', '♠')),\n",
       " (('Q', '♠'), ('K', '♠'), ('J', '♠'), ('A', '♠')),\n",
       " (('Q', '♠'), ('A', '♠'), ('K', '♠'), ('J', '♠')),\n",
       " (('K', '♠'), ('J', '♠'), ('Q', '♠'), ('A', '♠')),\n",
       " (('K', '♠'), ('Q', '♠'), ('J', '♠'), ('A', '♠')),\n",
       " (('K', '♠'), ('Q', '♠'), ('A', '♠'), ('J', '♠')),\n",
       " (('A', '♠'), ('J', '♠'), ('K', '♠'), ('Q', '♠')),\n",
       " (('A', '♠'), ('Q', '♠'), ('J', '♠'), ('K', '♠')),\n",
       " (('A', '♠'), ('Q', '♠'), ('K', '♠'), ('J', '♠'))]"
      ]
     },
     "execution_count": 15,
     "metadata": {},
     "output_type": "execute_result"
    }
   ],
   "source": [
    "F"
   ]
  },
  {
   "cell_type": "code",
   "execution_count": 16,
   "metadata": {},
   "outputs": [],
   "source": [
    "numbers = []"
   ]
  },
  {
   "cell_type": "code",
   "execution_count": 17,
   "metadata": {},
   "outputs": [],
   "source": [
    "count = 0\n",
    "for row in F:\n",
    "    for i in range(0,4):\n",
    "        if row[i] == S[i]:\n",
    "            count += 1\n",
    "    numbers.append(count)\n",
    "    count = 0"
   ]
  },
  {
   "cell_type": "code",
   "execution_count": 18,
   "metadata": {},
   "outputs": [
    {
     "name": "stdout",
     "output_type": "stream",
     "text": [
      "1\n",
      "2\n",
      "4\n"
     ]
    }
   ],
   "source": [
    "for i in set(numbers):\n",
    "    print(i)"
   ]
  },
  {
   "cell_type": "code",
   "execution_count": 19,
   "metadata": {},
   "outputs": [],
   "source": [
    "unique_F = dict(zip(F, numbers))"
   ]
  },
  {
   "cell_type": "code",
   "execution_count": 20,
   "metadata": {},
   "outputs": [
    {
     "data": {
      "text/plain": [
       "{(('J', '♠'), ('Q', '♠'), ('K', '♠'), ('A', '♠')): 4,\n",
       " (('J', '♠'), ('Q', '♠'), ('A', '♠'), ('K', '♠')): 2,\n",
       " (('J', '♠'), ('K', '♠'), ('Q', '♠'), ('A', '♠')): 2,\n",
       " (('J', '♠'), ('K', '♠'), ('A', '♠'), ('Q', '♠')): 1,\n",
       " (('J', '♠'), ('A', '♠'), ('Q', '♠'), ('K', '♠')): 1,\n",
       " (('J', '♠'), ('A', '♠'), ('K', '♠'), ('Q', '♠')): 2,\n",
       " (('Q', '♠'), ('J', '♠'), ('K', '♠'), ('A', '♠')): 2,\n",
       " (('Q', '♠'), ('K', '♠'), ('J', '♠'), ('A', '♠')): 1,\n",
       " (('Q', '♠'), ('A', '♠'), ('K', '♠'), ('J', '♠')): 1,\n",
       " (('K', '♠'), ('J', '♠'), ('Q', '♠'), ('A', '♠')): 1,\n",
       " (('K', '♠'), ('Q', '♠'), ('J', '♠'), ('A', '♠')): 2,\n",
       " (('K', '♠'), ('Q', '♠'), ('A', '♠'), ('J', '♠')): 1,\n",
       " (('A', '♠'), ('J', '♠'), ('K', '♠'), ('Q', '♠')): 1,\n",
       " (('A', '♠'), ('Q', '♠'), ('J', '♠'), ('K', '♠')): 1,\n",
       " (('A', '♠'), ('Q', '♠'), ('K', '♠'), ('J', '♠')): 2}"
      ]
     },
     "execution_count": 20,
     "metadata": {},
     "output_type": "execute_result"
    }
   ],
   "source": [
    "unique_F"
   ]
  },
  {
   "cell_type": "markdown",
   "metadata": {},
   "source": [
    "A permutation cannot fix exactly 3 cards. \n",
    "\n",
    "If 3 cards are in the same position, the last card won't have anywhere else to go.\n",
    "\n",
    "Meaning that the first card would also have to stay in the same position. Meaning that the 4 cards will all stay in the same position."
   ]
  },
  {
   "cell_type": "code",
   "execution_count": 21,
   "metadata": {},
   "outputs": [
    {
     "data": {
      "text/plain": [
       "15"
      ]
     },
     "execution_count": 21,
     "metadata": {},
     "output_type": "execute_result"
    }
   ],
   "source": [
    "numbers.count(4) #1\n",
    "numbers.count(2) #6\n",
    "numbers.count(1) #8\n",
    "len(numbers) #15"
   ]
  },
  {
   "cell_type": "code",
   "execution_count": 22,
   "metadata": {},
   "outputs": [],
   "source": [
    "from scipy.stats import rv_discrete\n",
    "\n",
    "# list containing the outcomes in the sample space\n",
    "x = [1, 2, 4]\n",
    "\n",
    "# list containing the probabilities for each outcome\n",
    "p = [numbers.count(1)/len(numbers), numbers.count(2)/len(numbers), numbers.count(4)/len(numbers)]\n",
    "\n",
    "discvar = rv_discrete(values=(x,p))"
   ]
  },
  {
   "cell_type": "code",
   "execution_count": 23,
   "metadata": {},
   "outputs": [
    {
     "data": {
      "text/html": [
       "<div>\n",
       "<style scoped>\n",
       "    .dataframe tbody tr th:only-of-type {\n",
       "        vertical-align: middle;\n",
       "    }\n",
       "\n",
       "    .dataframe tbody tr th {\n",
       "        vertical-align: top;\n",
       "    }\n",
       "\n",
       "    .dataframe thead th {\n",
       "        text-align: right;\n",
       "    }\n",
       "</style>\n",
       "<table border=\"1\" class=\"dataframe\">\n",
       "  <thead>\n",
       "    <tr style=\"text-align: right;\">\n",
       "      <th></th>\n",
       "      <th>Outcome</th>\n",
       "      <th>Probabilities</th>\n",
       "    </tr>\n",
       "  </thead>\n",
       "  <tbody>\n",
       "    <tr>\n",
       "      <th>0</th>\n",
       "      <td>1</td>\n",
       "      <td>0.533333</td>\n",
       "    </tr>\n",
       "    <tr>\n",
       "      <th>1</th>\n",
       "      <td>2</td>\n",
       "      <td>0.400000</td>\n",
       "    </tr>\n",
       "    <tr>\n",
       "      <th>2</th>\n",
       "      <td>4</td>\n",
       "      <td>0.066667</td>\n",
       "    </tr>\n",
       "  </tbody>\n",
       "</table>\n",
       "</div>"
      ],
      "text/plain": [
       "   Outcome  Probabilities\n",
       "0        1       0.533333\n",
       "1        2       0.400000\n",
       "2        4       0.066667"
      ]
     },
     "execution_count": 23,
     "metadata": {},
     "output_type": "execute_result"
    }
   ],
   "source": [
    "import pandas as pd\n",
    "import numpy as np\n",
    "import seaborn as sns\n",
    "import matplotlib.pyplot as plt\n",
    "hist_data = pd.DataFrame(data= {'Outcome' : x, 'Probabilities' : p})\n",
    "hist_data"
   ]
  },
  {
   "cell_type": "code",
   "execution_count": 24,
   "metadata": {},
   "outputs": [
    {
     "data": {
      "text/plain": [
       "<AxesSubplot:xlabel='Probabilities', ylabel='Count'>"
      ]
     },
     "execution_count": 24,
     "metadata": {},
     "output_type": "execute_result"
    },
    {
     "data": {
      "image/png": "[encoded data removed]",
      "text/plain": [
       "<Figure size 432x288 with 1 Axes>"
      ]
     },
     "metadata": {
      "needs_background": "light"
     },
     "output_type": "display_data"
    }
   ],
   "source": [
    "sns.histplot(data= hist_data['Probabilities'])"
   ]
  },
  {
   "cell_type": "markdown",
   "metadata": {
    "id": "x2vf-IMSk3xZ"
   },
   "source": [
    "c) Repeat the analysis in part (b) using a simulation. Hints:\n",
    "* Define the subset $S$ using the approach you created in the creativity excersice. Make the corresponding adjustments to the suffling function.\n",
    "* Take sufficient samples (at least 10,000) and observe the number of cards fixed. Record the results.\n",
    "* Compare your results to the theoretical ones from part (b).\n",
    "* Produce an adequate visualization for your results."
   ]
  },
  {
   "cell_type": "code",
   "execution_count": 25,
   "metadata": {
    "id": "rg3ggvR-uElD"
   },
   "outputs": [],
   "source": [
    "class Deck2:\n",
    "    def __init__(self):\n",
    "        self.cards = []\n",
    "        self.subset = []\n",
    "    \n",
    "    def hand(self):\n",
    "        rank=np.array([2,3,4,5,6,7,8,9,10,'J','Q','K','A'])\n",
    "        suits= list('♥♦♣♠')\n",
    "        for i in rank:\n",
    "            for j in suits:\n",
    "                self.cards.append((i,j))\n",
    "        return self.cards\n",
    "\n",
    "    def shuffle(self):\n",
    "        random.shuffle(self.cards)\n",
    "\n",
    "    def show(self):\n",
    "        return self.cards\n",
    "    \n",
    "    def subse(self, freq):\n",
    "        \"\"\"\n",
    "        Freq -> how many cards you want in the subset\n",
    "        \"\"\"\n",
    "        for i in range(0, freq):\n",
    "            value = random.randint(1, 51)\n",
    "            self.subset.append(self.cards[value])\n",
    "        return self.subset\n",
    "    \n",
    "    def __str__(self):\n",
    "        return 'Your deck: \\n {}'.format(self.cards)"
   ]
  },
  {
   "cell_type": "code",
   "execution_count": 26,
   "metadata": {},
   "outputs": [],
   "source": [
    "donnie = Deck2()"
   ]
  },
  {
   "cell_type": "code",
   "execution_count": 27,
   "metadata": {},
   "outputs": [
    {
     "data": {
      "text/plain": [
       "[('2', '♥'),\n",
       " ('2', '♦'),\n",
       " ('2', '♣'),\n",
       " ('2', '♠'),\n",
       " ('3', '♥'),\n",
       " ('3', '♦'),\n",
       " ('3', '♣'),\n",
       " ('3', '♠'),\n",
       " ('4', '♥'),\n",
       " ('4', '♦'),\n",
       " ('4', '♣'),\n",
       " ('4', '♠'),\n",
       " ('5', '♥'),\n",
       " ('5', '♦'),\n",
       " ('5', '♣'),\n",
       " ('5', '♠'),\n",
       " ('6', '♥'),\n",
       " ('6', '♦'),\n",
       " ('6', '♣'),\n",
       " ('6', '♠'),\n",
       " ('7', '♥'),\n",
       " ('7', '♦'),\n",
       " ('7', '♣'),\n",
       " ('7', '♠'),\n",
       " ('8', '♥'),\n",
       " ('8', '♦'),\n",
       " ('8', '♣'),\n",
       " ('8', '♠'),\n",
       " ('9', '♥'),\n",
       " ('9', '♦'),\n",
       " ('9', '♣'),\n",
       " ('9', '♠'),\n",
       " ('10', '♥'),\n",
       " ('10', '♦'),\n",
       " ('10', '♣'),\n",
       " ('10', '♠'),\n",
       " ('J', '♥'),\n",
       " ('J', '♦'),\n",
       " ('J', '♣'),\n",
       " ('J', '♠'),\n",
       " ('Q', '♥'),\n",
       " ('Q', '♦'),\n",
       " ('Q', '♣'),\n",
       " ('Q', '♠'),\n",
       " ('K', '♥'),\n",
       " ('K', '♦'),\n",
       " ('K', '♣'),\n",
       " ('K', '♠'),\n",
       " ('A', '♥'),\n",
       " ('A', '♦'),\n",
       " ('A', '♣'),\n",
       " ('A', '♠')]"
      ]
     },
     "execution_count": 27,
     "metadata": {},
     "output_type": "execute_result"
    }
   ],
   "source": [
    "donnie.hand()"
   ]
  },
  {
   "cell_type": "code",
   "execution_count": 28,
   "metadata": {},
   "outputs": [],
   "source": [
    "donnie.shuffle()"
   ]
  },
  {
   "cell_type": "code",
   "execution_count": 29,
   "metadata": {},
   "outputs": [],
   "source": [
    "tester = donnie.subse(freq= 10000)"
   ]
  },
  {
   "cell_type": "code",
   "execution_count": 30,
   "metadata": {},
   "outputs": [],
   "source": [
    "def problem1c(subset):\n",
    "    BS = list(itertools.permutations(subset))\n",
    "    \n",
    "    F = []\n",
    "    numbers = []\n",
    "    x = []\n",
    "    p = []\n",
    "    \n",
    "    for perm in BS:\n",
    "        for card in range(0,4):\n",
    "            if perm[card] == subset[card]:\n",
    "                F.append(perm)\n",
    "                break\n",
    "            \n",
    "    count = 0\n",
    "    for row in F:\n",
    "        for i in range(0,4):\n",
    "            if row[i] == S[i]:\n",
    "                count += 1\n",
    "        numbers.append(count)\n",
    "        count = 0\n",
    "        \n",
    "    unique_F = dict(zip(F, numbers))\n",
    "    \n",
    "    for i in set(numbers):\n",
    "        x.append(i)\n",
    "        p.append(numbers.count(i)/len(numbers))\n",
    "        \n",
    "    hist_plot = pd.DataFrame(data= {'Outcome' : x, 'Probabilities' : p})\n",
    "    \n",
    "    return plt.hist(hist_plot['Probabilities'], density= True)"
   ]
  },
  {
   "cell_type": "code",
   "execution_count": null,
   "metadata": {},
   "outputs": [],
   "source": [
    "problem1c(tester)"
   ]
  },
  {
   "cell_type": "markdown",
   "metadata": {
    "id": "1MxHzRTmuIQr"
   },
   "source": [
    "## Problem 2\n",
    "Prove (using formal mathematics) that $P(T|D)=1-P(\\overline{T}|D)$ for events $T$ and $D.$"
   ]
  },
  {
   "cell_type": "markdown",
   "metadata": {
    "id": "8M40NKDw0XLN"
   },
   "source": [
    "*Proof*. Your proof goes here. $\\square$"
   ]
  },
  {
   "cell_type": "code",
   "execution_count": null,
   "metadata": {},
   "outputs": [],
   "source": [
    "# t is a list of odd numbers 1-50\n",
    "# d is a list of multiples of 3 1-50\n",
    "odd = [i for i in range(1, 51, 2)]\n",
    "mul_3 = [x for x in range(3, 50, 3)]\n",
    "total = len(odd) + len(mul_3)"
   ]
  },
  {
   "cell_type": "markdown",
   "metadata": {},
   "source": [
    "$P(T|D) = \\frac{P(T \\cap D)}{P(D)}$"
   ]
  },
  {
   "cell_type": "code",
   "execution_count": null,
   "metadata": {},
   "outputs": [],
   "source": [
    "t_cap_d = [x for x in odd if x in mul_3]"
   ]
  },
  {
   "cell_type": "code",
   "execution_count": null,
   "metadata": {},
   "outputs": [],
   "source": [
    "# P(T|D)\n",
    "t_given_d = ((len(t_cap_d))/total)/((len(mul_3))/total)\n",
    "t_given_d"
   ]
  },
  {
   "cell_type": "markdown",
   "metadata": {},
   "source": [
    "$P(\\overline{T}|D) = \\frac{P(\\overline{T} \\cap D)}{P(D)}$"
   ]
  },
  {
   "cell_type": "code",
   "execution_count": null,
   "metadata": {},
   "outputs": [],
   "source": [
    "t_bar = [i for i in mul_3 if i%2 == 0]"
   ]
  },
  {
   "cell_type": "code",
   "execution_count": null,
   "metadata": {},
   "outputs": [],
   "source": [
    "tbar_cap_d = [x for x in t_bar if x in mul_3]"
   ]
  },
  {
   "cell_type": "code",
   "execution_count": null,
   "metadata": {},
   "outputs": [],
   "source": [
    "# P(T'|D)\n",
    "tbar_given_d = ((len(tbar_cap_d))/total)/((len(mul_3))/total)"
   ]
  },
  {
   "cell_type": "code",
   "execution_count": null,
   "metadata": {},
   "outputs": [],
   "source": [
    "1 - tbar_given_d"
   ]
  },
  {
   "cell_type": "markdown",
   "metadata": {},
   "source": [
    "$P(T|D) = 0.5$\n",
    "\n",
    "$1-P(\\overline{T}|D) = 0.5$\n",
    "\n",
    "$\\therefore$ \n",
    "They are equal,\n",
    "Q.E.D."
   ]
  },
  {
   "cell_type": "code",
   "execution_count": null,
   "metadata": {},
   "outputs": [],
   "source": []
  }
 ],
 "metadata": {
  "colab": {
   "collapsed_sections": [],
   "name": "CSC104MiniProject2.ipynb",
   "provenance": [],
   "toc_visible": true
  },
  "kernelspec": {
   "display_name": "Python 3",
   "language": "python",
   "name": "python3"
  },
  "language_info": {
   "codemirror_mode": {
    "name": "ipython",
    "version": 3
   },
   "file_extension": ".py",
   "mimetype": "text/x-python",
   "name": "python",
   "nbconvert_exporter": "python",
   "pygments_lexer": "ipython3",
   "version": "3.8.5"
  }
 },
 "nbformat": 4,
 "nbformat_minor": 1
}

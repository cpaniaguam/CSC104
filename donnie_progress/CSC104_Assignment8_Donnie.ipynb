{
 "cells": [
  {
   "cell_type": "markdown",
   "metadata": {
    "id": "YYV9-9RzGh_L"
   },
   "source": [
    "# CSC-104 Spring 2021: Suplementary problems for Assignment 8\n",
    "\n",
    "An important part of the business of Statistics is to generalize conclusions obtained from a sample to the whole population it was taken from. For example, one might be interested in estimating a population parameter (like a mean or proportion) by looking at a sample statistic. The problem with this approach is that if we take a second sample from the same population we will almost surely get a different estimate. Thus it is important to understand how these estimates vary from sample to sample. To this end, sampling distributions play an important role.\n",
    "\n",
    "In this assignment you will construct a few sampling distributions for means (and later for other statistics) and appreciate some interesting properties.\n",
    "\n",
    "### Your first ever sampling distribution for a mean\n",
    "\n",
    "Consider the process of rolling two six-sided dice with faces marked 1, 2, 3, 4, 5, 6.\n",
    "\n",
    "<figure>\n",
    "<center>\n",
    "<img src='https://cdn.pixabay.com/photo/2012/02/28/10/23/dice-18208_1280.jpg' width=\"320\">\n",
    "<figcaption>Figure 1. Two six-side dice.</figcaption></center>\n",
    "</figure>\n",
    "\n",
    "Surely you've rolled two of these dice and observed their sum before. \n",
    "\n",
    "#### **Problem 1** \n",
    "\n",
    "a. Using your experience from mini-project 2, use code to (either empirically or theoretically) obtain the probability distribution of the sum of two-sided dice. Show both the table of probabilities and a visualization. Describe the shape of this population."
   ]
  },
  {
   "cell_type": "code",
   "execution_count": 1,
   "metadata": {},
   "outputs": [],
   "source": [
    "import numpy as np\n",
    "import pandas as pd\n",
    "import matplotlib.pyplot as plt\n",
    "import seaborn as sns\n",
    "import random"
   ]
  },
  {
   "cell_type": "code",
   "execution_count": 2,
   "metadata": {
    "id": "4lSQdCxXGg-t"
   },
   "outputs": [
    {
     "name": "stdout",
     "output_type": "stream",
     "text": [
      "     x         p\n",
      "0    2  0.027778\n",
      "1    3  0.055556\n",
      "2    4  0.083333\n",
      "3    5  0.111111\n",
      "4    6  0.138889\n",
      "5    7  0.166667\n",
      "6    8  0.138889\n",
      "7    9  0.111111\n",
      "8   10  0.083333\n",
      "9   11  0.055556\n",
      "10  12  0.027778\n"
     ]
    },
    {
     "data": {
      "text/plain": [
       "<AxesSubplot:>"
      ]
     },
     "execution_count": 2,
     "metadata": {},
     "output_type": "execute_result"
    },
    {
     "data": {
      "image/png": "[encoded data removed]",
      "text/plain": [
       "<Figure size 432x288 with 1 Axes>"
      ]
     },
     "metadata": {
      "needs_background": "light"
     },
     "output_type": "display_data"
    }
   ],
   "source": [
    "x = np.array([2, 3, 4, 5, 6, 7, 8, 9, 10, 11, 12])\n",
    "p = np.array([1/36, 2/36, 3/36, 4/36, 5/36, 6/36, 5/36, 4/36, 3/36, 2/36, 1/36])\n",
    "\n",
    "pdt = pd.DataFrame({'x':x, 'p':p})\n",
    "print(pdt)\n",
    "sns.barplot(data= pdt, x= x, y= p) #shape like a normal distribution, kde plot would be appropiate"
   ]
  },
  {
   "cell_type": "markdown",
   "metadata": {
    "id": "VIB0ltpAaXhv"
   },
   "source": [
    "b. Obtain the mean and standard deviation for this population."
   ]
  },
  {
   "cell_type": "code",
   "execution_count": 3,
   "metadata": {
    "id": "z7-Xm0DWajNS"
   },
   "outputs": [
    {
     "name": "stdout",
     "output_type": "stream",
     "text": [
      "7.0\n",
      "3.3166247903554\n"
     ]
    }
   ],
   "source": [
    "print(pdt['x'].mean()) # mean\n",
    "print(pdt['x'].std()) #std"
   ]
  },
  {
   "cell_type": "markdown",
   "metadata": {
    "id": "tV_3J1zuVysm"
   },
   "source": [
    "Now we are going to take samples from this population to construct a data set with the mean of each sample. This is called a *sampling distribution for the mean* simply because means are being recorded.\n",
    "\n",
    "#### **Problem 2**\n",
    "\n",
    "a. Create a function `sampler` that takes a distribution/population `d`, a sample size parameter `k`, and a number of samples `n` to produce a data structure with the means of every sample. \n",
    "The function must return the mean and standard deviation (standard error) for the sampling distribution. Additionally, make the fuction display a histogram of the generated data.\n",
    "\n"
   ]
  },
  {
   "cell_type": "code",
   "execution_count": 4,
   "metadata": {
    "id": "iqrTy7gFYI8B"
   },
   "outputs": [],
   "source": [
    "def sampler(d: 'the population', k: 'size of each sample', n: 'number of samples'):\n",
    "    '''Generate a sampling distribution of the mean from population,\n",
    "    produce a histogram, and return mean, and standard error.\n",
    "    '''\n",
    "    rand_ints = []\n",
    "    means = []\n",
    "    t = pd.DataFrame()\n",
    "    \n",
    "    for x in range(0, n):\n",
    "        for i in range(0, k):\n",
    "            rand_ints.append(random.randint(0, d.shape[0] - 1))\n",
    "        t = d.iloc[rand_ints, :]\n",
    "        means.append(t['x'].mean())\n",
    "        rand_ints.clear()\n",
    "        t = t.iloc[0:0]\n",
    "\n",
    "    sampling_dist = pd.DataFrame({'m': means})\n",
    "    \n",
    "    sns.histplot(data= sampling_dist, x= 'm', kde= True)\n",
    "    plt.xlabel(\"Mean\")\n",
    "    \n",
    "    return \"Mean: {}, Standard Error: {}\".format(sampling_dist.mean(), sampling_dist.std())"
   ]
  },
  {
   "cell_type": "markdown",
   "metadata": {
    "id": "KiL_JKqDrrj0"
   },
   "source": [
    "b. Use the `sampler` function from part (a) with the population from Problem 1 for multiple pairs `(k,n)`. For example choose `k` in `[1,5,10,20,30,50,100]` and `n` in `[10,25,50,100,1_000,10_000]`, etc. What is the shape of the sampling distributions for the means?  How do the means and standard error compare to the mean and standard error of the original population?"
   ]
  },
  {
   "cell_type": "code",
   "execution_count": 5,
   "metadata": {
    "id": "C-F2uoU2tAvh"
   },
   "outputs": [
    {
     "data": {
      "text/plain": [
       "'Mean: m    7.133333\\ndtype: float64, Standard Error: m    1.86488\\ndtype: float64'"
      ]
     },
     "execution_count": 5,
     "metadata": {},
     "output_type": "execute_result"
    },
    {
     "data": {
      "image/png": "[encoded data removed]",
      "text/plain": [
       "<Figure size 432x288 with 1 Axes>"
      ]
     },
     "metadata": {
      "needs_background": "light"
     },
     "output_type": "display_data"
    }
   ],
   "source": [
    "sampler(pdt, 3, 5)"
   ]
  },
  {
   "cell_type": "markdown",
   "metadata": {
    "id": "E45O4r5OtD5e"
   },
   "source": [
    "#### **Problem 3**\n",
    "a. Use `sampler` with at least two other distributions of your choice, e.g. [the distribution from Problem 1 in mini-project 2](https://github.com/cpaniaguam/CSC104/blob/main/CSC104MiniProject2.ipynb), or some other distribution (see [here](https://docs.scipy.org/doc/scipy/reference/stats.html).)"
   ]
  },
  {
   "cell_type": "markdown",
   "metadata": {},
   "source": [
    "## DISTRIBUTION FROM PROBLEM 1"
   ]
  },
  {
   "cell_type": "code",
   "execution_count": 6,
   "metadata": {
    "id": "gU1zEB4AuvsM"
   },
   "outputs": [],
   "source": [
    "S = [('J', '♠'), ('Q', '♠'), ('K', '♠'), ('A', '♠')]\n",
    "F = [] #permutations that have 1, 2, 4 cards fixed\n",
    "F_dot = [] #permutations that have 0 cards fixed"
   ]
  },
  {
   "cell_type": "code",
   "execution_count": 7,
   "metadata": {},
   "outputs": [
    {
     "name": "stdout",
     "output_type": "stream",
     "text": [
      "[(('J', '♠'), ('Q', '♠'), ('K', '♠'), ('A', '♠')), (('J', '♠'), ('Q', '♠'), ('A', '♠'), ('K', '♠')), (('J', '♠'), ('K', '♠'), ('Q', '♠'), ('A', '♠')), (('J', '♠'), ('K', '♠'), ('A', '♠'), ('Q', '♠')), (('J', '♠'), ('A', '♠'), ('Q', '♠'), ('K', '♠')), (('J', '♠'), ('A', '♠'), ('K', '♠'), ('Q', '♠')), (('Q', '♠'), ('J', '♠'), ('K', '♠'), ('A', '♠')), (('Q', '♠'), ('J', '♠'), ('A', '♠'), ('K', '♠')), (('Q', '♠'), ('K', '♠'), ('J', '♠'), ('A', '♠')), (('Q', '♠'), ('K', '♠'), ('A', '♠'), ('J', '♠')), (('Q', '♠'), ('A', '♠'), ('J', '♠'), ('K', '♠')), (('Q', '♠'), ('A', '♠'), ('K', '♠'), ('J', '♠')), (('K', '♠'), ('J', '♠'), ('Q', '♠'), ('A', '♠')), (('K', '♠'), ('J', '♠'), ('A', '♠'), ('Q', '♠')), (('K', '♠'), ('Q', '♠'), ('J', '♠'), ('A', '♠')), (('K', '♠'), ('Q', '♠'), ('A', '♠'), ('J', '♠')), (('K', '♠'), ('A', '♠'), ('J', '♠'), ('Q', '♠')), (('K', '♠'), ('A', '♠'), ('Q', '♠'), ('J', '♠')), (('A', '♠'), ('J', '♠'), ('Q', '♠'), ('K', '♠')), (('A', '♠'), ('J', '♠'), ('K', '♠'), ('Q', '♠')), (('A', '♠'), ('Q', '♠'), ('J', '♠'), ('K', '♠')), (('A', '♠'), ('Q', '♠'), ('K', '♠'), ('J', '♠')), (('A', '♠'), ('K', '♠'), ('J', '♠'), ('Q', '♠')), (('A', '♠'), ('K', '♠'), ('Q', '♠'), ('J', '♠'))] \n",
      " 24\n"
     ]
    }
   ],
   "source": [
    "import itertools\n",
    "BS = list(itertools.permutations(S))\n",
    "print(BS,'\\n' ,len(BS))"
   ]
  },
  {
   "cell_type": "code",
   "execution_count": 8,
   "metadata": {},
   "outputs": [],
   "source": [
    "for perm in BS:\n",
    "    for card in range(0,4):\n",
    "        if perm[card] == S[card]:\n",
    "            F.append(perm)\n",
    "            break\n",
    "            \n",
    "for perm in BS:\n",
    "    if perm not in F:\n",
    "        F_dot.append(perm)"
   ]
  },
  {
   "cell_type": "code",
   "execution_count": 9,
   "metadata": {},
   "outputs": [],
   "source": [
    "numbers_dot = [0 for i in range(len((F_dot)))]"
   ]
  },
  {
   "cell_type": "code",
   "execution_count": 10,
   "metadata": {},
   "outputs": [],
   "source": [
    "numbers = []"
   ]
  },
  {
   "cell_type": "code",
   "execution_count": 11,
   "metadata": {},
   "outputs": [],
   "source": [
    "count = 0\n",
    "count_temp = 0\n",
    "for row in F:\n",
    "    for i in range(0,4):\n",
    "        if row[i] == S[i]:\n",
    "            count_temp += 1\n",
    "    if count_temp != count:\n",
    "        count += count_temp\n",
    "    else:\n",
    "        numbers.append(0)\n",
    "    numbers.append(count)\n",
    "    count = 0\n",
    "    count_temp = 0"
   ]
  },
  {
   "cell_type": "code",
   "execution_count": 12,
   "metadata": {},
   "outputs": [],
   "source": [
    "unique_F = dict(zip(F, numbers))"
   ]
  },
  {
   "cell_type": "code",
   "execution_count": 13,
   "metadata": {},
   "outputs": [],
   "source": [
    "unique_F_dot = dict(zip(F_dot, numbers_dot))"
   ]
  },
  {
   "cell_type": "code",
   "execution_count": 14,
   "metadata": {},
   "outputs": [],
   "source": [
    "unique_F.update(unique_F_dot)"
   ]
  },
  {
   "cell_type": "code",
   "execution_count": 15,
   "metadata": {},
   "outputs": [],
   "source": [
    "from scipy.stats import rv_discrete\n",
    "\n",
    "# list containing the outcomes in the sample space\n",
    "x = [0, 1, 2, 4]\n",
    "\n",
    "# list containing the probabilities for each outcome\n",
    "p = [numbers_dot.count(0)/len(BS), numbers.count(1)/len(BS), numbers.count(2)/len(BS), numbers.count(4)/len(BS)]\n",
    "\n",
    "c = [numbers_dot.count(0),numbers.count(1), numbers.count(2), numbers.count(4)]\n",
    "\n",
    "discvar = rv_discrete(values=(x,p))"
   ]
  },
  {
   "cell_type": "code",
   "execution_count": 16,
   "metadata": {},
   "outputs": [],
   "source": [
    "df1 = pd.DataFrame(data= {'x' : x, 'p' : p, 'c': c})"
   ]
  },
  {
   "cell_type": "code",
   "execution_count": 17,
   "metadata": {},
   "outputs": [
    {
     "data": {
      "text/plain": [
       "'Mean: m    1.866667\\ndtype: float64, Standard Error: m    0.649786\\ndtype: float64'"
      ]
     },
     "execution_count": 17,
     "metadata": {},
     "output_type": "execute_result"
    },
    {
     "data": {
      "image/png": "[encoded data removed]",
      "text/plain": [
       "<Figure size 432x288 with 1 Axes>"
      ]
     },
     "metadata": {
      "needs_background": "light"
     },
     "output_type": "display_data"
    }
   ],
   "source": [
    "sampler(df1, 3, 5)"
   ]
  },
  {
   "cell_type": "markdown",
   "metadata": {},
   "source": [
    "## GAMMA DISTRIBUTION"
   ]
  },
  {
   "cell_type": "code",
   "execution_count": 21,
   "metadata": {},
   "outputs": [
    {
     "data": {
      "text/plain": [
       "array([0.14633935, 0.21172701, 0.27711468, 0.34250235, 0.40789001,\n",
       "       0.47327768, 0.53866535, 0.60405301, 0.66944068, 0.73482835,\n",
       "       0.80021601, 0.86560368, 0.93099135, 0.99637901, 1.06176668,\n",
       "       1.12715435, 1.19254201, 1.25792968, 1.32331735, 1.38870501,\n",
       "       1.45409268, 1.51948035, 1.58486801, 1.65025568, 1.71564335,\n",
       "       1.78103101, 1.84641868, 1.91180635, 1.97719401, 2.04258168,\n",
       "       2.10796935, 2.17335701, 2.23874468, 2.30413235, 2.36952001,\n",
       "       2.43490768, 2.50029535, 2.56568301, 2.63107068, 2.69645835,\n",
       "       2.76184601, 2.82723368, 2.89262135, 2.95800901, 3.02339668,\n",
       "       3.08878435, 3.15417201, 3.21955968, 3.28494735, 3.35033501,\n",
       "       3.41572268, 3.48111035, 3.54649801, 3.61188568, 3.67727335,\n",
       "       3.74266101, 3.80804868, 3.87343635, 3.93882401, 4.00421168,\n",
       "       4.06959935, 4.13498701, 4.20037468, 4.26576235, 4.33115001,\n",
       "       4.39653768, 4.46192535, 4.52731301, 4.59270068, 4.65808835,\n",
       "       4.72347601, 4.78886368, 4.85425135, 4.91963901, 4.98502668,\n",
       "       5.05041435, 5.11580201, 5.18118968, 5.24657735, 5.31196501,\n",
       "       5.37735268, 5.44274035, 5.50812801, 5.57351568, 5.63890335,\n",
       "       5.70429101, 5.76967868, 5.83506635, 5.90045401, 5.96584168,\n",
       "       6.03122935, 6.09661701, 6.16200468, 6.22739235, 6.29278001,\n",
       "       6.35816768, 6.42355535, 6.48894301, 6.55433068, 6.61971835])"
      ]
     },
     "execution_count": 21,
     "metadata": {},
     "output_type": "execute_result"
    }
   ],
   "source": [
    "from scipy.stats import gamma\n",
    "a = 1.99\n",
    "mean, var, skew, kurt = gamma.stats(a, moments='mvsk')\n",
    "gamma_x = np.linspace(gamma.ppf(0.01, a),\n",
    "                gamma.ppf(0.99, a), 100)\n",
    "gamma_x"
   ]
  },
  {
   "cell_type": "code",
   "execution_count": 22,
   "metadata": {},
   "outputs": [],
   "source": [
    "df2 = pd.DataFrame({'x':gamma_x})"
   ]
  },
  {
   "cell_type": "code",
   "execution_count": 24,
   "metadata": {},
   "outputs": [
    {
     "data": {
      "text/plain": [
       "'Mean: m    3.716506\\ndtype: float64, Standard Error: m    1.354848\\ndtype: float64'"
      ]
     },
     "execution_count": 24,
     "metadata": {},
     "output_type": "execute_result"
    },
    {
     "data": {
      "image/png": "[encoded data removed]",
      "text/plain": [
       "<Figure size 432x288 with 1 Axes>"
      ]
     },
     "metadata": {
      "needs_background": "light"
     },
     "output_type": "display_data"
    }
   ],
   "source": [
    "sampler(df2, 3, 10)"
   ]
  },
  {
   "cell_type": "code",
   "execution_count": null,
   "metadata": {},
   "outputs": [],
   "source": []
  }
 ],
 "metadata": {
  "colab": {
   "name": "CSC104_Assignment8_Supplement.ipynb",
   "provenance": []
  },
  "kernelspec": {
   "display_name": "Python 3",
   "language": "python",
   "name": "python3"
  },
  "language_info": {
   "codemirror_mode": {
    "name": "ipython",
    "version": 3
   },
   "file_extension": ".py",
   "mimetype": "text/x-python",
   "name": "python",
   "nbconvert_exporter": "python",
   "pygments_lexer": "ipython3",
   "version": "3.8.5"
  }
 },
 "nbformat": 4,
 "nbformat_minor": 1
}

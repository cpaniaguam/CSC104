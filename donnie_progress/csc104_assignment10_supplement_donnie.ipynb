{
 "cells": [
  {
   "cell_type": "markdown",
   "metadata": {
    "id": "yRPMyqdKVJ1f"
   },
   "source": [
    "# CSC-104 Spring 2021: Suplementary problems for Assignment 10\n",
    "\n",
    "1. Make the necessary changes to your code for solving [zylab 5.10](https://learn.zybooks.com/zybook/SALVECSC104PaniaguaSpring2021/chapter/5/section/10) to replicate the task 10,000 or more times. One required change is deleting the line that sets the seed (line 8 in the template).\n",
    "\n",
    "2. In each replication store in a data structure of your choice whether the confidence interval contains the population mean. Report the proportion of times that the population mean was included in the confidence intervals.\n",
    "\n",
    "3. Comment on your findings."
   ]
  },
  {
   "cell_type": "code",
   "execution_count": 12,
   "metadata": {},
   "outputs": [],
   "source": [
    "import scipy.stats as st\n",
    "import numpy as np\n",
    "import math as mt\n",
    "import pandas as pd"
   ]
  },
  {
   "cell_type": "code",
   "execution_count": 21,
   "metadata": {},
   "outputs": [],
   "source": [
    "def ci_pop_means(mean_def: int, sd_def: int, sample_size= 30):\n",
    "    ''' \n",
    "    for the confidence_intervals dataframe:\n",
    "    lci: lower confidence level\n",
    "    rci: upper/right confidence level\n",
    "    contained: whether the confidence interval contains the population mean\n",
    "    '''\n",
    "    \n",
    "    confidence_intervals = pd.DataFrame(columns= ['lci', 'rci', 'contained'])\n",
    "    \n",
    "    for i in range(10000):\n",
    "        np.random.seed(i)\n",
    "        ticket = False\n",
    "        r = st.norm.rvs(mean_def, sd_def, size=sample_size)\n",
    "        mean = r.mean()\n",
    "        std_dev = r.std()\n",
    "        stderr = std_dev / mt.sqrt(sample_size)\n",
    "        int1 = st.norm.interval(0.95, mean, stderr)\n",
    "        if int1[0] < mean_def < int1[1]:\n",
    "            ticket = True\n",
    "        confidence_intervals = confidence_intervals.append({'lci': int1[0], 'rci': int1[1], 'contained': ticket}, ignore_index=True)\n",
    "    \n",
    "    count = 0\n",
    "    for i in confidence_intervals['contained']:\n",
    "        if i == True:\n",
    "            count += 1\n",
    "    \n",
    "    print(confidence_intervals)\n",
    "    return \"Proportion of times that the population mean was included in the confidence intervals: {}\".format(count/confidence_intervals.shape[0])"
   ]
  },
  {
   "cell_type": "markdown",
   "metadata": {},
   "source": [
    "## Changing Sample Size"
   ]
  },
  {
   "cell_type": "code",
   "execution_count": 22,
   "metadata": {},
   "outputs": [
    {
     "name": "stdout",
     "output_type": "stream",
     "text": [
      "           lci       rci contained\n",
      "0     0.278671  4.149894     False\n",
      "1    -2.105196  1.505806      True\n",
      "2    -3.354738  0.045393      True\n",
      "3    -2.251445  1.002424      True\n",
      "4    -1.556640  1.912338      True\n",
      "...        ...       ...       ...\n",
      "9995 -2.403811  0.752208      True\n",
      "9996 -2.686702  0.322498      True\n",
      "9997 -1.676970  1.002344      True\n",
      "9998 -1.340306  1.362821      True\n",
      "9999 -2.231925  2.305030      True\n",
      "\n",
      "[10000 rows x 3 columns]\n"
     ]
    },
    {
     "data": {
      "text/plain": [
       "'Proportion of times that the population mean was included in the confidence intervals: 0.9324'"
      ]
     },
     "execution_count": 22,
     "metadata": {},
     "output_type": "execute_result"
    }
   ],
   "source": [
    "ci_pop_means(mean_def= 0, sd_def= 5, sample_size= 30)"
   ]
  },
  {
   "cell_type": "code",
   "execution_count": 23,
   "metadata": {},
   "outputs": [
    {
     "name": "stdout",
     "output_type": "stream",
     "text": [
      "           lci       rci contained\n",
      "0    -0.688666  1.286747      True\n",
      "1    -0.564523  1.170351      True\n",
      "2    -1.534982  0.497571      True\n",
      "3    -1.585880  0.499509      True\n",
      "4    -0.777070  1.129806      True\n",
      "...        ...       ...       ...\n",
      "9995 -1.466891  0.386403      True\n",
      "9996 -0.470397  1.359650      True\n",
      "9997 -0.420057  1.443107      True\n",
      "9998 -0.526971  1.420961      True\n",
      "9999 -1.330282  0.849849      True\n",
      "\n",
      "[10000 rows x 3 columns]\n"
     ]
    },
    {
     "data": {
      "text/plain": [
       "'Proportion of times that the population mean was included in the confidence intervals: 0.947'"
      ]
     },
     "execution_count": 23,
     "metadata": {},
     "output_type": "execute_result"
    }
   ],
   "source": [
    "ci_pop_means(mean_def= 0, sd_def= 5, sample_size= 100)"
   ]
  },
  {
   "cell_type": "code",
   "execution_count": 24,
   "metadata": {},
   "outputs": [
    {
     "name": "stdout",
     "output_type": "stream",
     "text": [
      "           lci       rci contained\n",
      "0    -0.353244  1.062349      True\n",
      "1    -0.097174  1.164062      True\n",
      "2    -0.687167  0.809667      True\n",
      "3    -1.030768  0.322862      True\n",
      "4    -0.518203  0.803611      True\n",
      "...        ...       ...       ...\n",
      "9995 -0.959362  0.283620      True\n",
      "9996 -0.191051  1.225164      True\n",
      "9997 -0.635008  0.662957      True\n",
      "9998 -0.709211  0.693172      True\n",
      "9999 -0.781524  0.822705      True\n",
      "\n",
      "[10000 rows x 3 columns]\n"
     ]
    },
    {
     "data": {
      "text/plain": [
       "'Proportion of times that the population mean was included in the confidence intervals: 0.9483'"
      ]
     },
     "execution_count": 24,
     "metadata": {},
     "output_type": "execute_result"
    }
   ],
   "source": [
    "ci_pop_means(mean_def= 0, sd_def= 5, sample_size= 200)"
   ]
  },
  {
   "cell_type": "markdown",
   "metadata": {},
   "source": [
    "## Changing Population Mean"
   ]
  },
  {
   "cell_type": "code",
   "execution_count": 25,
   "metadata": {},
   "outputs": [
    {
     "name": "stdout",
     "output_type": "stream",
     "text": [
      "           lci       rci contained\n",
      "0     2.278671  6.149894     False\n",
      "1    -0.105196  3.505806      True\n",
      "2    -1.354738  2.045393      True\n",
      "3    -0.251445  3.002424      True\n",
      "4     0.443360  3.912338      True\n",
      "...        ...       ...       ...\n",
      "9995 -0.403811  2.752208      True\n",
      "9996 -0.686702  2.322498      True\n",
      "9997  0.323030  3.002344      True\n",
      "9998  0.659694  3.362821      True\n",
      "9999 -0.231925  4.305030      True\n",
      "\n",
      "[10000 rows x 3 columns]\n"
     ]
    },
    {
     "data": {
      "text/plain": [
       "'Proportion of times that the population mean was included in the confidence intervals: 0.9324'"
      ]
     },
     "execution_count": 25,
     "metadata": {},
     "output_type": "execute_result"
    }
   ],
   "source": [
    "ci_pop_means(mean_def= 2, sd_def= 5, sample_size= 30)"
   ]
  },
  {
   "cell_type": "code",
   "execution_count": 26,
   "metadata": {},
   "outputs": [
    {
     "name": "stdout",
     "output_type": "stream",
     "text": [
      "           lci       rci contained\n",
      "0     4.278671  8.149894     False\n",
      "1     1.894804  5.505806      True\n",
      "2     0.645262  4.045393      True\n",
      "3     1.748555  5.002424      True\n",
      "4     2.443360  5.912338      True\n",
      "...        ...       ...       ...\n",
      "9995  1.596189  4.752208      True\n",
      "9996  1.313298  4.322498      True\n",
      "9997  2.323030  5.002344      True\n",
      "9998  2.659694  5.362821      True\n",
      "9999  1.768075  6.305030      True\n",
      "\n",
      "[10000 rows x 3 columns]\n"
     ]
    },
    {
     "data": {
      "text/plain": [
       "'Proportion of times that the population mean was included in the confidence intervals: 0.9324'"
      ]
     },
     "execution_count": 26,
     "metadata": {},
     "output_type": "execute_result"
    }
   ],
   "source": [
    "ci_pop_means(mean_def= 4, sd_def= 5, sample_size= 30)"
   ]
  },
  {
   "cell_type": "code",
   "execution_count": 27,
   "metadata": {},
   "outputs": [
    {
     "name": "stdout",
     "output_type": "stream",
     "text": [
      "           lci        rci contained\n",
      "0     6.278671  10.149894     False\n",
      "1     3.894804   7.505806      True\n",
      "2     2.645262   6.045393      True\n",
      "3     3.748555   7.002424      True\n",
      "4     4.443360   7.912338      True\n",
      "...        ...        ...       ...\n",
      "9995  3.596189   6.752208      True\n",
      "9996  3.313298   6.322498      True\n",
      "9997  4.323030   7.002344      True\n",
      "9998  4.659694   7.362821      True\n",
      "9999  3.768075   8.305030      True\n",
      "\n",
      "[10000 rows x 3 columns]\n"
     ]
    },
    {
     "data": {
      "text/plain": [
       "'Proportion of times that the population mean was included in the confidence intervals: 0.9324'"
      ]
     },
     "execution_count": 27,
     "metadata": {},
     "output_type": "execute_result"
    }
   ],
   "source": [
    "ci_pop_means(mean_def= 6, sd_def= 5, sample_size= 30)"
   ]
  },
  {
   "cell_type": "markdown",
   "metadata": {},
   "source": [
    "## Changing Population Standard Deviation"
   ]
  },
  {
   "cell_type": "code",
   "execution_count": 28,
   "metadata": {},
   "outputs": [
    {
     "name": "stdout",
     "output_type": "stream",
     "text": [
      "           lci       rci contained\n",
      "0     2.111468  3.659957     False\n",
      "1     1.157922  2.602323      True\n",
      "2     0.658105  2.018157      True\n",
      "3     1.099422  2.400970      True\n",
      "4     1.377344  2.764935      True\n",
      "...        ...       ...       ...\n",
      "9995  1.038476  2.300883      True\n",
      "9996  0.925319  2.128999      True\n",
      "9997  1.329212  2.400937      True\n",
      "9998  1.463878  2.545129      True\n",
      "9999  1.107230  2.922012      True\n",
      "\n",
      "[10000 rows x 3 columns]\n"
     ]
    },
    {
     "data": {
      "text/plain": [
       "'Proportion of times that the population mean was included in the confidence intervals: 0.9324'"
      ]
     },
     "execution_count": 28,
     "metadata": {},
     "output_type": "execute_result"
    }
   ],
   "source": [
    "ci_pop_means(mean_def= 2, sd_def= 2, sample_size= 30)"
   ]
  },
  {
   "cell_type": "code",
   "execution_count": 29,
   "metadata": {},
   "outputs": [
    {
     "name": "stdout",
     "output_type": "stream",
     "text": [
      "           lci       rci contained\n",
      "0     2.278671  6.149894     False\n",
      "1    -0.105196  3.505806      True\n",
      "2    -1.354738  2.045393      True\n",
      "3    -0.251445  3.002424      True\n",
      "4     0.443360  3.912338      True\n",
      "...        ...       ...       ...\n",
      "9995 -0.403811  2.752208      True\n",
      "9996 -0.686702  2.322498      True\n",
      "9997  0.323030  3.002344      True\n",
      "9998  0.659694  3.362821      True\n",
      "9999 -0.231925  4.305030      True\n",
      "\n",
      "[10000 rows x 3 columns]\n"
     ]
    },
    {
     "data": {
      "text/plain": [
       "'Proportion of times that the population mean was included in the confidence intervals: 0.9324'"
      ]
     },
     "execution_count": 29,
     "metadata": {},
     "output_type": "execute_result"
    }
   ],
   "source": [
    "ci_pop_means(mean_def= 2, sd_def= 5, sample_size= 30)"
   ]
  },
  {
   "cell_type": "code",
   "execution_count": 30,
   "metadata": {},
   "outputs": [
    {
     "name": "stdout",
     "output_type": "stream",
     "text": [
      "           lci       rci contained\n",
      "0     2.445873  8.639830     False\n",
      "1    -1.368313  4.409290      True\n",
      "2    -3.367581  2.072629      True\n",
      "3    -1.602311  3.603879      True\n",
      "4    -0.490624  5.059740      True\n",
      "...        ...       ...       ...\n",
      "9995 -1.846098  3.203532      True\n",
      "9996 -2.298722  2.515997      True\n",
      "9997 -0.683152  3.603750      True\n",
      "9998 -0.144489  4.180514      True\n",
      "9999 -1.571079  5.688048      True\n",
      "\n",
      "[10000 rows x 3 columns]\n"
     ]
    },
    {
     "data": {
      "text/plain": [
       "'Proportion of times that the population mean was included in the confidence intervals: 0.9324'"
      ]
     },
     "execution_count": 30,
     "metadata": {},
     "output_type": "execute_result"
    }
   ],
   "source": [
    "ci_pop_means(mean_def= 2, sd_def= 8, sample_size= 30)"
   ]
  },
  {
   "cell_type": "markdown",
   "metadata": {},
   "source": [
    "Changing the sample size (and keeping the other parameters the same) has a different impact on the proportion of times that the population mean was included in the confidence intervals. Increasing the sample size increases the proportion (approaching the 0.95 level). In the other variations (changing mean and standard deviation) it seems like it did not have an effect on the proportion, hence why the proportion stayed the same.\n",
    "\n",
    "Nontheless, in increasing the sample size, the proportion approached the 0.95 level which shows that the confidence interval is [accurate](https://learn.zybooks.com/zybook/SALVECSC104PaniaguaSpring2021/chapter/5/section/1) \n",
    "\n",
    "Having a 95% confidence level that the population parameter is in the interval is valid."
   ]
  },
  {
   "cell_type": "code",
   "execution_count": null,
   "metadata": {},
   "outputs": [],
   "source": []
  }
 ],
 "metadata": {
  "colab": {
   "name": "csc104_assignment10_supplement.ipynb.ipynb",
   "provenance": []
  },
  "kernelspec": {
   "display_name": "Python 3",
   "language": "python",
   "name": "python3"
  },
  "language_info": {
   "codemirror_mode": {
    "name": "ipython",
    "version": 3
   },
   "file_extension": ".py",
   "mimetype": "text/x-python",
   "name": "python",
   "nbconvert_exporter": "python",
   "pygments_lexer": "ipython3",
   "version": "3.8.5"
  }
 },
 "nbformat": 4,
 "nbformat_minor": 1
}

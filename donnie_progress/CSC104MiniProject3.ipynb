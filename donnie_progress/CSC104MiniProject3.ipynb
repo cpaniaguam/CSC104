{
 "cells": [
  {
   "cell_type": "markdown",
   "metadata": {
    "id": "AWRdMxOKQ8zh"
   },
   "source": [
    "# Selecting people to perform physically demanding tasks\n",
    "Even in today's high-tech world, many jobs require significant physical strength to be performed properly, especially in construction, maintenance and repair work, law enforcement, highway maintenance, and [many more](https://stacker.com/stories/3222/50-most-physical-jobs-america)."
   ]
  },
  {
   "cell_type": "markdown",
   "metadata": {
    "id": "Orua43DZULob"
   },
   "source": [
    "\n",
    "\n",
    "## Question: How would you choose a person to perform a physically demanding job?\n",
    "\n",
    "One natural way is to take the candidate to the job site to have them demonstrate adequate proficiency and strength at performing the task. However, this can be time intensive when selecting a large number of candidates from an equally large applicant pool. Besides, applicants risk getting injured if they are not stong enough to perform the tasks.\n",
    "\n",
    "One could try, instead, an indirect approach: use a measure of physical strength that is simple to apply, low risk of injury, and that can be associated with how adequately a person does a job.\n",
    "\n",
    "This mini-project will use data collected for a [study](https://tinyurl.com/y7evtzgy) in which such indirect approaches were tested against actual strength and job performance of real workers at the job. You will \n",
    "1. apply scatterplots for preliminary exploration of the potential relationships between variables of interest\n",
    "2. use and test correlation coeffiencients to assess the plausibility and strength of pair of variables being linearly associated\n",
    "4. verify necessary conditions for implementing a linear model\n",
    "5. construct and interprert simple linear regression models\n",
    "6. do inference on the regression estimates\n",
    "6. Make predictions using linear models and give appropiate interpretations\n"
   ]
  },
  {
   "cell_type": "markdown",
   "metadata": {
    "id": "qhwRsFkfk3xF"
   },
   "source": [
    "\n",
    "## The data\n",
    "The dataset you will be using is below. A description of the variables follows the two code cells."
   ]
  },
  {
   "cell_type": "code",
   "execution_count": 1,
   "metadata": {
    "colab": {
     "base_uri": "https://localhost:8080/",
     "height": 121
    },
    "id": "_Pnr5uPwk3xK",
    "outputId": "7c72b876-9ea3-45ea-c84b-31a4310feecd"
   },
   "outputs": [
    {
     "data": {
      "text/html": [
       "<style  type=\"text/css\" >\n",
       "</style><table id=\"T_40529_\" ><thead>    <tr>        <th class=\"blank level0\" ></th>        <th class=\"col_heading level0 col0\" >count</th>        <th class=\"col_heading level0 col1\" >mean</th>        <th class=\"col_heading level0 col2\" >std</th>        <th class=\"col_heading level0 col3\" >min</th>        <th class=\"col_heading level0 col4\" >25%</th>        <th class=\"col_heading level0 col5\" >50%</th>        <th class=\"col_heading level0 col6\" >75%</th>        <th class=\"col_heading level0 col7\" >max</th>    </tr></thead><tbody>\n",
       "                <tr>\n",
       "                        <th id=\"T_40529_level0_row0\" class=\"row_heading level0 row0\" >GRIP</th>\n",
       "                        <td id=\"T_40529_row0_col0\" class=\"data row0 col0\" >147</td>\n",
       "                        <td id=\"T_40529_row0_col1\" class=\"data row0 col1\" >110.23</td>\n",
       "                        <td id=\"T_40529_row0_col2\" class=\"data row0 col2\" >23.63</td>\n",
       "                        <td id=\"T_40529_row0_col3\" class=\"data row0 col3\" >29.00</td>\n",
       "                        <td id=\"T_40529_row0_col4\" class=\"data row0 col4\" >94.00</td>\n",
       "                        <td id=\"T_40529_row0_col5\" class=\"data row0 col5\" >111.00</td>\n",
       "                        <td id=\"T_40529_row0_col6\" class=\"data row0 col6\" >124.50</td>\n",
       "                        <td id=\"T_40529_row0_col7\" class=\"data row0 col7\" >189.00</td>\n",
       "            </tr>\n",
       "            <tr>\n",
       "                        <th id=\"T_40529_level0_row1\" class=\"row_heading level0 row1\" >ARM</th>\n",
       "                        <td id=\"T_40529_row1_col0\" class=\"data row1 col0\" >147</td>\n",
       "                        <td id=\"T_40529_row1_col1\" class=\"data row1 col1\" >78.75</td>\n",
       "                        <td id=\"T_40529_row1_col2\" class=\"data row1 col2\" >21.11</td>\n",
       "                        <td id=\"T_40529_row1_col3\" class=\"data row1 col3\" >19.00</td>\n",
       "                        <td id=\"T_40529_row1_col4\" class=\"data row1 col4\" >64.50</td>\n",
       "                        <td id=\"T_40529_row1_col5\" class=\"data row1 col5\" >81.50</td>\n",
       "                        <td id=\"T_40529_row1_col6\" class=\"data row1 col6\" >94.00</td>\n",
       "                        <td id=\"T_40529_row1_col7\" class=\"data row1 col7\" >132.00</td>\n",
       "            </tr>\n",
       "            <tr>\n",
       "                        <th id=\"T_40529_level0_row2\" class=\"row_heading level0 row2\" >RATINGS</th>\n",
       "                        <td id=\"T_40529_row2_col0\" class=\"data row2 col0\" >147</td>\n",
       "                        <td id=\"T_40529_row2_col1\" class=\"data row2 col1\" >41.01</td>\n",
       "                        <td id=\"T_40529_row2_col2\" class=\"data row2 col2\" >8.52</td>\n",
       "                        <td id=\"T_40529_row2_col3\" class=\"data row2 col3\" >21.60</td>\n",
       "                        <td id=\"T_40529_row2_col4\" class=\"data row2 col4\" >34.80</td>\n",
       "                        <td id=\"T_40529_row2_col5\" class=\"data row2 col5\" >41.30</td>\n",
       "                        <td id=\"T_40529_row2_col6\" class=\"data row2 col6\" >47.70</td>\n",
       "                        <td id=\"T_40529_row2_col7\" class=\"data row2 col7\" >57.20</td>\n",
       "            </tr>\n",
       "            <tr>\n",
       "                        <th id=\"T_40529_level0_row3\" class=\"row_heading level0 row3\" >SIMS</th>\n",
       "                        <td id=\"T_40529_row3_col0\" class=\"data row3 col0\" >147</td>\n",
       "                        <td id=\"T_40529_row3_col1\" class=\"data row3 col1\" >0.20</td>\n",
       "                        <td id=\"T_40529_row3_col2\" class=\"data row3 col2\" >1.68</td>\n",
       "                        <td id=\"T_40529_row3_col3\" class=\"data row3 col3\" >-4.17</td>\n",
       "                        <td id=\"T_40529_row3_col4\" class=\"data row3 col4\" >-0.96</td>\n",
       "                        <td id=\"T_40529_row3_col5\" class=\"data row3 col5\" >0.16</td>\n",
       "                        <td id=\"T_40529_row3_col6\" class=\"data row3 col6\" >1.07</td>\n",
       "                        <td id=\"T_40529_row3_col7\" class=\"data row3 col7\" >5.17</td>\n",
       "            </tr>\n",
       "    </tbody></table>"
      ],
      "text/plain": [
       "<pandas.io.formats.style.Styler at 0x1b9d82469a0>"
      ]
     },
     "execution_count": 1,
     "metadata": {},
     "output_type": "execute_result"
    }
   ],
   "source": [
    "%precision 2 \n",
    "import pandas as pd\n",
    "df=pd.read_csv('https://raw.githubusercontent.com/cpaniaguam/CSC104/main/phystrength.csv')\n",
    "description = df.describe().T\n",
    "description.style.format({'count':'{:.0f}', 'mean':'{:.2f}',\n",
    "                              'std':'{:.2f}','min':'{:.2f}','25%':'{:.2f}',\n",
    "                              '50%':'{:.2f}','75%':'{:.2f}','max':'{:.2f}'})"
   ]
  },
  {
   "cell_type": "code",
   "execution_count": 2,
   "metadata": {
    "colab": {
     "base_uri": "https://localhost:8080/",
     "height": 399
    },
    "id": "o7C9WCJ11JQ3",
    "outputId": "48d46557-8fd2-4b53-c70d-b7d932f86c8b"
   },
   "outputs": [
    {
     "data": {
      "text/html": [
       "<div>\n",
       "<style scoped>\n",
       "    .dataframe tbody tr th:only-of-type {\n",
       "        vertical-align: middle;\n",
       "    }\n",
       "\n",
       "    .dataframe tbody tr th {\n",
       "        vertical-align: top;\n",
       "    }\n",
       "\n",
       "    .dataframe thead th {\n",
       "        text-align: right;\n",
       "    }\n",
       "</style>\n",
       "<table border=\"1\" class=\"dataframe\">\n",
       "  <thead>\n",
       "    <tr style=\"text-align: right;\">\n",
       "      <th></th>\n",
       "      <th>GRIP</th>\n",
       "      <th>ARM</th>\n",
       "      <th>RATINGS</th>\n",
       "      <th>SIMS</th>\n",
       "    </tr>\n",
       "  </thead>\n",
       "  <tbody>\n",
       "    <tr>\n",
       "      <th>0</th>\n",
       "      <td>105.5</td>\n",
       "      <td>80.5</td>\n",
       "      <td>31.8</td>\n",
       "      <td>1.18</td>\n",
       "    </tr>\n",
       "    <tr>\n",
       "      <th>1</th>\n",
       "      <td>106.5</td>\n",
       "      <td>93.0</td>\n",
       "      <td>39.8</td>\n",
       "      <td>0.94</td>\n",
       "    </tr>\n",
       "    <tr>\n",
       "      <th>2</th>\n",
       "      <td>94.0</td>\n",
       "      <td>81.0</td>\n",
       "      <td>46.8</td>\n",
       "      <td>0.84</td>\n",
       "    </tr>\n",
       "    <tr>\n",
       "      <th>3</th>\n",
       "      <td>90.5</td>\n",
       "      <td>33.5</td>\n",
       "      <td>52.2</td>\n",
       "      <td>-2.45</td>\n",
       "    </tr>\n",
       "    <tr>\n",
       "      <th>4</th>\n",
       "      <td>104.0</td>\n",
       "      <td>47.5</td>\n",
       "      <td>31.2</td>\n",
       "      <td>1.00</td>\n",
       "    </tr>\n",
       "    <tr>\n",
       "      <th>...</th>\n",
       "      <td>...</td>\n",
       "      <td>...</td>\n",
       "      <td>...</td>\n",
       "      <td>...</td>\n",
       "    </tr>\n",
       "    <tr>\n",
       "      <th>142</th>\n",
       "      <td>147.0</td>\n",
       "      <td>71.0</td>\n",
       "      <td>57.2</td>\n",
       "      <td>0.53</td>\n",
       "    </tr>\n",
       "    <tr>\n",
       "      <th>143</th>\n",
       "      <td>109.5</td>\n",
       "      <td>86.5</td>\n",
       "      <td>43.0</td>\n",
       "      <td>2.89</td>\n",
       "    </tr>\n",
       "    <tr>\n",
       "      <th>144</th>\n",
       "      <td>54.0</td>\n",
       "      <td>67.5</td>\n",
       "      <td>41.7</td>\n",
       "      <td>-1.38</td>\n",
       "    </tr>\n",
       "    <tr>\n",
       "      <th>145</th>\n",
       "      <td>126.0</td>\n",
       "      <td>63.5</td>\n",
       "      <td>37.0</td>\n",
       "      <td>1.33</td>\n",
       "    </tr>\n",
       "    <tr>\n",
       "      <th>146</th>\n",
       "      <td>94.0</td>\n",
       "      <td>38.0</td>\n",
       "      <td>37.3</td>\n",
       "      <td>-1.53</td>\n",
       "    </tr>\n",
       "  </tbody>\n",
       "</table>\n",
       "<p>147 rows × 4 columns</p>\n",
       "</div>"
      ],
      "text/plain": [
       "      GRIP   ARM  RATINGS  SIMS\n",
       "0    105.5  80.5     31.8  1.18\n",
       "1    106.5  93.0     39.8  0.94\n",
       "2     94.0  81.0     46.8  0.84\n",
       "3     90.5  33.5     52.2 -2.45\n",
       "4    104.0  47.5     31.2  1.00\n",
       "..     ...   ...      ...   ...\n",
       "142  147.0  71.0     57.2  0.53\n",
       "143  109.5  86.5     43.0  2.89\n",
       "144   54.0  67.5     41.7 -1.38\n",
       "145  126.0  63.5     37.0  1.33\n",
       "146   94.0  38.0     37.3 -1.53\n",
       "\n",
       "[147 rows x 4 columns]"
      ]
     },
     "execution_count": 2,
     "metadata": {},
     "output_type": "execute_result"
    }
   ],
   "source": [
    "df"
   ]
  },
  {
   "cell_type": "markdown",
   "metadata": {
    "id": "5Rgx1FcTRxKU"
   },
   "source": [
    "# Data description"
   ]
  },
  {
   "cell_type": "markdown",
   "metadata": {
    "id": "aTQpFO-Ak3xM"
   },
   "source": [
    "\n",
    "As you can gather from above, the data consist of 147 cases and 4 variables. Each case represents a worker who performs physically demanding tasks ([lineworkers](https://en.wikipedia.org/wiki/Lineworker), [mechanics](https://en.wikipedia.org/wiki/Mechanic), [electricians](https://en.wikipedia.org/wiki/Electrician), and [construction and maintenance workers](https://en.wikipedia.org/wiki/Construction_worker)). The first two variables (`GRIP` for grip and `ARM` for arm strength) are measures of strength (in lbs.) from each worker. These measurements were gathered using a machine called [Jackson Evaluation Equipment (JES)](https://lafayetteevaluation.com/products/jackson-strength-system). The last two variables (`RATINGS` and `SIMS`) are job performance measurements. `RATINGS` is a rank given to each worker by their respective supervisors (the higher the better). `SIMS` is an artificial variable based on a simulation that required workers to exert force on an artificial wrench while standing and kneeling. Larger scores indicate better performance.\n",
    "\n",
    "### Task 1\n",
    "a. Look at the distributions for each of the variables. In a text cell describe their shape (center, symmetry, modes, skewness, etc.) Answer questions like the following to start getting a feel for the data: What proportion of workers exerted force greater than 100 lbs.? Were the workers in the sample mostly 'good'?\n",
    "\n",
    "b. As analysts we like it when variables in our data follow well-known distributions, such as the normal distribution. Do any of the variables appear to be normal? Conduct normality checks using the [*empirical rule*](https://learn.zybooks.com/zybook/SALVECSC104PaniaguaSpring2021/chapter/4/section/4?content_resource_id=48842584), and *qq plots* or *normal probability plots*. Do these methods agree?"
   ]
  },
  {
   "cell_type": "code",
   "execution_count": 73,
   "metadata": {},
   "outputs": [],
   "source": [
    "# import necessary libraries\n",
    "import seaborn as sns\n",
    "import numpy as np\n",
    "import matplotlib.pyplot as plt\n",
    "import statsmodels.api as sm\n",
    "import math as mt\n",
    "import scipy.stats as st\n",
    "%matplotlib inline"
   ]
  },
  {
   "cell_type": "markdown",
   "metadata": {
    "id": "4uGORm9HBkfK"
   },
   "source": [
    "## GRIP DISTRIBUTION"
   ]
  },
  {
   "cell_type": "code",
   "execution_count": 4,
   "metadata": {},
   "outputs": [
    {
     "data": {
      "image/png": "[encoded data removed]",
      "text/plain": [
       "<Figure size 432x288 with 1 Axes>"
      ]
     },
     "metadata": {
      "needs_background": "light"
     },
     "output_type": "display_data"
    }
   ],
   "source": [
    "plt.hist(data= df, x= 'GRIP', histtype= 'stepfilled', edgecolor= 'black')\n",
    "plt.axvline(df['GRIP'].median(), color= 'red', label='Median Grip Strength')\n",
    "plt.axvline(df['GRIP'].mean(), color= 'gold', label='Average Grip Strength')\n",
    "plt.xlabel(\"Grip strength (lbs)\")\n",
    "plt.ylabel(\"Count\")\n",
    "plt.legend()\n",
    "plt.show()"
   ]
  },
  {
   "cell_type": "markdown",
   "metadata": {},
   "source": [
    "Distinct peak at around 120 lbs. Centeredness due mean and median (very close together). No sign of skewness. Unimodal for the most part - no other peak"
   ]
  },
  {
   "cell_type": "code",
   "execution_count": 90,
   "metadata": {},
   "outputs": [
    {
     "name": "stdout",
     "output_type": "stream",
     "text": [
      "The proportion of workers who exerted a force greater than 100: 65.31%\n"
     ]
    }
   ],
   "source": [
    "count = 0\n",
    "for row in df['GRIP']:\n",
    "    if row > 100:\n",
    "        count +=1\n",
    "print(\"The proportion of workers who exerted a force greater than 100: {:.2f}%\".format(count/df.shape[0]*100))"
   ]
  },
  {
   "cell_type": "markdown",
   "metadata": {},
   "source": [
    "#### Checking normality using empirical rule (68% of data lies within one standard deviation from the mean). GRIP looks the closest to a normal distribution"
   ]
  },
  {
   "cell_type": "code",
   "execution_count": 91,
   "metadata": {},
   "outputs": [
    {
     "name": "stdout",
     "output_type": "stream",
     "text": [
      "GRIP does not follow the empirical rule of normality, the proportion is: 75.51%\n"
     ]
    }
   ],
   "source": [
    "df.GRIP.std() #23.62987081837943\n",
    "df.GRIP.mean() #110.2312925170068\n",
    "lower_bound = df.GRIP.mean() - df.GRIP.std()\n",
    "upper_bound = df.GRIP.mean() + df.GRIP.std()\n",
    "\n",
    "count = 0\n",
    "for row in df['GRIP']:\n",
    "    if upper_bound > row > lower_bound:\n",
    "        count +=1\n",
    "proportion = count/df.shape[0] * 100\n",
    "if int(count) == 68:\n",
    "    print(\"68 of data lies within one standard deviation from the mean, meaning that it follows the empirical rule of normality\")\n",
    "else:\n",
    "    print(\"GRIP does not follow the empirical rule of normality, the proportion is: {:.2F}%\".format(proportion))"
   ]
  },
  {
   "cell_type": "markdown",
   "metadata": {},
   "source": [
    "## ARM DISTRIBUTION"
   ]
  },
  {
   "cell_type": "code",
   "execution_count": 7,
   "metadata": {},
   "outputs": [
    {
     "data": {
      "image/png": "[encoded data removed]",
      "text/plain": [
       "<Figure size 432x288 with 1 Axes>"
      ]
     },
     "metadata": {
      "needs_background": "light"
     },
     "output_type": "display_data"
    }
   ],
   "source": [
    "plt.hist(data= df, x= 'ARM', histtype= 'stepfilled', edgecolor= 'black')\n",
    "plt.axvline(df['ARM'].median(), color= 'red', label='Median Arm Strength')\n",
    "plt.axvline(df['ARM'].mean(), color= 'gold', label='Average Arm Strength')\n",
    "plt.xlabel(\"Arms strength (lbs)\")\n",
    "plt.ylabel(\"Count\")\n",
    "plt.legend()\n",
    "plt.show()"
   ]
  },
  {
   "cell_type": "markdown",
   "metadata": {},
   "source": [
    "Although not distinct, peak at around 80 lbs. Could say that it is left-skewed; also evident because the median is greater than the mean. Having low values for the end tails are expected (similar behaviour in grip strength plot above)"
   ]
  },
  {
   "cell_type": "markdown",
   "metadata": {},
   "source": [
    "Physically demanding jobs generally require the abillity to lift 50-75lbs (exclusive of higher weights because that'll be dedicated to team lifts instead).\n",
    "\n",
    "The proportion of workers who have arm strength of 50lbs and above are deemed to be 'good'\n",
    "\n",
    "Therefore, I will show the proportion of workers who have 50lbs arm strength and above:"
   ]
  },
  {
   "cell_type": "code",
   "execution_count": 8,
   "metadata": {},
   "outputs": [
    {
     "name": "stdout",
     "output_type": "stream",
     "text": [
      "91.16% of workers are deemed to be 'good'.\n"
     ]
    }
   ],
   "source": [
    "count = 0\n",
    "for row in df['ARM']:\n",
    "    if row >= 50:\n",
    "        count +=1\n",
    "proportion = count/df.shape[0] * 100\n",
    "\n",
    "print(\"{:.2f}% of workers are deemed to be 'good'.\".format(proportion))"
   ]
  },
  {
   "cell_type": "markdown",
   "metadata": {},
   "source": [
    "## RATINGS DISTRIBUTION"
   ]
  },
  {
   "cell_type": "code",
   "execution_count": 10,
   "metadata": {},
   "outputs": [
    {
     "data": {
      "image/png": "[encoded data removed]",
      "text/plain": [
       "<Figure size 432x288 with 1 Axes>"
      ]
     },
     "metadata": {
      "needs_background": "light"
     },
     "output_type": "display_data"
    }
   ],
   "source": [
    "plt.hist(data= df, x= 'RATINGS', histtype= 'stepfilled', edgecolor= 'black')\n",
    "plt.axvline(df['RATINGS'].median(), color= 'red', label='Median Ratings')\n",
    "plt.axvline(df['RATINGS'].mean(), color= 'gold', label='Average Ratings')\n",
    "plt.xlabel(\"Ratings\")\n",
    "plt.ylabel(\"Count\")\n",
    "plt.legend()\n",
    "plt.show()"
   ]
  },
  {
   "cell_type": "markdown",
   "metadata": {},
   "source": [
    "Not symmetric. However, median and mean centered at approximately 41. Count overall is above 7, Good ratings from the workers"
   ]
  },
  {
   "cell_type": "markdown",
   "metadata": {},
   "source": [
    "## FORCE EXERTED DISTRIBUTION"
   ]
  },
  {
   "cell_type": "code",
   "execution_count": 11,
   "metadata": {},
   "outputs": [
    {
     "data": {
      "image/png": "[encoded data removed]",
      "text/plain": [
       "<Figure size 432x288 with 1 Axes>"
      ]
     },
     "metadata": {
      "needs_background": "light"
     },
     "output_type": "display_data"
    }
   ],
   "source": [
    "plt.hist(data= df, x= 'SIMS', histtype= 'stepfilled', edgecolor= 'black')\n",
    "plt.axvline(df['SIMS'].median(), color= 'red', label='Median Force Exerted')\n",
    "plt.axvline(df['SIMS'].mean(), color= 'gold', label='Average Force Exerted')\n",
    "plt.xlabel(\"Force Exerted\")\n",
    "plt.ylabel(\"Count\")\n",
    "plt.legend()\n",
    "plt.show()"
   ]
  },
  {
   "cell_type": "markdown",
   "metadata": {},
   "source": [
    "Median and average similar in value. (around) 0 force exerted seems to be most frequent. Potential outlier above 4. Ratings overall are around 40, but there are a lot of workers who have a force exertion of below 0. Does force not have a lot of weight in consideration of rating?"
   ]
  },
  {
   "cell_type": "markdown",
   "metadata": {
    "id": "xGf-tNN5BoQf"
   },
   "source": [
    "## Task 2:\n",
    " Exploring relationships among the variables\n",
    "We want to use `GRIP` and `ARM` as predictors of `RATINGS` and `SIMS`. Are these variables linearly associated?\n",
    "\n",
    "1. Construct scatterplots of `ARM` and `GRIP` against `RATINGS`and `SIMS`. Do they seem to be correlated? By looking at these plots, how strong will you say the relations seem to be?\n",
    "2. Obtain the respective correlation coefficients and coefficients of determination. Verify your predictions.\n",
    "3. Write down your conclusions."
   ]
  },
  {
   "cell_type": "code",
   "execution_count": 12,
   "metadata": {},
   "outputs": [],
   "source": [
    "from statsmodels.formula.api import ols # exploring relationships between variables"
   ]
  },
  {
   "cell_type": "code",
   "execution_count": 13,
   "metadata": {},
   "outputs": [
    {
     "name": "stdout",
     "output_type": "stream",
     "text": [
      "              ARM      GRIP   RATINGS      SIMS\n",
      "ARM      1.000000  0.629836  0.221280  0.686007\n",
      "GRIP     0.629836  1.000000  0.183257  0.639846\n",
      "RATINGS  0.221280  0.183257  1.000000  0.168084\n",
      "SIMS     0.686007  0.639846  0.168084  1.000000\n"
     ]
    }
   ],
   "source": [
    "print(df[['ARM','GRIP', 'RATINGS', 'SIMS']].corr())"
   ]
  },
  {
   "cell_type": "markdown",
   "metadata": {},
   "source": [
    "It seems like arm strength and grip strength do not have effect on ratings. Which is nice to hear (from a moral stand point). But, these are _physically demanding_ jobs, I would have thought the abillity to lift more would positively correlate with ratings.\n",
    "\n",
    "We however, see a positive strong correlation between arm and grip strength and the artificial variable, SIMS. Which is expected. If humans can lift past a certain threshold, computers know no better to deem that as good."
   ]
  },
  {
   "cell_type": "markdown",
   "metadata": {},
   "source": [
    "## RATINGS AGAINST ARM STRENGTH"
   ]
  },
  {
   "cell_type": "code",
   "execution_count": 14,
   "metadata": {
    "id": "7N3-4vs3EymN"
   },
   "outputs": [
    {
     "data": {
      "image/png": "[encoded data removed]",
      "text/plain": [
       "<Figure size 432x288 with 1 Axes>"
      ]
     },
     "metadata": {
      "needs_background": "light"
     },
     "output_type": "display_data"
    }
   ],
   "source": [
    "sns.regplot(x= df['ARM'], y= df['RATINGS'])\n",
    "plt.xlabel(\"Arm Strength (lbs)\")\n",
    "plt.ylabel(\"Ratings\")\n",
    "plt.show()"
   ]
  },
  {
   "cell_type": "markdown",
   "metadata": {},
   "source": [
    "Prediction: Very weak, Not correlated at all"
   ]
  },
  {
   "cell_type": "code",
   "execution_count": 15,
   "metadata": {},
   "outputs": [
    {
     "data": {
      "text/html": [
       "<table class=\"simpletable\">\n",
       "<caption>OLS Regression Results</caption>\n",
       "<tr>\n",
       "  <th>Dep. Variable:</th>         <td>RATINGS</td>     <th>  R-squared:         </th> <td>   0.049</td>\n",
       "</tr>\n",
       "<tr>\n",
       "  <th>Model:</th>                   <td>OLS</td>       <th>  Adj. R-squared:    </th> <td>   0.042</td>\n",
       "</tr>\n",
       "<tr>\n",
       "  <th>Method:</th>             <td>Least Squares</td>  <th>  F-statistic:       </th> <td>   7.465</td>\n",
       "</tr>\n",
       "<tr>\n",
       "  <th>Date:</th>             <td>Thu, 18 Mar 2021</td> <th>  Prob (F-statistic):</th>  <td>0.00707</td>\n",
       "</tr>\n",
       "<tr>\n",
       "  <th>Time:</th>                 <td>22:05:27</td>     <th>  Log-Likelihood:    </th> <td> -519.36</td>\n",
       "</tr>\n",
       "<tr>\n",
       "  <th>No. Observations:</th>      <td>   147</td>      <th>  AIC:               </th> <td>   1043.</td>\n",
       "</tr>\n",
       "<tr>\n",
       "  <th>Df Residuals:</th>          <td>   145</td>      <th>  BIC:               </th> <td>   1049.</td>\n",
       "</tr>\n",
       "<tr>\n",
       "  <th>Df Model:</th>              <td>     1</td>      <th>                     </th>     <td> </td>   \n",
       "</tr>\n",
       "<tr>\n",
       "  <th>Covariance Type:</th>      <td>nonrobust</td>    <th>                     </th>     <td> </td>   \n",
       "</tr>\n",
       "</table>\n",
       "<table class=\"simpletable\">\n",
       "<tr>\n",
       "      <td></td>         <th>coef</th>     <th>std err</th>      <th>t</th>      <th>P>|t|</th>  <th>[0.025</th>    <th>0.975]</th>  \n",
       "</tr>\n",
       "<tr>\n",
       "  <th>Intercept</th> <td>   33.9749</td> <td>    2.665</td> <td>   12.748</td> <td> 0.000</td> <td>   28.708</td> <td>   39.242</td>\n",
       "</tr>\n",
       "<tr>\n",
       "  <th>ARM</th>       <td>    0.0893</td> <td>    0.033</td> <td>    2.732</td> <td> 0.007</td> <td>    0.025</td> <td>    0.154</td>\n",
       "</tr>\n",
       "</table>\n",
       "<table class=\"simpletable\">\n",
       "<tr>\n",
       "  <th>Omnibus:</th>       <td> 8.248</td> <th>  Durbin-Watson:     </th> <td>   2.169</td>\n",
       "</tr>\n",
       "<tr>\n",
       "  <th>Prob(Omnibus):</th> <td> 0.016</td> <th>  Jarque-Bera (JB):  </th> <td>   3.661</td>\n",
       "</tr>\n",
       "<tr>\n",
       "  <th>Skew:</th>          <td>-0.047</td> <th>  Prob(JB):          </th> <td>   0.160</td>\n",
       "</tr>\n",
       "<tr>\n",
       "  <th>Kurtosis:</th>      <td> 2.233</td> <th>  Cond. No.          </th> <td>    316.</td>\n",
       "</tr>\n",
       "</table><br/><br/>Notes:<br/>[1] Standard Errors assume that the covariance matrix of the errors is correctly specified."
      ],
      "text/plain": [
       "<class 'statsmodels.iolib.summary.Summary'>\n",
       "\"\"\"\n",
       "                            OLS Regression Results                            \n",
       "==============================================================================\n",
       "Dep. Variable:                RATINGS   R-squared:                       0.049\n",
       "Model:                            OLS   Adj. R-squared:                  0.042\n",
       "Method:                 Least Squares   F-statistic:                     7.465\n",
       "Date:                Thu, 18 Mar 2021   Prob (F-statistic):            0.00707\n",
       "Time:                        22:05:27   Log-Likelihood:                -519.36\n",
       "No. Observations:                 147   AIC:                             1043.\n",
       "Df Residuals:                     145   BIC:                             1049.\n",
       "Df Model:                           1                                         \n",
       "Covariance Type:            nonrobust                                         \n",
       "==============================================================================\n",
       "                 coef    std err          t      P>|t|      [0.025      0.975]\n",
       "------------------------------------------------------------------------------\n",
       "Intercept     33.9749      2.665     12.748      0.000      28.708      39.242\n",
       "ARM            0.0893      0.033      2.732      0.007       0.025       0.154\n",
       "==============================================================================\n",
       "Omnibus:                        8.248   Durbin-Watson:                   2.169\n",
       "Prob(Omnibus):                  0.016   Jarque-Bera (JB):                3.661\n",
       "Skew:                          -0.047   Prob(JB):                        0.160\n",
       "Kurtosis:                       2.233   Cond. No.                         316.\n",
       "==============================================================================\n",
       "\n",
       "Notes:\n",
       "[1] Standard Errors assume that the covariance matrix of the errors is correctly specified.\n",
       "\"\"\""
      ]
     },
     "execution_count": 15,
     "metadata": {},
     "output_type": "execute_result"
    }
   ],
   "source": [
    "results = ols('RATINGS ~ ARM', data=df).fit()\n",
    "results.summary()"
   ]
  },
  {
   "cell_type": "markdown",
   "metadata": {},
   "source": [
    "R-squared is low: 0.049. Suggesting that there is weak correlation. Therefore prediction is correct"
   ]
  },
  {
   "cell_type": "markdown",
   "metadata": {},
   "source": [
    "## FORCE EXERTED AGAINST ARM STRENGTH"
   ]
  },
  {
   "cell_type": "code",
   "execution_count": 16,
   "metadata": {},
   "outputs": [
    {
     "data": {
      "image/png": "[encoded data removed]",
      "text/plain": [
       "<Figure size 432x288 with 1 Axes>"
      ]
     },
     "metadata": {
      "needs_background": "light"
     },
     "output_type": "display_data"
    }
   ],
   "source": [
    "sns.regplot(x= df['ARM'], y= df['SIMS'])\n",
    "plt.xlabel(\"Arm Strength (lbs)\")\n",
    "plt.ylabel(\"Force Exerted\")\n",
    "plt.show()"
   ]
  },
  {
   "cell_type": "markdown",
   "metadata": {},
   "source": [
    "Prediction: Strong, positive correlation. The more arm strength you have, the greater force you can exert due to the simulation"
   ]
  },
  {
   "cell_type": "code",
   "execution_count": 17,
   "metadata": {},
   "outputs": [
    {
     "data": {
      "text/html": [
       "<table class=\"simpletable\">\n",
       "<caption>OLS Regression Results</caption>\n",
       "<tr>\n",
       "  <th>Dep. Variable:</th>          <td>SIMS</td>       <th>  R-squared:         </th> <td>   0.471</td>\n",
       "</tr>\n",
       "<tr>\n",
       "  <th>Model:</th>                   <td>OLS</td>       <th>  Adj. R-squared:    </th> <td>   0.467</td>\n",
       "</tr>\n",
       "<tr>\n",
       "  <th>Method:</th>             <td>Least Squares</td>  <th>  F-statistic:       </th> <td>   128.9</td>\n",
       "</tr>\n",
       "<tr>\n",
       "  <th>Date:</th>             <td>Thu, 18 Mar 2021</td> <th>  Prob (F-statistic):</th> <td>9.01e-22</td>\n",
       "</tr>\n",
       "<tr>\n",
       "  <th>Time:</th>                 <td>22:05:27</td>     <th>  Log-Likelihood:    </th> <td> -237.51</td>\n",
       "</tr>\n",
       "<tr>\n",
       "  <th>No. Observations:</th>      <td>   147</td>      <th>  AIC:               </th> <td>   479.0</td>\n",
       "</tr>\n",
       "<tr>\n",
       "  <th>Df Residuals:</th>          <td>   145</td>      <th>  BIC:               </th> <td>   485.0</td>\n",
       "</tr>\n",
       "<tr>\n",
       "  <th>Df Model:</th>              <td>     1</td>      <th>                     </th>     <td> </td>   \n",
       "</tr>\n",
       "<tr>\n",
       "  <th>Covariance Type:</th>      <td>nonrobust</td>    <th>                     </th>     <td> </td>   \n",
       "</tr>\n",
       "</table>\n",
       "<table class=\"simpletable\">\n",
       "<tr>\n",
       "      <td></td>         <th>coef</th>     <th>std err</th>      <th>t</th>      <th>P>|t|</th>  <th>[0.025</th>    <th>0.975]</th>  \n",
       "</tr>\n",
       "<tr>\n",
       "  <th>Intercept</th> <td>   -4.0952</td> <td>    0.392</td> <td>  -10.454</td> <td> 0.000</td> <td>   -4.869</td> <td>   -3.321</td>\n",
       "</tr>\n",
       "<tr>\n",
       "  <th>ARM</th>       <td>    0.0546</td> <td>    0.005</td> <td>   11.353</td> <td> 0.000</td> <td>    0.045</td> <td>    0.064</td>\n",
       "</tr>\n",
       "</table>\n",
       "<table class=\"simpletable\">\n",
       "<tr>\n",
       "  <th>Omnibus:</th>       <td> 0.623</td> <th>  Durbin-Watson:     </th> <td>   2.020</td>\n",
       "</tr>\n",
       "<tr>\n",
       "  <th>Prob(Omnibus):</th> <td> 0.732</td> <th>  Jarque-Bera (JB):  </th> <td>   0.403</td>\n",
       "</tr>\n",
       "<tr>\n",
       "  <th>Skew:</th>          <td> 0.122</td> <th>  Prob(JB):          </th> <td>   0.817</td>\n",
       "</tr>\n",
       "<tr>\n",
       "  <th>Kurtosis:</th>      <td> 3.080</td> <th>  Cond. No.          </th> <td>    316.</td>\n",
       "</tr>\n",
       "</table><br/><br/>Notes:<br/>[1] Standard Errors assume that the covariance matrix of the errors is correctly specified."
      ],
      "text/plain": [
       "<class 'statsmodels.iolib.summary.Summary'>\n",
       "\"\"\"\n",
       "                            OLS Regression Results                            \n",
       "==============================================================================\n",
       "Dep. Variable:                   SIMS   R-squared:                       0.471\n",
       "Model:                            OLS   Adj. R-squared:                  0.467\n",
       "Method:                 Least Squares   F-statistic:                     128.9\n",
       "Date:                Thu, 18 Mar 2021   Prob (F-statistic):           9.01e-22\n",
       "Time:                        22:05:27   Log-Likelihood:                -237.51\n",
       "No. Observations:                 147   AIC:                             479.0\n",
       "Df Residuals:                     145   BIC:                             485.0\n",
       "Df Model:                           1                                         \n",
       "Covariance Type:            nonrobust                                         \n",
       "==============================================================================\n",
       "                 coef    std err          t      P>|t|      [0.025      0.975]\n",
       "------------------------------------------------------------------------------\n",
       "Intercept     -4.0952      0.392    -10.454      0.000      -4.869      -3.321\n",
       "ARM            0.0546      0.005     11.353      0.000       0.045       0.064\n",
       "==============================================================================\n",
       "Omnibus:                        0.623   Durbin-Watson:                   2.020\n",
       "Prob(Omnibus):                  0.732   Jarque-Bera (JB):                0.403\n",
       "Skew:                           0.122   Prob(JB):                        0.817\n",
       "Kurtosis:                       3.080   Cond. No.                         316.\n",
       "==============================================================================\n",
       "\n",
       "Notes:\n",
       "[1] Standard Errors assume that the covariance matrix of the errors is correctly specified.\n",
       "\"\"\""
      ]
     },
     "execution_count": 17,
     "metadata": {},
     "output_type": "execute_result"
    }
   ],
   "source": [
    "results = ols('SIMS ~ ARM', data=df).fit()\n",
    "results.summary()"
   ]
  },
  {
   "cell_type": "markdown",
   "metadata": {},
   "source": [
    "R-squared is higher than Ratings against arm strength: 0.471, suggesting that there is a stronger correlation (max is 1), as expected. Therefore prediction is correct"
   ]
  },
  {
   "cell_type": "markdown",
   "metadata": {},
   "source": [
    "## RATINGS AGAINST GRIP STRENGTH"
   ]
  },
  {
   "cell_type": "code",
   "execution_count": 18,
   "metadata": {},
   "outputs": [
    {
     "data": {
      "image/png": "[encoded data removed]",
      "text/plain": [
       "<Figure size 432x288 with 1 Axes>"
      ]
     },
     "metadata": {
      "needs_background": "light"
     },
     "output_type": "display_data"
    }
   ],
   "source": [
    "sns.regplot(x= df['GRIP'], y= df['RATINGS'])\n",
    "plt.xlabel(\"Grip Strength (lbs)\")\n",
    "plt.ylabel(\"Ratings\")\n",
    "plt.show()"
   ]
  },
  {
   "cell_type": "markdown",
   "metadata": {},
   "source": [
    "Prediction: Weak, no correlation"
   ]
  },
  {
   "cell_type": "code",
   "execution_count": 19,
   "metadata": {},
   "outputs": [
    {
     "data": {
      "text/html": [
       "<table class=\"simpletable\">\n",
       "<caption>OLS Regression Results</caption>\n",
       "<tr>\n",
       "  <th>Dep. Variable:</th>         <td>RATINGS</td>     <th>  R-squared:         </th> <td>   0.034</td>\n",
       "</tr>\n",
       "<tr>\n",
       "  <th>Model:</th>                   <td>OLS</td>       <th>  Adj. R-squared:    </th> <td>   0.027</td>\n",
       "</tr>\n",
       "<tr>\n",
       "  <th>Method:</th>             <td>Least Squares</td>  <th>  F-statistic:       </th> <td>   5.039</td>\n",
       "</tr>\n",
       "<tr>\n",
       "  <th>Date:</th>             <td>Thu, 18 Mar 2021</td> <th>  Prob (F-statistic):</th>  <td>0.0263</td> \n",
       "</tr>\n",
       "<tr>\n",
       "  <th>Time:</th>                 <td>22:05:28</td>     <th>  Log-Likelihood:    </th> <td> -520.54</td>\n",
       "</tr>\n",
       "<tr>\n",
       "  <th>No. Observations:</th>      <td>   147</td>      <th>  AIC:               </th> <td>   1045.</td>\n",
       "</tr>\n",
       "<tr>\n",
       "  <th>Df Residuals:</th>          <td>   145</td>      <th>  BIC:               </th> <td>   1051.</td>\n",
       "</tr>\n",
       "<tr>\n",
       "  <th>Df Model:</th>              <td>     1</td>      <th>                     </th>     <td> </td>   \n",
       "</tr>\n",
       "<tr>\n",
       "  <th>Covariance Type:</th>      <td>nonrobust</td>    <th>                     </th>     <td> </td>   \n",
       "</tr>\n",
       "</table>\n",
       "<table class=\"simpletable\">\n",
       "<tr>\n",
       "      <td></td>         <th>coef</th>     <th>std err</th>      <th>t</th>      <th>P>|t|</th>  <th>[0.025</th>    <th>0.975]</th>  \n",
       "</tr>\n",
       "<tr>\n",
       "  <th>Intercept</th> <td>   33.7247</td> <td>    3.319</td> <td>   10.162</td> <td> 0.000</td> <td>   27.165</td> <td>   40.284</td>\n",
       "</tr>\n",
       "<tr>\n",
       "  <th>GRIP</th>      <td>    0.0661</td> <td>    0.029</td> <td>    2.245</td> <td> 0.026</td> <td>    0.008</td> <td>    0.124</td>\n",
       "</tr>\n",
       "</table>\n",
       "<table class=\"simpletable\">\n",
       "<tr>\n",
       "  <th>Omnibus:</th>       <td>10.590</td> <th>  Durbin-Watson:     </th> <td>   2.205</td>\n",
       "</tr>\n",
       "<tr>\n",
       "  <th>Prob(Omnibus):</th> <td> 0.005</td> <th>  Jarque-Bera (JB):  </th> <td>   4.215</td>\n",
       "</tr>\n",
       "<tr>\n",
       "  <th>Skew:</th>          <td>-0.055</td> <th>  Prob(JB):          </th> <td>   0.122</td>\n",
       "</tr>\n",
       "<tr>\n",
       "  <th>Kurtosis:</th>      <td> 2.178</td> <th>  Cond. No.          </th> <td>    540.</td>\n",
       "</tr>\n",
       "</table><br/><br/>Notes:<br/>[1] Standard Errors assume that the covariance matrix of the errors is correctly specified."
      ],
      "text/plain": [
       "<class 'statsmodels.iolib.summary.Summary'>\n",
       "\"\"\"\n",
       "                            OLS Regression Results                            \n",
       "==============================================================================\n",
       "Dep. Variable:                RATINGS   R-squared:                       0.034\n",
       "Model:                            OLS   Adj. R-squared:                  0.027\n",
       "Method:                 Least Squares   F-statistic:                     5.039\n",
       "Date:                Thu, 18 Mar 2021   Prob (F-statistic):             0.0263\n",
       "Time:                        22:05:28   Log-Likelihood:                -520.54\n",
       "No. Observations:                 147   AIC:                             1045.\n",
       "Df Residuals:                     145   BIC:                             1051.\n",
       "Df Model:                           1                                         \n",
       "Covariance Type:            nonrobust                                         \n",
       "==============================================================================\n",
       "                 coef    std err          t      P>|t|      [0.025      0.975]\n",
       "------------------------------------------------------------------------------\n",
       "Intercept     33.7247      3.319     10.162      0.000      27.165      40.284\n",
       "GRIP           0.0661      0.029      2.245      0.026       0.008       0.124\n",
       "==============================================================================\n",
       "Omnibus:                       10.590   Durbin-Watson:                   2.205\n",
       "Prob(Omnibus):                  0.005   Jarque-Bera (JB):                4.215\n",
       "Skew:                          -0.055   Prob(JB):                        0.122\n",
       "Kurtosis:                       2.178   Cond. No.                         540.\n",
       "==============================================================================\n",
       "\n",
       "Notes:\n",
       "[1] Standard Errors assume that the covariance matrix of the errors is correctly specified.\n",
       "\"\"\""
      ]
     },
     "execution_count": 19,
     "metadata": {},
     "output_type": "execute_result"
    }
   ],
   "source": [
    "results = ols('RATINGS ~ GRIP', data=df).fit()\n",
    "results.summary()"
   ]
  },
  {
   "cell_type": "markdown",
   "metadata": {},
   "source": [
    "Lowest R-squared value, 0.034. Subsequently, weakest correlation as predicted. "
   ]
  },
  {
   "cell_type": "markdown",
   "metadata": {},
   "source": [
    "## FORCE EXERTED AGAINST GRIP STRENGTH"
   ]
  },
  {
   "cell_type": "code",
   "execution_count": 20,
   "metadata": {},
   "outputs": [
    {
     "data": {
      "image/png": "[encoded data removed]",
      "text/plain": [
       "<Figure size 432x288 with 1 Axes>"
      ]
     },
     "metadata": {
      "needs_background": "light"
     },
     "output_type": "display_data"
    }
   ],
   "source": [
    "sns.regplot(x= df['GRIP'], y= df['SIMS'])\n",
    "plt.xlabel(\"Grip Strength (lbs)\")\n",
    "plt.ylabel(\"Force Exerted\")\n",
    "plt.show()"
   ]
  },
  {
   "cell_type": "markdown",
   "metadata": {},
   "source": [
    "Prediction: Positive, strong correlation. Similar to Force against arm strength, the more grip strength you have, the greater force you can exert due to the simulation"
   ]
  },
  {
   "cell_type": "code",
   "execution_count": 21,
   "metadata": {},
   "outputs": [
    {
     "data": {
      "text/html": [
       "<table class=\"simpletable\">\n",
       "<caption>OLS Regression Results</caption>\n",
       "<tr>\n",
       "  <th>Dep. Variable:</th>          <td>SIMS</td>       <th>  R-squared:         </th> <td>   0.409</td>\n",
       "</tr>\n",
       "<tr>\n",
       "  <th>Model:</th>                   <td>OLS</td>       <th>  Adj. R-squared:    </th> <td>   0.405</td>\n",
       "</tr>\n",
       "<tr>\n",
       "  <th>Method:</th>             <td>Least Squares</td>  <th>  F-statistic:       </th> <td>   100.5</td>\n",
       "</tr>\n",
       "<tr>\n",
       "  <th>Date:</th>             <td>Thu, 18 Mar 2021</td> <th>  Prob (F-statistic):</th> <td>2.68e-18</td>\n",
       "</tr>\n",
       "<tr>\n",
       "  <th>Time:</th>                 <td>22:05:28</td>     <th>  Log-Likelihood:    </th> <td> -245.55</td>\n",
       "</tr>\n",
       "<tr>\n",
       "  <th>No. Observations:</th>      <td>   147</td>      <th>  AIC:               </th> <td>   495.1</td>\n",
       "</tr>\n",
       "<tr>\n",
       "  <th>Df Residuals:</th>          <td>   145</td>      <th>  BIC:               </th> <td>   501.1</td>\n",
       "</tr>\n",
       "<tr>\n",
       "  <th>Df Model:</th>              <td>     1</td>      <th>                     </th>     <td> </td>   \n",
       "</tr>\n",
       "<tr>\n",
       "  <th>Covariance Type:</th>      <td>nonrobust</td>    <th>                     </th>     <td> </td>   \n",
       "</tr>\n",
       "</table>\n",
       "<table class=\"simpletable\">\n",
       "<tr>\n",
       "      <td></td>         <th>coef</th>     <th>std err</th>      <th>t</th>      <th>P>|t|</th>  <th>[0.025</th>    <th>0.975]</th>  \n",
       "</tr>\n",
       "<tr>\n",
       "  <th>Intercept</th> <td>   -4.8097</td> <td>    0.511</td> <td>   -9.410</td> <td> 0.000</td> <td>   -5.820</td> <td>   -3.799</td>\n",
       "</tr>\n",
       "<tr>\n",
       "  <th>GRIP</th>      <td>    0.0455</td> <td>    0.005</td> <td>   10.026</td> <td> 0.000</td> <td>    0.037</td> <td>    0.054</td>\n",
       "</tr>\n",
       "</table>\n",
       "<table class=\"simpletable\">\n",
       "<tr>\n",
       "  <th>Omnibus:</th>       <td> 1.480</td> <th>  Durbin-Watson:     </th> <td>   2.008</td>\n",
       "</tr>\n",
       "<tr>\n",
       "  <th>Prob(Omnibus):</th> <td> 0.477</td> <th>  Jarque-Bera (JB):  </th> <td>   1.559</td>\n",
       "</tr>\n",
       "<tr>\n",
       "  <th>Skew:</th>          <td> 0.225</td> <th>  Prob(JB):          </th> <td>   0.459</td>\n",
       "</tr>\n",
       "<tr>\n",
       "  <th>Kurtosis:</th>      <td> 2.771</td> <th>  Cond. No.          </th> <td>    540.</td>\n",
       "</tr>\n",
       "</table><br/><br/>Notes:<br/>[1] Standard Errors assume that the covariance matrix of the errors is correctly specified."
      ],
      "text/plain": [
       "<class 'statsmodels.iolib.summary.Summary'>\n",
       "\"\"\"\n",
       "                            OLS Regression Results                            \n",
       "==============================================================================\n",
       "Dep. Variable:                   SIMS   R-squared:                       0.409\n",
       "Model:                            OLS   Adj. R-squared:                  0.405\n",
       "Method:                 Least Squares   F-statistic:                     100.5\n",
       "Date:                Thu, 18 Mar 2021   Prob (F-statistic):           2.68e-18\n",
       "Time:                        22:05:28   Log-Likelihood:                -245.55\n",
       "No. Observations:                 147   AIC:                             495.1\n",
       "Df Residuals:                     145   BIC:                             501.1\n",
       "Df Model:                           1                                         \n",
       "Covariance Type:            nonrobust                                         \n",
       "==============================================================================\n",
       "                 coef    std err          t      P>|t|      [0.025      0.975]\n",
       "------------------------------------------------------------------------------\n",
       "Intercept     -4.8097      0.511     -9.410      0.000      -5.820      -3.799\n",
       "GRIP           0.0455      0.005     10.026      0.000       0.037       0.054\n",
       "==============================================================================\n",
       "Omnibus:                        1.480   Durbin-Watson:                   2.008\n",
       "Prob(Omnibus):                  0.477   Jarque-Bera (JB):                1.559\n",
       "Skew:                           0.225   Prob(JB):                        0.459\n",
       "Kurtosis:                       2.771   Cond. No.                         540.\n",
       "==============================================================================\n",
       "\n",
       "Notes:\n",
       "[1] Standard Errors assume that the covariance matrix of the errors is correctly specified.\n",
       "\"\"\""
      ]
     },
     "execution_count": 21,
     "metadata": {},
     "output_type": "execute_result"
    }
   ],
   "source": [
    "results = ols('SIMS ~ GRIP', data=df).fit()\n",
    "results.summary()"
   ]
  },
  {
   "cell_type": "markdown",
   "metadata": {},
   "source": [
    "R-squared is similar to than Ratings against arm strength: 0.409, suggesting that there is a stronger correlation (max is 1), as expected. Therefore prediction is correct"
   ]
  },
  {
   "cell_type": "markdown",
   "metadata": {
    "id": "Q9pOu1QxS-Z5"
   },
   "source": [
    "# Inferential Analysis"
   ]
  },
  {
   "cell_type": "markdown",
   "metadata": {
    "id": "rHtE1sjuFCIK"
   },
   "source": [
    "## Task 3: Are these correlation coefficients significant?\n",
    "\n",
    "Conduct the four possible tests for significance at the $0.05$ significance level. For each write the null and alternative hypotheses, the type of alternative hypothesis, and the p-value. Write down your conclusions.\n",
    "\n"
   ]
  },
  {
   "cell_type": "code",
   "execution_count": 22,
   "metadata": {},
   "outputs": [
    {
     "name": "stdout",
     "output_type": "stream",
     "text": [
      "Recall correlation matrix: \n",
      "              ARM      GRIP   RATINGS      SIMS\n",
      "ARM      1.000000  0.629836  0.221280  0.686007\n",
      "GRIP     0.629836  1.000000  0.183257  0.639846\n",
      "RATINGS  0.221280  0.183257  1.000000  0.168084\n",
      "SIMS     0.686007  0.639846  0.168084  1.000000\n"
     ]
    }
   ],
   "source": [
    "print(\"Recall correlation matrix: \\n{}\".format(df[['ARM','GRIP', 'RATINGS', 'SIMS']].corr()))"
   ]
  },
  {
   "cell_type": "markdown",
   "metadata": {},
   "source": [
    "## RATINGS AGAINST ARM STRENGTH"
   ]
  },
  {
   "cell_type": "markdown",
   "metadata": {},
   "source": [
    "$H_{0} : \\rho = 0$\n",
    "\n",
    "$H_{1} : \\rho \\neq 0$"
   ]
  },
  {
   "cell_type": "code",
   "execution_count": 79,
   "metadata": {},
   "outputs": [
    {
     "data": {
      "text/plain": [
       "0.014143424768260436"
      ]
     },
     "execution_count": 79,
     "metadata": {},
     "output_type": "execute_result"
    }
   ],
   "source": [
    "p = st.stats.pearsonr(df['ARM'], df['RATINGS'])[1]\n",
    "p = p*2\n",
    "p"
   ]
  },
  {
   "cell_type": "code",
   "execution_count": 27,
   "metadata": {},
   "outputs": [
    {
     "name": "stdout",
     "output_type": "stream",
     "text": [
      "Because 0.0035358561920651173 < 0.05, reject null hypothesis. Sufficient evidence to support alternative hypothesis\n"
     ]
    }
   ],
   "source": [
    "print(\"Because {} < {}, reject null hypothesis. Sufficient evidence to support alternative hypothesis\".format(p, 0.05))"
   ]
  },
  {
   "cell_type": "markdown",
   "metadata": {},
   "source": [
    "## FORCE EXERTED AGAINST ARM STRENGTH"
   ]
  },
  {
   "cell_type": "markdown",
   "metadata": {},
   "source": [
    "$H_{0} : \\rho = 0$\n",
    "\n",
    "$H_{1} : \\rho \\neq 0$"
   ]
  },
  {
   "cell_type": "code",
   "execution_count": 80,
   "metadata": {},
   "outputs": [
    {
     "data": {
      "text/plain": [
       "1.8027023876990078e-21"
      ]
     },
     "execution_count": 80,
     "metadata": {},
     "output_type": "execute_result"
    }
   ],
   "source": [
    "p = st.stats.pearsonr(df['ARM'], df['SIMS'])[1]\n",
    "p = p*2\n",
    "p"
   ]
  },
  {
   "cell_type": "code",
   "execution_count": 81,
   "metadata": {},
   "outputs": [
    {
     "name": "stdout",
     "output_type": "stream",
     "text": [
      "Because 1.8027023876990078e-21 < 0.05, reject null hypothesis. Sufficient evidence to support alternative hypothesis\n"
     ]
    }
   ],
   "source": [
    "print(\"Because {} < {}, reject null hypothesis. Sufficient evidence to support alternative hypothesis\".format(p, 0.05))"
   ]
  },
  {
   "cell_type": "markdown",
   "metadata": {},
   "source": [
    "## RATINGS AGAINST GRIP STRENGTH"
   ]
  },
  {
   "cell_type": "markdown",
   "metadata": {},
   "source": [
    "$H_{0} : \\rho = 0$\n",
    "\n",
    "$H_{1} : \\rho \\neq 0$"
   ]
  },
  {
   "cell_type": "code",
   "execution_count": 86,
   "metadata": {},
   "outputs": [
    {
     "data": {
      "text/plain": [
       "0.05259931080386102"
      ]
     },
     "execution_count": 86,
     "metadata": {},
     "output_type": "execute_result"
    }
   ],
   "source": [
    "p = st.stats.pearsonr(df['GRIP'], df['RATINGS'])[1]\n",
    "p = p*2\n",
    "p"
   ]
  },
  {
   "cell_type": "code",
   "execution_count": 85,
   "metadata": {},
   "outputs": [
    {
     "name": "stdout",
     "output_type": "stream",
     "text": [
      "Because 0.05259931080386102 > 0.05, reject alternative hypothesis. Sufficient evidence to support null hypothesis\n"
     ]
    }
   ],
   "source": [
    "print(\"Because {} > {}, reject alternative hypothesis. Sufficient evidence to support null hypothesis\".format(p, 0.05))"
   ]
  },
  {
   "cell_type": "markdown",
   "metadata": {},
   "source": [
    "## FORCE EXERTED AGAINST GRIP STRENGTH"
   ]
  },
  {
   "cell_type": "markdown",
   "metadata": {},
   "source": [
    "$H_{0} : \\rho = 0$\n",
    "\n",
    "$H_{1} : \\rho \\neq 0$"
   ]
  },
  {
   "cell_type": "code",
   "execution_count": 87,
   "metadata": {},
   "outputs": [
    {
     "data": {
      "text/plain": [
       "5.369509506138375e-18"
      ]
     },
     "execution_count": 87,
     "metadata": {},
     "output_type": "execute_result"
    }
   ],
   "source": [
    "p = st.stats.pearsonr(df['GRIP'], df['SIMS'])[1]\n",
    "p = p*2\n",
    "p"
   ]
  },
  {
   "cell_type": "code",
   "execution_count": 88,
   "metadata": {},
   "outputs": [
    {
     "name": "stdout",
     "output_type": "stream",
     "text": [
      "Because 5.369509506138375e-18 < 0.05, reject null hypothesis. Sufficient evidence to support alternative hypothesis\n"
     ]
    }
   ],
   "source": [
    "print(\"Because {} < {}, reject null hypothesis. Sufficient evidence to support alternative hypothesis\".format(p, 0.05))"
   ]
  },
  {
   "cell_type": "markdown",
   "metadata": {},
   "source": [
    "Due to inferential analysis, it seems that ratings and grip strength truly do not have a correlation; the rest do."
   ]
  },
  {
   "cell_type": "markdown",
   "metadata": {
    "id": "7mOsClnxIWbY"
   },
   "source": [
    "## Task 4: Looking at the residuals and checking assumptions\n",
    "Before we can make predictions with a linear regression model, we must check the assumptions for the model are met. Otherwise any predictions we make would be unreliable.\n",
    "\n",
    "1. Obtain the estimates for the slope and intercept for each regression model.\n",
    "2. Construct residual plots. Do the zero mean, constant variance, normality, and independce assumptions reasonably check out? Write your conclusions in the text cell below."
   ]
  },
  {
   "cell_type": "markdown",
   "metadata": {},
   "source": [
    "## RATINGS AGAINST ARM STRENGTH"
   ]
  },
  {
   "cell_type": "code",
   "execution_count": 37,
   "metadata": {},
   "outputs": [
    {
     "data": {
      "text/html": [
       "<table class=\"simpletable\">\n",
       "<caption>OLS Regression Results</caption>\n",
       "<tr>\n",
       "  <th>Dep. Variable:</th>         <td>RATINGS</td>     <th>  R-squared:         </th> <td>   0.049</td>\n",
       "</tr>\n",
       "<tr>\n",
       "  <th>Model:</th>                   <td>OLS</td>       <th>  Adj. R-squared:    </th> <td>   0.042</td>\n",
       "</tr>\n",
       "<tr>\n",
       "  <th>Method:</th>             <td>Least Squares</td>  <th>  F-statistic:       </th> <td>   7.465</td>\n",
       "</tr>\n",
       "<tr>\n",
       "  <th>Date:</th>             <td>Thu, 18 Mar 2021</td> <th>  Prob (F-statistic):</th>  <td>0.00707</td>\n",
       "</tr>\n",
       "<tr>\n",
       "  <th>Time:</th>                 <td>22:05:28</td>     <th>  Log-Likelihood:    </th> <td> -519.36</td>\n",
       "</tr>\n",
       "<tr>\n",
       "  <th>No. Observations:</th>      <td>   147</td>      <th>  AIC:               </th> <td>   1043.</td>\n",
       "</tr>\n",
       "<tr>\n",
       "  <th>Df Residuals:</th>          <td>   145</td>      <th>  BIC:               </th> <td>   1049.</td>\n",
       "</tr>\n",
       "<tr>\n",
       "  <th>Df Model:</th>              <td>     1</td>      <th>                     </th>     <td> </td>   \n",
       "</tr>\n",
       "<tr>\n",
       "  <th>Covariance Type:</th>      <td>nonrobust</td>    <th>                     </th>     <td> </td>   \n",
       "</tr>\n",
       "</table>\n",
       "<table class=\"simpletable\">\n",
       "<tr>\n",
       "      <td></td>         <th>coef</th>     <th>std err</th>      <th>t</th>      <th>P>|t|</th>  <th>[0.025</th>    <th>0.975]</th>  \n",
       "</tr>\n",
       "<tr>\n",
       "  <th>Intercept</th> <td>   33.9749</td> <td>    2.665</td> <td>   12.748</td> <td> 0.000</td> <td>   28.708</td> <td>   39.242</td>\n",
       "</tr>\n",
       "<tr>\n",
       "  <th>ARM</th>       <td>    0.0893</td> <td>    0.033</td> <td>    2.732</td> <td> 0.007</td> <td>    0.025</td> <td>    0.154</td>\n",
       "</tr>\n",
       "</table>\n",
       "<table class=\"simpletable\">\n",
       "<tr>\n",
       "  <th>Omnibus:</th>       <td> 8.248</td> <th>  Durbin-Watson:     </th> <td>   2.169</td>\n",
       "</tr>\n",
       "<tr>\n",
       "  <th>Prob(Omnibus):</th> <td> 0.016</td> <th>  Jarque-Bera (JB):  </th> <td>   3.661</td>\n",
       "</tr>\n",
       "<tr>\n",
       "  <th>Skew:</th>          <td>-0.047</td> <th>  Prob(JB):          </th> <td>   0.160</td>\n",
       "</tr>\n",
       "<tr>\n",
       "  <th>Kurtosis:</th>      <td> 2.233</td> <th>  Cond. No.          </th> <td>    316.</td>\n",
       "</tr>\n",
       "</table><br/><br/>Notes:<br/>[1] Standard Errors assume that the covariance matrix of the errors is correctly specified."
      ],
      "text/plain": [
       "<class 'statsmodels.iolib.summary.Summary'>\n",
       "\"\"\"\n",
       "                            OLS Regression Results                            \n",
       "==============================================================================\n",
       "Dep. Variable:                RATINGS   R-squared:                       0.049\n",
       "Model:                            OLS   Adj. R-squared:                  0.042\n",
       "Method:                 Least Squares   F-statistic:                     7.465\n",
       "Date:                Thu, 18 Mar 2021   Prob (F-statistic):            0.00707\n",
       "Time:                        22:05:28   Log-Likelihood:                -519.36\n",
       "No. Observations:                 147   AIC:                             1043.\n",
       "Df Residuals:                     145   BIC:                             1049.\n",
       "Df Model:                           1                                         \n",
       "Covariance Type:            nonrobust                                         \n",
       "==============================================================================\n",
       "                 coef    std err          t      P>|t|      [0.025      0.975]\n",
       "------------------------------------------------------------------------------\n",
       "Intercept     33.9749      2.665     12.748      0.000      28.708      39.242\n",
       "ARM            0.0893      0.033      2.732      0.007       0.025       0.154\n",
       "==============================================================================\n",
       "Omnibus:                        8.248   Durbin-Watson:                   2.169\n",
       "Prob(Omnibus):                  0.016   Jarque-Bera (JB):                3.661\n",
       "Skew:                          -0.047   Prob(JB):                        0.160\n",
       "Kurtosis:                       2.233   Cond. No.                         316.\n",
       "==============================================================================\n",
       "\n",
       "Notes:\n",
       "[1] Standard Errors assume that the covariance matrix of the errors is correctly specified.\n",
       "\"\"\""
      ]
     },
     "execution_count": 37,
     "metadata": {},
     "output_type": "execute_result"
    }
   ],
   "source": [
    "results = ols('RATINGS ~ ARM', data=df).fit()\n",
    "results.summary()\n",
    "# intercept = 33.9749\n",
    "# slope = 0.0893"
   ]
  },
  {
   "cell_type": "code",
   "execution_count": 38,
   "metadata": {},
   "outputs": [
    {
     "name": "stdout",
     "output_type": "stream",
     "text": [
      "LinregressResult(slope=0.08933102491662745, intercept=33.97490741532423, rvalue=0.2212800263204302, pvalue=0.007071712384130209, stderr=0.03269447632447939)\n"
     ]
    }
   ],
   "source": [
    "model = st.linregress(df['ARM'], df['RATINGS'])\n",
    "print(model)"
   ]
  },
  {
   "cell_type": "code",
   "execution_count": 39,
   "metadata": {},
   "outputs": [],
   "source": [
    "residual_ratings_arm = []\n",
    "for rating, arm in zip(df['RATINGS'], df['ARM']):\n",
    "    residual_ratings_arm.append(rating - model[1] - (model[0]*arm))"
   ]
  },
  {
   "cell_type": "code",
   "execution_count": 40,
   "metadata": {},
   "outputs": [
    {
     "data": {
      "image/png": "[encoded data removed]",
      "text/plain": [
       "<Figure size 432x288 with 1 Axes>"
      ]
     },
     "metadata": {
      "needs_background": "light"
     },
     "output_type": "display_data"
    }
   ],
   "source": [
    "sns.residplot(x = df['ARM'], y = residual_ratings_arm)\n",
    "plt.show()"
   ]
  },
  {
   "cell_type": "markdown",
   "metadata": {},
   "source": [
    "The residuals in the plot look random therefore the zero-mean assumption holds.\n",
    "\n",
    "The variance is approximately constant all the way across the plot; the \"constant variance\" assumption holds."
   ]
  },
  {
   "cell_type": "code",
   "execution_count": 41,
   "metadata": {},
   "outputs": [
    {
     "data": {
      "image/png": "[encoded data removed]",
      "text/plain": [
       "<Figure size 432x288 with 1 Axes>"
      ]
     },
     "metadata": {
      "needs_background": "light"
     },
     "output_type": "display_data"
    }
   ],
   "source": [
    "fig = sm.qqplot(df['ARM'], line='45')\n",
    "plt.show()"
   ]
  },
  {
   "cell_type": "markdown",
   "metadata": {},
   "source": [
    "Although straight, the plotted points in the plot do not lie close to the diagonal line. The \"normality\" assumption does not hold for the data."
   ]
  },
  {
   "cell_type": "markdown",
   "metadata": {},
   "source": [
    "## FORCE EXERTED AGAINST ARM STRENGTH"
   ]
  },
  {
   "cell_type": "code",
   "execution_count": 42,
   "metadata": {},
   "outputs": [
    {
     "data": {
      "text/html": [
       "<table class=\"simpletable\">\n",
       "<caption>OLS Regression Results</caption>\n",
       "<tr>\n",
       "  <th>Dep. Variable:</th>          <td>SIMS</td>       <th>  R-squared:         </th> <td>   0.471</td>\n",
       "</tr>\n",
       "<tr>\n",
       "  <th>Model:</th>                   <td>OLS</td>       <th>  Adj. R-squared:    </th> <td>   0.467</td>\n",
       "</tr>\n",
       "<tr>\n",
       "  <th>Method:</th>             <td>Least Squares</td>  <th>  F-statistic:       </th> <td>   128.9</td>\n",
       "</tr>\n",
       "<tr>\n",
       "  <th>Date:</th>             <td>Thu, 18 Mar 2021</td> <th>  Prob (F-statistic):</th> <td>9.01e-22</td>\n",
       "</tr>\n",
       "<tr>\n",
       "  <th>Time:</th>                 <td>22:05:28</td>     <th>  Log-Likelihood:    </th> <td> -237.51</td>\n",
       "</tr>\n",
       "<tr>\n",
       "  <th>No. Observations:</th>      <td>   147</td>      <th>  AIC:               </th> <td>   479.0</td>\n",
       "</tr>\n",
       "<tr>\n",
       "  <th>Df Residuals:</th>          <td>   145</td>      <th>  BIC:               </th> <td>   485.0</td>\n",
       "</tr>\n",
       "<tr>\n",
       "  <th>Df Model:</th>              <td>     1</td>      <th>                     </th>     <td> </td>   \n",
       "</tr>\n",
       "<tr>\n",
       "  <th>Covariance Type:</th>      <td>nonrobust</td>    <th>                     </th>     <td> </td>   \n",
       "</tr>\n",
       "</table>\n",
       "<table class=\"simpletable\">\n",
       "<tr>\n",
       "      <td></td>         <th>coef</th>     <th>std err</th>      <th>t</th>      <th>P>|t|</th>  <th>[0.025</th>    <th>0.975]</th>  \n",
       "</tr>\n",
       "<tr>\n",
       "  <th>Intercept</th> <td>   -4.0952</td> <td>    0.392</td> <td>  -10.454</td> <td> 0.000</td> <td>   -4.869</td> <td>   -3.321</td>\n",
       "</tr>\n",
       "<tr>\n",
       "  <th>ARM</th>       <td>    0.0546</td> <td>    0.005</td> <td>   11.353</td> <td> 0.000</td> <td>    0.045</td> <td>    0.064</td>\n",
       "</tr>\n",
       "</table>\n",
       "<table class=\"simpletable\">\n",
       "<tr>\n",
       "  <th>Omnibus:</th>       <td> 0.623</td> <th>  Durbin-Watson:     </th> <td>   2.020</td>\n",
       "</tr>\n",
       "<tr>\n",
       "  <th>Prob(Omnibus):</th> <td> 0.732</td> <th>  Jarque-Bera (JB):  </th> <td>   0.403</td>\n",
       "</tr>\n",
       "<tr>\n",
       "  <th>Skew:</th>          <td> 0.122</td> <th>  Prob(JB):          </th> <td>   0.817</td>\n",
       "</tr>\n",
       "<tr>\n",
       "  <th>Kurtosis:</th>      <td> 3.080</td> <th>  Cond. No.          </th> <td>    316.</td>\n",
       "</tr>\n",
       "</table><br/><br/>Notes:<br/>[1] Standard Errors assume that the covariance matrix of the errors is correctly specified."
      ],
      "text/plain": [
       "<class 'statsmodels.iolib.summary.Summary'>\n",
       "\"\"\"\n",
       "                            OLS Regression Results                            \n",
       "==============================================================================\n",
       "Dep. Variable:                   SIMS   R-squared:                       0.471\n",
       "Model:                            OLS   Adj. R-squared:                  0.467\n",
       "Method:                 Least Squares   F-statistic:                     128.9\n",
       "Date:                Thu, 18 Mar 2021   Prob (F-statistic):           9.01e-22\n",
       "Time:                        22:05:28   Log-Likelihood:                -237.51\n",
       "No. Observations:                 147   AIC:                             479.0\n",
       "Df Residuals:                     145   BIC:                             485.0\n",
       "Df Model:                           1                                         \n",
       "Covariance Type:            nonrobust                                         \n",
       "==============================================================================\n",
       "                 coef    std err          t      P>|t|      [0.025      0.975]\n",
       "------------------------------------------------------------------------------\n",
       "Intercept     -4.0952      0.392    -10.454      0.000      -4.869      -3.321\n",
       "ARM            0.0546      0.005     11.353      0.000       0.045       0.064\n",
       "==============================================================================\n",
       "Omnibus:                        0.623   Durbin-Watson:                   2.020\n",
       "Prob(Omnibus):                  0.732   Jarque-Bera (JB):                0.403\n",
       "Skew:                           0.122   Prob(JB):                        0.817\n",
       "Kurtosis:                       3.080   Cond. No.                         316.\n",
       "==============================================================================\n",
       "\n",
       "Notes:\n",
       "[1] Standard Errors assume that the covariance matrix of the errors is correctly specified.\n",
       "\"\"\""
      ]
     },
     "execution_count": 42,
     "metadata": {},
     "output_type": "execute_result"
    }
   ],
   "source": [
    "results = ols('SIMS ~ ARM', data=df).fit()\n",
    "results.summary()\n",
    "# intercept = -4.0952\n",
    "# slope = 0.0546"
   ]
  },
  {
   "cell_type": "code",
   "execution_count": 43,
   "metadata": {},
   "outputs": [
    {
     "name": "stdout",
     "output_type": "stream",
     "text": [
      "LinregressResult(slope=0.0545629953343179, intercept=-4.0951599693042935, rvalue=0.686007288855486, pvalue=9.013511938495686e-22, stderr=0.004805902764661299)\n"
     ]
    }
   ],
   "source": [
    "model = st.linregress(df['ARM'], df['SIMS'])\n",
    "print(model)"
   ]
  },
  {
   "cell_type": "code",
   "execution_count": 44,
   "metadata": {},
   "outputs": [],
   "source": [
    "residual_ratings_arm = []\n",
    "for rating, arm in zip(df['SIMS'], df['ARM']):\n",
    "    residual_ratings_arm.append(rating - model[1] - (model[0]*arm))"
   ]
  },
  {
   "cell_type": "code",
   "execution_count": 45,
   "metadata": {},
   "outputs": [
    {
     "data": {
      "image/png": "[encoded data removed]",
      "text/plain": [
       "<Figure size 432x288 with 1 Axes>"
      ]
     },
     "metadata": {
      "needs_background": "light"
     },
     "output_type": "display_data"
    }
   ],
   "source": [
    "sns.residplot(x = df['ARM'], y = residual_ratings_arm)\n",
    "plt.show()"
   ]
  },
  {
   "cell_type": "markdown",
   "metadata": {},
   "source": [
    "The residuals in the plot look random therefore the zero-mean assumption holds.\n",
    "\n",
    "The residuals in the plot on the have a non-random pattern. The \"constant variance\" assumption does not hold for the data in the right-hand plot."
   ]
  },
  {
   "cell_type": "markdown",
   "metadata": {},
   "source": [
    "## RATINGS AGAINST GRIP STRENGTH"
   ]
  },
  {
   "cell_type": "code",
   "execution_count": 46,
   "metadata": {},
   "outputs": [
    {
     "data": {
      "text/html": [
       "<table class=\"simpletable\">\n",
       "<caption>OLS Regression Results</caption>\n",
       "<tr>\n",
       "  <th>Dep. Variable:</th>         <td>RATINGS</td>     <th>  R-squared:         </th> <td>   0.034</td>\n",
       "</tr>\n",
       "<tr>\n",
       "  <th>Model:</th>                   <td>OLS</td>       <th>  Adj. R-squared:    </th> <td>   0.027</td>\n",
       "</tr>\n",
       "<tr>\n",
       "  <th>Method:</th>             <td>Least Squares</td>  <th>  F-statistic:       </th> <td>   5.039</td>\n",
       "</tr>\n",
       "<tr>\n",
       "  <th>Date:</th>             <td>Thu, 18 Mar 2021</td> <th>  Prob (F-statistic):</th>  <td>0.0263</td> \n",
       "</tr>\n",
       "<tr>\n",
       "  <th>Time:</th>                 <td>22:05:29</td>     <th>  Log-Likelihood:    </th> <td> -520.54</td>\n",
       "</tr>\n",
       "<tr>\n",
       "  <th>No. Observations:</th>      <td>   147</td>      <th>  AIC:               </th> <td>   1045.</td>\n",
       "</tr>\n",
       "<tr>\n",
       "  <th>Df Residuals:</th>          <td>   145</td>      <th>  BIC:               </th> <td>   1051.</td>\n",
       "</tr>\n",
       "<tr>\n",
       "  <th>Df Model:</th>              <td>     1</td>      <th>                     </th>     <td> </td>   \n",
       "</tr>\n",
       "<tr>\n",
       "  <th>Covariance Type:</th>      <td>nonrobust</td>    <th>                     </th>     <td> </td>   \n",
       "</tr>\n",
       "</table>\n",
       "<table class=\"simpletable\">\n",
       "<tr>\n",
       "      <td></td>         <th>coef</th>     <th>std err</th>      <th>t</th>      <th>P>|t|</th>  <th>[0.025</th>    <th>0.975]</th>  \n",
       "</tr>\n",
       "<tr>\n",
       "  <th>Intercept</th> <td>   33.7247</td> <td>    3.319</td> <td>   10.162</td> <td> 0.000</td> <td>   27.165</td> <td>   40.284</td>\n",
       "</tr>\n",
       "<tr>\n",
       "  <th>GRIP</th>      <td>    0.0661</td> <td>    0.029</td> <td>    2.245</td> <td> 0.026</td> <td>    0.008</td> <td>    0.124</td>\n",
       "</tr>\n",
       "</table>\n",
       "<table class=\"simpletable\">\n",
       "<tr>\n",
       "  <th>Omnibus:</th>       <td>10.590</td> <th>  Durbin-Watson:     </th> <td>   2.205</td>\n",
       "</tr>\n",
       "<tr>\n",
       "  <th>Prob(Omnibus):</th> <td> 0.005</td> <th>  Jarque-Bera (JB):  </th> <td>   4.215</td>\n",
       "</tr>\n",
       "<tr>\n",
       "  <th>Skew:</th>          <td>-0.055</td> <th>  Prob(JB):          </th> <td>   0.122</td>\n",
       "</tr>\n",
       "<tr>\n",
       "  <th>Kurtosis:</th>      <td> 2.178</td> <th>  Cond. No.          </th> <td>    540.</td>\n",
       "</tr>\n",
       "</table><br/><br/>Notes:<br/>[1] Standard Errors assume that the covariance matrix of the errors is correctly specified."
      ],
      "text/plain": [
       "<class 'statsmodels.iolib.summary.Summary'>\n",
       "\"\"\"\n",
       "                            OLS Regression Results                            \n",
       "==============================================================================\n",
       "Dep. Variable:                RATINGS   R-squared:                       0.034\n",
       "Model:                            OLS   Adj. R-squared:                  0.027\n",
       "Method:                 Least Squares   F-statistic:                     5.039\n",
       "Date:                Thu, 18 Mar 2021   Prob (F-statistic):             0.0263\n",
       "Time:                        22:05:29   Log-Likelihood:                -520.54\n",
       "No. Observations:                 147   AIC:                             1045.\n",
       "Df Residuals:                     145   BIC:                             1051.\n",
       "Df Model:                           1                                         \n",
       "Covariance Type:            nonrobust                                         \n",
       "==============================================================================\n",
       "                 coef    std err          t      P>|t|      [0.025      0.975]\n",
       "------------------------------------------------------------------------------\n",
       "Intercept     33.7247      3.319     10.162      0.000      27.165      40.284\n",
       "GRIP           0.0661      0.029      2.245      0.026       0.008       0.124\n",
       "==============================================================================\n",
       "Omnibus:                       10.590   Durbin-Watson:                   2.205\n",
       "Prob(Omnibus):                  0.005   Jarque-Bera (JB):                4.215\n",
       "Skew:                          -0.055   Prob(JB):                        0.122\n",
       "Kurtosis:                       2.178   Cond. No.                         540.\n",
       "==============================================================================\n",
       "\n",
       "Notes:\n",
       "[1] Standard Errors assume that the covariance matrix of the errors is correctly specified.\n",
       "\"\"\""
      ]
     },
     "execution_count": 46,
     "metadata": {},
     "output_type": "execute_result"
    }
   ],
   "source": [
    "results = ols('RATINGS ~ GRIP', data=df).fit()\n",
    "results.summary()\n",
    "# intercept = 33.7247\n",
    "# slope = 0.0661"
   ]
  },
  {
   "cell_type": "code",
   "execution_count": 52,
   "metadata": {},
   "outputs": [
    {
     "name": "stdout",
     "output_type": "stream",
     "text": [
      "LinregressResult(slope=0.06608979381586105, intercept=33.72471415651556, rvalue=0.18325721888924767, pvalue=0.026299655401930497, stderr=0.029442286745995618)\n"
     ]
    }
   ],
   "source": [
    "model = st.linregress(df['GRIP'], df['RATINGS'])\n",
    "print(model)"
   ]
  },
  {
   "cell_type": "code",
   "execution_count": 53,
   "metadata": {},
   "outputs": [],
   "source": [
    "residual_ratings_arm = []\n",
    "for rating, arm in zip(df['RATINGS'], df['GRIP']):\n",
    "    residual_ratings_arm.append(rating - model[1] - (model[0]*arm))"
   ]
  },
  {
   "cell_type": "code",
   "execution_count": 55,
   "metadata": {},
   "outputs": [
    {
     "data": {
      "image/png": "[encoded data removed]",
      "text/plain": [
       "<Figure size 432x288 with 1 Axes>"
      ]
     },
     "metadata": {
      "needs_background": "light"
     },
     "output_type": "display_data"
    }
   ],
   "source": [
    "sns.residplot(x = df['GRIP'], y = residual_ratings_arm)\n",
    "plt.show()"
   ]
  },
  {
   "cell_type": "markdown",
   "metadata": {},
   "source": [
    "The residuals in the plot look random therefore the zero-mean assumption holds.\n",
    "\n",
    "The variance is approximately constant all the way across the plot; the \"constant variance\" assumption holds."
   ]
  },
  {
   "cell_type": "code",
   "execution_count": 51,
   "metadata": {},
   "outputs": [
    {
     "data": {
      "image/png": "[encoded data removed]",
      "text/plain": [
       "<Figure size 432x288 with 1 Axes>"
      ]
     },
     "metadata": {
      "needs_background": "light"
     },
     "output_type": "display_data"
    }
   ],
   "source": [
    "fig = sm.qqplot(df['GRIP'], line='45')\n",
    "plt.show()"
   ]
  },
  {
   "cell_type": "markdown",
   "metadata": {},
   "source": [
    "Similar to `ARM`: although straight, the plotted points in the plot do not lie close to the diagonal line. The \"normality\" assumption does not hold for the data."
   ]
  },
  {
   "cell_type": "markdown",
   "metadata": {},
   "source": [
    "## FORCE EXERTED AGAINST GRIP STRENGTH"
   ]
  },
  {
   "cell_type": "code",
   "execution_count": 47,
   "metadata": {},
   "outputs": [
    {
     "data": {
      "text/html": [
       "<table class=\"simpletable\">\n",
       "<caption>OLS Regression Results</caption>\n",
       "<tr>\n",
       "  <th>Dep. Variable:</th>          <td>SIMS</td>       <th>  R-squared:         </th> <td>   0.409</td>\n",
       "</tr>\n",
       "<tr>\n",
       "  <th>Model:</th>                   <td>OLS</td>       <th>  Adj. R-squared:    </th> <td>   0.405</td>\n",
       "</tr>\n",
       "<tr>\n",
       "  <th>Method:</th>             <td>Least Squares</td>  <th>  F-statistic:       </th> <td>   100.5</td>\n",
       "</tr>\n",
       "<tr>\n",
       "  <th>Date:</th>             <td>Thu, 18 Mar 2021</td> <th>  Prob (F-statistic):</th> <td>2.68e-18</td>\n",
       "</tr>\n",
       "<tr>\n",
       "  <th>Time:</th>                 <td>22:05:29</td>     <th>  Log-Likelihood:    </th> <td> -245.55</td>\n",
       "</tr>\n",
       "<tr>\n",
       "  <th>No. Observations:</th>      <td>   147</td>      <th>  AIC:               </th> <td>   495.1</td>\n",
       "</tr>\n",
       "<tr>\n",
       "  <th>Df Residuals:</th>          <td>   145</td>      <th>  BIC:               </th> <td>   501.1</td>\n",
       "</tr>\n",
       "<tr>\n",
       "  <th>Df Model:</th>              <td>     1</td>      <th>                     </th>     <td> </td>   \n",
       "</tr>\n",
       "<tr>\n",
       "  <th>Covariance Type:</th>      <td>nonrobust</td>    <th>                     </th>     <td> </td>   \n",
       "</tr>\n",
       "</table>\n",
       "<table class=\"simpletable\">\n",
       "<tr>\n",
       "      <td></td>         <th>coef</th>     <th>std err</th>      <th>t</th>      <th>P>|t|</th>  <th>[0.025</th>    <th>0.975]</th>  \n",
       "</tr>\n",
       "<tr>\n",
       "  <th>Intercept</th> <td>   -4.8097</td> <td>    0.511</td> <td>   -9.410</td> <td> 0.000</td> <td>   -5.820</td> <td>   -3.799</td>\n",
       "</tr>\n",
       "<tr>\n",
       "  <th>GRIP</th>      <td>    0.0455</td> <td>    0.005</td> <td>   10.026</td> <td> 0.000</td> <td>    0.037</td> <td>    0.054</td>\n",
       "</tr>\n",
       "</table>\n",
       "<table class=\"simpletable\">\n",
       "<tr>\n",
       "  <th>Omnibus:</th>       <td> 1.480</td> <th>  Durbin-Watson:     </th> <td>   2.008</td>\n",
       "</tr>\n",
       "<tr>\n",
       "  <th>Prob(Omnibus):</th> <td> 0.477</td> <th>  Jarque-Bera (JB):  </th> <td>   1.559</td>\n",
       "</tr>\n",
       "<tr>\n",
       "  <th>Skew:</th>          <td> 0.225</td> <th>  Prob(JB):          </th> <td>   0.459</td>\n",
       "</tr>\n",
       "<tr>\n",
       "  <th>Kurtosis:</th>      <td> 2.771</td> <th>  Cond. No.          </th> <td>    540.</td>\n",
       "</tr>\n",
       "</table><br/><br/>Notes:<br/>[1] Standard Errors assume that the covariance matrix of the errors is correctly specified."
      ],
      "text/plain": [
       "<class 'statsmodels.iolib.summary.Summary'>\n",
       "\"\"\"\n",
       "                            OLS Regression Results                            \n",
       "==============================================================================\n",
       "Dep. Variable:                   SIMS   R-squared:                       0.409\n",
       "Model:                            OLS   Adj. R-squared:                  0.405\n",
       "Method:                 Least Squares   F-statistic:                     100.5\n",
       "Date:                Thu, 18 Mar 2021   Prob (F-statistic):           2.68e-18\n",
       "Time:                        22:05:29   Log-Likelihood:                -245.55\n",
       "No. Observations:                 147   AIC:                             495.1\n",
       "Df Residuals:                     145   BIC:                             501.1\n",
       "Df Model:                           1                                         \n",
       "Covariance Type:            nonrobust                                         \n",
       "==============================================================================\n",
       "                 coef    std err          t      P>|t|      [0.025      0.975]\n",
       "------------------------------------------------------------------------------\n",
       "Intercept     -4.8097      0.511     -9.410      0.000      -5.820      -3.799\n",
       "GRIP           0.0455      0.005     10.026      0.000       0.037       0.054\n",
       "==============================================================================\n",
       "Omnibus:                        1.480   Durbin-Watson:                   2.008\n",
       "Prob(Omnibus):                  0.477   Jarque-Bera (JB):                1.559\n",
       "Skew:                           0.225   Prob(JB):                        0.459\n",
       "Kurtosis:                       2.771   Cond. No.                         540.\n",
       "==============================================================================\n",
       "\n",
       "Notes:\n",
       "[1] Standard Errors assume that the covariance matrix of the errors is correctly specified.\n",
       "\"\"\""
      ]
     },
     "execution_count": 47,
     "metadata": {},
     "output_type": "execute_result"
    }
   ],
   "source": [
    "results = ols('SIMS ~ GRIP', data=df).fit()\n",
    "results.summary()\n",
    "# intercept = -4.8097\n",
    "# slope = 0.0455"
   ]
  },
  {
   "cell_type": "code",
   "execution_count": 56,
   "metadata": {},
   "outputs": [
    {
     "name": "stdout",
     "output_type": "stream",
     "text": [
      "LinregressResult(slope=0.04546298764143522, intercept=-4.809675181917117, rvalue=0.6398457588748769, pvalue=2.6847547530692897e-18, stderr=0.004534657000347742)\n"
     ]
    }
   ],
   "source": [
    "model = st.linregress(df['GRIP'], df['SIMS'])\n",
    "print(model)"
   ]
  },
  {
   "cell_type": "code",
   "execution_count": 57,
   "metadata": {},
   "outputs": [],
   "source": [
    "residual_ratings_arm = []\n",
    "for rating, arm in zip(df['SIMS'], df['GRIP']):\n",
    "    residual_ratings_arm.append(rating - model[1] - (model[0]*arm))"
   ]
  },
  {
   "cell_type": "code",
   "execution_count": 58,
   "metadata": {},
   "outputs": [
    {
     "data": {
      "image/png": "[encoded data removed]",
      "text/plain": [
       "<Figure size 432x288 with 1 Axes>"
      ]
     },
     "metadata": {
      "needs_background": "light"
     },
     "output_type": "display_data"
    }
   ],
   "source": [
    "sns.residplot(x = df['GRIP'], y = residual_ratings_arm)\n",
    "plt.show()"
   ]
  },
  {
   "cell_type": "markdown",
   "metadata": {},
   "source": [
    "The residuals in the plot look random therefore the zero-mean assumption holds.\n",
    "\n",
    "The variance is approximately constant all the way across the plot; the \"constant variance\" assumption holds."
   ]
  },
  {
   "cell_type": "markdown",
   "metadata": {
    "id": "lnWUOJQWNEHn"
   },
   "source": [
    "## Task 5: Make some predictions (if everything worked out!)\n",
    "\n",
    "1. A worker with 125 lbs of  `GRIP` and 95 lbs of `ARM` applies for one of these jobs. Using the appropiate model, obtain $95\\%$ confidence intervals for `RATINGS` and `SIMS`. Would you recommend a manager to hire such a candidate?"
   ]
  },
  {
   "cell_type": "markdown",
   "metadata": {},
   "source": [
    "## RATINGS AGAINST ARM STRENGTH"
   ]
  },
  {
   "cell_type": "code",
   "execution_count": 68,
   "metadata": {},
   "outputs": [
    {
     "name": "stdout",
     "output_type": "stream",
     "text": [
      "0    42.461355\n",
      "dtype: float64\n",
      "        mean   mean_se  mean_ci_lower  mean_ci_upper  obs_ci_lower  \\\n",
      "0  42.461355  0.869071      40.743672      44.179038     25.889964   \n",
      "\n",
      "   obs_ci_upper  \n",
      "0     59.032746  \n"
     ]
    }
   ],
   "source": [
    "model = ols('RATINGS ~ ARM', data = df).fit()\n",
    "x0 = pd.DataFrame(np.array([[95]]),columns=['ARM'])\n",
    "model.predict(x0)\n",
    "model.predict(x0)\n",
    "intervals = model.get_prediction(x0)\n",
    "print(intervals.summary_frame())\n",
    "# print(model.summary())"
   ]
  },
  {
   "cell_type": "markdown",
   "metadata": {},
   "source": [
    "## FORCE EXERTED AGAINST ARM STRENGTH"
   ]
  },
  {
   "cell_type": "code",
   "execution_count": 69,
   "metadata": {},
   "outputs": [
    {
     "name": "stdout",
     "output_type": "stream",
     "text": [
      "0    1.088325\n",
      "dtype: float64\n",
      "       mean   mean_se  mean_ci_lower  mean_ci_upper  obs_ci_lower  \\\n",
      "0  1.088325  0.127748       0.835835       1.340814     -1.347576   \n",
      "\n",
      "   obs_ci_upper  \n",
      "0      3.524225  \n"
     ]
    }
   ],
   "source": [
    "model = ols('SIMS ~ ARM', data = df).fit()\n",
    "x0 = pd.DataFrame(np.array([[95]]),columns=['ARM'])\n",
    "model.predict(x0)\n",
    "model.predict(x0)\n",
    "intervals = model.get_prediction(x0)\n",
    "print(intervals.summary_frame())"
   ]
  },
  {
   "cell_type": "markdown",
   "metadata": {},
   "source": [
    "## RATINGS AGAINST GRIP STRENGTH"
   ]
  },
  {
   "cell_type": "code",
   "execution_count": 70,
   "metadata": {},
   "outputs": [
    {
     "name": "stdout",
     "output_type": "stream",
     "text": [
      "0    41.985938\n",
      "dtype: float64\n",
      "        mean   mean_se  mean_ci_lower  mean_ci_upper  obs_ci_lower  \\\n",
      "0  41.985938  0.818415      40.368375      43.603502     25.292503   \n",
      "\n",
      "   obs_ci_upper  \n",
      "0     58.679374  \n"
     ]
    }
   ],
   "source": [
    "model = ols('RATINGS ~ GRIP', data = df).fit()\n",
    "x0 = pd.DataFrame(np.array([[125]]),columns=['GRIP'])\n",
    "model.predict(x0)\n",
    "intervals = model.get_prediction(x0)\n",
    "print(intervals.summary_frame())"
   ]
  },
  {
   "cell_type": "markdown",
   "metadata": {},
   "source": [
    "## FORCE EXERTED AGAINST GRIP STRENGTH"
   ]
  },
  {
   "cell_type": "code",
   "execution_count": 71,
   "metadata": {},
   "outputs": [
    {
     "name": "stdout",
     "output_type": "stream",
     "text": [
      "0    0.873198\n",
      "dtype: float64\n",
      "       mean   mean_se  mean_ci_lower  mean_ci_upper  obs_ci_lower  \\\n",
      "0  0.873198  0.126051       0.624064       1.122333       -1.6979   \n",
      "\n",
      "   obs_ci_upper  \n",
      "0      3.444296  \n"
     ]
    }
   ],
   "source": [
    "model = ols('SIMS ~ GRIP', data = df).fit()\n",
    "x0 = pd.DataFrame(np.array([[125]]),columns=['GRIP'])\n",
    "model.predict(x0)\n",
    "intervals = model.get_prediction(x0)\n",
    "print(intervals.summary_frame())"
   ]
  },
  {
   "cell_type": "markdown",
   "metadata": {
    "id": "xKp20eNhPOyj"
   },
   "source": [
    "The workers rating (in respect to arm strength and grip strength) was in the range of roughly 25-59 which is expected. Their force exerted (`SIMS`) also follows the expected range of about -1.5 to 3.5\n",
    "\n",
    "This worker follows the expectation, it would be smart to hire this candidate\n",
    "\n",
    "The predicted values lie close to the average (average values shown on the histograms in task 1)"
   ]
  },
  {
   "cell_type": "code",
   "execution_count": null,
   "metadata": {},
   "outputs": [],
   "source": []
  }
 ],
 "metadata": {
  "colab": {
   "collapsed_sections": [],
   "name": "CSC104MiniProject3.ipynb",
   "provenance": [],
   "toc_visible": true
  },
  "kernelspec": {
   "display_name": "Python 3",
   "language": "python",
   "name": "python3"
  },
  "language_info": {
   "codemirror_mode": {
    "name": "ipython",
    "version": 3
   },
   "file_extension": ".py",
   "mimetype": "text/x-python",
   "name": "python",
   "nbconvert_exporter": "python",
   "pygments_lexer": "ipython3",
   "version": "3.8.5"
  }
 },
 "nbformat": 4,
 "nbformat_minor": 1
}

{
 "cells": [
  {
   "cell_type": "markdown",
   "metadata": {
    "id": "6McIK-S_6kKV"
   },
   "source": [
    "## $k$-nearest neighbors\n",
    "We would like to assign a label to an object $x_o$ based on the labels of the objects $x_1,x_2,\\ldots, x_n.$ One of the simplest ways to do this is to consider the labels of $x_0$'s $k$ neareast objects. Each $x_i$ votes for $x_0$ to be assigned their label. The label of $x_0$ is the label with the most votes. \n",
    "\n",
    "Here is a very simplistic example."
   ]
  },
  {
   "cell_type": "code",
   "execution_count": 1,
   "metadata": {
    "id": "4aeKnV162XVX"
   },
   "outputs": [],
   "source": [
    "import pandas as pd\n",
    "import numpy as np\n",
    "import warnings\n",
    "warnings.filterwarnings('ignore')\n",
    "np.random.seed(123)\n",
    "training_df = pd.DataFrame({'A':np.random.randint(1,100,10),\n",
    "                     'B':np.random.random(10),\n",
    "                     'label':np.random.choice(['X','Y'],10)})\n",
    "# we create a validation set for later\n",
    "validation_df = pd.DataFrame({'A':np.random.randint(1,10,5),\n",
    "                     'B':np.random.random(5),\n",
    "                     'label':np.random.choice(['X','Y'],5)})"
   ]
  },
  {
   "cell_type": "code",
   "execution_count": 2,
   "metadata": {},
   "outputs": [
    {
     "data": {
      "text/plain": [
       "(10, 3)"
      ]
     },
     "execution_count": 2,
     "metadata": {},
     "output_type": "execute_result"
    }
   ],
   "source": [
    "training_df.shape"
   ]
  },
  {
   "cell_type": "markdown",
   "metadata": {
    "id": "qqRb3oCfElB2"
   },
   "source": [
    "Let us classify object `x_0` with values `{'A':1,'B':1.25}`. We will assign `x_0` the label of *the nearest* object ($k=1$) in `training_df`. First let us define the euclidean distance function we are going to use."
   ]
  },
  {
   "cell_type": "code",
   "execution_count": 2,
   "metadata": {
    "id": "Lb0rEy1wJ8Z7"
   },
   "outputs": [],
   "source": [
    "x_0 = pd.DataFrame({'A':1,'B':1.25},index=[0]) # target object to label\n",
    "def distance(x_0, row):\n",
    "    return ((x_0.A-row[\"A\"])**2+(x_0.B-row[\"B\"])**2)**.5\n",
    "    # return ((x_0.A-row.A)**2+(x_0.B-row.B)**2)**.5"
   ]
  },
  {
   "cell_type": "markdown",
   "metadata": {
    "id": "5cFZQl2zKDqy"
   },
   "source": [
    "Now we test this function by computing the distance between `x_0` and the first observation in `training_df`."
   ]
  },
  {
   "cell_type": "code",
   "execution_count": 3,
   "metadata": {
    "colab": {
     "base_uri": "https://localhost:8080/"
    },
    "id": "2PgLobQmJhPT",
    "outputId": "53ca7243-2902-490b-e0bc-2468d4978f02"
   },
   "outputs": [
    {
     "data": {
      "text/plain": [
       "0    66.005575\n",
       "dtype: float64"
      ]
     },
     "execution_count": 3,
     "metadata": {},
     "output_type": "execute_result"
    }
   ],
   "source": [
    "distance(x_0,training_df[0:1])"
   ]
  },
  {
   "cell_type": "markdown",
   "metadata": {
    "id": "6CgGrU7TKtJ9"
   },
   "source": [
    "The distance from `x_0` to the first row of `training_df` is about 2.19598. Is this the closest point in `training_df` to `x_0`? Let us find out!"
   ]
  },
  {
   "cell_type": "code",
   "execution_count": 4,
   "metadata": {
    "colab": {
     "base_uri": "https://localhost:8080/"
    },
    "id": "RRcFdzG7LEmi",
    "outputId": "c085b9b9-fcd8-4072-8e86-1fb8f36c20ec"
   },
   "outputs": [
    {
     "name": "stdout",
     "output_type": "stream",
     "text": [
      "    distance label\n",
      "0  66.005575     X\n",
      "1  92.004469     Y\n",
      "2  98.001385     X\n",
      "3  17.019354     Y\n",
      "4  83.008535     X\n",
      "5  57.006367     Y\n",
      "6  86.001524     Y\n",
      "7  97.005874     Y\n",
      "8  96.006014     X\n",
      "9  47.005491     X\n",
      "\n",
      "x_0 is assigned label 'Y' from its nearest neighbor\n",
      "\n",
      "    A         B label\n",
      "3  18  0.438572     Y\n"
     ]
    }
   ],
   "source": [
    "nrows= training_df.shape[0]\n",
    "distances = np.zeros(nrows)\n",
    "for row in range(nrows):\n",
    "    distances[row] = distance(x_0,training_df.iloc[row])\n",
    "minidx = distances.argmin()\n",
    "dist_df = pd.DataFrame({'distance':distances,'label':training_df['label']})\n",
    "print(dist_df)    \n",
    "print(f'\\nx_0 is assigned label \\'{training_df.iloc[minidx].label}\\' from its nearest neighbor\\n\\n{training_df[minidx:minidx+1]}')"
   ]
  },
  {
   "cell_type": "markdown",
   "metadata": {
    "id": "YjTe-MmXWGnd"
   },
   "source": [
    "## Exercise 1\n",
    "\n",
    "To see how well $k=1$ performs,to each member of `validation_df` we assign the label of the corresponding nearest object in `training_df`.\n",
    "\n",
    "1.   Write code to determine *predicted* labels for all objects in `validation_df` using the nearest neighbor to `training_df`.\n",
    "\n",
    "2.   Compare the predicted labels with the original labels. How many objects are misclassified?\n",
    "2. Compute the *error rate* for $k=1$ in `validation_df` using data from `training_df`.\n",
    "\n",
    "\n"
   ]
  },
  {
   "cell_type": "code",
   "execution_count": 5,
   "metadata": {},
   "outputs": [],
   "source": [
    "temp = pd.DataFrame(columns= ['distance', 'label']) # create dataframe to hold distances from each member of validation_df and their label\n",
    "pairs = {} # used in similar fashion to Counter(), to compute errors\n",
    "for i in range(validation_df.shape[0]):\n",
    "    for row in range(training_df.shape[0]):\n",
    "        temp = temp.append({'distance' : float(distance(validation_df[['A', 'B']][i:i+1], training_df.iloc[row])), \n",
    "                            'label' : training_df.label[row]}, ignore_index= True)\n",
    "    pairs[str(i)] = training_df.iloc[int(temp[['distance']].idxmin())].label\n",
    "    temp = temp.iloc[0:0]"
   ]
  },
  {
   "cell_type": "code",
   "execution_count": 6,
   "metadata": {},
   "outputs": [
    {
     "name": "stdout",
     "output_type": "stream",
     "text": [
      "1 of the objects are classified correctly. Thus, 4 are misclassified.\n"
     ]
    }
   ],
   "source": [
    "total = 0\n",
    "for x, y in zip(pairs.values(), validation_df['label']):\n",
    "    if x == y:\n",
    "        total += 1\n",
    "        continue\n",
    "        \n",
    "print(\"{} of the objects are classified correctly. Thus, {} are misclassified.\".format(total, validation_df.shape[0] - total))"
   ]
  },
  {
   "cell_type": "code",
   "execution_count": 7,
   "metadata": {},
   "outputs": [
    {
     "name": "stdout",
     "output_type": "stream",
     "text": [
      "The error rate is 0.2 = 20.0%\n"
     ]
    }
   ],
   "source": [
    "print(\"The error rate is {} = {}%\".format(total/validation_df.shape[0], total/validation_df.shape[0]*100))"
   ]
  },
  {
   "cell_type": "markdown",
   "metadata": {
    "id": "oh2O9_Sj-rBL"
   },
   "source": [
    "## The $k=3$ and $k=5$ cases\n",
    "\n",
    "Instead of looking at the nearest neighbor's label, we will consider the labels of the 3 neartest objects in `training_df` to `x_0`."
   ]
  },
  {
   "cell_type": "code",
   "execution_count": 8,
   "metadata": {
    "colab": {
     "base_uri": "https://localhost:8080/",
     "height": 135
    },
    "id": "GYtw-dI4AQj5",
    "outputId": "1331d1ee-d445-433e-a2a5-a89863aa1def"
   },
   "outputs": [
    {
     "data": {
      "text/html": [
       "<div>\n",
       "<style scoped>\n",
       "    .dataframe tbody tr th:only-of-type {\n",
       "        vertical-align: middle;\n",
       "    }\n",
       "\n",
       "    .dataframe tbody tr th {\n",
       "        vertical-align: top;\n",
       "    }\n",
       "\n",
       "    .dataframe thead th {\n",
       "        text-align: right;\n",
       "    }\n",
       "</style>\n",
       "<table border=\"1\" class=\"dataframe\">\n",
       "  <thead>\n",
       "    <tr style=\"text-align: right;\">\n",
       "      <th></th>\n",
       "      <th>index</th>\n",
       "      <th>distance</th>\n",
       "      <th>label</th>\n",
       "    </tr>\n",
       "  </thead>\n",
       "  <tbody>\n",
       "    <tr>\n",
       "      <th>0</th>\n",
       "      <td>3</td>\n",
       "      <td>17.019354</td>\n",
       "      <td>Y</td>\n",
       "    </tr>\n",
       "    <tr>\n",
       "      <th>1</th>\n",
       "      <td>9</td>\n",
       "      <td>47.005491</td>\n",
       "      <td>X</td>\n",
       "    </tr>\n",
       "    <tr>\n",
       "      <th>2</th>\n",
       "      <td>5</td>\n",
       "      <td>57.006367</td>\n",
       "      <td>Y</td>\n",
       "    </tr>\n",
       "  </tbody>\n",
       "</table>\n",
       "</div>"
      ],
      "text/plain": [
       "   index   distance label\n",
       "0      3  17.019354     Y\n",
       "1      9  47.005491     X\n",
       "2      5  57.006367     Y"
      ]
     },
     "execution_count": 8,
     "metadata": {},
     "output_type": "execute_result"
    }
   ],
   "source": [
    "sorted_dist_df = dist_df.sort_values(by=['distance']).reset_index()\n",
    "k = 3\n",
    "sorted_dist_df.iloc[:k]"
   ]
  },
  {
   "cell_type": "markdown",
   "metadata": {
    "id": "bsS2kvj3_lcs"
   },
   "source": [
    "As you can see, two out of the three nearest neighbors of `x_0` have label `'Y'`. In this case, `x_0` gets assigned label `'Y'` also."
   ]
  },
  {
   "cell_type": "code",
   "execution_count": 9,
   "metadata": {
    "colab": {
     "base_uri": "https://localhost:8080/",
     "height": 194
    },
    "id": "HdgD9hK3_598",
    "outputId": "599a746c-eede-4a22-8b9c-8534f91cb455"
   },
   "outputs": [
    {
     "data": {
      "text/html": [
       "<div>\n",
       "<style scoped>\n",
       "    .dataframe tbody tr th:only-of-type {\n",
       "        vertical-align: middle;\n",
       "    }\n",
       "\n",
       "    .dataframe tbody tr th {\n",
       "        vertical-align: top;\n",
       "    }\n",
       "\n",
       "    .dataframe thead th {\n",
       "        text-align: right;\n",
       "    }\n",
       "</style>\n",
       "<table border=\"1\" class=\"dataframe\">\n",
       "  <thead>\n",
       "    <tr style=\"text-align: right;\">\n",
       "      <th></th>\n",
       "      <th>index</th>\n",
       "      <th>distance</th>\n",
       "      <th>label</th>\n",
       "    </tr>\n",
       "  </thead>\n",
       "  <tbody>\n",
       "    <tr>\n",
       "      <th>0</th>\n",
       "      <td>3</td>\n",
       "      <td>17.019354</td>\n",
       "      <td>Y</td>\n",
       "    </tr>\n",
       "    <tr>\n",
       "      <th>1</th>\n",
       "      <td>9</td>\n",
       "      <td>47.005491</td>\n",
       "      <td>X</td>\n",
       "    </tr>\n",
       "    <tr>\n",
       "      <th>2</th>\n",
       "      <td>5</td>\n",
       "      <td>57.006367</td>\n",
       "      <td>Y</td>\n",
       "    </tr>\n",
       "    <tr>\n",
       "      <th>3</th>\n",
       "      <td>0</td>\n",
       "      <td>66.005575</td>\n",
       "      <td>X</td>\n",
       "    </tr>\n",
       "    <tr>\n",
       "      <th>4</th>\n",
       "      <td>4</td>\n",
       "      <td>83.008535</td>\n",
       "      <td>X</td>\n",
       "    </tr>\n",
       "  </tbody>\n",
       "</table>\n",
       "</div>"
      ],
      "text/plain": [
       "   index   distance label\n",
       "0      3  17.019354     Y\n",
       "1      9  47.005491     X\n",
       "2      5  57.006367     Y\n",
       "3      0  66.005575     X\n",
       "4      4  83.008535     X"
      ]
     },
     "execution_count": 9,
     "metadata": {},
     "output_type": "execute_result"
    }
   ],
   "source": [
    "k = 5\n",
    "sorted_dist_df.iloc[:k]"
   ]
  },
  {
   "cell_type": "markdown",
   "metadata": {
    "id": "mYgltssSd0Hq"
   },
   "source": [
    "By inspection, `x_0` will be assigned label`'X'` for $k=5.$ Let us do this using code also."
   ]
  },
  {
   "cell_type": "code",
   "execution_count": 10,
   "metadata": {
    "colab": {
     "base_uri": "https://localhost:8080/"
    },
    "id": "C3LCa7mBA7V2",
    "outputId": "28f89732-1e1b-4ea9-fe43-18175b6e65cc"
   },
   "outputs": [
    {
     "name": "stdout",
     "output_type": "stream",
     "text": [
      "Counter({'X': 3, 'Y': 2})\n",
      "x_0 is assigned label 'X'\n"
     ]
    }
   ],
   "source": [
    "from collections import Counter # check out the collections module here https://docs.python.org/3/library/collections.html\n",
    "counts = Counter(sorted_dist_df.iloc[:k]['label'])\n",
    "print(counts)\n",
    "print(\"x_0 is assigned label\", \"'X'\" if counts['Y'] < counts['X'] else \"'Y'\") "
   ]
  },
  {
   "cell_type": "markdown",
   "metadata": {
    "id": "YAOEo7j6t8pb"
   },
   "source": [
    "## Excercise 2\n",
    "\n",
    "Repeat all tasks in Excercise 1 for $k = 3,5,7,9.$"
   ]
  },
  {
   "cell_type": "code",
   "execution_count": 11,
   "metadata": {
    "id": "mmMut30j5NGC"
   },
   "outputs": [
    {
     "name": "stdout",
     "output_type": "stream",
     "text": [
      "For k = 3, x_0 is assigned label 'Y'\n",
      "For k = 5, x_0 is assigned label 'X'\n",
      "For k = 7, x_0 is assigned label 'Y'\n",
      "For k = 9, x_0 is assigned label 'Y'\n"
     ]
    }
   ],
   "source": [
    "for k in range(3, 10, 2):\n",
    "    counts = Counter(sorted_dist_df.iloc[:k]['label'])\n",
    "    print(f\"For k = {k}, x_0 is assigned label\", \"'X'\" if counts['Y'] < counts['X'] else \"'Y'\") "
   ]
  },
  {
   "cell_type": "markdown",
   "metadata": {
    "id": "GBEuvAQrwZkS"
   },
   "source": [
    "## Excercise 3\n",
    "\n",
    "Consider, yet again, the [county](https://www.rdocumentation.org/packages/openintro/versions/1.7.1/topics/countyComplete) dataset."
   ]
  },
  {
   "cell_type": "code",
   "execution_count": 12,
   "metadata": {
    "colab": {
     "base_uri": "https://localhost:8080/",
     "height": 76
    },
    "id": "-UlyaWTfB76i",
    "outputId": "ce28b676-844f-42a1-a78d-6da4f8c4e1c9"
   },
   "outputs": [
    {
     "data": {
      "text/html": [
       "<div>\n",
       "<style scoped>\n",
       "    .dataframe tbody tr th:only-of-type {\n",
       "        vertical-align: middle;\n",
       "    }\n",
       "\n",
       "    .dataframe tbody tr th {\n",
       "        vertical-align: top;\n",
       "    }\n",
       "\n",
       "    .dataframe thead th {\n",
       "        text-align: right;\n",
       "    }\n",
       "</style>\n",
       "<table border=\"1\" class=\"dataframe\">\n",
       "  <thead>\n",
       "    <tr style=\"text-align: right;\">\n",
       "      <th></th>\n",
       "      <th>state</th>\n",
       "      <th>name</th>\n",
       "      <th>pop2017</th>\n",
       "      <th>poverty_2017</th>\n",
       "      <th>homeownership_2010</th>\n",
       "      <th>median_household_income_2017</th>\n",
       "      <th>metro_2013</th>\n",
       "    </tr>\n",
       "  </thead>\n",
       "  <tbody>\n",
       "    <tr>\n",
       "      <th>2313</th>\n",
       "      <td>Rhode Island</td>\n",
       "      <td>Newport County</td>\n",
       "      <td>83460.0</td>\n",
       "      <td>9.0</td>\n",
       "      <td>63.6</td>\n",
       "      <td>75463.0</td>\n",
       "      <td>1.0</td>\n",
       "    </tr>\n",
       "  </tbody>\n",
       "</table>\n",
       "</div>"
      ],
      "text/plain": [
       "             state            name  pop2017  poverty_2017  homeownership_2010  \\\n",
       "2313  Rhode Island  Newport County  83460.0           9.0                63.6   \n",
       "\n",
       "      median_household_income_2017  metro_2013  \n",
       "2313                       75463.0         1.0  "
      ]
     },
     "execution_count": 12,
     "metadata": {},
     "output_type": "execute_result"
    }
   ],
   "source": [
    "from sklearn.model_selection import train_test_split\n",
    "df = pd.read_csv('https://raw.githubusercontent.com/cpaniaguam/CSC104/main/county_complete.csv')\n",
    "df=df[['state','name','pop2017','poverty_2017','homeownership_2010','median_household_income_2017','metro_2013']]\n",
    "counties_sample = df.sample(n=1000, random_state=34) # choose a random sample of 1000 counties\n",
    "train, test = train_test_split(counties_sample, test_size = 0.3,random_state = 1)\n",
    "newport = df[df['name']=='Newport County']\n",
    "newport"
   ]
  },
  {
   "cell_type": "markdown",
   "metadata": {
    "id": "tWpkyM1Kw0i8"
   },
   "source": [
    "\n",
    "Here are the three steps of the $k$NN classification algorithm:\n",
    "\n",
    "\n",
    "1.   Find the distance between the observation to be classified and all other observations\n",
    "\n",
    "1.   Select the k-nearest observations.\n",
    "2.   Classify the observation according to majority vote of k-nearest neighbors.\n",
    "\n",
    "### To do\n",
    "\n",
    "1. For the `train` and `test` dataframes above, select the best $k$ (for $k= 1,\\ldots,20$) for which the $k$NN classifier has the lowest error rate.\n",
    "2. Predict the `metro_2013` class for `newport` using the best $k$ for this data. Is the prediction correct?\n",
    "\n"
   ]
  },
  {
   "cell_type": "code",
   "execution_count": 13,
   "metadata": {},
   "outputs": [],
   "source": [
    "def n_distance(x_0, row):\n",
    "    \"\"\" Perform nth dimensional euclidean distance\"\"\"\n",
    "    return ((x_0.pop2017-row[\"pop2017\"])**2+(x_0.poverty_2017-row[\"poverty_2017\"])**2\n",
    "            +(x_0.homeownership_2010-row[\"homeownership_2010\"])**2+\n",
    "            (x_0.median_household_income_2017-row[\"median_household_income_2017\"])**2)**.5"
   ]
  },
  {
   "cell_type": "code",
   "execution_count": 14,
   "metadata": {},
   "outputs": [],
   "source": [
    "temp_train = train # create copy of training set \n",
    "indx_total = temp_train.shape[0] \n",
    "\n",
    "#add new column distance which computes distance from newport to each row, using columns:\n",
    "# population 2017, poverty 2017, home ownership 2017, median household income 2017\n",
    "temp_train['distance'] = [float(n_distance(newport, temp_train.iloc[i])) for i in range(indx_total)] "
   ]
  },
  {
   "cell_type": "code",
   "execution_count": 15,
   "metadata": {},
   "outputs": [
    {
     "data": {
      "text/html": [
       "<div>\n",
       "<style scoped>\n",
       "    .dataframe tbody tr th:only-of-type {\n",
       "        vertical-align: middle;\n",
       "    }\n",
       "\n",
       "    .dataframe tbody tr th {\n",
       "        vertical-align: top;\n",
       "    }\n",
       "\n",
       "    .dataframe thead th {\n",
       "        text-align: right;\n",
       "    }\n",
       "</style>\n",
       "<table border=\"1\" class=\"dataframe\">\n",
       "  <thead>\n",
       "    <tr style=\"text-align: right;\">\n",
       "      <th></th>\n",
       "      <th>index</th>\n",
       "      <th>state</th>\n",
       "      <th>name</th>\n",
       "      <th>pop2017</th>\n",
       "      <th>poverty_2017</th>\n",
       "      <th>homeownership_2010</th>\n",
       "      <th>median_household_income_2017</th>\n",
       "      <th>metro_2013</th>\n",
       "      <th>distance</th>\n",
       "    </tr>\n",
       "  </thead>\n",
       "  <tbody>\n",
       "    <tr>\n",
       "      <th>0</th>\n",
       "      <td>364</td>\n",
       "      <td>Florida</td>\n",
       "      <td>Nassau County</td>\n",
       "      <td>82721.0</td>\n",
       "      <td>11.4</td>\n",
       "      <td>79.4</td>\n",
       "      <td>64294.0</td>\n",
       "      <td>1.0</td>\n",
       "      <td>1.119343e+04</td>\n",
       "    </tr>\n",
       "    <tr>\n",
       "      <th>1</th>\n",
       "      <td>2967</td>\n",
       "      <td>Washington</td>\n",
       "      <td>Island County</td>\n",
       "      <td>83159.0</td>\n",
       "      <td>9.5</td>\n",
       "      <td>73.9</td>\n",
       "      <td>61516.0</td>\n",
       "      <td>0.0</td>\n",
       "      <td>1.395025e+04</td>\n",
       "    </tr>\n",
       "    <tr>\n",
       "      <th>2</th>\n",
       "      <td>1778</td>\n",
       "      <td>New Jersey</td>\n",
       "      <td>Cape May County</td>\n",
       "      <td>93553.0</td>\n",
       "      <td>10.6</td>\n",
       "      <td>74.3</td>\n",
       "      <td>62332.0</td>\n",
       "      <td>1.0</td>\n",
       "      <td>1.656176e+04</td>\n",
       "    </tr>\n",
       "    <tr>\n",
       "      <th>3</th>\n",
       "      <td>1766</td>\n",
       "      <td>New Hampshire</td>\n",
       "      <td>Cheshire County</td>\n",
       "      <td>75960.0</td>\n",
       "      <td>10.2</td>\n",
       "      <td>71.5</td>\n",
       "      <td>60148.0</td>\n",
       "      <td>0.0</td>\n",
       "      <td>1.705284e+04</td>\n",
       "    </tr>\n",
       "    <tr>\n",
       "      <th>4</th>\n",
       "      <td>718</td>\n",
       "      <td>Indiana</td>\n",
       "      <td>Floyd County</td>\n",
       "      <td>77071.0</td>\n",
       "      <td>10.8</td>\n",
       "      <td>73.1</td>\n",
       "      <td>59451.0</td>\n",
       "      <td>1.0</td>\n",
       "      <td>1.723959e+04</td>\n",
       "    </tr>\n",
       "    <tr>\n",
       "      <th>...</th>\n",
       "      <td>...</td>\n",
       "      <td>...</td>\n",
       "      <td>...</td>\n",
       "      <td>...</td>\n",
       "      <td>...</td>\n",
       "      <td>...</td>\n",
       "      <td>...</td>\n",
       "      <td>...</td>\n",
       "      <td>...</td>\n",
       "    </tr>\n",
       "    <tr>\n",
       "      <th>695</th>\n",
       "      <td>1830</td>\n",
       "      <td>New York</td>\n",
       "      <td>Bronx County</td>\n",
       "      <td>1471160.0</td>\n",
       "      <td>29.7</td>\n",
       "      <td>20.7</td>\n",
       "      <td>36593.0</td>\n",
       "      <td>1.0</td>\n",
       "      <td>1.388244e+06</td>\n",
       "    </tr>\n",
       "    <tr>\n",
       "      <th>696</th>\n",
       "      <td>1225</td>\n",
       "      <td>Massachusetts</td>\n",
       "      <td>Middlesex County</td>\n",
       "      <td>1602947.0</td>\n",
       "      <td>8.2</td>\n",
       "      <td>63.9</td>\n",
       "      <td>92878.0</td>\n",
       "      <td>1.0</td>\n",
       "      <td>1.519587e+06</td>\n",
       "    </tr>\n",
       "    <tr>\n",
       "      <th>697</th>\n",
       "      <td>1312</td>\n",
       "      <td>Michigan</td>\n",
       "      <td>Wayne County</td>\n",
       "      <td>1753616.0</td>\n",
       "      <td>23.7</td>\n",
       "      <td>67.2</td>\n",
       "      <td>43702.0</td>\n",
       "      <td>1.0</td>\n",
       "      <td>1.670458e+06</td>\n",
       "    </tr>\n",
       "    <tr>\n",
       "      <th>698</th>\n",
       "      <td>2579</td>\n",
       "      <td>Texas</td>\n",
       "      <td>Dallas County</td>\n",
       "      <td>2618148.0</td>\n",
       "      <td>17.7</td>\n",
       "      <td>54.7</td>\n",
       "      <td>53626.0</td>\n",
       "      <td>1.0</td>\n",
       "      <td>2.534782e+06</td>\n",
       "    </tr>\n",
       "    <tr>\n",
       "      <th>699</th>\n",
       "      <td>2417</td>\n",
       "      <td>South Dakota</td>\n",
       "      <td>Oglala Lakota County</td>\n",
       "      <td>14354.0</td>\n",
       "      <td>NaN</td>\n",
       "      <td>51.3</td>\n",
       "      <td>NaN</td>\n",
       "      <td>NaN</td>\n",
       "      <td>NaN</td>\n",
       "    </tr>\n",
       "  </tbody>\n",
       "</table>\n",
       "<p>700 rows × 9 columns</p>\n",
       "</div>"
      ],
      "text/plain": [
       "     index          state                  name    pop2017  poverty_2017  \\\n",
       "0      364        Florida         Nassau County    82721.0          11.4   \n",
       "1     2967     Washington         Island County    83159.0           9.5   \n",
       "2     1778     New Jersey       Cape May County    93553.0          10.6   \n",
       "3     1766  New Hampshire       Cheshire County    75960.0          10.2   \n",
       "4      718        Indiana          Floyd County    77071.0          10.8   \n",
       "..     ...            ...                   ...        ...           ...   \n",
       "695   1830       New York          Bronx County  1471160.0          29.7   \n",
       "696   1225  Massachusetts      Middlesex County  1602947.0           8.2   \n",
       "697   1312       Michigan          Wayne County  1753616.0          23.7   \n",
       "698   2579          Texas         Dallas County  2618148.0          17.7   \n",
       "699   2417   South Dakota  Oglala Lakota County    14354.0           NaN   \n",
       "\n",
       "     homeownership_2010  median_household_income_2017  metro_2013  \\\n",
       "0                  79.4                       64294.0         1.0   \n",
       "1                  73.9                       61516.0         0.0   \n",
       "2                  74.3                       62332.0         1.0   \n",
       "3                  71.5                       60148.0         0.0   \n",
       "4                  73.1                       59451.0         1.0   \n",
       "..                  ...                           ...         ...   \n",
       "695                20.7                       36593.0         1.0   \n",
       "696                63.9                       92878.0         1.0   \n",
       "697                67.2                       43702.0         1.0   \n",
       "698                54.7                       53626.0         1.0   \n",
       "699                51.3                           NaN         NaN   \n",
       "\n",
       "         distance  \n",
       "0    1.119343e+04  \n",
       "1    1.395025e+04  \n",
       "2    1.656176e+04  \n",
       "3    1.705284e+04  \n",
       "4    1.723959e+04  \n",
       "..            ...  \n",
       "695  1.388244e+06  \n",
       "696  1.519587e+06  \n",
       "697  1.670458e+06  \n",
       "698  2.534782e+06  \n",
       "699           NaN  \n",
       "\n",
       "[700 rows x 9 columns]"
      ]
     },
     "execution_count": 15,
     "metadata": {},
     "output_type": "execute_result"
    }
   ],
   "source": [
    "sorted_temp_train = temp_train.sort_values(by=['distance']).reset_index() # sort by distance, descending order\n",
    "sorted_temp_train"
   ]
  },
  {
   "cell_type": "code",
   "execution_count": 17,
   "metadata": {},
   "outputs": [
    {
     "data": {
      "text/html": [
       "<div>\n",
       "<style scoped>\n",
       "    .dataframe tbody tr th:only-of-type {\n",
       "        vertical-align: middle;\n",
       "    }\n",
       "\n",
       "    .dataframe tbody tr th {\n",
       "        vertical-align: top;\n",
       "    }\n",
       "\n",
       "    .dataframe thead th {\n",
       "        text-align: right;\n",
       "    }\n",
       "</style>\n",
       "<table border=\"1\" class=\"dataframe\">\n",
       "  <thead>\n",
       "    <tr style=\"text-align: right;\">\n",
       "      <th></th>\n",
       "      <th>index</th>\n",
       "      <th>state</th>\n",
       "      <th>name</th>\n",
       "      <th>pop2017</th>\n",
       "      <th>poverty_2017</th>\n",
       "      <th>homeownership_2010</th>\n",
       "      <th>median_household_income_2017</th>\n",
       "      <th>metro_2013</th>\n",
       "      <th>distance</th>\n",
       "    </tr>\n",
       "  </thead>\n",
       "  <tbody>\n",
       "    <tr>\n",
       "      <th>695</th>\n",
       "      <td>1830</td>\n",
       "      <td>New York</td>\n",
       "      <td>Bronx County</td>\n",
       "      <td>1471160.0</td>\n",
       "      <td>29.7</td>\n",
       "      <td>20.7</td>\n",
       "      <td>36593.0</td>\n",
       "      <td>1.0</td>\n",
       "      <td>1.388244e+06</td>\n",
       "    </tr>\n",
       "    <tr>\n",
       "      <th>696</th>\n",
       "      <td>1225</td>\n",
       "      <td>Massachusetts</td>\n",
       "      <td>Middlesex County</td>\n",
       "      <td>1602947.0</td>\n",
       "      <td>8.2</td>\n",
       "      <td>63.9</td>\n",
       "      <td>92878.0</td>\n",
       "      <td>1.0</td>\n",
       "      <td>1.519587e+06</td>\n",
       "    </tr>\n",
       "    <tr>\n",
       "      <th>697</th>\n",
       "      <td>1312</td>\n",
       "      <td>Michigan</td>\n",
       "      <td>Wayne County</td>\n",
       "      <td>1753616.0</td>\n",
       "      <td>23.7</td>\n",
       "      <td>67.2</td>\n",
       "      <td>43702.0</td>\n",
       "      <td>1.0</td>\n",
       "      <td>1.670458e+06</td>\n",
       "    </tr>\n",
       "    <tr>\n",
       "      <th>698</th>\n",
       "      <td>2579</td>\n",
       "      <td>Texas</td>\n",
       "      <td>Dallas County</td>\n",
       "      <td>2618148.0</td>\n",
       "      <td>17.7</td>\n",
       "      <td>54.7</td>\n",
       "      <td>53626.0</td>\n",
       "      <td>1.0</td>\n",
       "      <td>2.534782e+06</td>\n",
       "    </tr>\n",
       "    <tr>\n",
       "      <th>699</th>\n",
       "      <td>2417</td>\n",
       "      <td>South Dakota</td>\n",
       "      <td>Oglala Lakota County</td>\n",
       "      <td>14354.0</td>\n",
       "      <td>NaN</td>\n",
       "      <td>51.3</td>\n",
       "      <td>NaN</td>\n",
       "      <td>NaN</td>\n",
       "      <td>NaN</td>\n",
       "    </tr>\n",
       "  </tbody>\n",
       "</table>\n",
       "</div>"
      ],
      "text/plain": [
       "     index          state                  name    pop2017  poverty_2017  \\\n",
       "695   1830       New York          Bronx County  1471160.0          29.7   \n",
       "696   1225  Massachusetts      Middlesex County  1602947.0           8.2   \n",
       "697   1312       Michigan          Wayne County  1753616.0          23.7   \n",
       "698   2579          Texas         Dallas County  2618148.0          17.7   \n",
       "699   2417   South Dakota  Oglala Lakota County    14354.0           NaN   \n",
       "\n",
       "     homeownership_2010  median_household_income_2017  metro_2013  \\\n",
       "695                20.7                       36593.0         1.0   \n",
       "696                63.9                       92878.0         1.0   \n",
       "697                67.2                       43702.0         1.0   \n",
       "698                54.7                       53626.0         1.0   \n",
       "699                51.3                           NaN         NaN   \n",
       "\n",
       "         distance  \n",
       "695  1.388244e+06  \n",
       "696  1.519587e+06  \n",
       "697  1.670458e+06  \n",
       "698  2.534782e+06  \n",
       "699           NaN  "
      ]
     },
     "execution_count": 17,
     "metadata": {},
     "output_type": "execute_result"
    }
   ],
   "source": [
    "sorted_temp_train.tail()"
   ]
  },
  {
   "cell_type": "code",
   "execution_count": null,
   "metadata": {},
   "outputs": [],
   "source": [
    "k_max = int(train.shape[0]**0.5) # zybook: good practice to use sqrt(training net size) therefore, will not go above this value\n",
    "for k in range(1, k_max, 2):\n",
    "    counts = Counter(sorted_temp_train.iloc[:k]['metro_2013'])\n",
    "    print(f\"For k = {k}, metro_2013 is assigned label\", \"'1'\" if counts[0] < counts[1] else \"'0'\") \n",
    "    try:\n",
    "        print(f\"Error rate for {k}: {counts[0]/(counts[0]+counts[1])}\\n\")\n",
    "    except ZeroDivisionError:\n",
    "        print(f\"Error rate for {k}: 0\\n\")"
   ]
  },
  {
   "cell_type": "code",
   "execution_count": null,
   "metadata": {},
   "outputs": [],
   "source": [
    "# k = 1 had the lowest error rate. However, this is on the training set. Let us try the same principle on the validation set\n",
    "\n",
    "temp_test = test\n",
    "indx_total = temp_test.shape[0]\n",
    "temp_test['distance'] = [float(n_distance(newport, temp_test.iloc[i])) for i in range(indx_total)]\n",
    "\n",
    "sorted_temp_test = temp_test.sort_values(by=['distance']).reset_index()\n",
    "\n",
    "k_max = int(test.shape[0]**0.5)\n",
    "for k in range(1, k_max, 2):\n",
    "    counts = Counter(sorted_temp_test.iloc[:k]['metro_2013'])\n",
    "    print(f\"For k = {k}, metro_2013 is assigned label\", \"'1'\" if counts[0] < counts[1] else \"'0'\") \n",
    "    try:\n",
    "        print(f\"Error rate for {k}: {counts[0]/(counts[0]+counts[1])}\\n\")\n",
    "    except ZeroDivisionError:\n",
    "        print(f\"Error rate for {k}: 0\\n\")"
   ]
  },
  {
   "cell_type": "markdown",
   "metadata": {},
   "source": [
    "### K = 1 seems like the best k for this data. It is an odd number which prevents ties. It scored the lowest error rate on both the validation set and training set. If choosing k = 1 disrupts confidence, k = 3 would be a suitable substitute. "
   ]
  }
 ],
 "metadata": {
  "colab": {
   "collapsed_sections": [],
   "name": "CSC104_Assignment20_kNN.ipynb",
   "provenance": [],
   "toc_visible": true
  },
  "kernelspec": {
   "display_name": "Python 3",
   "language": "python",
   "name": "python3"
  },
  "language_info": {
   "codemirror_mode": {
    "name": "ipython",
    "version": 3
   },
   "file_extension": ".py",
   "mimetype": "text/x-python",
   "name": "python",
   "nbconvert_exporter": "python",
   "pygments_lexer": "ipython3",
   "version": "3.8.5"
  }
 },
 "nbformat": 4,
 "nbformat_minor": 1
}

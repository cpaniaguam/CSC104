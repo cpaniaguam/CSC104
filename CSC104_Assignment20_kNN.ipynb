{
  "nbformat": 4,
  "nbformat_minor": 0,
  "metadata": {
    "colab": {
      "name": "CSC104_Assignment20_kNN.ipynb",
      "provenance": [],
      "collapsed_sections": [],
      "toc_visible": true,
      "authorship_tag": "ABX9TyOVgrXX6v7EOEOMr1MoyHYs",
      "include_colab_link": true
    },
    "kernelspec": {
      "name": "python3",
      "display_name": "Python 3"
    },
    "language_info": {
      "name": "python"
    }
  },
  "cells": [
    {
      "cell_type": "markdown",
      "metadata": {
        "id": "view-in-github",
        "colab_type": "text"
      },
      "source": [
        "<a href=\"https://colab.research.google.com/github/cpaniaguam/CSC104/blob/main/CSC104_Assignment20_kNN.ipynb\" target=\"_parent\"><img src=\"https://colab.research.google.com/assets/colab-badge.svg\" alt=\"Open In Colab\"/></a>"
      ]
    },
    {
      "cell_type": "markdown",
      "metadata": {
        "id": "6McIK-S_6kKV"
      },
      "source": [
        "## $k$-nearest neighbors\n",
        "We would like to assign a label to an object $x_o$ based on the labels of the objects $x_1,x_2,\\ldots, x_n.$ One of the simplest ways to do this is to consider the labels of $x_0$'s $k$ neareast objects. Each $x_i$ votes for $x_0$ to be assigned their label. The label of $x_0$ is the label with the most votes. \n",
        "\n",
        "Here is a very simplistic example."
      ]
    },
    {
      "cell_type": "code",
      "metadata": {
        "id": "4aeKnV162XVX"
      },
      "source": [
        "import pandas as pd\n",
        "import numpy as np\n",
        "np.random.seed(123)\n",
        "training_df = pd.DataFrame({'A':np.random.randint(1,100,10),\n",
        "                     'B':np.random.random(10),\n",
        "                     'label':np.random.choice(['X','Y'],10)})\n",
        "# we create a validation set for later\n",
        "validation_df = pd.DataFrame({'A':np.random.randint(1,10,5),\n",
        "                     'B':np.random.random(5),\n",
        "                     'label':np.random.choice(['X','Y'],5)})"
      ],
      "execution_count": 9,
      "outputs": []
    },
    {
      "cell_type": "markdown",
      "metadata": {
        "id": "qqRb3oCfElB2"
      },
      "source": [
        "Let us classify object `x_0` with values `{'A':1,'B':1.25}`. We will assign `x_0` the label of *the nearest* object ($k=1$) in `training_df`. First let us define the euclidean distance function we are going to use."
      ]
    },
    {
      "cell_type": "code",
      "metadata": {
        "id": "Lb0rEy1wJ8Z7"
      },
      "source": [
        "x_0 = pd.DataFrame({'A':1,'B':1.25},index=[0]) # target object to label\n",
        "def distance(x_0, row):\n",
        "    return ((x_0.A-row[\"A\"])**2+(x_0.B-row[\"B\"])**2)**.5\n",
        "    # return ((x_0.A-row.A)**2+(x_0.B-row.B)**2)**.5"
      ],
      "execution_count": 10,
      "outputs": []
    },
    {
      "cell_type": "markdown",
      "metadata": {
        "id": "5cFZQl2zKDqy"
      },
      "source": [
        "Now we test this function by computing the distance between `x_0` and the first observation in `training_df`."
      ]
    },
    {
      "cell_type": "code",
      "metadata": {
        "colab": {
          "base_uri": "https://localhost:8080/"
        },
        "id": "2PgLobQmJhPT",
        "outputId": "53ca7243-2902-490b-e0bc-2468d4978f02"
      },
      "source": [
        "distance(x_0,training_df[0:0+1])"
      ],
      "execution_count": 11,
      "outputs": [
        {
          "output_type": "execute_result",
          "data": {
            "text/plain": [
              "0    66.005575\n",
              "dtype: float64"
            ]
          },
          "metadata": {
            "tags": []
          },
          "execution_count": 11
        }
      ]
    },
    {
      "cell_type": "markdown",
      "metadata": {
        "id": "6CgGrU7TKtJ9"
      },
      "source": [
        "The distance from `x_0` to the first row of `training_df` is about 2.19598. Is this the closest point in `training_df` to `x_0`? Let us find out!"
      ]
    },
    {
      "cell_type": "code",
      "metadata": {
        "colab": {
          "base_uri": "https://localhost:8080/"
        },
        "id": "RRcFdzG7LEmi",
        "outputId": "c085b9b9-fcd8-4072-8e86-1fb8f36c20ec"
      },
      "source": [
        "nrows= training_df.shape[0]\n",
        "distances = np.zeros(nrows)\n",
        "for row in range(nrows):\n",
        "    distances[row] = distance(x_0,training_df.iloc[row])\n",
        "minidx = distances.argmin()\n",
        "dist_df = pd.DataFrame({'distance':distances,'label':training_df['label']})\n",
        "print(dist_df)    \n",
        "print(f'\\nx_0 is assigned label \\'{training_df.iloc[minidx].label}\\' from its nearest neighbor\\n\\n{training_df[minidx:minidx+1]}')"
      ],
      "execution_count": 12,
      "outputs": [
        {
          "output_type": "stream",
          "text": [
            "    distance label\n",
            "0  66.005575     X\n",
            "1  92.004469     Y\n",
            "2  98.001385     X\n",
            "3  17.019354     Y\n",
            "4  83.008535     X\n",
            "5  57.006367     Y\n",
            "6  86.001524     Y\n",
            "7  97.005874     Y\n",
            "8  96.006014     X\n",
            "9  47.005491     X\n",
            "\n",
            "x_0 is assigned label 'Y' from its nearest neighbor\n",
            "\n",
            "    A         B label\n",
            "3  18  0.438572     Y\n"
          ],
          "name": "stdout"
        }
      ]
    },
    {
      "cell_type": "markdown",
      "metadata": {
        "id": "YjTe-MmXWGnd"
      },
      "source": [
        "## Exercise 1\n",
        "\n",
        "To see how well $k=1$ performs,to each member of `validation_df` we assign the label of the corresponding nearest object in `training_df`.\n",
        "\n",
        "1.   Write code to determine *predicted* labels for all objects in `validation_df` using the nearest neighbor to `training_df`.\n",
        "\n",
        "2.   Compare the predicted labels with the original labels. How many objects are misclassified?\n",
        "2. Compute the *error rate* for $k=1$ in `validation_df` using data from `training_df`.\n",
        "\n",
        "\n"
      ]
    },
    {
      "cell_type": "code",
      "metadata": {
        "id": "IsDoCPBL_bH9"
      },
      "source": [
        "# Your code for excercise 1 goes here"
      ],
      "execution_count": 13,
      "outputs": []
    },
    {
      "cell_type": "markdown",
      "metadata": {
        "id": "oh2O9_Sj-rBL"
      },
      "source": [
        "## The $k=3$ and $k=5$ cases\n",
        "\n",
        "Instead of looking at the nearest neighbor's label, we will consider the labels of the 3 neartest objects in `training_df` to `x_0`."
      ]
    },
    {
      "cell_type": "code",
      "metadata": {
        "colab": {
          "base_uri": "https://localhost:8080/",
          "height": 135
        },
        "id": "GYtw-dI4AQj5",
        "outputId": "1331d1ee-d445-433e-a2a5-a89863aa1def"
      },
      "source": [
        "sorted_dist_df = dist_df.sort_values(by=['distance']).reset_index()\n",
        "k = 3\n",
        "sorted_dist_df.iloc[:k]"
      ],
      "execution_count": 14,
      "outputs": [
        {
          "output_type": "execute_result",
          "data": {
            "text/html": [
              "<div>\n",
              "<style scoped>\n",
              "    .dataframe tbody tr th:only-of-type {\n",
              "        vertical-align: middle;\n",
              "    }\n",
              "\n",
              "    .dataframe tbody tr th {\n",
              "        vertical-align: top;\n",
              "    }\n",
              "\n",
              "    .dataframe thead th {\n",
              "        text-align: right;\n",
              "    }\n",
              "</style>\n",
              "<table border=\"1\" class=\"dataframe\">\n",
              "  <thead>\n",
              "    <tr style=\"text-align: right;\">\n",
              "      <th></th>\n",
              "      <th>index</th>\n",
              "      <th>distance</th>\n",
              "      <th>label</th>\n",
              "    </tr>\n",
              "  </thead>\n",
              "  <tbody>\n",
              "    <tr>\n",
              "      <th>0</th>\n",
              "      <td>3</td>\n",
              "      <td>17.019354</td>\n",
              "      <td>Y</td>\n",
              "    </tr>\n",
              "    <tr>\n",
              "      <th>1</th>\n",
              "      <td>9</td>\n",
              "      <td>47.005491</td>\n",
              "      <td>X</td>\n",
              "    </tr>\n",
              "    <tr>\n",
              "      <th>2</th>\n",
              "      <td>5</td>\n",
              "      <td>57.006367</td>\n",
              "      <td>Y</td>\n",
              "    </tr>\n",
              "  </tbody>\n",
              "</table>\n",
              "</div>"
            ],
            "text/plain": [
              "   index   distance label\n",
              "0      3  17.019354     Y\n",
              "1      9  47.005491     X\n",
              "2      5  57.006367     Y"
            ]
          },
          "metadata": {
            "tags": []
          },
          "execution_count": 14
        }
      ]
    },
    {
      "cell_type": "markdown",
      "metadata": {
        "id": "bsS2kvj3_lcs"
      },
      "source": [
        "As you can see, two out of the three nearest neighbors of `x_0` have label `'Y'`. In this case, `x_0` gets assigned label `'Y'` also."
      ]
    },
    {
      "cell_type": "code",
      "metadata": {
        "id": "HdgD9hK3_598",
        "colab": {
          "base_uri": "https://localhost:8080/",
          "height": 194
        },
        "outputId": "599a746c-eede-4a22-8b9c-8534f91cb455"
      },
      "source": [
        "k = 5\n",
        "sorted_dist_df.iloc[:k]"
      ],
      "execution_count": 15,
      "outputs": [
        {
          "output_type": "execute_result",
          "data": {
            "text/html": [
              "<div>\n",
              "<style scoped>\n",
              "    .dataframe tbody tr th:only-of-type {\n",
              "        vertical-align: middle;\n",
              "    }\n",
              "\n",
              "    .dataframe tbody tr th {\n",
              "        vertical-align: top;\n",
              "    }\n",
              "\n",
              "    .dataframe thead th {\n",
              "        text-align: right;\n",
              "    }\n",
              "</style>\n",
              "<table border=\"1\" class=\"dataframe\">\n",
              "  <thead>\n",
              "    <tr style=\"text-align: right;\">\n",
              "      <th></th>\n",
              "      <th>index</th>\n",
              "      <th>distance</th>\n",
              "      <th>label</th>\n",
              "    </tr>\n",
              "  </thead>\n",
              "  <tbody>\n",
              "    <tr>\n",
              "      <th>0</th>\n",
              "      <td>3</td>\n",
              "      <td>17.019354</td>\n",
              "      <td>Y</td>\n",
              "    </tr>\n",
              "    <tr>\n",
              "      <th>1</th>\n",
              "      <td>9</td>\n",
              "      <td>47.005491</td>\n",
              "      <td>X</td>\n",
              "    </tr>\n",
              "    <tr>\n",
              "      <th>2</th>\n",
              "      <td>5</td>\n",
              "      <td>57.006367</td>\n",
              "      <td>Y</td>\n",
              "    </tr>\n",
              "    <tr>\n",
              "      <th>3</th>\n",
              "      <td>0</td>\n",
              "      <td>66.005575</td>\n",
              "      <td>X</td>\n",
              "    </tr>\n",
              "    <tr>\n",
              "      <th>4</th>\n",
              "      <td>4</td>\n",
              "      <td>83.008535</td>\n",
              "      <td>X</td>\n",
              "    </tr>\n",
              "  </tbody>\n",
              "</table>\n",
              "</div>"
            ],
            "text/plain": [
              "   index   distance label\n",
              "0      3  17.019354     Y\n",
              "1      9  47.005491     X\n",
              "2      5  57.006367     Y\n",
              "3      0  66.005575     X\n",
              "4      4  83.008535     X"
            ]
          },
          "metadata": {
            "tags": []
          },
          "execution_count": 15
        }
      ]
    },
    {
      "cell_type": "markdown",
      "metadata": {
        "id": "mYgltssSd0Hq"
      },
      "source": [
        "By inspection, `x_0` will be assigned label`'X'` for $k=5.$ Let us do this using code also."
      ]
    },
    {
      "cell_type": "code",
      "metadata": {
        "colab": {
          "base_uri": "https://localhost:8080/"
        },
        "id": "C3LCa7mBA7V2",
        "outputId": "28f89732-1e1b-4ea9-fe43-18175b6e65cc"
      },
      "source": [
        "from collections import Counter # check out the collections module here https://docs.python.org/3/library/collections.html\n",
        "counts = Counter(sorted_dist_df.iloc[:k]['label'])\n",
        "print(\"x_0 is assigned label\", \"'X'\" if counts['Y'] < counts['X'] else \"'Y'\") "
      ],
      "execution_count": 16,
      "outputs": [
        {
          "output_type": "stream",
          "text": [
            "x_0 is assigned label 'X'\n"
          ],
          "name": "stdout"
        }
      ]
    },
    {
      "cell_type": "markdown",
      "metadata": {
        "id": "YAOEo7j6t8pb"
      },
      "source": [
        "## Excercise 2\n",
        "\n",
        "Repeat all tasks in Excercise 1 for $k = 3,5,7,9.$"
      ]
    },
    {
      "cell_type": "code",
      "metadata": {
        "id": "mmMut30j5NGC"
      },
      "source": [
        "# Your code for excersice 2 goes here"
      ],
      "execution_count": 17,
      "outputs": []
    },
    {
      "cell_type": "markdown",
      "metadata": {
        "id": "GBEuvAQrwZkS"
      },
      "source": [
        "## Excercise 3\n",
        "\n",
        "Consider, yet again, the [county](https://www.rdocumentation.org/packages/openintro/versions/1.7.1/topics/countyComplete) dataset."
      ]
    },
    {
      "cell_type": "code",
      "metadata": {
        "colab": {
          "base_uri": "https://localhost:8080/",
          "height": 76
        },
        "id": "-UlyaWTfB76i",
        "outputId": "ce28b676-844f-42a1-a78d-6da4f8c4e1c9"
      },
      "source": [
        "from sklearn.model_selection import train_test_split\n",
        "df = pd.read_csv('https://raw.githubusercontent.com/cpaniaguam/CSC104/main/county_complete.csv')\n",
        "df=df[['state','name','pop2017','poverty_2017','homeownership_2010','median_household_income_2017','metro_2013']]\n",
        "counties_sample = df.sample(n=1000, random_state=34) # choose a random sample of 1000 counties\n",
        "train, test = train_test_split(counties_sample, test_size = 0.3,random_state = 1)\n",
        "newport = df[df['name']=='Newport County']\n",
        "newport\n"
      ],
      "execution_count": 18,
      "outputs": [
        {
          "output_type": "execute_result",
          "data": {
            "text/html": [
              "<div>\n",
              "<style scoped>\n",
              "    .dataframe tbody tr th:only-of-type {\n",
              "        vertical-align: middle;\n",
              "    }\n",
              "\n",
              "    .dataframe tbody tr th {\n",
              "        vertical-align: top;\n",
              "    }\n",
              "\n",
              "    .dataframe thead th {\n",
              "        text-align: right;\n",
              "    }\n",
              "</style>\n",
              "<table border=\"1\" class=\"dataframe\">\n",
              "  <thead>\n",
              "    <tr style=\"text-align: right;\">\n",
              "      <th></th>\n",
              "      <th>state</th>\n",
              "      <th>name</th>\n",
              "      <th>pop2017</th>\n",
              "      <th>poverty_2017</th>\n",
              "      <th>homeownership_2010</th>\n",
              "      <th>median_household_income_2017</th>\n",
              "      <th>metro_2013</th>\n",
              "    </tr>\n",
              "  </thead>\n",
              "  <tbody>\n",
              "    <tr>\n",
              "      <th>2313</th>\n",
              "      <td>Rhode Island</td>\n",
              "      <td>Newport County</td>\n",
              "      <td>83460.0</td>\n",
              "      <td>9.0</td>\n",
              "      <td>63.6</td>\n",
              "      <td>75463.0</td>\n",
              "      <td>1.0</td>\n",
              "    </tr>\n",
              "  </tbody>\n",
              "</table>\n",
              "</div>"
            ],
            "text/plain": [
              "             state            name  ...  median_household_income_2017  metro_2013\n",
              "2313  Rhode Island  Newport County  ...                       75463.0         1.0\n",
              "\n",
              "[1 rows x 7 columns]"
            ]
          },
          "metadata": {
            "tags": []
          },
          "execution_count": 18
        }
      ]
    },
    {
      "cell_type": "markdown",
      "metadata": {
        "id": "tWpkyM1Kw0i8"
      },
      "source": [
        "\n",
        "Here are the three steps of the $k$NN classification algorithm:\n",
        "\n",
        "\n",
        "1.   Find the distance between the observation to be classified and all other observations\n",
        "\n",
        "1.   Select the k-nearest observations.\n",
        "2.   Classify the observation according to majority vote of k-nearest neighbors.\n",
        "\n",
        "### To do\n",
        "\n",
        "1. For the `train` and `test` dataframes above, select the best $k$ (for $k= 1,\\ldots,20$) for which the $k$NN classifier has the lowest error rate.\n",
        "2. Predict the `metro_2013` class for `newport` using the best $k$ for this data. Is the prediction correct?\n",
        "\n"
      ]
    },
    {
      "cell_type": "code",
      "metadata": {
        "id": "xb0_xwC37eiI"
      },
      "source": [
        "# Your code for excercise 3 goes here"
      ],
      "execution_count": 19,
      "outputs": []
    }
  ]
}
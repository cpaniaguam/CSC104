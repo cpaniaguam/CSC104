{
  "nbformat": 4,
  "nbformat_minor": 0,
  "metadata": {
    "kernelspec": {
      "display_name": "Python 3",
      "language": "python",
      "name": "python3"
    },
    "language_info": {
      "codemirror_mode": {
        "name": "ipython",
        "version": 3
      },
      "file_extension": ".py",
      "mimetype": "text/x-python",
      "name": "python",
      "nbconvert_exporter": "python",
      "pygments_lexer": "ipython3",
      "version": "3.8.5"
    },
    "colab": {
      "name": "CSC104_Assigment_16.ipynb",
      "provenance": [],
      "toc_visible": true,
      "include_colab_link": true
    }
  },
  "cells": [
    {
      "cell_type": "markdown",
      "metadata": {
        "id": "view-in-github",
        "colab_type": "text"
      },
      "source": [
        "<a href=\"https://colab.research.google.com/github/cpaniaguam/CSC104/blob/main/CSC104_Assigment_16.ipynb\" target=\"_parent\"><img src=\"https://colab.research.google.com/assets/colab-badge.svg\" alt=\"Open In Colab\"/></a>"
      ]
    },
    {
      "cell_type": "markdown",
      "metadata": {
        "id": "hhCzY1uDusiK"
      },
      "source": [
        "# CSC-104 Spring 2021: Assignment 16\n",
        "\n",
        "As you know, a recursive function is a function that calls itself. It is a kind of cool way of solving certain problems in which one performs the same tasks repetively.\n",
        "\n",
        "To construct a recursive function one writes a base case indicating a condition (or conditions) for which the fuction returns a value. One also writes a recursive case in which the function calls itself. Some examples are listed below."
      ]
    },
    {
      "cell_type": "markdown",
      "metadata": {
        "id": "ZrZcCGu0vFgn"
      },
      "source": [
        "## Example 1. The recursive factorial function\r\n",
        "Two lines of code are enough to define the factorial of a non negative integer."
      ]
    },
    {
      "cell_type": "code",
      "metadata": {
        "id": "oHCW9QldusiQ"
      },
      "source": [
        "''' Recursive implementation of the factorial function\n",
        "    See more at https://en.wikipedia.org/wiki/Factorial\n",
        "'''\n",
        "def recursive_factorial(n):\n",
        "    '''Returns the factorial of a non negative integer n'''\n",
        "    if n <= 1: return 1 # base case\n",
        "    return n * recursive_factorial(n-1) # recursive case"
      ],
      "execution_count": 1,
      "outputs": []
    },
    {
      "cell_type": "code",
      "metadata": {
        "scrolled": true,
        "colab": {
          "base_uri": "https://localhost:8080/"
        },
        "id": "kfRW2YnQusiQ",
        "outputId": "b9080444-f121-47e5-e93f-bafee24729cf"
      },
      "source": [
        "recursive_factorial(5)"
      ],
      "execution_count": 2,
      "outputs": [
        {
          "output_type": "execute_result",
          "data": {
            "text/plain": [
              "120"
            ]
          },
          "metadata": {
            "tags": []
          },
          "execution_count": 2
        }
      ]
    },
    {
      "cell_type": "markdown",
      "metadata": {
        "id": "bzDSFjZcvj8a"
      },
      "source": [
        "## Excercise 1. Write your own *non-recursive* implementation of the factorial function $n!$ for non-negative integers $n.$"
      ]
    },
    {
      "cell_type": "code",
      "metadata": {
        "id": "WvVSfZzWwDmc"
      },
      "source": [
        "# Your code for exercise 1 goes here"
      ],
      "execution_count": null,
      "outputs": []
    },
    {
      "cell_type": "markdown",
      "metadata": {
        "id": "byVIRYTPwMrg"
      },
      "source": [
        "## Example 2. Division algorithm\r\n",
        "In grade school you learned long division of a positive integer $n$ by another non-zero integer $d$. The result is another pair of numbers $q$ and $r$ that verify $n=dq +r$ with $0 \\leq r <d.$ This strategy is known as the Division Algorithm and can be implemented using recursion."
      ]
    },
    {
      "cell_type": "code",
      "metadata": {
        "id": "LNCfNF16usiR"
      },
      "source": [
        "''' Recursive implementation of the division algorithm\n",
        "    See more at https://en.wikipedia.org/wiki/Division_algorithm\n",
        "'''\n",
        "def rec_division(n,d):\n",
        "    '''Returns the quotient q and reminder r such that n = dq + r'''\n",
        "    if d==0: return 'divisor d cannot be 0' # base case 1\n",
        "    global q\n",
        "    q += 1\n",
        "    if 0<= n - d < d: return (q, n-d) # base case 2\n",
        "    else: return rec_division(n-d,d) # recursive step\n",
        "\n",
        "# driver function\n",
        "def call_da(n,d):\n",
        "    global q # note usage of global keyword to keep track of times rec_division is called\n",
        "    q=0\n",
        "    return rec_division(n,d)"
      ],
      "execution_count": null,
      "outputs": []
    },
    {
      "cell_type": "code",
      "metadata": {
        "scrolled": true,
        "colab": {
          "base_uri": "https://localhost:8080/"
        },
        "id": "mWadBviIusiS",
        "outputId": "0b520689-c2bc-4878-dd70-9b8817a4e3e5"
      },
      "source": [
        "call_da(25,3)"
      ],
      "execution_count": null,
      "outputs": [
        {
          "output_type": "execute_result",
          "data": {
            "text/plain": [
              "(8, 1)"
            ]
          },
          "metadata": {
            "tags": []
          },
          "execution_count": 7
        }
      ]
    },
    {
      "cell_type": "markdown",
      "metadata": {
        "id": "31IrBM-_usiS"
      },
      "source": [
        "Let us try the division algorithm with a somewhat big number $n$ and relatively small divisor $d$."
      ]
    },
    {
      "cell_type": "code",
      "metadata": {
        "scrolled": true,
        "colab": {
          "base_uri": "https://localhost:8080/",
          "height": 346
        },
        "id": "tNsO8_eCusiT",
        "outputId": "6b435ea4-0510-4b3f-c127-3543b07d9858"
      },
      "source": [
        "call_da(12341343,3)"
      ],
      "execution_count": null,
      "outputs": [
        {
          "output_type": "error",
          "ename": "RecursionError",
          "evalue": "ignored",
          "traceback": [
            "\u001b[0;31m---------------------------------------------------------------------------\u001b[0m",
            "\u001b[0;31mRecursionError\u001b[0m                            Traceback (most recent call last)",
            "\u001b[0;32m<ipython-input-8-9f2e124b9cfa>\u001b[0m in \u001b[0;36m<module>\u001b[0;34m()\u001b[0m\n\u001b[0;32m----> 1\u001b[0;31m \u001b[0mcall_da\u001b[0m\u001b[0;34m(\u001b[0m\u001b[0;36m12341343\u001b[0m\u001b[0;34m,\u001b[0m\u001b[0;36m3\u001b[0m\u001b[0;34m)\u001b[0m\u001b[0;34m\u001b[0m\u001b[0;34m\u001b[0m\u001b[0m\n\u001b[0m",
            "\u001b[0;32m<ipython-input-6-baaef5839988>\u001b[0m in \u001b[0;36mcall_da\u001b[0;34m(n, d)\u001b[0m\n\u001b[1;32m     14\u001b[0m     \u001b[0;32mglobal\u001b[0m \u001b[0mq\u001b[0m \u001b[0;31m# note usage of global keyword to keep track of times rec_division is called\u001b[0m\u001b[0;34m\u001b[0m\u001b[0;34m\u001b[0m\u001b[0m\n\u001b[1;32m     15\u001b[0m     \u001b[0mq\u001b[0m\u001b[0;34m=\u001b[0m\u001b[0;36m0\u001b[0m\u001b[0;34m\u001b[0m\u001b[0;34m\u001b[0m\u001b[0m\n\u001b[0;32m---> 16\u001b[0;31m     \u001b[0;32mreturn\u001b[0m \u001b[0mrec_division\u001b[0m\u001b[0;34m(\u001b[0m\u001b[0mn\u001b[0m\u001b[0;34m,\u001b[0m\u001b[0md\u001b[0m\u001b[0;34m)\u001b[0m\u001b[0;34m\u001b[0m\u001b[0;34m\u001b[0m\u001b[0m\n\u001b[0m",
            "\u001b[0;32m<ipython-input-6-baaef5839988>\u001b[0m in \u001b[0;36mrec_division\u001b[0;34m(n, d)\u001b[0m\n\u001b[1;32m      8\u001b[0m     \u001b[0mq\u001b[0m \u001b[0;34m+=\u001b[0m \u001b[0;36m1\u001b[0m\u001b[0;34m\u001b[0m\u001b[0;34m\u001b[0m\u001b[0m\n\u001b[1;32m      9\u001b[0m     \u001b[0;32mif\u001b[0m \u001b[0;36m0\u001b[0m\u001b[0;34m<=\u001b[0m \u001b[0mn\u001b[0m \u001b[0;34m-\u001b[0m \u001b[0md\u001b[0m \u001b[0;34m<\u001b[0m \u001b[0md\u001b[0m\u001b[0;34m:\u001b[0m \u001b[0;32mreturn\u001b[0m \u001b[0;34m(\u001b[0m\u001b[0mq\u001b[0m\u001b[0;34m,\u001b[0m \u001b[0mn\u001b[0m\u001b[0;34m-\u001b[0m\u001b[0md\u001b[0m\u001b[0;34m)\u001b[0m \u001b[0;31m# base case 2\u001b[0m\u001b[0;34m\u001b[0m\u001b[0;34m\u001b[0m\u001b[0m\n\u001b[0;32m---> 10\u001b[0;31m     \u001b[0;32melse\u001b[0m\u001b[0;34m:\u001b[0m \u001b[0;32mreturn\u001b[0m \u001b[0mrec_division\u001b[0m\u001b[0;34m(\u001b[0m\u001b[0mn\u001b[0m\u001b[0;34m-\u001b[0m\u001b[0md\u001b[0m\u001b[0;34m,\u001b[0m\u001b[0md\u001b[0m\u001b[0;34m)\u001b[0m \u001b[0;31m# recursive step\u001b[0m\u001b[0;34m\u001b[0m\u001b[0;34m\u001b[0m\u001b[0m\n\u001b[0m\u001b[1;32m     11\u001b[0m \u001b[0;34m\u001b[0m\u001b[0m\n\u001b[1;32m     12\u001b[0m \u001b[0;31m# driver function\u001b[0m\u001b[0;34m\u001b[0m\u001b[0;34m\u001b[0m\u001b[0;34m\u001b[0m\u001b[0m\n",
            "... last 1 frames repeated, from the frame below ...\n",
            "\u001b[0;32m<ipython-input-6-baaef5839988>\u001b[0m in \u001b[0;36mrec_division\u001b[0;34m(n, d)\u001b[0m\n\u001b[1;32m      8\u001b[0m     \u001b[0mq\u001b[0m \u001b[0;34m+=\u001b[0m \u001b[0;36m1\u001b[0m\u001b[0;34m\u001b[0m\u001b[0;34m\u001b[0m\u001b[0m\n\u001b[1;32m      9\u001b[0m     \u001b[0;32mif\u001b[0m \u001b[0;36m0\u001b[0m\u001b[0;34m<=\u001b[0m \u001b[0mn\u001b[0m \u001b[0;34m-\u001b[0m \u001b[0md\u001b[0m \u001b[0;34m<\u001b[0m \u001b[0md\u001b[0m\u001b[0;34m:\u001b[0m \u001b[0;32mreturn\u001b[0m \u001b[0;34m(\u001b[0m\u001b[0mq\u001b[0m\u001b[0;34m,\u001b[0m \u001b[0mn\u001b[0m\u001b[0;34m-\u001b[0m\u001b[0md\u001b[0m\u001b[0;34m)\u001b[0m \u001b[0;31m# base case 2\u001b[0m\u001b[0;34m\u001b[0m\u001b[0;34m\u001b[0m\u001b[0m\n\u001b[0;32m---> 10\u001b[0;31m     \u001b[0;32melse\u001b[0m\u001b[0;34m:\u001b[0m \u001b[0;32mreturn\u001b[0m \u001b[0mrec_division\u001b[0m\u001b[0;34m(\u001b[0m\u001b[0mn\u001b[0m\u001b[0;34m-\u001b[0m\u001b[0md\u001b[0m\u001b[0;34m,\u001b[0m\u001b[0md\u001b[0m\u001b[0;34m)\u001b[0m \u001b[0;31m# recursive step\u001b[0m\u001b[0;34m\u001b[0m\u001b[0;34m\u001b[0m\u001b[0m\n\u001b[0m\u001b[1;32m     11\u001b[0m \u001b[0;34m\u001b[0m\u001b[0m\n\u001b[1;32m     12\u001b[0m \u001b[0;31m# driver function\u001b[0m\u001b[0;34m\u001b[0m\u001b[0;34m\u001b[0m\u001b[0;34m\u001b[0m\u001b[0m\n",
            "\u001b[0;31mRecursionError\u001b[0m: maximum recursion depth exceeded in comparison"
          ]
        }
      ]
    },
    {
      "cell_type": "markdown",
      "metadata": {
        "id": "iPenthbausiT"
      },
      "source": [
        "We get a `RecurrsionError` exception?? I guess this is a downside of recursive approaches. Even relative simple problems require many self-calls of the function. What was the maximum number of allowed self-calls there?"
      ]
    },
    {
      "cell_type": "code",
      "metadata": {
        "scrolled": true,
        "colab": {
          "base_uri": "https://localhost:8080/"
        },
        "id": "GuoY6-bmusiT",
        "outputId": "beb39bde-a17a-4408-c298-7a8b71155167"
      },
      "source": [
        "import sys\n",
        "print(sys.getrecursionlimit())"
      ],
      "execution_count": null,
      "outputs": [
        {
          "output_type": "stream",
          "text": [
            "1000\n"
          ],
          "name": "stdout"
        }
      ]
    },
    {
      "cell_type": "markdown",
      "metadata": {
        "id": "ofy76cfjusiU"
      },
      "source": [
        "Maybe 5000 calls will be enough?"
      ]
    },
    {
      "cell_type": "code",
      "metadata": {
        "colab": {
          "base_uri": "https://localhost:8080/"
        },
        "id": "myYnXV0ousiU",
        "outputId": "d34f08cb-0bd5-4962-8d86-bff662be18fb"
      },
      "source": [
        "sys.setrecursionlimit(5000)\n",
        "call_da(9997,3)"
      ],
      "execution_count": null,
      "outputs": [
        {
          "output_type": "execute_result",
          "data": {
            "text/plain": [
              "(3332, 1)"
            ]
          },
          "metadata": {
            "tags": []
          },
          "execution_count": 10
        }
      ]
    },
    {
      "cell_type": "markdown",
      "metadata": {
        "id": "-27c4adNyIt3"
      },
      "source": [
        "That's better. Now your turn.\r\n",
        "\r\n",
        "## Exercise 2. Write your own non-recursive implementation of the division algorithm. Try dividing a large positive integer by a much smaller divisor. Does your function run into any problems?"
      ]
    },
    {
      "cell_type": "code",
      "metadata": {
        "id": "8YZnIo0XykKC"
      },
      "source": [
        "# Your code for exercise 2 goes here"
      ],
      "execution_count": null,
      "outputs": []
    },
    {
      "cell_type": "markdown",
      "metadata": {
        "id": "ecC27Btyyttb"
      },
      "source": [
        "##Example 3. Tribonacci Numbers\r\n",
        "You have heard of the [Fibonacci sequence](https://oeis.org/A000045): $0,1,1,2,3,5,8,...$ Another related sequence is the [Tribonacci sequence](https://oeis.org/A000073): $0, 0, 1, 1, 2, 4, 7, 13, 24, 44, 81, 149, 274,...$\r\n",
        "\r\n"
      ]
    },
    {
      "cell_type": "markdown",
      "metadata": {
        "id": "uA3A5mN50CSM"
      },
      "source": [
        "## Exercise 3. Construct a recursive function `tribonacci(n)` that returns the $n^{th}$ term of the Tribonacci sequence. For the first few terms see [this list](https://oeis.org/A000073/list). Use your function to compute the $50^{th}$ Tribonacci number."
      ]
    },
    {
      "cell_type": "code",
      "metadata": {
        "id": "elcZsnx31Mdh"
      },
      "source": [
        "# your code to define tribonacci goes here\r\n",
        "def tribonacci(n=0):\r\n",
        "    pass"
      ],
      "execution_count": null,
      "outputs": []
    },
    {
      "cell_type": "code",
      "metadata": {
        "id": "19BTuV4VusiV"
      },
      "source": [
        "# call your tribonacci function by running this cell\n",
        "# let me know how long the function takes to return the value.\n",
        "%%timeit -r1 -n1 # See https://ipython.readthedocs.io/en/stable/interactive/magics.html\n",
        "n=50\n",
        "n, tribonacci(n)"
      ],
      "execution_count": null,
      "outputs": []
    },
    {
      "cell_type": "markdown",
      "metadata": {
        "id": "eB-PnnRX2VE1"
      },
      "source": [
        "Have you gotten the $50^{th}$ Tribonacci number yet? Try a non-recursive implementation in the next exercise."
      ]
    },
    {
      "cell_type": "markdown",
      "metadata": {
        "id": "uqTx2j5M2kHh"
      },
      "source": [
        "##Exercise 4. Write a non-recursive implementation for `tribonacci`."
      ]
    },
    {
      "cell_type": "code",
      "metadata": {
        "id": "4c9hZoXA2vml"
      },
      "source": [
        "# non-recursive tribonacci goes here\r\n",
        "def tribonacci_nr(n=0):\r\n",
        "    pass"
      ],
      "execution_count": null,
      "outputs": []
    },
    {
      "cell_type": "code",
      "metadata": {
        "id": "-EziD84R20BL"
      },
      "source": [
        "# call your tribonacci_nr function by running this cell\r\n",
        "# let me know how long the function takes to return the value.\r\n",
        "%%timeit -r1 -n1 # See https://ipython.readthedocs.io/en/stable/interactive/magics.html\r\n",
        "n=50\r\n",
        "n, tribonacci(n)"
      ],
      "execution_count": null,
      "outputs": []
    },
    {
      "cell_type": "markdown",
      "metadata": {
        "id": "ROO3HsEA4SdB"
      },
      "source": [
        "##Exercise 5. Write a short reflexion of your experiences coding recursive functions for this assignment."
      ]
    },
    {
      "cell_type": "markdown",
      "metadata": {
        "id": "zQTQQB3Z4hAt"
      },
      "source": [
        "[Write your answer here]"
      ]
    }
  ]
}
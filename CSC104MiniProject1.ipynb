{
 "cells": [
  {
   "cell_type": "markdown",
   "metadata": {
    "id": "jnv0gJOO4Bsh"
   },
   "source": [
    "Consider the [`county`](https://www.rdocumentation.org/packages/openintro/versions/1.7.1/topics/countyComplete) dataset."
   ]
  },
  {
   "cell_type": "code",
   "execution_count": null,
   "metadata": {
    "id": "yCNeGXuhH9Sf"
   },
   "outputs": [],
   "source": [
    "\n",
    "import pandas as pd\n",
    "#pd.set_option('display.float_format', lambda x: f'{x:,.3f}')\n",
    "df=pd.read_csv('https://raw.githubusercontent.com/cpaniaguam/CSC104/main/county_complete.csv')"
   ]
  },
  {
   "cell_type": "markdown",
   "metadata": {
    "id": "OB-6Baz6JuG1"
   },
   "source": [
    "**Question 1: Change in population**\n",
    "  <ol type=\"a\">\n",
    "  <li> Add a new column `pop_change` to `df` with the population change of each county from 2010 to 2017, and answer the following.</li>\n",
    "  <li>List the top 10 counties in which `pop_change` increased the most.</li>\n",
    "    <li>List the 10 counties in which `pop_change` increased the least.</li>\n",
    "    <li>List the 10 counties in which `pop_change` decreased the most.</li>\n",
    "    <li>Produce appropiate visualizations for these statistics.</li>\n",
    "  </ol>\n",
    "\n"
   ]
  },
  {
   "cell_type": "code",
   "execution_count": null,
   "metadata": {
    "id": "ezJistjZ5hnZ"
   },
   "outputs": [],
   "source": [
    "# Your code for question 1 goes here"
   ]
  },
  {
   "cell_type": "markdown",
   "metadata": {
    "id": "e3FkIEjWWn0a"
   },
   "source": [
    "**Question 2: Counties populations**\n",
    " <ol type=\"a\">\n",
    "<li>What is the mean population $\\bar{x}_{pop}$ and standard deviation $s_{pop}$ for all US counties in 2017?</li>\n",
    "<li>What is the median population for all US counties in 2017?\n",
    "<li>List 10 counties (and their respective states) that are within one $s_{pop}$ from the mean population $\\bar{x}_{pop}$. Are there any in the State of Rhode Island?\n",
    "<li>What proportion of all counties fall within one $s_{pop}$ from $\\bar{x}_{pop}$?\n",
    "<li>What proportion of all counties *do not* fall within *two* standard deviations from $\\bar{x}_{pop}$? How many are there? Store them in a data structure of your choice named `counties_greater_2sd`.\n",
    "<li>Construct a vertical dot plot for the `pop2017` variable and identify what counties are labeled as outliers. Store these counties in a variable `outliers`.  Compare and contrast this list with those in `counties_greater_2sd`."
   ]
  },
  {
   "cell_type": "code",
   "execution_count": null,
   "metadata": {
    "id": "6VcVDPwEgvFN"
   },
   "outputs": [],
   "source": [
    "# Your code for question 2 goes here"
   ]
  },
  {
   "cell_type": "markdown",
   "metadata": {
    "id": "2j891KMCguFn"
   },
   "source": [
    "**Question 3**\n",
    "<li>What is the population of the US in 2017?\n",
    "<li>Define a new variable `pop_proportion_2017` with the relative population of each county with respect to the US population in 2017.\n",
    "<li>Construct a histogram using `pop_proportion_2017` and an adequate number of bins. What can you say about this distribution?"
   ]
  },
  {
   "cell_type": "code",
   "execution_count": null,
   "metadata": {
    "id": "PCYvn-n9hvtR"
   },
   "outputs": [],
   "source": [
    "# Your code for question 3 goes here"
   ]
  }
 ],
 "metadata": {
  "colab": {
   "name": "CSC104MiniProject1.ipynb",
   "provenance": []
  },
  "kernelspec": {
   "display_name": "Python 3",
   "language": "python",
   "name": "python3"
  },
  "language_info": {
   "codemirror_mode": {
    "name": "ipython",
    "version": 3
   },
   "file_extension": ".py",
   "mimetype": "text/x-python",
   "name": "python",
   "nbconvert_exporter": "python",
   "pygments_lexer": "ipython3",
   "version": "3.8.5"
  }
 },
 "nbformat": 4,
 "nbformat_minor": 1
}

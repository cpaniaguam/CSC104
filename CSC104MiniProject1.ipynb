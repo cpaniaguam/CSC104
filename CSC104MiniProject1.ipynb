{
  "nbformat": 4,
  "nbformat_minor": 0,
  "metadata": {
    "colab": {
      "name": "CSC104MiniProject1.ipynb",
      "provenance": [],
      "include_colab_link": true
    },
    "kernelspec": {
      "display_name": "Python 3",
      "language": "python",
      "name": "python3"
    },
    "language_info": {
      "codemirror_mode": {
        "name": "ipython",
        "version": 3
      },
      "file_extension": ".py",
      "mimetype": "text/x-python",
      "name": "python",
      "nbconvert_exporter": "python",
      "pygments_lexer": "ipython3",
      "version": "3.8.5"
    }
  },
  "cells": [
    {
      "cell_type": "markdown",
      "metadata": {
        "id": "view-in-github",
        "colab_type": "text"
      },
      "source": [
        "<a href=\"https://colab.research.google.com/github/cpaniaguam/CSC104/blob/main/CSC104MiniProject1.ipynb\" target=\"_parent\"><img src=\"https://colab.research.google.com/assets/colab-badge.svg\" alt=\"Open In Colab\"/></a>"
      ]
    },
    {
      "cell_type": "markdown",
      "metadata": {
        "id": "Dv7VHDjurUmK"
      },
      "source": [
        "Submit a notebook file to the assingment on Canvas. Be sure to include your name at the top. You may edit the heading below this line.\r\n",
        "\r\n",
        "## Your name here\r\n",
        "\r\n",
        "\r\n",
        "---\r\n",
        "\r\n"
      ]
    },
    {
      "cell_type": "markdown",
      "metadata": {
        "id": "jnv0gJOO4Bsh"
      },
      "source": [
        "Consider the [`county`](https://www.rdocumentation.org/packages/openintro/versions/1.7.1/topics/countyComplete) dataset."
      ]
    },
    {
      "cell_type": "code",
      "metadata": {
        "id": "yCNeGXuhH9Sf"
      },
      "source": [
        "\n",
        "import pandas as pd\n",
        "#pd.set_option('display.float_format', lambda x: f'{x:,.3f}')\n",
        "df=pd.read_csv('https://raw.githubusercontent.com/cpaniaguam/CSC104/main/county_complete.csv')"
      ],
      "execution_count": null,
      "outputs": []
    },
    {
      "cell_type": "markdown",
      "metadata": {
        "id": "OB-6Baz6JuG1"
      },
      "source": [
        "**Question 1: Change in population**\n",
        "1. Add a new column `pop_change` to `df` with the population change of each county from 2010 to 2017, and answer the following.\n",
        "2. List the top 10 counties in which `pop_change` increased the most.\n",
        "3. List the 10 counties in which `pop_change` increased the least.\n",
        "4. List the 10 counties in which `pop_change` decreased the most. Produce appropiate visualizations for these statistics.\n"
      ]
    },
    {
      "cell_type": "code",
      "metadata": {
        "id": "ezJistjZ5hnZ"
      },
      "source": [
        "# Your code for question 1 goes here"
      ],
      "execution_count": null,
      "outputs": []
    },
    {
      "cell_type": "markdown",
      "metadata": {
        "id": "3esUn0sGrE4Z"
      },
      "source": [
        "**Question 2: Counties populations**\n",
        "\n",
        "1. What is the mean population $\\bar{x}_{pop}$ and standard deviation $s_{pop}$ for all US counties in 2017?</li>\n",
        "2. What is the median population for all US counties in 2017?</li>\n",
        "3. List 10 counties (and their respective states) that are within one $s_{pop}$ from the mean population $\\bar{x}_{pop}$. Are there any in the State of Rhode Island?\n",
        "4. List 10 counties (and their respective states) that are within one $s_{pop}$ from the mean population $\\bar{x}_{pop}$. Are there any in the State of Rhode Island?\n",
        "5. What proportion of all counties fall within one $s_{pop}$ from $\\bar{x}_{pop}$?\n",
        "6. What proportion of all counties *do not* fall within *two* standard deviations from $\\bar{x}_{pop}$? How many are there? Store them in a data structure of your choice named `counties_greater_2sd`.\n",
        "7. Construct a vertical dot plot for the `pop2017` variable and identify what counties are labeled as outliers. Store these counties in a variable `outliers`.  Compare and contrast `outliers` with `counties_greater_2sd`.\n",
        "8. Which statitic is a better descriptor for `pop2017`, its mean $\\bar{x}_{pop}$ or its median. Explain."
      ]
    },
    {
      "cell_type": "code",
      "metadata": {
        "id": "6VcVDPwEgvFN"
      },
      "source": [
        "# Your code for question 2 goes here"
      ],
      "execution_count": null,
      "outputs": []
    },
    {
      "cell_type": "markdown",
      "metadata": {
        "id": "2j891KMCguFn"
      },
      "source": [
        "**Question 3**\n",
        "1. What is the population of the US in 2017?\n",
        "2. Define a new variable `pop_proportion_2017` with the relative population of each county with respect to the US population in 2017.\n",
        "3. Construct a histogram using `pop_proportion_2017` and an adequate number of bins. What can you say about this distribution?"
      ]
    },
    {
      "cell_type": "code",
      "metadata": {
        "id": "PCYvn-n9hvtR"
      },
      "source": [
        "# Your code for question 3 goes here"
      ],
      "execution_count": null,
      "outputs": []
    }
  ]
}
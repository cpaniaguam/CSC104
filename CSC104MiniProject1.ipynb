{
  "nbformat": 4,
  "nbformat_minor": 0,
  "metadata": {
    "colab": {
      "name": "CSC104MiniProject1.ipynb",
      "provenance": [],
      "authorship_tag": "ABX9TyPNxHidm45pjbnxBTF674Tm",
      "include_colab_link": true
    },
    "kernelspec": {
      "name": "python3",
      "display_name": "Python 3"
    }
  },
  "cells": [
    {
      "cell_type": "markdown",
      "metadata": {
        "id": "view-in-github",
        "colab_type": "text"
      },
      "source": [
        "<a href=\"https://colab.research.google.com/github/cpaniaguam/CSC104/blob/main/CSC104MiniProject1.ipynb\" target=\"_parent\"><img src=\"https://colab.research.google.com/assets/colab-badge.svg\" alt=\"Open In Colab\"/></a>"
      ]
    },
    {
      "cell_type": "markdown",
      "metadata": {
        "id": "jnv0gJOO4Bsh"
      },
      "source": [
        "Consider the [`county`](https://www.rdocumentation.org/packages/openintro/versions/1.7.1/topics/countyComplete) dataset."
      ]
    },
    {
      "cell_type": "code",
      "metadata": {
        "id": "yCNeGXuhH9Sf"
      },
      "source": [
        "\r\n",
        "import pandas as pd\r\n",
        "#pd.set_option('display.float_format', lambda x: f'{x:,.3f}')\r\n",
        "df=pd.read_csv('https://raw.githubusercontent.com/cpaniaguam/CSC104/main/county_complete.csv')"
      ],
      "execution_count": null,
      "outputs": []
    },
    {
      "cell_type": "markdown",
      "metadata": {
        "id": "OB-6Baz6JuG1"
      },
      "source": [
        "**Question 1: Change in population**\r\n",
        "  <ol type=\"a\">\r\n",
        "  <li> Add a new column `pop_change` to `df` with the population change of each county from 2010 to 2017, and answer the following.</li>\r\n",
        "  <li>List the top 10 counties in which `pop_change` increased the most.</li>\r\n",
        "    <li>List the 10 counties in which `pop_change` increased the least.</li>\r\n",
        "    <li>List the 10 counties in which `pop_change` decreased the most.</li>\r\n",
        "    <li>Produce appropiate visualizations for these statistics.</li>\r\n",
        "  </ol>\r\n",
        "\r\n"
      ]
    },
    {
      "cell_type": "code",
      "metadata": {
        "id": "ezJistjZ5hnZ"
      },
      "source": [
        "# Your code for question 1 goes here"
      ],
      "execution_count": null,
      "outputs": []
    },
    {
      "cell_type": "markdown",
      "metadata": {
        "id": "e3FkIEjWWn0a"
      },
      "source": [
        "**Question 2: Counties populations**\r\n",
        " <ol type=\"a\">\r\n",
        "<li>What is the mean population $\\bar{x}_{pop}$ and standard deviation $s_{pop}$ for all US counties in 2017?</li>\r\n",
        "<li>What is the median population for all US counties in 2017?\r\n",
        "<li>List 10 counties (and their respective states) that are within one $s_{pop}$ from the mean population $\\bar{x}_{pop}$. Are there any in the State of Rhode Island?\r\n",
        "<li>What proportion of all counties fall within one $s_{pop}$ from $\\bar{x}_{pop}$?\r\n",
        "<li>What proportion of all counties *do not* fall within *two* standard deviations from $\\bar{x}_{pop}$? How many are there? Store them in a data structure of your choice named `counties_greater_2sd`.\r\n",
        "<li>Construct a vertical dot plot for the `pop2017` variable and identify what counties are labeled as outliers. Store these counties in a variable `outliers`.  Compare and contrast this list with those in `counties_greater_2sd`."
      ]
    },
    {
      "cell_type": "code",
      "metadata": {
        "id": "6VcVDPwEgvFN"
      },
      "source": [
        "# Your code for question 2 goes here"
      ],
      "execution_count": null,
      "outputs": []
    },
    {
      "cell_type": "markdown",
      "metadata": {
        "id": "2j891KMCguFn"
      },
      "source": [
        "**Question 3**\r\n",
        "<li>What is the population of the US in 2017?\r\n",
        "<li>Define a new variable `pop_proportion_2017` with the relative population of each county with respect to the US population in 2017.\r\n",
        "<li>Construct a histogram using `pop_proportion_2017` and an adequate number of bins. What can you say about this distribution?"
      ]
    },
    {
      "cell_type": "code",
      "metadata": {
        "id": "PCYvn-n9hvtR"
      },
      "source": [
        "# Your code for question 3 goes here"
      ],
      "execution_count": null,
      "outputs": []
    }
  ]
}
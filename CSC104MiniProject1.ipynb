{
  "nbformat": 4,
  "nbformat_minor": 0,
  "metadata": {
    "colab": {
      "name": "CSC104MiniProject1.ipynb",
      "provenance": [],
      "authorship_tag": "ABX9TyM+OMTqk1edzr2AaXb8EdF8",
      "include_colab_link": true
    },
    "kernelspec": {
      "name": "python3",
      "display_name": "Python 3"
    }
  },
  "cells": [
    {
      "cell_type": "markdown",
      "metadata": {
        "id": "view-in-github",
        "colab_type": "text"
      },
      "source": [
        "<a href=\"https://colab.research.google.com/github/cpaniaguam/CSC104/blob/main/CSC104MiniProject1.ipynb\" target=\"_parent\"><img src=\"https://colab.research.google.com/assets/colab-badge.svg\" alt=\"Open In Colab\"/></a>"
      ]
    },
    {
      "cell_type": "markdown",
      "metadata": {
        "id": "jnv0gJOO4Bsh"
      },
      "source": [
        "Consider the [`county`](https://www.rdocumentation.org/packages/openintro/versions/1.7.1/topics/countyComplete) dataset."
      ]
    },
    {
      "cell_type": "code",
      "metadata": {
        "colab": {
          "base_uri": "https://localhost:8080/"
        },
        "id": "yCNeGXuhH9Sf",
        "outputId": "19238008-5107-46cf-a348-348a6bb49108"
      },
      "source": [
        "\r\n",
        "import pandas as pd\r\n",
        "#pd.set_option('display.float_format', lambda x: f'{x:,.3f}')\r\n",
        "df=pd.read_csv('https://raw.githubusercontent.com/cpaniaguam/CSC104/main/county_complete.csv')\r\n",
        "#df.nlargest(10,'pop2017').loc[:,['name','state','pop2017']]\r\n",
        "print(list(df.columns))"
      ],
      "execution_count": 39,
      "outputs": [
        {
          "output_type": "stream",
          "text": [
            "['state', 'name', 'FIPS', 'pop2000', 'pop2010', 'pop2011', 'pop2012', 'pop2013', 'pop2014', 'pop2015', 'pop2016', 'pop2017', 'age_under_5_2010', 'age_under_5_2017', 'age_under_18_2010', 'age_over_65_2010', 'age_over_64_2017', 'median_age_2017', 'female_2010', 'white_2010', 'black_2010', 'black_2017', 'native_2010', 'native_2017', 'asian_2010', 'asian_2017', 'pac_isl_2010', 'pac_isl_2017', 'other_single_race_2017', 'two_plus_races_2010', 'two_plus_races_2017', 'hispanic_2010', 'hispanic_2017', 'white_not_hispanic_2010', 'white_not_hispanic_2017', 'speak_english_only_2017', 'no_move_in_one_plus_year_2010', 'foreign_born_2010', 'foreign_spoken_at_home_2010', 'women_16_to_50_birth_rate_2017', 'hs_grad_2010', 'hs_grad_2016', 'hs_grad_2017', 'some_college_2016', 'some_college_2017', 'bachelors_2010', 'bachelors_2016', 'bachelors_2017', 'veterans_2010', 'veterans_2017', 'mean_work_travel_2010', 'mean_work_travel_2017', 'broadband_2017', 'computer_2017', 'housing_units_2010', 'homeownership_2010', 'housing_multi_unit_2010', 'median_val_owner_occupied_2010', 'households_2010', 'households_2017', 'persons_per_household_2010', 'persons_per_household_2017', 'per_capita_income_2010', 'per_capita_income_2017', 'metro_2013', 'median_household_income_2010', 'median_household_income_2016', 'median_household_income_2017', 'private_nonfarm_establishments_2009', 'private_nonfarm_employment_2009', 'percent_change_private_nonfarm_employment_2009', 'nonemployment_establishments_2009', 'firms_2007', 'black_owned_firms_2007', 'native_owned_firms_2007', 'asian_owned_firms_2007', 'pac_isl_owned_firms_2007', 'hispanic_owned_firms_2007', 'women_owned_firms_2007', 'manufacturer_shipments_2007', 'mercent_whole_sales_2007', 'sales_2007', 'sales_per_capita_2007', 'accommodation_food_service_2007', 'building_permits_2010', 'fed_spending_2009', 'area_2010', 'density_2010', 'smoking_ban_2010', 'poverty_2010', 'poverty_2016', 'poverty_2017', 'poverty_age_under_5_2017', 'poverty_age_under_18_2017', 'civilian_labor_force_2007', 'employed_2007', 'unemployed_2007', 'unemployment_rate_2007', 'civilian_labor_force_2008', 'employed_2008', 'unemployed_2008', 'unemployment_rate_2008', 'civilian_labor_force_2009', 'employed_2009', 'unemployed_2009', 'unemployment_rate_2009', 'civilian_labor_force_2010', 'employed_2010', 'unemployed_2010', 'unemployment_rate_2010', 'civilian_labor_force_2011', 'employed_2011', 'unemployed_2011', 'unemployment_rate_2011', 'civilian_labor_force_2012', 'employed_2012', 'unemployed_2012', 'unemployment_rate_2012', 'civilian_labor_force_2013', 'employed_2013', 'unemployed_2013', 'unemployment_rate_2013', 'civilian_labor_force_2014', 'employed_2014', 'unemployed_2014', 'unemployment_rate_2014', 'civilian_labor_force_2015', 'employed_2015', 'unemployed_2015', 'unemployment_rate_2015', 'civilian_labor_force_2016', 'employed_2016', 'unemployed_2016', 'unemployment_rate_2016', 'uninsured_2017', 'uninsured_age_under_6_2017', 'uninsured_age_under_19_2017', 'uninsured_age_over_74_2017', 'civilian_labor_force_2017', 'employed_2017', 'unemployed_2017', 'unemployment_rate_2017']\n"
          ],
          "name": "stdout"
        }
      ]
    },
    {
      "cell_type": "markdown",
      "metadata": {
        "id": "OB-6Baz6JuG1"
      },
      "source": [
        "**Question 1: Change in population**\r\n",
        "  <ol type=\"a\">\r\n",
        "  <li> Add a new column `pop_change` to `df` with the population change of each county from 2010 to 2017, and answer the following.</li>\r\n",
        "  <li>List the top 10 counties in which `pop_change` increased the most.</li>\r\n",
        "    <li>List the 10 counties in which `pop_change` increased the least.</li>\r\n",
        "    <li>List the 10 counties in which `pop_change` decreased the most.</li>\r\n",
        "    <li>Produce appropiate visualizations for these statistics.</li>\r\n",
        "  </ol>\r\n",
        "\r\n"
      ]
    },
    {
      "cell_type": "code",
      "metadata": {
        "id": "ezJistjZ5hnZ"
      },
      "source": [
        "# Your code for question 1 goes here"
      ],
      "execution_count": null,
      "outputs": []
    },
    {
      "cell_type": "markdown",
      "metadata": {
        "id": "e3FkIEjWWn0a"
      },
      "source": [
        "**Question 2: Counties populations**\r\n",
        " <ol type=\"a\">\r\n",
        "<li>What is the mean population $\\bar{x}_{pop}$ and standard deviation $s_{pop}$ for all US counties in 2017?</li>\r\n",
        "<li>What is the median population for all US counties in 2017?\r\n",
        "<li>List 10 counties (and their respective states) that are within one $s_{pop}$ from the mean population $\\bar{x}_{pop}$. Are there any in the State of Rhode Island?\r\n",
        "<li>What proportion of all counties fall within one $s_{pop}$ from $\\bar{x}_{pop}$?\r\n",
        "<li>What proportion of all counties *do not* fall within *two* standard deviations from $\\bar{x}_{pop}$? How many are there? Store them in a data structure of your choice named `counties_greater_2sd`.\r\n",
        "<li>Construct a vertical dot plot for the `pop2017` variable and identify what counties are labeled as outliers. Store these counties in a variable `outliers`.  Compare and contrast this list with those in `counties_greater_2sd`."
      ]
    },
    {
      "cell_type": "code",
      "metadata": {
        "id": "6VcVDPwEgvFN"
      },
      "source": [
        "# Your code for question 2 goes here"
      ],
      "execution_count": null,
      "outputs": []
    },
    {
      "cell_type": "markdown",
      "metadata": {
        "id": "2j891KMCguFn"
      },
      "source": [
        "**Question 3**\r\n",
        "<li>What is the population of the US in 2017?\r\n",
        "<li>Define a new variable `pop_proportion_2017` with the relative population of each county with respect to the US population in 2017.\r\n",
        "<li>Construct a histogram using `pop_proportion_2017` and an adequate number of bins. What can you say about this distribution?"
      ]
    },
    {
      "cell_type": "code",
      "metadata": {
        "id": "PCYvn-n9hvtR"
      },
      "source": [
        "# Your code for question 3 goes here"
      ],
      "execution_count": null,
      "outputs": []
    }
  ]
}
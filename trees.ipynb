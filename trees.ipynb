{
  "nbformat": 4,
  "nbformat_minor": 0,
  "metadata": {
    "colab": {
      "name": "trees.ipynb",
      "provenance": [],
      "collapsed_sections": [],
      "authorship_tag": "ABX9TyN91DqwPJrAt5Zp4Z0do3Az",
      "include_colab_link": true
    },
    "kernelspec": {
      "name": "python3",
      "display_name": "Python 3"
    },
    "language_info": {
      "name": "python"
    }
  },
  "cells": [
    {
      "cell_type": "markdown",
      "metadata": {
        "id": "view-in-github",
        "colab_type": "text"
      },
      "source": [
        "<a href=\"https://colab.research.google.com/github/cpaniaguam/CSC104/blob/main/trees.ipynb\" target=\"_parent\"><img src=\"https://colab.research.google.com/assets/colab-badge.svg\" alt=\"Open In Colab\"/></a>"
      ]
    },
    {
      "cell_type": "markdown",
      "metadata": {
        "id": "crZnvzF5EGNO"
      },
      "source": [
        "## Trees and decision trees\n",
        "[Trees](https://en.wikipedia.org/wiki/Tree_(data_structure)) are [data structures](https://en.wikipedia.org/wiki/List_of_data_structures).\n",
        "\n",
        "![picture](https://runestone.academy/runestone/books/published/pythonds/_images/treerecs.png)\n",
        "\n",
        "The topic of Data Representations for Data Structures in a programming language is an important part of the curriculum of a traditional second course in computer programming (see [CSC-300](http://catalog.salve.edu/preview_course_nopop.php?catoid=18&coid=19057) in the Salve catalog). An accecible reference is *Problem Solving with Algorithms and Data Structures using Python* by Miller and Ranum, [available for free at Runestone](https://runestone.academy/runestone/books/published/pythonds/index.html).\n",
        "\n"
      ]
    },
    {
      "cell_type": "markdown",
      "metadata": {
        "id": "eLftgumNMsou"
      },
      "source": [
        "## An implementation of Decision Trees\n",
        "\n",
        "Here we show the first steps in implementing a decision tree. The remaining details are left for you to complete in mini-project 5. For implementing decision trees in Python, a suitable representation needs to be chosen. In this notebook we show a possible approach using Pandas dataframes (to store data) and Python classes (to define the trees' data structure)."
      ]
    },
    {
      "cell_type": "code",
      "metadata": {
        "id": "0xqdYVvdUJJo"
      },
      "source": [
        "import pandas as pd\n",
        "import numpy as np\n",
        "from math import log2"
      ],
      "execution_count": null,
      "outputs": []
    },
    {
      "cell_type": "markdown",
      "metadata": {
        "id": "XyByOQrzL01j"
      },
      "source": [
        "Below are all the functions we are going to use."
      ]
    },
    {
      "cell_type": "code",
      "metadata": {
        "id": "YUHMhVaxX7O7"
      },
      "source": [
        "def entropy(df,column,target=None):\n",
        "    '''Compute entropy of column'''\n",
        "    if target == None: target = column\n",
        "    proportions = df[column].value_counts(normalize=True)\n",
        "    return -sum([i*log2(i) for i in proportions])  \n",
        "\n",
        "#entropy of split\n",
        "def entropy_split(df,column,target):\n",
        "    '''Does a split of df at column and computes entropy of target '''\n",
        "    weights = df[column].value_counts(normalize=True)\n",
        "    entropies = np.array([-df[df[column]==i][target]\n",
        "                .value_counts(normalize=True).apply(lambda x: x*log2(x)).sum()\n",
        "                for i in weights.index])\n",
        "    return sum(weights*entropies)\n",
        "\n",
        "def gains(df,columns,target):\n",
        "    '''Used to compute the information gain after splitting the data at each\n",
        "    column of df at the target column, and returns the column name with highest \n",
        "    gain.'''\n",
        "    entro = np.array([entropy_split(df,target,col) for col in columns])\n",
        "    d = dict(zip(columns,entropy(df,target,target)-entro))\n",
        "    # print(sorted(d, key=d.get,reverse=True))\n",
        "    return max(d, key=d.get)\n",
        "\n",
        "def purity_check(df,target,threshold = 0):\n",
        "    return True if entropy(df,target) <= threshold else False\n",
        "\n",
        "def split(df,column):\n",
        "    splt = []\n",
        "    for val in df[column].unique():\n",
        "        splt.append(df[df[column]==val])\n",
        "    return splt\n"
      ],
      "execution_count": null,
      "outputs": []
    },
    {
      "cell_type": "markdown",
      "metadata": {
        "id": "ukJeCp2BL8l7"
      },
      "source": [
        "Here is the code for the trees' data structure. As you can see we are using a class."
      ]
    },
    {
      "cell_type": "code",
      "metadata": {
        "id": "XbpqG_EhUUW-"
      },
      "source": [
        "# Tree class\n",
        "class Node():\n",
        "    def __init__(self, df=None, pure = None, split_col = None):\n",
        "        self.branch = []\n",
        "        self.data = df\n",
        "        self.pure = pure # purity of all branches\n",
        "        self.split_col = split_col # column used for splitting data\n",
        "\n",
        "    def __str__(self):\n",
        "        print(self.data)\n",
        "        return ''\n",
        "\n",
        "    def __repr__(self):\n",
        "        print(self.data)\n",
        "        return ''\n",
        "\n",
        "    def _split(self,column):\n",
        "        self.split_col = column\n",
        "        splt = split(self.data,column)    \n",
        "        for i in splt: \n",
        "            self.branch.append( Node(i) ) #create nodes with corresponding data\n",
        "        print(self.branch)    \n",
        "    \n",
        "    # check purity of branch\n",
        "    def _check_purity(self,target = None):\n",
        "        '''Assumes target class is rightmost column'''\n",
        "        if target == None: target = self.data.columns[-1]\n",
        "        result = purity_check(self.data,target)\n",
        "        self.pure = result #update purity\n",
        "        return result\n",
        "\n",
        "    #check purity of all branches\n",
        "    def _pure_branches(self):\n",
        "        for branch in self.branch:\n",
        "            branch._check_purity()\n",
        "        res = True if all([i.pure for i in self.branch]) else False\n",
        "        self.pure = res\n",
        "        return self.pure\n",
        "\n",
        "    def get_impure_nodes(self):\n",
        "        # update inpurities\n",
        "        for node in self.branch:\n",
        "            self._check_purity()\n",
        "        return [i for i in range(len(self.branch)) if not self.branch[i].pure]\n",
        "       "
      ],
      "execution_count": null,
      "outputs": []
    },
    {
      "cell_type": "markdown",
      "metadata": {
        "id": "knybZiSLNZJo"
      },
      "source": [
        "## Toy implementation\n",
        "Below is a toy dataset we can manipulate by hand."
      ]
    },
    {
      "cell_type": "code",
      "metadata": {
        "colab": {
          "base_uri": "https://localhost:8080/",
          "height": 195
        },
        "id": "_8n0FOioW837",
        "outputId": "678e8aef-02b6-44be-9fdc-a6dcfb3c4afa"
      },
      "source": [
        "# some toy data for experimentation\n",
        "df = pd.DataFrame({'age':list('y'*5+'m'*5+'o'*5),\n",
        "                         'has_job':list('ffttffftffffttf'),\n",
        "                         'own_house':list('ffftffftttttfff'),\n",
        "                         'credit_rating':list('fggfffggeeeggef'),\n",
        "                         'class_':list('nnyynnnyyyyyyyn')})\n",
        "df.head()"
      ],
      "execution_count": null,
      "outputs": [
        {
          "output_type": "execute_result",
          "data": {
            "text/html": [
              "<div>\n",
              "<style scoped>\n",
              "    .dataframe tbody tr th:only-of-type {\n",
              "        vertical-align: middle;\n",
              "    }\n",
              "\n",
              "    .dataframe tbody tr th {\n",
              "        vertical-align: top;\n",
              "    }\n",
              "\n",
              "    .dataframe thead th {\n",
              "        text-align: right;\n",
              "    }\n",
              "</style>\n",
              "<table border=\"1\" class=\"dataframe\">\n",
              "  <thead>\n",
              "    <tr style=\"text-align: right;\">\n",
              "      <th></th>\n",
              "      <th>age</th>\n",
              "      <th>has_job</th>\n",
              "      <th>own_house</th>\n",
              "      <th>credit_rating</th>\n",
              "      <th>class_</th>\n",
              "    </tr>\n",
              "  </thead>\n",
              "  <tbody>\n",
              "    <tr>\n",
              "      <th>0</th>\n",
              "      <td>y</td>\n",
              "      <td>f</td>\n",
              "      <td>f</td>\n",
              "      <td>f</td>\n",
              "      <td>n</td>\n",
              "    </tr>\n",
              "    <tr>\n",
              "      <th>1</th>\n",
              "      <td>y</td>\n",
              "      <td>f</td>\n",
              "      <td>f</td>\n",
              "      <td>g</td>\n",
              "      <td>n</td>\n",
              "    </tr>\n",
              "    <tr>\n",
              "      <th>2</th>\n",
              "      <td>y</td>\n",
              "      <td>t</td>\n",
              "      <td>f</td>\n",
              "      <td>g</td>\n",
              "      <td>y</td>\n",
              "    </tr>\n",
              "    <tr>\n",
              "      <th>3</th>\n",
              "      <td>y</td>\n",
              "      <td>t</td>\n",
              "      <td>t</td>\n",
              "      <td>f</td>\n",
              "      <td>y</td>\n",
              "    </tr>\n",
              "    <tr>\n",
              "      <th>4</th>\n",
              "      <td>y</td>\n",
              "      <td>f</td>\n",
              "      <td>f</td>\n",
              "      <td>f</td>\n",
              "      <td>n</td>\n",
              "    </tr>\n",
              "  </tbody>\n",
              "</table>\n",
              "</div>"
            ],
            "text/plain": [
              "  age has_job own_house credit_rating class_\n",
              "0   y       f         f             f      n\n",
              "1   y       f         f             g      n\n",
              "2   y       t         f             g      y\n",
              "3   y       t         t             f      y\n",
              "4   y       f         f             f      n"
            ]
          },
          "metadata": {
            "tags": []
          },
          "execution_count": 4
        }
      ]
    },
    {
      "cell_type": "code",
      "metadata": {
        "colab": {
          "base_uri": "https://localhost:8080/",
          "height": 195
        },
        "id": "GFsviQvLCtUO",
        "outputId": "8a537fe6-1396-40c1-deb1-e0a86bc3f266"
      },
      "source": [
        "# let us give the variable levels friendlier names\n",
        "df.age.replace({'y':'young','m':'middle','o':'old'},inplace=True)\n",
        "df.has_job.replace({'f':False,'t':True},inplace=True)\n",
        "df.own_house.replace({'f':False,'t':True},inplace=True)\n",
        "df.credit_rating.replace({'f':'fair','g':'good','e':'excellent'},inplace=True)\n",
        "df.class_.replace({'n':'No','y':'Yes'},inplace=True)\n",
        "df.head()"
      ],
      "execution_count": null,
      "outputs": [
        {
          "output_type": "execute_result",
          "data": {
            "text/html": [
              "<div>\n",
              "<style scoped>\n",
              "    .dataframe tbody tr th:only-of-type {\n",
              "        vertical-align: middle;\n",
              "    }\n",
              "\n",
              "    .dataframe tbody tr th {\n",
              "        vertical-align: top;\n",
              "    }\n",
              "\n",
              "    .dataframe thead th {\n",
              "        text-align: right;\n",
              "    }\n",
              "</style>\n",
              "<table border=\"1\" class=\"dataframe\">\n",
              "  <thead>\n",
              "    <tr style=\"text-align: right;\">\n",
              "      <th></th>\n",
              "      <th>age</th>\n",
              "      <th>has_job</th>\n",
              "      <th>own_house</th>\n",
              "      <th>credit_rating</th>\n",
              "      <th>class_</th>\n",
              "    </tr>\n",
              "  </thead>\n",
              "  <tbody>\n",
              "    <tr>\n",
              "      <th>0</th>\n",
              "      <td>young</td>\n",
              "      <td>False</td>\n",
              "      <td>False</td>\n",
              "      <td>fair</td>\n",
              "      <td>No</td>\n",
              "    </tr>\n",
              "    <tr>\n",
              "      <th>1</th>\n",
              "      <td>young</td>\n",
              "      <td>False</td>\n",
              "      <td>False</td>\n",
              "      <td>good</td>\n",
              "      <td>No</td>\n",
              "    </tr>\n",
              "    <tr>\n",
              "      <th>2</th>\n",
              "      <td>young</td>\n",
              "      <td>True</td>\n",
              "      <td>False</td>\n",
              "      <td>good</td>\n",
              "      <td>Yes</td>\n",
              "    </tr>\n",
              "    <tr>\n",
              "      <th>3</th>\n",
              "      <td>young</td>\n",
              "      <td>True</td>\n",
              "      <td>True</td>\n",
              "      <td>fair</td>\n",
              "      <td>Yes</td>\n",
              "    </tr>\n",
              "    <tr>\n",
              "      <th>4</th>\n",
              "      <td>young</td>\n",
              "      <td>False</td>\n",
              "      <td>False</td>\n",
              "      <td>fair</td>\n",
              "      <td>No</td>\n",
              "    </tr>\n",
              "  </tbody>\n",
              "</table>\n",
              "</div>"
            ],
            "text/plain": [
              "     age  has_job  own_house credit_rating class_\n",
              "0  young    False      False          fair     No\n",
              "1  young    False      False          good     No\n",
              "2  young     True      False          good    Yes\n",
              "3  young     True       True          fair    Yes\n",
              "4  young    False      False          fair     No"
            ]
          },
          "metadata": {
            "tags": []
          },
          "execution_count": 5
        }
      ]
    },
    {
      "cell_type": "code",
      "metadata": {
        "colab": {
          "base_uri": "https://localhost:8080/"
        },
        "id": "If2KmPQdh_y3",
        "outputId": "566d7906-ca13-415a-8e69-8342b2ed17dd"
      },
      "source": [
        "# create the root node and pass in data in df above\n",
        "root = Node(df)\n",
        "root.__repr__"
      ],
      "execution_count": null,
      "outputs": [
        {
          "output_type": "stream",
          "text": [
            "       age  has_job  own_house credit_rating class_\n",
            "0    young    False      False          fair     No\n",
            "1    young    False      False          good     No\n",
            "2    young     True      False          good    Yes\n",
            "3    young     True       True          fair    Yes\n",
            "4    young    False      False          fair     No\n",
            "5   middle    False      False          fair     No\n",
            "6   middle    False      False          good     No\n",
            "7   middle     True       True          good    Yes\n",
            "8   middle    False       True     excellent    Yes\n",
            "9   middle    False       True     excellent    Yes\n",
            "10     old    False       True     excellent    Yes\n",
            "11     old    False       True          good    Yes\n",
            "12     old     True      False          good    Yes\n",
            "13     old     True      False     excellent    Yes\n",
            "14     old    False      False          fair     No\n"
          ],
          "name": "stdout"
        },
        {
          "output_type": "execute_result",
          "data": {
            "text/plain": [
              "<bound method Node.__repr__ of >"
            ]
          },
          "metadata": {
            "tags": []
          },
          "execution_count": 6
        }
      ]
    },
    {
      "cell_type": "code",
      "metadata": {
        "colab": {
          "base_uri": "https://localhost:8080/",
          "height": 195
        },
        "id": "dzroRQtiiMdk",
        "outputId": "549e2fe2-0643-4d01-a136-3b33ee03eebe"
      },
      "source": [
        "# take a look at the data in the root node\n",
        "root.data.head()"
      ],
      "execution_count": null,
      "outputs": [
        {
          "output_type": "execute_result",
          "data": {
            "text/html": [
              "<div>\n",
              "<style scoped>\n",
              "    .dataframe tbody tr th:only-of-type {\n",
              "        vertical-align: middle;\n",
              "    }\n",
              "\n",
              "    .dataframe tbody tr th {\n",
              "        vertical-align: top;\n",
              "    }\n",
              "\n",
              "    .dataframe thead th {\n",
              "        text-align: right;\n",
              "    }\n",
              "</style>\n",
              "<table border=\"1\" class=\"dataframe\">\n",
              "  <thead>\n",
              "    <tr style=\"text-align: right;\">\n",
              "      <th></th>\n",
              "      <th>age</th>\n",
              "      <th>has_job</th>\n",
              "      <th>own_house</th>\n",
              "      <th>credit_rating</th>\n",
              "      <th>class_</th>\n",
              "    </tr>\n",
              "  </thead>\n",
              "  <tbody>\n",
              "    <tr>\n",
              "      <th>0</th>\n",
              "      <td>young</td>\n",
              "      <td>False</td>\n",
              "      <td>False</td>\n",
              "      <td>fair</td>\n",
              "      <td>No</td>\n",
              "    </tr>\n",
              "    <tr>\n",
              "      <th>1</th>\n",
              "      <td>young</td>\n",
              "      <td>False</td>\n",
              "      <td>False</td>\n",
              "      <td>good</td>\n",
              "      <td>No</td>\n",
              "    </tr>\n",
              "    <tr>\n",
              "      <th>2</th>\n",
              "      <td>young</td>\n",
              "      <td>True</td>\n",
              "      <td>False</td>\n",
              "      <td>good</td>\n",
              "      <td>Yes</td>\n",
              "    </tr>\n",
              "    <tr>\n",
              "      <th>3</th>\n",
              "      <td>young</td>\n",
              "      <td>True</td>\n",
              "      <td>True</td>\n",
              "      <td>fair</td>\n",
              "      <td>Yes</td>\n",
              "    </tr>\n",
              "    <tr>\n",
              "      <th>4</th>\n",
              "      <td>young</td>\n",
              "      <td>False</td>\n",
              "      <td>False</td>\n",
              "      <td>fair</td>\n",
              "      <td>No</td>\n",
              "    </tr>\n",
              "  </tbody>\n",
              "</table>\n",
              "</div>"
            ],
            "text/plain": [
              "     age  has_job  own_house credit_rating class_\n",
              "0  young    False      False          fair     No\n",
              "1  young    False      False          good     No\n",
              "2  young     True      False          good    Yes\n",
              "3  young     True       True          fair    Yes\n",
              "4  young    False      False          fair     No"
            ]
          },
          "metadata": {
            "tags": []
          },
          "execution_count": 7
        }
      ]
    },
    {
      "cell_type": "code",
      "metadata": {
        "colab": {
          "base_uri": "https://localhost:8080/"
        },
        "id": "bM0MIBE5i_Ka",
        "outputId": "8f615d12-211c-4ad7-ae98-ae81b78bf9fe"
      },
      "source": [
        "# take a look at the branches\n",
        "# there are none as no splits have occurred\n",
        "root.branch"
      ],
      "execution_count": null,
      "outputs": [
        {
          "output_type": "execute_result",
          "data": {
            "text/plain": [
              "[]"
            ]
          },
          "metadata": {
            "tags": []
          },
          "execution_count": 8
        }
      ]
    },
    {
      "cell_type": "code",
      "metadata": {
        "id": "KTI2KjAcDSDV"
      },
      "source": [
        "root.pure #nothing yet"
      ],
      "execution_count": null,
      "outputs": []
    },
    {
      "cell_type": "code",
      "metadata": {
        "colab": {
          "base_uri": "https://localhost:8080/"
        },
        "id": "PHIKQvAjOTK-",
        "outputId": "12c67e11-a23a-4e4a-ce1e-88df3408366a"
      },
      "source": [
        "# Before moving on, let us test our functions and class methods\n",
        "entropy(root.data,'class_')"
      ],
      "execution_count": null,
      "outputs": [
        {
          "output_type": "execute_result",
          "data": {
            "text/plain": [
              "0.9709505944546686"
            ]
          },
          "metadata": {
            "tags": []
          },
          "execution_count": 10
        }
      ]
    },
    {
      "cell_type": "code",
      "metadata": {
        "colab": {
          "base_uri": "https://localhost:8080/"
        },
        "id": "EuU7I_z0Ohrc",
        "outputId": "5f93a77f-1c2c-4562-f44e-70608a26193f"
      },
      "source": [
        "split(root.data,'age')"
      ],
      "execution_count": null,
      "outputs": [
        {
          "output_type": "execute_result",
          "data": {
            "text/plain": [
              "[     age  has_job  own_house credit_rating class_\n",
              " 0  young    False      False          fair     No\n",
              " 1  young    False      False          good     No\n",
              " 2  young     True      False          good    Yes\n",
              " 3  young     True       True          fair    Yes\n",
              " 4  young    False      False          fair     No,\n",
              "       age  has_job  own_house credit_rating class_\n",
              " 5  middle    False      False          fair     No\n",
              " 6  middle    False      False          good     No\n",
              " 7  middle     True       True          good    Yes\n",
              " 8  middle    False       True     excellent    Yes\n",
              " 9  middle    False       True     excellent    Yes,\n",
              "     age  has_job  own_house credit_rating class_\n",
              " 10  old    False       True     excellent    Yes\n",
              " 11  old    False       True          good    Yes\n",
              " 12  old     True      False          good    Yes\n",
              " 13  old     True      False     excellent    Yes\n",
              " 14  old    False      False          fair     No]"
            ]
          },
          "metadata": {
            "tags": []
          },
          "execution_count": 11
        }
      ]
    },
    {
      "cell_type": "code",
      "metadata": {
        "colab": {
          "base_uri": "https://localhost:8080/"
        },
        "id": "AGWd05bjOpNr",
        "outputId": "207a9808-5308-4515-cb04-036226e689c8"
      },
      "source": [
        "entropy_split(df,'age','class_')"
      ],
      "execution_count": null,
      "outputs": [
        {
          "output_type": "execute_result",
          "data": {
            "text/plain": [
              "0.8879430945988998"
            ]
          },
          "metadata": {
            "tags": []
          },
          "execution_count": 12
        }
      ]
    },
    {
      "cell_type": "code",
      "metadata": {
        "colab": {
          "base_uri": "https://localhost:8080/"
        },
        "id": "uFAHbRNpPdfC",
        "outputId": "e553d7bc-837f-4bc2-ba2e-2ded8f079494"
      },
      "source": [
        "# Check the previous calculation by hand\n",
        "-(2/3*(2/5*log2(2/5)+3/5*log2(3/5))+1/3*(4/5*log2(4/5)+1/5*log2(1/5)))"
      ],
      "execution_count": null,
      "outputs": [
        {
          "output_type": "execute_result",
          "data": {
            "text/plain": [
              "0.8879430945988998"
            ]
          },
          "metadata": {
            "tags": []
          },
          "execution_count": 13
        }
      ]
    },
    {
      "cell_type": "code",
      "metadata": {
        "colab": {
          "base_uri": "https://localhost:8080/",
          "height": 35
        },
        "id": "rE15wgMkiC2C",
        "outputId": "0e3bbe9f-068a-4775-a7d6-9ac1c8481742"
      },
      "source": [
        "# Everything seems in order. Let us now build our model.\n",
        "# What variable to use for first split?\n",
        "# We choose the one that renders maximun information gain\n",
        "vartosplit = gains(root.data,root.data.columns[:-1],root.data.columns[-1])\n",
        "vartosplit"
      ],
      "execution_count": null,
      "outputs": [
        {
          "output_type": "execute_result",
          "data": {
            "application/vnd.google.colaboratory.intrinsic+json": {
              "type": "string"
            },
            "text/plain": [
              "'own_house'"
            ]
          },
          "metadata": {
            "tags": []
          },
          "execution_count": 14
        }
      ]
    },
    {
      "cell_type": "code",
      "metadata": {
        "colab": {
          "base_uri": "https://localhost:8080/"
        },
        "id": "bLohXjNR98OM",
        "outputId": "28741b1f-4fde-471f-9343-cc4adc0a5faa"
      },
      "source": [
        "#let us split the data in root node at vartosplit\n",
        "root._split(vartosplit)"
      ],
      "execution_count": null,
      "outputs": [
        {
          "output_type": "stream",
          "text": [
            "       age  has_job  own_house credit_rating class_\n",
            "0    young    False      False          fair     No\n",
            "1    young    False      False          good     No\n",
            "2    young     True      False          good    Yes\n",
            "4    young    False      False          fair     No\n",
            "5   middle    False      False          fair     No\n",
            "6   middle    False      False          good     No\n",
            "12     old     True      False          good    Yes\n",
            "13     old     True      False     excellent    Yes\n",
            "14     old    False      False          fair     No\n",
            "       age  has_job  own_house credit_rating class_\n",
            "3    young     True       True          fair    Yes\n",
            "7   middle     True       True          good    Yes\n",
            "8   middle    False       True     excellent    Yes\n",
            "9   middle    False       True     excellent    Yes\n",
            "10     old    False       True     excellent    Yes\n",
            "11     old    False       True          good    Yes\n",
            "[, ]\n"
          ],
          "name": "stdout"
        }
      ]
    },
    {
      "cell_type": "code",
      "metadata": {
        "colab": {
          "base_uri": "https://localhost:8080/"
        },
        "id": "wX_g0veciYlN",
        "outputId": "cb7d92df-eae5-47f5-98a4-d02e366ce2e4"
      },
      "source": [
        "# Take a look at the branches\n",
        "root.branch"
      ],
      "execution_count": null,
      "outputs": [
        {
          "output_type": "stream",
          "text": [
            "       age  has_job  own_house credit_rating class_\n",
            "0    young    False      False          fair     No\n",
            "1    young    False      False          good     No\n",
            "2    young     True      False          good    Yes\n",
            "4    young    False      False          fair     No\n",
            "5   middle    False      False          fair     No\n",
            "6   middle    False      False          good     No\n",
            "12     old     True      False          good    Yes\n",
            "13     old     True      False     excellent    Yes\n",
            "14     old    False      False          fair     No\n",
            "       age  has_job  own_house credit_rating class_\n",
            "3    young     True       True          fair    Yes\n",
            "7   middle     True       True          good    Yes\n",
            "8   middle    False       True     excellent    Yes\n",
            "9   middle    False       True     excellent    Yes\n",
            "10     old    False       True     excellent    Yes\n",
            "11     old    False       True          good    Yes\n"
          ],
          "name": "stdout"
        },
        {
          "output_type": "execute_result",
          "data": {
            "text/plain": [
              "[, ]"
            ]
          },
          "metadata": {
            "tags": []
          },
          "execution_count": 16
        }
      ]
    },
    {
      "cell_type": "code",
      "metadata": {
        "colab": {
          "base_uri": "https://localhost:8080/"
        },
        "id": "0dEqZhM0tHxg",
        "outputId": "98394f2e-2e7c-4226-8a57-0fdaf20342f5"
      },
      "source": [
        "# Are the branches pure? You can clearly see they are not, so other splits may\n",
        "# be required.\n",
        "root.branch[0]._check_purity('class_')"
      ],
      "execution_count": null,
      "outputs": [
        {
          "output_type": "execute_result",
          "data": {
            "text/plain": [
              "False"
            ]
          },
          "metadata": {
            "tags": []
          },
          "execution_count": 17
        }
      ]
    },
    {
      "cell_type": "code",
      "metadata": {
        "colab": {
          "base_uri": "https://localhost:8080/"
        },
        "id": "cM0T_u1T0Zry",
        "outputId": "7faebbb7-1bab-4dbb-bc15-d266a6721b81"
      },
      "source": [
        "# is the other branch pure? (You can clearly see that it is)\n",
        "root.branch[1]._check_purity('class_')"
      ],
      "execution_count": null,
      "outputs": [
        {
          "output_type": "execute_result",
          "data": {
            "text/plain": [
              "True"
            ]
          },
          "metadata": {
            "tags": []
          },
          "execution_count": 18
        }
      ]
    },
    {
      "cell_type": "code",
      "metadata": {
        "id": "HdFrdI2-Mq6X"
      },
      "source": [
        "# See if last split produced pure nodes\n",
        "root.pure"
      ],
      "execution_count": null,
      "outputs": []
    },
    {
      "cell_type": "code",
      "metadata": {
        "colab": {
          "base_uri": "https://localhost:8080/"
        },
        "id": "SHxxsfIE7RSF",
        "outputId": "b0499eaf-5536-47d1-fe33-e93c2e8d56d2"
      },
      "source": [
        "# Get impure nodes (indices here) to continue to split\n",
        "imp_node = root.get_impure_nodes()\n",
        "imp_node"
      ],
      "execution_count": null,
      "outputs": [
        {
          "output_type": "execute_result",
          "data": {
            "text/plain": [
              "[0]"
            ]
          },
          "metadata": {
            "tags": []
          },
          "execution_count": 20
        }
      ]
    },
    {
      "cell_type": "code",
      "metadata": {
        "colab": {
          "base_uri": "https://localhost:8080/",
          "height": 35
        },
        "id": "bBYrkNNB4O_5",
        "outputId": "5f84ef56-1a86-4b57-dcc7-917f9a0bbd27"
      },
      "source": [
        "# Where to split the impure node in the first branch?\n",
        "vartosplit = gains(root.branch[0].data,root.branch[0].data.columns[:-1],'class_')\n",
        "vartosplit"
      ],
      "execution_count": null,
      "outputs": [
        {
          "output_type": "execute_result",
          "data": {
            "application/vnd.google.colaboratory.intrinsic+json": {
              "type": "string"
            },
            "text/plain": [
              "'has_job'"
            ]
          },
          "metadata": {
            "tags": []
          },
          "execution_count": 21
        }
      ]
    },
    {
      "cell_type": "code",
      "metadata": {
        "colab": {
          "base_uri": "https://localhost:8080/"
        },
        "id": "QCaxJJrgSgeh",
        "outputId": "41b20dc0-954d-4fc0-d01f-20f4270323eb"
      },
      "source": [
        "# Here is the impure node again\n",
        "root.branch[0]"
      ],
      "execution_count": null,
      "outputs": [
        {
          "output_type": "stream",
          "text": [
            "       age  has_job  own_house credit_rating class_\n",
            "0    young    False      False          fair     No\n",
            "1    young    False      False          good     No\n",
            "2    young     True      False          good    Yes\n",
            "4    young    False      False          fair     No\n",
            "5   middle    False      False          fair     No\n",
            "6   middle    False      False          good     No\n",
            "12     old     True      False          good    Yes\n",
            "13     old     True      False     excellent    Yes\n",
            "14     old    False      False          fair     No\n"
          ],
          "name": "stdout"
        },
        {
          "output_type": "execute_result",
          "data": {
            "text/plain": [
              ""
            ]
          },
          "metadata": {
            "tags": []
          },
          "execution_count": 22
        }
      ]
    },
    {
      "cell_type": "code",
      "metadata": {
        "colab": {
          "base_uri": "https://localhost:8080/"
        },
        "id": "sJoPVtA37eaL",
        "outputId": "e3ab6c0e-b98e-4808-cd0d-4c80bcbdaf3b"
      },
      "source": [
        "# Let us now split it using vartosplit\n",
        "root.branch[0]._split(vartosplit)"
      ],
      "execution_count": null,
      "outputs": [
        {
          "output_type": "stream",
          "text": [
            "       age  has_job  own_house credit_rating class_\n",
            "0    young    False      False          fair     No\n",
            "1    young    False      False          good     No\n",
            "4    young    False      False          fair     No\n",
            "5   middle    False      False          fair     No\n",
            "6   middle    False      False          good     No\n",
            "14     old    False      False          fair     No\n",
            "      age  has_job  own_house credit_rating class_\n",
            "2   young     True      False          good    Yes\n",
            "12    old     True      False          good    Yes\n",
            "13    old     True      False     excellent    Yes\n",
            "[, ]\n"
          ],
          "name": "stdout"
        }
      ]
    },
    {
      "cell_type": "code",
      "metadata": {
        "colab": {
          "base_uri": "https://localhost:8080/"
        },
        "id": "GMdoxuFk6mbh",
        "outputId": "96aeff51-cee9-46d9-97bb-f6c576fc769a"
      },
      "source": [
        "#Look at its branches after split\n",
        "root.branch[0].branch"
      ],
      "execution_count": null,
      "outputs": [
        {
          "output_type": "stream",
          "text": [
            "       age  has_job  own_house credit_rating class_\n",
            "0    young    False      False          fair     No\n",
            "1    young    False      False          good     No\n",
            "4    young    False      False          fair     No\n",
            "5   middle    False      False          fair     No\n",
            "6   middle    False      False          good     No\n",
            "14     old    False      False          fair     No\n",
            "      age  has_job  own_house credit_rating class_\n",
            "2   young     True      False          good    Yes\n",
            "12    old     True      False          good    Yes\n",
            "13    old     True      False     excellent    Yes\n"
          ],
          "name": "stdout"
        },
        {
          "output_type": "execute_result",
          "data": {
            "text/plain": [
              "[, ]"
            ]
          },
          "metadata": {
            "tags": []
          },
          "execution_count": 24
        }
      ]
    },
    {
      "cell_type": "code",
      "metadata": {
        "colab": {
          "base_uri": "https://localhost:8080/"
        },
        "id": "VXMZikS7TSMy",
        "outputId": "0e081339-8785-4d41-9a65-de90846e58be"
      },
      "source": [
        "# As you can see above, all nodes after split are pure,\n",
        "# but let us verify this using a purity check on this node\n",
        "root.branch[0]._pure_branches()"
      ],
      "execution_count": null,
      "outputs": [
        {
          "output_type": "execute_result",
          "data": {
            "text/plain": [
              "True"
            ]
          },
          "metadata": {
            "tags": []
          },
          "execution_count": 25
        }
      ]
    },
    {
      "cell_type": "markdown",
      "metadata": {
        "id": "0qLgL_P_GfXE"
      },
      "source": [
        "We now have a model, a decision tree. In mini-project 5 you will be asked to automate this process.\n",
        "\n",
        "One more last thing. In what order were the splits made?"
      ]
    },
    {
      "cell_type": "code",
      "metadata": {
        "colab": {
          "base_uri": "https://localhost:8080/",
          "height": 35
        },
        "id": "4RkmWeaxTnVa",
        "outputId": "91f61d2b-b9ed-4c69-a61c-446f7178b7d2"
      },
      "source": [
        "root.split_col"
      ],
      "execution_count": null,
      "outputs": [
        {
          "output_type": "execute_result",
          "data": {
            "application/vnd.google.colaboratory.intrinsic+json": {
              "type": "string"
            },
            "text/plain": [
              "'own_house'"
            ]
          },
          "metadata": {
            "tags": []
          },
          "execution_count": 26
        }
      ]
    },
    {
      "cell_type": "code",
      "metadata": {
        "id": "hEdTOzq7Tgqi"
      },
      "source": [
        "root.branch[1].split_col"
      ],
      "execution_count": null,
      "outputs": []
    },
    {
      "cell_type": "code",
      "metadata": {
        "colab": {
          "base_uri": "https://localhost:8080/",
          "height": 35
        },
        "id": "OeINi2slTepV",
        "outputId": "225945c0-1b2d-46ff-b10a-ebe690336da8"
      },
      "source": [
        "root.branch[0].split_col"
      ],
      "execution_count": null,
      "outputs": [
        {
          "output_type": "execute_result",
          "data": {
            "application/vnd.google.colaboratory.intrinsic+json": {
              "type": "string"
            },
            "text/plain": [
              "'has_job'"
            ]
          },
          "metadata": {
            "tags": []
          },
          "execution_count": 31
        }
      ]
    },
    {
      "cell_type": "code",
      "metadata": {
        "colab": {
          "base_uri": "https://localhost:8080/"
        },
        "id": "qKIrcITOekFo",
        "outputId": "2449ca2a-ed23-489a-8657-d8530177b8fc"
      },
      "source": [
        "root.branch[0].branch[1]"
      ],
      "execution_count": null,
      "outputs": [
        {
          "output_type": "stream",
          "text": [
            "      age  has_job  own_house credit_rating class_\n",
            "2   young     True      False          good    Yes\n",
            "12    old     True      False          good    Yes\n",
            "13    old     True      False     excellent    Yes\n"
          ],
          "name": "stdout"
        },
        {
          "output_type": "execute_result",
          "data": {
            "text/plain": [
              ""
            ]
          },
          "metadata": {
            "tags": []
          },
          "execution_count": 40
        }
      ]
    },
    {
      "cell_type": "code",
      "metadata": {
        "id": "RX2bV0KSfJoW"
      },
      "source": [
        "root.branch[0].branch[1].split_col"
      ],
      "execution_count": null,
      "outputs": []
    },
    {
      "cell_type": "code",
      "metadata": {
        "id": "QEjz8HVlkO-P"
      },
      "source": [
        ""
      ],
      "execution_count": null,
      "outputs": []
    }
  ]
}
{
  "nbformat": 4,
  "nbformat_minor": 0,
  "metadata": {
    "colab": {
      "name": "trees.ipynb",
      "provenance": [],
      "collapsed_sections": [],
      "authorship_tag": "ABX9TyPa/5G6uRrJyc6qMXZdYMqN",
      "include_colab_link": true
    },
    "kernelspec": {
      "name": "python3",
      "display_name": "Python 3"
    },
    "language_info": {
      "name": "python"
    }
  },
  "cells": [
    {
      "cell_type": "markdown",
      "metadata": {
        "id": "view-in-github",
        "colab_type": "text"
      },
      "source": [
        "<a href=\"https://colab.research.google.com/github/cpaniaguam/CSC104/blob/main/trees.ipynb\" target=\"_parent\"><img src=\"https://colab.research.google.com/assets/colab-badge.svg\" alt=\"Open In Colab\"/></a>"
      ]
    },
    {
      "cell_type": "markdown",
      "metadata": {
        "id": "crZnvzF5EGNO"
      },
      "source": [
        "## Trees and decision trees\n",
        "[Trees](https://en.wikipedia.org/wiki/Tree_(data_structure)) are [data structures](https://en.wikipedia.org/wiki/List_of_data_structures).\n",
        "\n",
        "![picture](https://runestone.academy/runestone/books/published/pythonds/_images/treerecs.png)\n",
        "\n",
        "The topic of Data Representations for Data Structures in a programming language is an important part of the curriculum of a traditional second course in computer programming. See [CSC-300](http://catalog.salve.edu/preview_course_nopop.php?catoid=18&coid=19057) in the Salve catalog. An accecible reference is *Problem Solving with Algorithms and Data Structures using Python* by Miller and Ranum, [available for free at Runestone](https://runestone.academy/runestone/books/published/pythonds/index.html).\n",
        "\n"
      ]
    },
    {
      "cell_type": "markdown",
      "metadata": {
        "id": "eLftgumNMsou"
      },
      "source": [
        "## An implementation of Decision Trees\n",
        "\n",
        "Here we show the first steps in implementing a decision tree. The remaining details are left for you to complete in mini-project 5. For implementing decision trees in Python, a suitable representation needs to be chosen. In this notebook we show a possible approach using Pandas dataframes (to store data) and Python classes (to define the trees' data structure)."
      ]
    },
    {
      "cell_type": "code",
      "metadata": {
        "id": "0xqdYVvdUJJo"
      },
      "source": [
        "import pandas as pd\n",
        "import numpy as np\n",
        "from math import log2"
      ],
      "execution_count": null,
      "outputs": []
    },
    {
      "cell_type": "markdown",
      "metadata": {
        "id": "XyByOQrzL01j"
      },
      "source": [
        "Below are all the functions we are going to use."
      ]
    },
    {
      "cell_type": "code",
      "metadata": {
        "id": "YUHMhVaxX7O7"
      },
      "source": [
        "def gains(df,columns,target):\n",
        "    entro = np.array([entropy_split(df,target,col) for col in columns])\n",
        "    d = dict(zip(columns,entropy(df,target,target)-entro))\n",
        "    # print(sorted(d, key=d.get,reverse=True))\n",
        "    return max(d, key=d.get)\n",
        "\n",
        "#entropy of split\n",
        "def entropy_split(df,target,column):\n",
        "    weights = df[column].value_counts(normalize=True)\n",
        "    entropies = np.array([-df[df[column]==i][target]\n",
        "                .value_counts(normalize=True).apply(lambda x: x*log2(x)).sum()\n",
        "                for i in weights.index])\n",
        "    return sum(weights*entropies)\n",
        "\n",
        "def entropy(df,column,target=None):\n",
        "    if target == None: target = column\n",
        "    proportions = df[column].value_counts(normalize=True)\n",
        "    return -sum([i*log2(i) for i in proportions])\n",
        "\n",
        "def purity_check(df,target):\n",
        "    return True if entropy(df,target)==0 else False\n",
        "\n",
        "def split(df,column):\n",
        "    splt = []\n",
        "    for val in df[column].unique():\n",
        "        splt.append(df[df[column]==val])\n",
        "    return splt\n"
      ],
      "execution_count": null,
      "outputs": []
    },
    {
      "cell_type": "markdown",
      "metadata": {
        "id": "ukJeCp2BL8l7"
      },
      "source": [
        "Here is the code for the trees' data structure. As you can see we are using a class."
      ]
    },
    {
      "cell_type": "code",
      "metadata": {
        "id": "XbpqG_EhUUW-"
      },
      "source": [
        "# Tree class\n",
        "class Node():\n",
        "    def __init__(self, df=None, pure = None, split_col = None):\n",
        "        self.branch = []\n",
        "        self.data = df\n",
        "        self.pure = pure #purity of all branches\n",
        "        self.split_col = split_col # column used for splitting data\n",
        "\n",
        "    def __str__(self):\n",
        "        print(self.data)\n",
        "        return ''\n",
        "\n",
        "    def __repr__(self):\n",
        "        print(self.data)\n",
        "        return ''\n",
        "\n",
        "    def _split(self,column):\n",
        "        self.split_col = column\n",
        "        splt = split(self.data,column)    \n",
        "        for i in splt: \n",
        "            self.branch.append( Node(i) ) #create notes with corresponding data\n",
        "        print(self.branch)    \n",
        "    \n",
        "    # check purity of branch\n",
        "    def _check_purity(self,target = None):\n",
        "        if target == None: target = self.data.columns[-1]\n",
        "        result = purity_check(self.data,target)\n",
        "        self.pure = result #update purity\n",
        "        return result\n",
        "\n",
        "    #check purity of all branches\n",
        "    def _pure_branches(self):\n",
        "        for branch in self.branch:\n",
        "            branch._check_purity()\n",
        "        res = True if all([i.pure for i in self.branch]) else False\n",
        "        self.pure = res\n",
        "        return self.pure\n",
        "\n",
        "    def get_impure_nodes(self):\n",
        "        # update inpurities\n",
        "        for node in self.branch:\n",
        "            self._check_purity()\n",
        "        return [i for i in range(len(self.branch)) if not self.branch[i].pure]\n",
        "       "
      ],
      "execution_count": null,
      "outputs": []
    },
    {
      "cell_type": "markdown",
      "metadata": {
        "id": "knybZiSLNZJo"
      },
      "source": [
        "## Toy implementation\n",
        "Below is a toy dataset we can manipulate by hand."
      ]
    },
    {
      "cell_type": "code",
      "metadata": {
        "id": "_8n0FOioW837"
      },
      "source": [
        "# some toy data for experimentation\n",
        "df = pd.DataFrame({'age':list('y'*5+'m'*5+'o'*5),\n",
        "                         'has_job':list('ffttffftffffttf'),\n",
        "                         'own_house':list('ffftffftttttfff'),\n",
        "                         'credit_rating':list('fggfffggeeeggef'),\n",
        "                         'class_':list('nnyynnnyyyyyyyn')})\n",
        "df"
      ],
      "execution_count": null,
      "outputs": []
    },
    {
      "cell_type": "code",
      "metadata": {
        "id": "GFsviQvLCtUO"
      },
      "source": [
        "# let us give the variable levels friendlier names\n",
        "df.age.replace({'y':'young','m':'middle','o':'old'},inplace=True)\n",
        "df.has_job.replace({'f':False,'t':True},inplace=True)\n",
        "df.own_house.replace({'f':False,'t':True},inplace=True)\n",
        "df.credit_rating.replace({'f':'fair','g':'good','e':'excellent'},inplace=True)\n",
        "df.class_.replace({'n':'No','y':'Yes'},inplace=True)\n",
        "df"
      ],
      "execution_count": null,
      "outputs": []
    },
    {
      "cell_type": "code",
      "metadata": {
        "id": "If2KmPQdh_y3"
      },
      "source": [
        "# create the root node and pass in data\n",
        "root=Node(df)\n",
        "root.__repr__"
      ],
      "execution_count": null,
      "outputs": []
    },
    {
      "cell_type": "code",
      "metadata": {
        "id": "dzroRQtiiMdk"
      },
      "source": [
        "# take a look at the data in the root node\n",
        "root.data"
      ],
      "execution_count": null,
      "outputs": []
    },
    {
      "cell_type": "code",
      "metadata": {
        "id": "bM0MIBE5i_Ka"
      },
      "source": [
        "# take a look at the branches\n",
        "# there are none as no splits have occurred\n",
        "root.branch"
      ],
      "execution_count": null,
      "outputs": []
    },
    {
      "cell_type": "code",
      "metadata": {
        "id": "KTI2KjAcDSDV"
      },
      "source": [
        "root.pure"
      ],
      "execution_count": null,
      "outputs": []
    },
    {
      "cell_type": "code",
      "metadata": {
        "id": "rE15wgMkiC2C"
      },
      "source": [
        "# What variable to use for split?\n",
        "vartosplit = gains(root.data,root.data.columns[:-1],root.data.columns[-1])\n",
        "vartosplit"
      ],
      "execution_count": null,
      "outputs": []
    },
    {
      "cell_type": "code",
      "metadata": {
        "id": "bLohXjNR98OM"
      },
      "source": [
        "#let us split the data in root node at vartosplit\n",
        "root._split(vartosplit)"
      ],
      "execution_count": null,
      "outputs": []
    },
    {
      "cell_type": "code",
      "metadata": {
        "id": "wX_g0veciYlN"
      },
      "source": [
        "# Take a look at the branches\n",
        "root.branch"
      ],
      "execution_count": null,
      "outputs": []
    },
    {
      "cell_type": "code",
      "metadata": {
        "id": "0dEqZhM0tHxg"
      },
      "source": [
        "# are the branches pure?\n",
        "root.branch[0]._check_purity('class')\n"
      ],
      "execution_count": null,
      "outputs": []
    },
    {
      "cell_type": "code",
      "metadata": {
        "id": "cM0T_u1T0Zry"
      },
      "source": [
        "# is the other branch pure? (You can clearly see that it is)\n",
        "root.branch[1]._check_purity('class')"
      ],
      "execution_count": null,
      "outputs": []
    },
    {
      "cell_type": "code",
      "metadata": {
        "id": "SHxxsfIE7RSF"
      },
      "source": [
        "# Get impure nodes (indices here) to continue to split\n",
        "imp_node = root.get_impure_nodes()\n",
        "imp_node"
      ],
      "execution_count": null,
      "outputs": []
    },
    {
      "cell_type": "code",
      "metadata": {
        "id": "bBYrkNNB4O_5"
      },
      "source": [
        "# Where to split?\n",
        "vartosplit = gains(root.branch[0].data,root.branch[0].data.columns[:-1],'class')\n",
        "vartosplit"
      ],
      "execution_count": null,
      "outputs": []
    },
    {
      "cell_type": "code",
      "metadata": {
        "id": "sJoPVtA37eaL"
      },
      "source": [
        "root.branch[0]._split(vartosplit)"
      ],
      "execution_count": null,
      "outputs": []
    },
    {
      "cell_type": "code",
      "metadata": {
        "id": "GMdoxuFk6mbh"
      },
      "source": [
        "root.branch[0].branch"
      ],
      "execution_count": null,
      "outputs": []
    }
  ]
}
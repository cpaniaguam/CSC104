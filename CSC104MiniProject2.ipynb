{
  "nbformat": 4,
  "nbformat_minor": 0,
  "metadata": {
    "kernelspec": {
      "display_name": "Python 3",
      "language": "python",
      "name": "python3"
    },
    "language_info": {
      "codemirror_mode": {
        "name": "ipython",
        "version": 3
      },
      "file_extension": ".py",
      "mimetype": "text/x-python",
      "name": "python",
      "nbconvert_exporter": "python",
      "pygments_lexer": "ipython3",
      "version": "3.8.5"
    },
    "colab": {
      "name": "CSC104MiniProject2.ipynb",
      "provenance": [],
      "collapsed_sections": [],
      "toc_visible": true,
      "include_colab_link": true
    }
  },
  "cells": [
    {
      "cell_type": "markdown",
      "metadata": {
        "id": "view-in-github",
        "colab_type": "text"
      },
      "source": [
        "<a href=\"https://colab.research.google.com/github/cpaniaguam/CSC104/blob/main/CSC104MiniProject2.ipynb\" target=\"_parent\"><img src=\"https://colab.research.google.com/assets/colab-badge.svg\" alt=\"Open In Colab\"/></a>"
      ]
    },
    {
      "cell_type": "markdown",
      "metadata": {
        "id": "qhwRsFkfk3xF"
      },
      "source": [
        "#Solving probability problems using simulation and randomization\n",
        "\n",
        "Question: If you randomly select a card from a well-shuffled standard 52-card deck, what is the probability that the card you select is a club (♣) or a **7**?\n",
        "\n",
        "Of course we can easily solve this problem using probability theory for the random process of choosing a card from a 52-card deck. Let $C$ be the event of drawing a club (♣) and $S$ the event of drawing a **7**. There are 13 clubs, so the number of outcomes $|C|$ in $C$ is 13: $|C|=13.$ There are four **7**'s, thus the number of outcomes in $S$, $|S|$ is 4: $|S|=4.$ There is also a club that is a 7, the **7** of clubs (**7♣**), so $|C\\cap S|=1.$ The (theoretical) probability of the event $C \\cup S$ is given by the *addition rule:* $P(C \\cup S) = P(C) + P(S) - P(C \\cap S) = \\frac{13}{52}+\\frac{4}{52}-\\frac{1}{52}=\\frac{16}{52}=\\frac{4}{13}\\approx 0.31$\n"
      ]
    },
    {
      "cell_type": "code",
      "metadata": {
        "colab": {
          "base_uri": "https://localhost:8080/"
        },
        "id": "_Pnr5uPwk3xK",
        "outputId": "8b190010-a428-4f01-a74c-394376b32e98"
      },
      "source": [
        "%precision 2 \n",
        "13/52 + 4/52 - 1/52\n",
        "# About line 1: This is an python 'magic' function. Read more about these here: \n",
        "# https://ipython.readthedocs.io/en/stable/interactive/magics.html"
      ],
      "execution_count": null,
      "outputs": [
        {
          "output_type": "execute_result",
          "data": {
            "text/plain": [
              "0.31"
            ]
          },
          "metadata": {
            "tags": []
          },
          "execution_count": 1
        }
      ]
    },
    {
      "cell_type": "markdown",
      "metadata": {
        "id": "aTQpFO-Ak3xM"
      },
      "source": [
        "Thus about 31% of the time we will observe a club or a **7**.\n",
        "\n",
        "We could also have approached the problem empirically by shuffling a real deck of cards and drawing one card at random and observing how many times we observe a **7** or a club after replicating the experiment a large number of times. Of course, actually doing this would take more time that we would like to invest. Instead, we run a *simulation* using the computer."
      ]
    },
    {
      "cell_type": "code",
      "metadata": {
        "scrolled": true,
        "colab": {
          "base_uri": "https://localhost:8080/"
        },
        "id": "rDBGGRMLk3xN",
        "outputId": "45ed7b39-65e5-4bde-9ef0-5568424b8c13"
      },
      "source": [
        "# Let us build a deck to draw cards from\n",
        "import numpy as np\n",
        "rank=np.array([2,3,4,5,6,7,8,9,10,'J','Q','K','A'])\n",
        "suits= list('♥♦♣♠')\n",
        "deck=[(i,j) for i in rank for j in suits]\n",
        "deck"
      ],
      "execution_count": null,
      "outputs": [
        {
          "output_type": "execute_result",
          "data": {
            "text/plain": [
              "[('2', '♥'),\n",
              " ('2', '♦'),\n",
              " ('2', '♣'),\n",
              " ('2', '♠'),\n",
              " ('3', '♥'),\n",
              " ('3', '♦'),\n",
              " ('3', '♣'),\n",
              " ('3', '♠'),\n",
              " ('4', '♥'),\n",
              " ('4', '♦'),\n",
              " ('4', '♣'),\n",
              " ('4', '♠'),\n",
              " ('5', '♥'),\n",
              " ('5', '♦'),\n",
              " ('5', '♣'),\n",
              " ('5', '♠'),\n",
              " ('6', '♥'),\n",
              " ('6', '♦'),\n",
              " ('6', '♣'),\n",
              " ('6', '♠'),\n",
              " ('7', '♥'),\n",
              " ('7', '♦'),\n",
              " ('7', '♣'),\n",
              " ('7', '♠'),\n",
              " ('8', '♥'),\n",
              " ('8', '♦'),\n",
              " ('8', '♣'),\n",
              " ('8', '♠'),\n",
              " ('9', '♥'),\n",
              " ('9', '♦'),\n",
              " ('9', '♣'),\n",
              " ('9', '♠'),\n",
              " ('10', '♥'),\n",
              " ('10', '♦'),\n",
              " ('10', '♣'),\n",
              " ('10', '♠'),\n",
              " ('J', '♥'),\n",
              " ('J', '♦'),\n",
              " ('J', '♣'),\n",
              " ('J', '♠'),\n",
              " ('Q', '♥'),\n",
              " ('Q', '♦'),\n",
              " ('Q', '♣'),\n",
              " ('Q', '♠'),\n",
              " ('K', '♥'),\n",
              " ('K', '♦'),\n",
              " ('K', '♣'),\n",
              " ('K', '♠'),\n",
              " ('A', '♥'),\n",
              " ('A', '♦'),\n",
              " ('A', '♣'),\n",
              " ('A', '♠')]"
            ]
          },
          "metadata": {
            "tags": []
          },
          "execution_count": 2
        }
      ]
    },
    {
      "cell_type": "code",
      "metadata": {
        "scrolled": true,
        "colab": {
          "base_uri": "https://localhost:8080/"
        },
        "id": "ufyu8wU5k3xO",
        "outputId": "96914e16-a9be-46b2-c3c3-aea8368f7ea5"
      },
      "source": [
        "# As you can see we have created a deck using tuples. Note that the first \n",
        "# component (the 'rank' of the card) of the tuples is a string.\n",
        "# We could suffle the deck in a number of ways. Here is one:\n",
        "# First generate a permutation of the integers 0-51\n",
        "perm = np.random.permutation(52)\n",
        "\n",
        "# Using python's zip function we can now pair each card with a unique member of \n",
        "# perm.\n",
        "def shuffle(deck: 'the deck'):\n",
        "    deck_shuffled=zip(deck,list(np.random.permutation(52)))\n",
        "    deck_shuffled=[i[0] for i in sorted(list(deck_shuffled), \n",
        "                                        key = lambda i:i[-1] )] \n",
        "                                        # What is the construct that I am using here?\n",
        "    return deck_shuffled\n",
        "\n",
        "shuffle(deck)"
      ],
      "execution_count": null,
      "outputs": [
        {
          "output_type": "execute_result",
          "data": {
            "text/plain": [
              "[('2', '♠'),\n",
              " ('4', '♥'),\n",
              " ('A', '♣'),\n",
              " ('10', '♠'),\n",
              " ('9', '♠'),\n",
              " ('K', '♥'),\n",
              " ('J', '♦'),\n",
              " ('9', '♦'),\n",
              " ('8', '♥'),\n",
              " ('Q', '♦'),\n",
              " ('8', '♦'),\n",
              " ('6', '♣'),\n",
              " ('7', '♦'),\n",
              " ('J', '♣'),\n",
              " ('9', '♣'),\n",
              " ('7', '♣'),\n",
              " ('6', '♠'),\n",
              " ('3', '♥'),\n",
              " ('2', '♥'),\n",
              " ('K', '♠'),\n",
              " ('Q', '♥'),\n",
              " ('10', '♦'),\n",
              " ('6', '♦'),\n",
              " ('3', '♦'),\n",
              " ('5', '♥'),\n",
              " ('6', '♥'),\n",
              " ('A', '♦'),\n",
              " ('A', '♠'),\n",
              " ('J', '♠'),\n",
              " ('5', '♦'),\n",
              " ('Q', '♣'),\n",
              " ('10', '♥'),\n",
              " ('5', '♣'),\n",
              " ('7', '♥'),\n",
              " ('3', '♠'),\n",
              " ('4', '♣'),\n",
              " ('3', '♣'),\n",
              " ('4', '♦'),\n",
              " ('8', '♣'),\n",
              " ('K', '♦'),\n",
              " ('A', '♥'),\n",
              " ('5', '♠'),\n",
              " ('4', '♠'),\n",
              " ('J', '♥'),\n",
              " ('K', '♣'),\n",
              " ('9', '♥'),\n",
              " ('2', '♣'),\n",
              " ('2', '♦'),\n",
              " ('10', '♣'),\n",
              " ('Q', '♠'),\n",
              " ('8', '♠'),\n",
              " ('7', '♠')]"
            ]
          },
          "metadata": {
            "tags": []
          },
          "execution_count": 3
        }
      ]
    },
    {
      "cell_type": "markdown",
      "metadata": {
        "id": "oEEpOzrIk3xP"
      },
      "source": [
        "## Creativity Excercise\n",
        "Come up with your own way (data structure) of producing a virtual deck of cards and a way (function) for shuffling the deck using code. Hint: Consider creating a [`class`](https://runestone.academy/runestone/books/published/fopp/Classes/toctree.html) for the cards. Also, consider looking at the [`numpy.random` library](https://numpy.org/doc/stable/reference/random/index.html?highlight=random#module-numpy.random) or the [`random` module in Python](https://docs.python.org/3/library/random.html).  (Avoid looking up a full solution on the internet.)"
      ]
    },
    {
      "cell_type": "code",
      "metadata": {
        "scrolled": true,
        "id": "V7eTbKtqk3xQ"
      },
      "source": [
        "# Your code for creativity excercise goes here"
      ],
      "execution_count": null,
      "outputs": []
    },
    {
      "cell_type": "markdown",
      "metadata": {
        "id": "j8HFarOEk3xR"
      },
      "source": [
        "With a shuffled deck we can draw a card and record whether we observe a **7** or a club."
      ]
    },
    {
      "cell_type": "code",
      "metadata": {
        "colab": {
          "base_uri": "https://localhost:8080/"
        },
        "id": "5VGHjW3qk3xS",
        "outputId": "c135e203-6e0c-4b64-dd05-1307abcbc303"
      },
      "source": [
        "rank, suit = shuffle(deck)[0]\n",
        "(rank,suit)"
      ],
      "execution_count": null,
      "outputs": [
        {
          "output_type": "execute_result",
          "data": {
            "text/plain": [
              "('5', '♠')"
            ]
          },
          "metadata": {
            "tags": []
          },
          "execution_count": 5
        }
      ]
    },
    {
      "cell_type": "code",
      "metadata": {
        "id": "--NLa1sZk3xT"
      },
      "source": [
        "def simulate(deck,reps,target):\n",
        "    '''Randomly draw a card from deck reps times and record how many times\n",
        "    the target card occurred. Then report its probability.'''\n",
        "    count=0\n",
        "    outcomes=[] # Optional: for looking at the outcomes for small reps, 500 say\n",
        "    for i in np.random.randint(0,52,size=reps):\n",
        "        flag = False\n",
        "        rank, suit = deck[i]\n",
        "        if rank == target[0] or suit == target[1]:\n",
        "            count += 1\n",
        "            flag = True\n",
        "        # visualize outcomes for small reps    \n",
        "        if reps < 500:\n",
        "            outcomes.append(\"\".join([rank,suit,'*'])) if flag else outcomes.append(\"\".join([rank,suit]))\n",
        "    if reps < 500: print(\" \".join(outcomes))\n",
        "    print('successes:', count)\n",
        "    print('trials:', reps)\n",
        "    print('Observed probability of',target[0],'or',target[1],f'is {count/reps:.2f}')\n",
        "    return count/reps        "
      ],
      "execution_count": null,
      "outputs": []
    },
    {
      "cell_type": "code",
      "metadata": {
        "colab": {
          "base_uri": "https://localhost:8080/"
        },
        "id": "khZedL0bk3xU",
        "outputId": "d7e3b615-0118-4ca5-dcd5-9b395de7fba2"
      },
      "source": [
        "# Repeat 10 times: We sample (at random) from the deck and note whether a 7 or \n",
        "# ♣ occured. These are the 'successes'.\n",
        "simulate(deck,10,('7','♣'))"
      ],
      "execution_count": null,
      "outputs": [
        {
          "output_type": "stream",
          "text": [
            "5♥ J♥ 2♥ K♦ 7♣* Q♦ 7♥* 10♥ 6♣* 9♠\n",
            "successes: 3\n",
            "trials: 10\n",
            "Observed probability of 7 or ♣ is 0.30\n"
          ],
          "name": "stdout"
        },
        {
          "output_type": "execute_result",
          "data": {
            "text/plain": [
              "0.30"
            ]
          },
          "metadata": {
            "tags": []
          },
          "execution_count": 7
        }
      ]
    },
    {
      "cell_type": "code",
      "metadata": {
        "colab": {
          "base_uri": "https://localhost:8080/"
        },
        "id": "DGXjEq-Rk3xV",
        "outputId": "5cbfc228-a940-4104-d578-510f0dc2be53"
      },
      "source": [
        "# Repeat 49 times\n",
        "simulate(deck,49,('7','♣'))"
      ],
      "execution_count": null,
      "outputs": [
        {
          "output_type": "stream",
          "text": [
            "A♣* 3♠ J♥ A♥ 9♠ 10♥ 4♥ 7♦* 3♣* Q♦ K♦ K♦ 10♥ 4♠ K♥ 4♠ 7♥* J♥ 8♥ J♦ J♦ 4♦ 3♥ 8♠ 5♦ 3♣* 8♣* 10♥ 6♣* 8♥ 2♠ 6♦ 10♥ 4♠ 5♣* K♣* Q♦ 2♦ J♣* A♠ 6♣* 6♣* 2♦ 4♣* 4♣* 7♠* A♥ 2♣* K♦\n",
            "successes: 16\n",
            "trials: 49\n",
            "Observed probability of 7 or ♣ is 0.33\n"
          ],
          "name": "stdout"
        },
        {
          "output_type": "execute_result",
          "data": {
            "text/plain": [
              "0.33"
            ]
          },
          "metadata": {
            "tags": []
          },
          "execution_count": 8
        }
      ]
    },
    {
      "cell_type": "code",
      "metadata": {
        "scrolled": true,
        "colab": {
          "base_uri": "https://localhost:8080/"
        },
        "id": "2P4zbnqSk3xW",
        "outputId": "4b312fd4-6db5-409f-f377-43ea31f57d35"
      },
      "source": [
        "# Sample 10000 times; repeat 10 times\n",
        "for i in range(10):\n",
        "    simulate(deck,10000,('7','♣'))\n",
        "    print('')"
      ],
      "execution_count": null,
      "outputs": [
        {
          "output_type": "stream",
          "text": [
            "successes: 3028\n",
            "trials: 10000\n",
            "Observed probability of 7 or ♣ is 0.30\n",
            "\n",
            "successes: 3047\n",
            "trials: 10000\n",
            "Observed probability of 7 or ♣ is 0.30\n",
            "\n",
            "successes: 3117\n",
            "trials: 10000\n",
            "Observed probability of 7 or ♣ is 0.31\n",
            "\n",
            "successes: 3092\n",
            "trials: 10000\n",
            "Observed probability of 7 or ♣ is 0.31\n",
            "\n",
            "successes: 3042\n",
            "trials: 10000\n",
            "Observed probability of 7 or ♣ is 0.30\n",
            "\n",
            "successes: 3089\n",
            "trials: 10000\n",
            "Observed probability of 7 or ♣ is 0.31\n",
            "\n",
            "successes: 3078\n",
            "trials: 10000\n",
            "Observed probability of 7 or ♣ is 0.31\n",
            "\n",
            "successes: 3167\n",
            "trials: 10000\n",
            "Observed probability of 7 or ♣ is 0.32\n",
            "\n",
            "successes: 3148\n",
            "trials: 10000\n",
            "Observed probability of 7 or ♣ is 0.31\n",
            "\n",
            "successes: 3078\n",
            "trials: 10000\n",
            "Observed probability of 7 or ♣ is 0.31\n",
            "\n"
          ],
          "name": "stdout"
        }
      ]
    },
    {
      "cell_type": "markdown",
      "metadata": {
        "id": "0E2mNtcMk3xW"
      },
      "source": [
        "## Problem 1: Probability distribution\n",
        "Using our virtual deck from above, consider the random process of shuffling the ordered subset $S=${` ('J', '♠')`, `('Q', '♠')`, `('K', '♠')`, `('A', '♠')`}. \n",
        "<figure>\n",
        "<center>\n",
        "<img src='https://drive.google.com/uc?id=1EfI46auM298nnajTA0cWZp0QnRqB9m4e'/>\n",
        "<figcaption>Figure 1. The subset $S$ and its reference ordering.</figcaption></center>\n",
        "</figure>\n",
        "\n",
        "Let $\\mathfrak{P}(S)$ be the set of all permutations of the elements of $S.$\n",
        "\n",
        "Now choose a permutation of $S$ from $\\mathfrak{P}(S)$, and observe the number of cards fixed by the permutation. Denote the set of all these possible results by $F.$\n",
        "\n",
        "\n",
        "\n"
      ]
    },
    {
      "cell_type": "markdown",
      "metadata": {
        "id": "IuKyHLs7k3xX"
      },
      "source": [
        "a) How many permutations are there in $\\mathfrak{P}(S)?$\n",
        "* Obtain this result using a counting technique and with code by producing a listing of all permutations in $\\mathfrak{P}(S).$\n",
        "    \n",
        "\n"
      ]
    },
    {
      "cell_type": "code",
      "metadata": {
        "id": "Dafx-9v2k3xY"
      },
      "source": [
        "# Your answer goes here"
      ],
      "execution_count": null,
      "outputs": []
    },
    {
      "cell_type": "markdown",
      "metadata": {
        "id": "eAjEydbsk3xZ"
      },
      "source": [
        "b) Again using code, tabulate the number of cards fixed for each permutation of $S.$\n",
        "* Explicitly list the elements of $F.$ How many unique results do you observe? This is the size of $F.$\n",
        "* Can a permutation fix exactly three cards? Explain.\n",
        "* Produce a relative frequency distribution for these data and produce a histogram. This is called a *probability distribution* for the *random variable* that counts the number of cards fixed by a permutation of the set $S.$"
      ]
    },
    {
      "cell_type": "code",
      "metadata": {
        "id": "1Sml-zZ-t3pY"
      },
      "source": [
        "# Your code goes here."
      ],
      "execution_count": null,
      "outputs": []
    },
    {
      "cell_type": "markdown",
      "metadata": {
        "id": "x2vf-IMSk3xZ"
      },
      "source": [
        "c) Repeat the analysis in part (b) using a simulation. Hints:\r\n",
        "* Define the subset $S$ using the approach you created in the creativity excersice. Make the corresponding adjustments to the suffling function.\r\n",
        "* Take sufficient samples (at least 10,000) and observe the number of cards fixed. Record the results.\r\n",
        "* Compare your results to the theoretical ones from part (b).\r\n",
        "* Produce an adequate visualization for your results."
      ]
    },
    {
      "cell_type": "code",
      "metadata": {
        "id": "rg3ggvR-uElD"
      },
      "source": [
        "# Your code goes here."
      ],
      "execution_count": null,
      "outputs": []
    },
    {
      "cell_type": "markdown",
      "metadata": {
        "id": "1MxHzRTmuIQr"
      },
      "source": [
        "## Problem 2\r\n",
        "Prove (using formal mathematics) that $P(T|D)=1-P(\\overline{T}|D)$ for events $T$ and $D.$"
      ]
    },
    {
      "cell_type": "markdown",
      "metadata": {
        "id": "8M40NKDw0XLN"
      },
      "source": [
        "*Proof*. Your proof goes here. $\\square$"
      ]
    }
  ]
}
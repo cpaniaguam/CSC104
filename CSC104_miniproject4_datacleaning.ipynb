{
  "nbformat": 4,
  "nbformat_minor": 0,
  "metadata": {
    "colab": {
      "name": "CSC104_miniproject4_datacleaning.ipynb",
      "provenance": [],
      "collapsed_sections": [],
      "authorship_tag": "ABX9TyPzM3GBh5Qzc9K9NKh+nKDQ",
      "include_colab_link": true
    },
    "kernelspec": {
      "name": "python3",
      "display_name": "Python 3"
    },
    "language_info": {
      "name": "python"
    }
  },
  "cells": [
    {
      "cell_type": "markdown",
      "metadata": {
        "id": "view-in-github",
        "colab_type": "text"
      },
      "source": [
        "<a href=\"https://colab.research.google.com/github/cpaniaguam/CSC104/blob/main/CSC104_miniproject4_datacleaning.ipynb\" target=\"_parent\"><img src=\"https://colab.research.google.com/assets/colab-badge.svg\" alt=\"Open In Colab\"/></a>"
      ]
    },
    {
      "cell_type": "markdown",
      "metadata": {
        "id": "aH71eCxGZEsY"
      },
      "source": [
        "# CSC-104 Spring 2021: Mini-project 4: Data cleansing and preparation\n",
        "\n",
        "Consider Wikipedia's [*List of American and Canadian cities by number of major professional sports franchises*](https://en.wikipedia.org/wiki/List_of_American_and_Canadian_cities_by_number_of_major_professional_sports_franchises)."
      ]
    },
    {
      "cell_type": "code",
      "metadata": {
        "id": "kvNUcrqnLZiU",
        "colab": {
          "base_uri": "https://localhost:8080/",
          "height": 358
        },
        "outputId": "ed8eb187-3ec0-438d-8074-fcce72fff688"
      },
      "source": [
        "import pandas as pd\n",
        "import numpy as np\n",
        "df = pd.read_html('https://en.wikipedia.org/wiki/List_of_American_and_Canadian_cities_by_number_of_major_professional_sports_franchises')[1]\n",
        "pd.set_option('display.max_columns', None)\n",
        "df.head()"
      ],
      "execution_count": 2,
      "outputs": [
        {
          "output_type": "execute_result",
          "data": {
            "text/html": [
              "<div>\n",
              "<style scoped>\n",
              "    .dataframe tbody tr th:only-of-type {\n",
              "        vertical-align: middle;\n",
              "    }\n",
              "\n",
              "    .dataframe tbody tr th {\n",
              "        vertical-align: top;\n",
              "    }\n",
              "\n",
              "    .dataframe thead th {\n",
              "        text-align: right;\n",
              "    }\n",
              "</style>\n",
              "<table border=\"1\" class=\"dataframe\">\n",
              "  <thead>\n",
              "    <tr style=\"text-align: right;\">\n",
              "      <th></th>\n",
              "      <th>Metropolitan area</th>\n",
              "      <th>Country</th>\n",
              "      <th>Pop.rank</th>\n",
              "      <th>Population (2016 est.)[8]</th>\n",
              "      <th>B4</th>\n",
              "      <th>NFL</th>\n",
              "      <th>MLB</th>\n",
              "      <th>NBA</th>\n",
              "      <th>NHL</th>\n",
              "      <th>B6</th>\n",
              "      <th>MLS</th>\n",
              "      <th>CFL</th>\n",
              "    </tr>\n",
              "  </thead>\n",
              "  <tbody>\n",
              "    <tr>\n",
              "      <th>0</th>\n",
              "      <td>New York City</td>\n",
              "      <td>United States</td>\n",
              "      <td>1</td>\n",
              "      <td>20153634</td>\n",
              "      <td>9</td>\n",
              "      <td>GiantsJets[note 1]</td>\n",
              "      <td>YankeesMets[note 2]</td>\n",
              "      <td>KnicksNets</td>\n",
              "      <td>RangersIslandersDevils[note 3]</td>\n",
              "      <td>11</td>\n",
              "      <td>Red BullsNew York City FC</td>\n",
              "      <td>—</td>\n",
              "    </tr>\n",
              "    <tr>\n",
              "      <th>1</th>\n",
              "      <td>Los Angeles</td>\n",
              "      <td>United States</td>\n",
              "      <td>2</td>\n",
              "      <td>13310447</td>\n",
              "      <td>8</td>\n",
              "      <td>RamsChargers[note 4]</td>\n",
              "      <td>DodgersAngels</td>\n",
              "      <td>LakersClippers</td>\n",
              "      <td>KingsDucks</td>\n",
              "      <td>10</td>\n",
              "      <td>GalaxyLos Angeles FC[note 5]</td>\n",
              "      <td>—</td>\n",
              "    </tr>\n",
              "    <tr>\n",
              "      <th>2</th>\n",
              "      <td>Chicago</td>\n",
              "      <td>United States</td>\n",
              "      <td>3</td>\n",
              "      <td>9512999</td>\n",
              "      <td>5</td>\n",
              "      <td>Bears[note 6]</td>\n",
              "      <td>CubsWhite Sox</td>\n",
              "      <td>Bulls[note 7]</td>\n",
              "      <td>Blackhawks</td>\n",
              "      <td>6</td>\n",
              "      <td>Fire</td>\n",
              "      <td>—</td>\n",
              "    </tr>\n",
              "    <tr>\n",
              "      <th>3</th>\n",
              "      <td>San Francisco Bay Area</td>\n",
              "      <td>United States</td>\n",
              "      <td>6</td>\n",
              "      <td>6657982</td>\n",
              "      <td>5</td>\n",
              "      <td>49ers[note 8]</td>\n",
              "      <td>GiantsAthletics</td>\n",
              "      <td>Warriors</td>\n",
              "      <td>Sharks[note 9]</td>\n",
              "      <td>6</td>\n",
              "      <td>Earthquakes</td>\n",
              "      <td>—</td>\n",
              "    </tr>\n",
              "    <tr>\n",
              "      <th>4</th>\n",
              "      <td>Dallas–Fort Worth</td>\n",
              "      <td>United States</td>\n",
              "      <td>4</td>\n",
              "      <td>7233323</td>\n",
              "      <td>4</td>\n",
              "      <td>Cowboys</td>\n",
              "      <td>Rangers</td>\n",
              "      <td>Mavericks</td>\n",
              "      <td>Stars</td>\n",
              "      <td>5</td>\n",
              "      <td>FC Dallas</td>\n",
              "      <td>—</td>\n",
              "    </tr>\n",
              "  </tbody>\n",
              "</table>\n",
              "</div>"
            ],
            "text/plain": [
              "        Metropolitan area        Country Pop.rank Population (2016 est.)[8]  \\\n",
              "0           New York City  United States        1                  20153634   \n",
              "1             Los Angeles  United States        2                  13310447   \n",
              "2                 Chicago  United States        3                   9512999   \n",
              "3  San Francisco Bay Area  United States        6                   6657982   \n",
              "4       Dallas–Fort Worth  United States        4                   7233323   \n",
              "\n",
              "   B4                   NFL                  MLB             NBA  \\\n",
              "0   9    GiantsJets[note 1]  YankeesMets[note 2]      KnicksNets   \n",
              "1   8  RamsChargers[note 4]        DodgersAngels  LakersClippers   \n",
              "2   5         Bears[note 6]        CubsWhite Sox   Bulls[note 7]   \n",
              "3   5         49ers[note 8]      GiantsAthletics        Warriors   \n",
              "4   4               Cowboys              Rangers       Mavericks   \n",
              "\n",
              "                              NHL  B6                           MLS CFL  \n",
              "0  RangersIslandersDevils[note 3]  11     Red BullsNew York City FC   —  \n",
              "1                      KingsDucks  10  GalaxyLos Angeles FC[note 5]   —  \n",
              "2                      Blackhawks   6                          Fire   —  \n",
              "3                  Sharks[note 9]   6                   Earthquakes   —  \n",
              "4                           Stars   5                     FC Dallas   —  "
            ]
          },
          "metadata": {
            "tags": []
          },
          "execution_count": 2
        }
      ]
    },
    {
      "cell_type": "markdown",
      "metadata": {
        "id": "o2uYYWVTael3"
      },
      "source": [
        "There are a number of problems with this dataframe.\n",
        "\n",
        "1. There are useless and redundant columns: `'Pop. rank','B4', 'B6'`.\n",
        "2. Some columns contain meaningless values (e.g. `[note ##]`)\n",
        "3. The notation `—` is not a standard numeric data type for a missing value (see [NaN](https://en.wikipedia.org/wiki/NaN) on Wikipedia)\n",
        "4. Some rows contain multiple values (e.g. the first row has multiple values in the `'NFL', 'MLB', 'NBA', 'NHL', 'MLS'` columns). There should be one value per row in the dataframe.\n",
        "5. Some column names are actually values of a variable. For example, a new variable `'League'` (with levels `'NFL', 'MLB', 'NBA', 'NHL', 'MLS', 'CFL'`) could be created.\n"
      ]
    },
    {
      "cell_type": "markdown",
      "metadata": {
        "id": "eXGA30UeVwwT"
      },
      "source": [
        "### Task 1\n",
        "Explain why the columns `'Pop. rank','B4', 'B6'` can be removed without losing any information."
      ]
    },
    {
      "cell_type": "markdown",
      "metadata": {
        "id": "eT5zAzmvQ9c6"
      },
      "source": [
        "[Your answer to task 1 goes here]"
      ]
    },
    {
      "cell_type": "markdown",
      "metadata": {
        "id": "i8GgNL2hV4Yj"
      },
      "source": [
        "### Task 2\n",
        "Remove all useless/redundant columns. Justify your choices."
      ]
    },
    {
      "cell_type": "code",
      "metadata": {
        "id": "Tb36zkjcWB7K"
      },
      "source": [
        "# your code for task 2 goes here"
      ],
      "execution_count": 3,
      "outputs": []
    },
    {
      "cell_type": "markdown",
      "metadata": {
        "id": "leJvMQNjROgT"
      },
      "source": [
        "### Task 3\n",
        "\n",
        "Remove all `[note #]` from the dataframe. Hints:\n",
        "\n",
        "*   Consider looking at the [pandas.DataFrame.replace](https://pandas.pydata.org/docs/reference/api/pandas.DataFrame.replace.html) method.\n",
        "*   Using regular expressions might be useful. Some suggested resources: [Regular Expression HOWTO](https://docs.python.org/3/howto/regex.html), [Regular Expressions in Python](http://evc-cit.info/comsc020/python-regex-tutorial/), [regex101.com](https://regex101.com/)\n"
      ]
    },
    {
      "cell_type": "code",
      "metadata": {
        "id": "5TFL350_VcJg"
      },
      "source": [
        "# your code for task 3 goes here"
      ],
      "execution_count": 4,
      "outputs": []
    },
    {
      "cell_type": "markdown",
      "metadata": {
        "id": "PO67ShfbWQmG"
      },
      "source": [
        "### Task 4\n",
        "Replace all `'—'` by `numpy.nan`."
      ]
    },
    {
      "cell_type": "code",
      "metadata": {
        "id": "HAzo9IBuWhNc"
      },
      "source": [
        "# your code for task 4 goes here"
      ],
      "execution_count": 5,
      "outputs": []
    },
    {
      "cell_type": "markdown",
      "metadata": {
        "id": "Mqlkvql2nYFB"
      },
      "source": [
        "### Task 5\n",
        "Create a variable `League` with levels `'NFL', 'MLB', 'NBA', 'NHL', 'MLS', 'CFL'`. Hint: See the discussion on [Reshaping Data](https://learn.zybooks.com/zybook/SALVECSC104PaniaguaSpring2021/chapter/1/section/4) from the zybook."
      ]
    },
    {
      "cell_type": "code",
      "metadata": {
        "id": "nxFw4HiTnXT0"
      },
      "source": [
        "# your code for task 5 goes here"
      ],
      "execution_count": 6,
      "outputs": []
    },
    {
      "cell_type": "markdown",
      "metadata": {
        "id": "PNiVQJu8Q41T"
      },
      "source": [
        "### Task 6 (somewhat harder than the others)\n",
        "\n",
        "Remove all rows with more than value (such as `'GiantsJets'`) while including new rows as necessary with one single value (one for `'Giants` and another for `'Jets'`).\n",
        "\n",
        "Below is another row that needs fixing."
      ]
    },
    {
      "cell_type": "code",
      "metadata": {
        "colab": {
          "base_uri": "https://localhost:8080/",
          "height": 79
        },
        "id": "SmWjFwAzh7wX",
        "outputId": "70070818-5e66-4035-cb32-1273a0494c48"
      },
      "source": [
        "san_francisco = df.iloc[3:3+1]\n",
        "san_francisco"
      ],
      "execution_count": 7,
      "outputs": [
        {
          "output_type": "execute_result",
          "data": {
            "text/html": [
              "<div>\n",
              "<style scoped>\n",
              "    .dataframe tbody tr th:only-of-type {\n",
              "        vertical-align: middle;\n",
              "    }\n",
              "\n",
              "    .dataframe tbody tr th {\n",
              "        vertical-align: top;\n",
              "    }\n",
              "\n",
              "    .dataframe thead th {\n",
              "        text-align: right;\n",
              "    }\n",
              "</style>\n",
              "<table border=\"1\" class=\"dataframe\">\n",
              "  <thead>\n",
              "    <tr style=\"text-align: right;\">\n",
              "      <th></th>\n",
              "      <th>Metropolitan area</th>\n",
              "      <th>Country</th>\n",
              "      <th>Pop.rank</th>\n",
              "      <th>Population (2016 est.)[8]</th>\n",
              "      <th>B4</th>\n",
              "      <th>NFL</th>\n",
              "      <th>MLB</th>\n",
              "      <th>NBA</th>\n",
              "      <th>NHL</th>\n",
              "      <th>B6</th>\n",
              "      <th>MLS</th>\n",
              "      <th>CFL</th>\n",
              "    </tr>\n",
              "  </thead>\n",
              "  <tbody>\n",
              "    <tr>\n",
              "      <th>3</th>\n",
              "      <td>San Francisco Bay Area</td>\n",
              "      <td>United States</td>\n",
              "      <td>6</td>\n",
              "      <td>6657982</td>\n",
              "      <td>5</td>\n",
              "      <td>49ers[note 8]</td>\n",
              "      <td>GiantsAthletics</td>\n",
              "      <td>Warriors</td>\n",
              "      <td>Sharks[note 9]</td>\n",
              "      <td>6</td>\n",
              "      <td>Earthquakes</td>\n",
              "      <td>—</td>\n",
              "    </tr>\n",
              "  </tbody>\n",
              "</table>\n",
              "</div>"
            ],
            "text/plain": [
              "        Metropolitan area        Country Pop.rank Population (2016 est.)[8]  \\\n",
              "3  San Francisco Bay Area  United States        6                   6657982   \n",
              "\n",
              "   B4            NFL              MLB       NBA             NHL  B6  \\\n",
              "3   5  49ers[note 8]  GiantsAthletics  Warriors  Sharks[note 9]   6   \n",
              "\n",
              "           MLS CFL  \n",
              "3  Earthquakes   —  "
            ]
          },
          "metadata": {
            "tags": []
          },
          "execution_count": 7
        }
      ]
    },
    {
      "cell_type": "code",
      "metadata": {
        "colab": {
          "base_uri": "https://localhost:8080/"
        },
        "id": "tqeOSLFjj9qP",
        "outputId": "869a1e6b-18b8-4733-ce3b-695b243b8d9b"
      },
      "source": [
        "san_francisco['MLB']"
      ],
      "execution_count": 8,
      "outputs": [
        {
          "output_type": "execute_result",
          "data": {
            "text/plain": [
              "3    GiantsAthletics\n",
              "Name: MLB, dtype: object"
            ]
          },
          "metadata": {
            "tags": []
          },
          "execution_count": 8
        }
      ]
    },
    {
      "cell_type": "code",
      "metadata": {
        "id": "T16KPC4xpurL"
      },
      "source": [
        "# your code for task 6 goes here"
      ],
      "execution_count": 9,
      "outputs": []
    }
  ]
}
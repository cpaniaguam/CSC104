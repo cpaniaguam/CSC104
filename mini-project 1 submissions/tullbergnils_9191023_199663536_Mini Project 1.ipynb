{
 "cells": [
  {
   "cell_type": "markdown",
   "id": "perceived-intelligence",
   "metadata": {},
   "source": [
    "County dataset"
   ]
  },
  {
   "cell_type": "code",
   "execution_count": 2,
   "id": "affecting-greene",
   "metadata": {},
   "outputs": [],
   "source": [
    "import pandas as pd\n",
    "#pd.set_option('display.float_format', lambda x: f'{x:,.3f}')\n",
    "df=pd.read_csv('https://raw.githubusercontent.com/cpaniaguam/CSC104/main/county_complete.csv')"
   ]
  },
  {
   "cell_type": "markdown",
   "id": "simplified-financing",
   "metadata": {},
   "source": [
    "**Question 1: Change in population**\n",
    "\n",
    "Add a new column pop_change to df with the population change of each county from 2010 to 2017, and answer the following.\n",
    "\n",
    "    -List the top 10 counties in which pop_change increased the most.\n",
    "    -List the 10 counties in which pop_change increased the least.\n",
    "    -List the 10 counties in which pop_change decreased the most. \n",
    "    \n",
    "Produce appropiate visualizations for these statistics."
   ]
  },
  {
   "cell_type": "code",
   "execution_count": 3,
   "id": "informal-trouble",
   "metadata": {
    "scrolled": true
   },
   "outputs": [
    {
     "name": "stdout",
     "output_type": "stream",
     "text": [
      "Increasing counties:\n",
      " 2623         Harris County\n",
      "103        Maricopa County\n",
      "204     Los Angeles County\n",
      "2969           King County\n",
      "362      Miami-Dade County\n",
      "1748          Clark County\n",
      "2579         Dallas County\n",
      "2742        Tarrant County\n",
      "2537          Bexar County\n",
      "222       San Diego County\n",
      "Name: name, dtype: object\n"
     ]
    }
   ],
   "source": [
    "df[\"pop_change\"] = df[\"pop2017\"]-df[\"pop2010\"]\n",
    "\n",
    "df.sort_values(by=['pop_change'], inplace = True, ascending = False)\n",
    "\n",
    "increased = df.name[0:10]\n",
    "print(\"Increasing counties:\\n\",increased)"
   ]
  },
  {
   "cell_type": "code",
   "execution_count": 4,
   "id": "temporal-excuse",
   "metadata": {},
   "outputs": [
    {
     "name": "stdout",
     "output_type": "stream",
     "text": [
      "Decreasing counties:\n",
      " 2254               Cambria County\n",
      "1597               St. Louis city\n",
      "2090                 Lucas County\n",
      "2308          Westmoreland County\n",
      "1255               Genesee County\n",
      "2060              Cuyahoga County\n",
      "1312                 Wayne County\n",
      "76      Hoonah–Angoon Census Area\n",
      "89                        Skagway\n",
      "93                       Wrangell\n",
      "Name: name, dtype: object\n"
     ]
    }
   ],
   "source": [
    "decreased = df.name[-10:]\n",
    "print(\"Decreasing counties:\\n\",decreased)"
   ]
  },
  {
   "cell_type": "code",
   "execution_count": 5,
   "id": "statutory-sleeve",
   "metadata": {},
   "outputs": [
    {
     "name": "stdout",
     "output_type": "stream",
     "text": [
      "Stagnant counties:\n",
      " 2290    Montour County\n",
      "1710      Logan County\n",
      "1658     Blaine County\n",
      "1019    Clinton County\n",
      "1652     Wibaux County\n",
      "261     Dolores County\n",
      "923     Greeley County\n",
      "2653     Kenedy County\n",
      "1745    Wheeler County\n",
      "1034     Graves County\n",
      "Name: name, dtype: object\n"
     ]
    }
   ],
   "source": [
    "selection = df.pop_change >= 0\n",
    "stagnant = df[selection].name[-10:]\n",
    "print(\"Stagnant counties:\\n\",stagnant)"
   ]
  },
  {
   "cell_type": "markdown",
   "id": "bored-compatibility",
   "metadata": {},
   "source": [
    "**Question 2: Counties populations**"
   ]
  },
  {
   "cell_type": "markdown",
   "id": "fifty-roommate",
   "metadata": {},
   "source": [
    "1. What is the mean population  𝑥¯𝑝𝑜𝑝  and standard deviation  𝑠𝑝𝑜𝑝  for all US counties in 2017?\n",
    "\n",
    "2. What is the median population for all US counties in 2017?"
   ]
  },
  {
   "cell_type": "code",
   "execution_count": 6,
   "id": "satisfactory-lewis",
   "metadata": {
    "scrolled": true
   },
   "outputs": [
    {
     "name": "stdout",
     "output_type": "stream",
     "text": [
      "The mean is: 103763.41350748646\n",
      "The standard deviation is: 333194.51946075336\n",
      "The median is: 25857.0\n"
     ]
    }
   ],
   "source": [
    "df.sort_values(by=['pop2017'], inplace = True, ascending = False)\n",
    "pop = df['pop2017']\n",
    "mean = pop.mean()\n",
    "stdev = pop.std()\n",
    "med = pop.median()\n",
    "print(\"The mean is:\", mean)\n",
    "print(\"The standard deviation is:\", stdev)\n",
    "print(\"The median is:\", med)"
   ]
  },
  {
   "cell_type": "markdown",
   "id": "critical-singles",
   "metadata": {},
   "source": [
    "3. List 10 counties (and their respective states) that are within one  𝑠𝑝𝑜𝑝  from the mean population  𝑥¯𝑝𝑜𝑝 . Are there any in the State of Rhode Island?\n",
    "\n",
    "4. What proportion of all counties fall within one $s_{pop}$ from $\\bar{x}_{pop}$?"
   ]
  },
  {
   "cell_type": "code",
   "execution_count": 7,
   "id": "flexible-cooper",
   "metadata": {},
   "outputs": [
    {
     "name": "stdout",
     "output_type": "stream",
     "text": [
      "10 counties within std from mean:\n",
      " 2090           Lucas County\n",
      "107            Pinal County\n",
      "2553         Cameron County\n",
      "1332          Dakota County\n",
      "377         Sarasota County\n",
      "2249           Berks County\n",
      "48            Mobile County\n",
      "2210       Clackamas County\n",
      "2355        Richland County\n",
      "1769    Hillsborough County\n",
      "Name: name, dtype: object\n",
      "Four of them are in Rhode Island:\n",
      " 2312          Kent County\n",
      "2315    Washington County\n",
      "2313       Newport County\n",
      "2311       Bristol County\n",
      "Name: name, dtype: object\n",
      "94.74856779121579 % of counties fall within std from mean\n"
     ]
    }
   ],
   "source": [
    "selection2 = abs(df.pop2017 - mean) < stdev\n",
    "df2 = df[selection2]\n",
    "print(\"10 counties within std from mean:\\n\",df2.name[0:10])\n",
    "\n",
    "selection3 = df2.state == \"Rhode Island\"\n",
    "df3 = df2[selection3]\n",
    "print(\"Four of them are in Rhode Island:\\n\",df3.name)\n",
    "\n",
    "prop = (len(df2)/len(df))*100\n",
    "print(prop,\"% of counties fall within std from mean\")"
   ]
  },
  {
   "cell_type": "markdown",
   "id": "empty-helmet",
   "metadata": {},
   "source": [
    "6. What proportion of all counties do not fall within two standard deviations from $\\bar{x}_{pop}$? How many are there? Store them in a data structure of your choice named counties_greater_2sd."
   ]
  },
  {
   "cell_type": "code",
   "execution_count": 8,
   "id": "romance-portugal",
   "metadata": {},
   "outputs": [
    {
     "name": "stdout",
     "output_type": "stream",
     "text": [
      "83 counties, or 2.6416295353278167 % of counties are outside of 2 std\n"
     ]
    }
   ],
   "source": [
    "selection4 = abs(df.pop2017-mean) > 2*stdev \n",
    "counties_greater_2sd = df[selection4]\n",
    "prop = (len(counties_greater_2sd)/len(df))*100\n",
    "\n",
    "print(len(counties_greater_2sd),\"counties, or\", prop,\"% of counties are outside of 2 std\")"
   ]
  },
  {
   "cell_type": "markdown",
   "id": "aging-lunch",
   "metadata": {},
   "source": [
    "7. Construct a vertical box plot for the pop2017 variable and identify what counties are labeled as outliers. Store these counties in a variable outliers. \n"
   ]
  },
  {
   "cell_type": "code",
   "execution_count": 27,
   "id": "executive-picnic",
   "metadata": {},
   "outputs": [
    {
     "data": {
      "text/plain": [
       "<AxesSubplot:>"
      ]
     },
     "execution_count": 27,
     "metadata": {},
     "output_type": "execute_result"
    },
    {
     "data": {
      "image/png": "[encoded data removed]",
      "text/plain": [
       "<Figure size 360x720 with 1 Axes>"
      ]
     },
     "metadata": {
      "needs_background": "light"
     },
     "output_type": "display_data"
    }
   ],
   "source": [
    "import numpy as np\n",
    "popu = df.loc[:,['name','pop2017']]\n",
    "#popu[\"scale\"] = np.log10(popu['pop2017'])\n",
    "#popu.boxplot(column=\"scale\", figsize = (5 ,10))\n",
    "popu.boxplot(column=\"pop2017\", figsize = (5 ,10))\n"
   ]
  },
  {
   "cell_type": "code",
   "execution_count": 30,
   "id": "knowing-court",
   "metadata": {},
   "outputs": [
    {
     "name": "stdout",
     "output_type": "stream",
     "text": [
      "204      Los Angeles County\n",
      "610             Cook County\n",
      "2623          Harris County\n",
      "103         Maricopa County\n",
      "222        San Diego County\n",
      "               ...         \n",
      "349     Indian River County\n",
      "1241         Berrien County\n",
      "2271        Franklin County\n",
      "737          Johnson County\n",
      "462          Houston County\n",
      "Name: name, Length: 430, dtype: object\n",
      "Series([], Name: name, dtype: object)\n",
      "67756.0\n"
     ]
    }
   ],
   "source": [
    "q25 = df['pop2017'].quantile(q= 0.25)\n",
    "q75 = df['pop2017'].quantile(q= 0.75)\n",
    "iqr = q75 - q25\n",
    "\n",
    "\n",
    "selection5 = (q75 + 1.5*iqr)<df.pop2017\n",
    "outliers = df.name[selection5]\n",
    "print(outliers)\n",
    "selection6 = (q25 - 1.5*iqr)>df.pop2017\n",
    "outliers2 = df.name[selection6]\n",
    "print(outliers2)\n"
   ]
  },
  {
   "cell_type": "markdown",
   "id": "competitive-screw",
   "metadata": {},
   "source": [
    "8. Which statitic is a better descriptor for pop2017, its mean $\\bar{x}_{pop}$ or its median. Explain.\n",
    "\n",
    "Ideally both can be used at the same time to provide an accurate idea of the data, but if one was picked, the median would be a better descriptor here. The data is heavily right skewed (median is much less than mean), so the median represents the pop of most counties, decreasing the impact of the super dense places like Los Angeles or New York. The mean is skewed because of these outliers (which can be seen in the large standard deviation)."
   ]
  },
  {
   "cell_type": "markdown",
   "id": "adolescent-congo",
   "metadata": {},
   "source": [
    "**Question 3**\n",
    "\n",
    "1. What is the population of the US in 2017?"
   ]
  },
  {
   "cell_type": "code",
   "execution_count": 11,
   "id": "objective-smooth",
   "metadata": {},
   "outputs": [
    {
     "name": "stdout",
     "output_type": "stream",
     "text": [
      "325713355.0\n"
     ]
    }
   ],
   "source": [
    "total = df['pop2017'].sum()\n",
    "print(total)"
   ]
  },
  {
   "cell_type": "markdown",
   "id": "satisfactory-movie",
   "metadata": {},
   "source": [
    "2. Define a new variable pop_proportion_2017 with the relative population of each county with respect to the US population in 2017."
   ]
  },
  {
   "cell_type": "code",
   "execution_count": 12,
   "id": "compound-sacramento",
   "metadata": {},
   "outputs": [],
   "source": [
    "df[\"pop_proportion_2017\"] = df[\"pop2017\"]/df[\"pop2017\"].sum()"
   ]
  },
  {
   "cell_type": "markdown",
   "id": "northern-latest",
   "metadata": {},
   "source": [
    "3. Construct a histogram using pop_proportion_2017 and an adequate number of bins. "
   ]
  },
  {
   "cell_type": "code",
   "execution_count": 18,
   "id": "motivated-format",
   "metadata": {},
   "outputs": [
    {
     "data": {
      "text/plain": [
       "array([[<AxesSubplot:title={'center':'pop_proportion_2017'}>]],\n",
       "      dtype=object)"
      ]
     },
     "execution_count": 18,
     "metadata": {},
     "output_type": "execute_result"
    },
    {
     "data": {
      "image/png": "[encoded data removed]",
      "text/plain": [
       "<Figure size 720x720 with 1 Axes>"
      ]
     },
     "metadata": {
      "needs_background": "light"
     },
     "output_type": "display_data"
    }
   ],
   "source": [
    "\n",
    "\n",
    "df.hist(column=\"pop_proportion_2017\", bins = 100, figsize = (10, 10))\n"
   ]
  },
  {
   "cell_type": "markdown",
   "id": "daily-freeware",
   "metadata": {},
   "source": [
    "4. What can you say about this distribution?"
   ]
  },
  {
   "cell_type": "markdown",
   "id": "floating-orbit",
   "metadata": {},
   "source": [
    "This histogram is very right-skewed. This means that most US counties represent a very small proportion of the total US population. This is reasonable because it is a very large country with many vast areas that are unpopulated. It also demonstrates the spread seen in the box plot, where 430 of the largest counties are much more populated than the average town, while also being a very small proportion of the total number of counties."
   ]
  }
 ],
 "metadata": {
  "kernelspec": {
   "display_name": "Python 3",
   "language": "python",
   "name": "python3"
  },
  "language_info": {
   "codemirror_mode": {
    "name": "ipython",
    "version": 3
   },
   "file_extension": ".py",
   "mimetype": "text/x-python",
   "name": "python",
   "nbconvert_exporter": "python",
   "pygments_lexer": "ipython3",
   "version": "3.8.5"
  }
 },
 "nbformat": 4,
 "nbformat_minor": 5
}
